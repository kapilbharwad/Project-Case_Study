{
 "cells": [
  {
   "cell_type": "code",
   "execution_count": 1,
   "id": "9821d782",
   "metadata": {},
   "outputs": [],
   "source": [
    "# install the library \n",
    "import numpy as np\n",
    "import pandas as pd\n",
    "import seaborn as sb\n",
    "import matplotlib.pyplot as plt\n",
    "import warnings\n",
    "warnings.filterwarnings('ignore')"
   ]
  },
  {
   "cell_type": "code",
   "execution_count": null,
   "id": "cf6d7415",
   "metadata": {},
   "outputs": [],
   "source": [
    "# In this dataset we find out that how many fraud transction takes place and they can be prevented \n",
    "# To also see in which Time frame does most of the fraud transaction takes place also to see that when the card user is most \n",
    "# active (i.e mostly makes payment at certain amount of time )."
   ]
  },
  {
   "cell_type": "code",
   "execution_count": 2,
   "id": "61dbad2a",
   "metadata": {},
   "outputs": [],
   "source": [
    "#!pip install imblearn"
   ]
  },
  {
   "cell_type": "code",
   "execution_count": 3,
   "id": "6d497392",
   "metadata": {},
   "outputs": [
    {
     "data": {
      "text/html": [
       "<div>\n",
       "<style scoped>\n",
       "    .dataframe tbody tr th:only-of-type {\n",
       "        vertical-align: middle;\n",
       "    }\n",
       "\n",
       "    .dataframe tbody tr th {\n",
       "        vertical-align: top;\n",
       "    }\n",
       "\n",
       "    .dataframe thead th {\n",
       "        text-align: right;\n",
       "    }\n",
       "</style>\n",
       "<table border=\"1\" class=\"dataframe\">\n",
       "  <thead>\n",
       "    <tr style=\"text-align: right;\">\n",
       "      <th></th>\n",
       "      <th>Time</th>\n",
       "      <th>V1</th>\n",
       "      <th>V2</th>\n",
       "      <th>V3</th>\n",
       "      <th>V4</th>\n",
       "      <th>V5</th>\n",
       "      <th>V6</th>\n",
       "      <th>V7</th>\n",
       "      <th>V8</th>\n",
       "      <th>V9</th>\n",
       "      <th>...</th>\n",
       "      <th>V21</th>\n",
       "      <th>V22</th>\n",
       "      <th>V23</th>\n",
       "      <th>V24</th>\n",
       "      <th>V25</th>\n",
       "      <th>V26</th>\n",
       "      <th>V27</th>\n",
       "      <th>V28</th>\n",
       "      <th>Amount</th>\n",
       "      <th>Class</th>\n",
       "    </tr>\n",
       "  </thead>\n",
       "  <tbody>\n",
       "    <tr>\n",
       "      <th>0</th>\n",
       "      <td>0.0</td>\n",
       "      <td>-1.359807</td>\n",
       "      <td>-0.072781</td>\n",
       "      <td>2.536347</td>\n",
       "      <td>1.378155</td>\n",
       "      <td>-0.338321</td>\n",
       "      <td>0.462388</td>\n",
       "      <td>0.239599</td>\n",
       "      <td>0.098698</td>\n",
       "      <td>0.363787</td>\n",
       "      <td>...</td>\n",
       "      <td>-0.018307</td>\n",
       "      <td>0.277838</td>\n",
       "      <td>-0.110474</td>\n",
       "      <td>0.066928</td>\n",
       "      <td>0.128539</td>\n",
       "      <td>-0.189115</td>\n",
       "      <td>0.133558</td>\n",
       "      <td>-0.021053</td>\n",
       "      <td>149.62</td>\n",
       "      <td>0</td>\n",
       "    </tr>\n",
       "    <tr>\n",
       "      <th>1</th>\n",
       "      <td>0.0</td>\n",
       "      <td>1.191857</td>\n",
       "      <td>0.266151</td>\n",
       "      <td>0.166480</td>\n",
       "      <td>0.448154</td>\n",
       "      <td>0.060018</td>\n",
       "      <td>-0.082361</td>\n",
       "      <td>-0.078803</td>\n",
       "      <td>0.085102</td>\n",
       "      <td>-0.255425</td>\n",
       "      <td>...</td>\n",
       "      <td>-0.225775</td>\n",
       "      <td>-0.638672</td>\n",
       "      <td>0.101288</td>\n",
       "      <td>-0.339846</td>\n",
       "      <td>0.167170</td>\n",
       "      <td>0.125895</td>\n",
       "      <td>-0.008983</td>\n",
       "      <td>0.014724</td>\n",
       "      <td>2.69</td>\n",
       "      <td>0</td>\n",
       "    </tr>\n",
       "    <tr>\n",
       "      <th>2</th>\n",
       "      <td>1.0</td>\n",
       "      <td>-1.358354</td>\n",
       "      <td>-1.340163</td>\n",
       "      <td>1.773209</td>\n",
       "      <td>0.379780</td>\n",
       "      <td>-0.503198</td>\n",
       "      <td>1.800499</td>\n",
       "      <td>0.791461</td>\n",
       "      <td>0.247676</td>\n",
       "      <td>-1.514654</td>\n",
       "      <td>...</td>\n",
       "      <td>0.247998</td>\n",
       "      <td>0.771679</td>\n",
       "      <td>0.909412</td>\n",
       "      <td>-0.689281</td>\n",
       "      <td>-0.327642</td>\n",
       "      <td>-0.139097</td>\n",
       "      <td>-0.055353</td>\n",
       "      <td>-0.059752</td>\n",
       "      <td>378.66</td>\n",
       "      <td>0</td>\n",
       "    </tr>\n",
       "    <tr>\n",
       "      <th>3</th>\n",
       "      <td>1.0</td>\n",
       "      <td>-0.966272</td>\n",
       "      <td>-0.185226</td>\n",
       "      <td>1.792993</td>\n",
       "      <td>-0.863291</td>\n",
       "      <td>-0.010309</td>\n",
       "      <td>1.247203</td>\n",
       "      <td>0.237609</td>\n",
       "      <td>0.377436</td>\n",
       "      <td>-1.387024</td>\n",
       "      <td>...</td>\n",
       "      <td>-0.108300</td>\n",
       "      <td>0.005274</td>\n",
       "      <td>-0.190321</td>\n",
       "      <td>-1.175575</td>\n",
       "      <td>0.647376</td>\n",
       "      <td>-0.221929</td>\n",
       "      <td>0.062723</td>\n",
       "      <td>0.061458</td>\n",
       "      <td>123.50</td>\n",
       "      <td>0</td>\n",
       "    </tr>\n",
       "    <tr>\n",
       "      <th>4</th>\n",
       "      <td>2.0</td>\n",
       "      <td>-1.158233</td>\n",
       "      <td>0.877737</td>\n",
       "      <td>1.548718</td>\n",
       "      <td>0.403034</td>\n",
       "      <td>-0.407193</td>\n",
       "      <td>0.095921</td>\n",
       "      <td>0.592941</td>\n",
       "      <td>-0.270533</td>\n",
       "      <td>0.817739</td>\n",
       "      <td>...</td>\n",
       "      <td>-0.009431</td>\n",
       "      <td>0.798278</td>\n",
       "      <td>-0.137458</td>\n",
       "      <td>0.141267</td>\n",
       "      <td>-0.206010</td>\n",
       "      <td>0.502292</td>\n",
       "      <td>0.219422</td>\n",
       "      <td>0.215153</td>\n",
       "      <td>69.99</td>\n",
       "      <td>0</td>\n",
       "    </tr>\n",
       "  </tbody>\n",
       "</table>\n",
       "<p>5 rows × 31 columns</p>\n",
       "</div>"
      ],
      "text/plain": [
       "   Time        V1        V2        V3        V4        V5        V6        V7  \\\n",
       "0   0.0 -1.359807 -0.072781  2.536347  1.378155 -0.338321  0.462388  0.239599   \n",
       "1   0.0  1.191857  0.266151  0.166480  0.448154  0.060018 -0.082361 -0.078803   \n",
       "2   1.0 -1.358354 -1.340163  1.773209  0.379780 -0.503198  1.800499  0.791461   \n",
       "3   1.0 -0.966272 -0.185226  1.792993 -0.863291 -0.010309  1.247203  0.237609   \n",
       "4   2.0 -1.158233  0.877737  1.548718  0.403034 -0.407193  0.095921  0.592941   \n",
       "\n",
       "         V8        V9  ...       V21       V22       V23       V24       V25  \\\n",
       "0  0.098698  0.363787  ... -0.018307  0.277838 -0.110474  0.066928  0.128539   \n",
       "1  0.085102 -0.255425  ... -0.225775 -0.638672  0.101288 -0.339846  0.167170   \n",
       "2  0.247676 -1.514654  ...  0.247998  0.771679  0.909412 -0.689281 -0.327642   \n",
       "3  0.377436 -1.387024  ... -0.108300  0.005274 -0.190321 -1.175575  0.647376   \n",
       "4 -0.270533  0.817739  ... -0.009431  0.798278 -0.137458  0.141267 -0.206010   \n",
       "\n",
       "        V26       V27       V28  Amount  Class  \n",
       "0 -0.189115  0.133558 -0.021053  149.62      0  \n",
       "1  0.125895 -0.008983  0.014724    2.69      0  \n",
       "2 -0.139097 -0.055353 -0.059752  378.66      0  \n",
       "3 -0.221929  0.062723  0.061458  123.50      0  \n",
       "4  0.502292  0.219422  0.215153   69.99      0  \n",
       "\n",
       "[5 rows x 31 columns]"
      ]
     },
     "execution_count": 3,
     "metadata": {},
     "output_type": "execute_result"
    }
   ],
   "source": [
    "# load the dataset first \n",
    "df=pd.read_csv('creditcard.csv')\n",
    "df.head()"
   ]
  },
  {
   "cell_type": "code",
   "execution_count": 4,
   "id": "5580fc5b",
   "metadata": {},
   "outputs": [
    {
     "data": {
      "text/plain": [
       "(284807, 31)"
      ]
     },
     "execution_count": 4,
     "metadata": {},
     "output_type": "execute_result"
    }
   ],
   "source": [
    "# no. of rows and col\n",
    "df.shape"
   ]
  },
  {
   "cell_type": "code",
   "execution_count": 5,
   "id": "702b2de3",
   "metadata": {},
   "outputs": [
    {
     "data": {
      "text/plain": [
       "Time      0\n",
       "V1        0\n",
       "V2        0\n",
       "V3        0\n",
       "V4        0\n",
       "V5        0\n",
       "V6        0\n",
       "V7        0\n",
       "V8        0\n",
       "V9        0\n",
       "V10       0\n",
       "V11       0\n",
       "V12       0\n",
       "V13       0\n",
       "V14       0\n",
       "V15       0\n",
       "V16       0\n",
       "V17       0\n",
       "V18       0\n",
       "V19       0\n",
       "V20       0\n",
       "V21       0\n",
       "V22       0\n",
       "V23       0\n",
       "V24       0\n",
       "V25       0\n",
       "V26       0\n",
       "V27       0\n",
       "V28       0\n",
       "Amount    0\n",
       "Class     0\n",
       "dtype: int64"
      ]
     },
     "execution_count": 5,
     "metadata": {},
     "output_type": "execute_result"
    }
   ],
   "source": [
    "# check null values\n",
    "df.isnull().sum()"
   ]
  },
  {
   "cell_type": "code",
   "execution_count": 6,
   "id": "b96cb29f",
   "metadata": {},
   "outputs": [
    {
     "data": {
      "text/plain": [
       "<AxesSubplot:>"
      ]
     },
     "execution_count": 6,
     "metadata": {},
     "output_type": "execute_result"
    },
    {
     "data": {
      "image/png": "[encoded data removed]",
      "text/plain": [
       "<Figure size 432x288 with 2 Axes>"
      ]
     },
     "metadata": {
      "needs_background": "light"
     },
     "output_type": "display_data"
    }
   ],
   "source": [
    "# visualize\n",
    "sb.heatmap(df.isnull())"
   ]
  },
  {
   "cell_type": "code",
   "execution_count": 7,
   "id": "80444781",
   "metadata": {},
   "outputs": [
    {
     "data": {
      "text/plain": [
       "Time      float64\n",
       "V1        float64\n",
       "V2        float64\n",
       "V3        float64\n",
       "V4        float64\n",
       "V5        float64\n",
       "V6        float64\n",
       "V7        float64\n",
       "V8        float64\n",
       "V9        float64\n",
       "V10       float64\n",
       "V11       float64\n",
       "V12       float64\n",
       "V13       float64\n",
       "V14       float64\n",
       "V15       float64\n",
       "V16       float64\n",
       "V17       float64\n",
       "V18       float64\n",
       "V19       float64\n",
       "V20       float64\n",
       "V21       float64\n",
       "V22       float64\n",
       "V23       float64\n",
       "V24       float64\n",
       "V25       float64\n",
       "V26       float64\n",
       "V27       float64\n",
       "V28       float64\n",
       "Amount    float64\n",
       "Class       int64\n",
       "dtype: object"
      ]
     },
     "execution_count": 7,
     "metadata": {},
     "output_type": "execute_result"
    }
   ],
   "source": [
    "# check data type\n",
    "df.dtypes"
   ]
  },
  {
   "cell_type": "code",
   "execution_count": 8,
   "id": "08cf5b4e",
   "metadata": {},
   "outputs": [
    {
     "data": {
      "text/plain": [
       "1081"
      ]
     },
     "execution_count": 8,
     "metadata": {},
     "output_type": "execute_result"
    }
   ],
   "source": [
    "# check duplicate values\n",
    "df.duplicated().sum()"
   ]
  },
  {
   "cell_type": "code",
   "execution_count": 9,
   "id": "95b222d5",
   "metadata": {},
   "outputs": [
    {
     "data": {
      "text/html": [
       "<div>\n",
       "<style scoped>\n",
       "    .dataframe tbody tr th:only-of-type {\n",
       "        vertical-align: middle;\n",
       "    }\n",
       "\n",
       "    .dataframe tbody tr th {\n",
       "        vertical-align: top;\n",
       "    }\n",
       "\n",
       "    .dataframe thead th {\n",
       "        text-align: right;\n",
       "    }\n",
       "</style>\n",
       "<table border=\"1\" class=\"dataframe\">\n",
       "  <thead>\n",
       "    <tr style=\"text-align: right;\">\n",
       "      <th></th>\n",
       "      <th>Time</th>\n",
       "      <th>V1</th>\n",
       "      <th>V2</th>\n",
       "      <th>V3</th>\n",
       "      <th>V4</th>\n",
       "      <th>V5</th>\n",
       "      <th>V6</th>\n",
       "      <th>V7</th>\n",
       "      <th>V8</th>\n",
       "      <th>V9</th>\n",
       "      <th>...</th>\n",
       "      <th>V21</th>\n",
       "      <th>V22</th>\n",
       "      <th>V23</th>\n",
       "      <th>V24</th>\n",
       "      <th>V25</th>\n",
       "      <th>V26</th>\n",
       "      <th>V27</th>\n",
       "      <th>V28</th>\n",
       "      <th>Amount</th>\n",
       "      <th>Class</th>\n",
       "    </tr>\n",
       "  </thead>\n",
       "  <tbody>\n",
       "    <tr>\n",
       "      <th>33</th>\n",
       "      <td>26.0</td>\n",
       "      <td>-0.529912</td>\n",
       "      <td>0.873892</td>\n",
       "      <td>1.347247</td>\n",
       "      <td>0.145457</td>\n",
       "      <td>0.414209</td>\n",
       "      <td>0.100223</td>\n",
       "      <td>0.711206</td>\n",
       "      <td>0.176066</td>\n",
       "      <td>-0.286717</td>\n",
       "      <td>...</td>\n",
       "      <td>0.046949</td>\n",
       "      <td>0.208105</td>\n",
       "      <td>-0.185548</td>\n",
       "      <td>0.001031</td>\n",
       "      <td>0.098816</td>\n",
       "      <td>-0.552904</td>\n",
       "      <td>-0.073288</td>\n",
       "      <td>0.023307</td>\n",
       "      <td>6.14</td>\n",
       "      <td>0</td>\n",
       "    </tr>\n",
       "    <tr>\n",
       "      <th>35</th>\n",
       "      <td>26.0</td>\n",
       "      <td>-0.535388</td>\n",
       "      <td>0.865268</td>\n",
       "      <td>1.351076</td>\n",
       "      <td>0.147575</td>\n",
       "      <td>0.433680</td>\n",
       "      <td>0.086983</td>\n",
       "      <td>0.693039</td>\n",
       "      <td>0.179742</td>\n",
       "      <td>-0.285642</td>\n",
       "      <td>...</td>\n",
       "      <td>0.049526</td>\n",
       "      <td>0.206537</td>\n",
       "      <td>-0.187108</td>\n",
       "      <td>0.000753</td>\n",
       "      <td>0.098117</td>\n",
       "      <td>-0.553471</td>\n",
       "      <td>-0.078306</td>\n",
       "      <td>0.025427</td>\n",
       "      <td>1.77</td>\n",
       "      <td>0</td>\n",
       "    </tr>\n",
       "    <tr>\n",
       "      <th>113</th>\n",
       "      <td>74.0</td>\n",
       "      <td>1.038370</td>\n",
       "      <td>0.127486</td>\n",
       "      <td>0.184456</td>\n",
       "      <td>1.109950</td>\n",
       "      <td>0.441699</td>\n",
       "      <td>0.945283</td>\n",
       "      <td>-0.036715</td>\n",
       "      <td>0.350995</td>\n",
       "      <td>0.118950</td>\n",
       "      <td>...</td>\n",
       "      <td>0.102520</td>\n",
       "      <td>0.605089</td>\n",
       "      <td>0.023092</td>\n",
       "      <td>-0.626463</td>\n",
       "      <td>0.479120</td>\n",
       "      <td>-0.166937</td>\n",
       "      <td>0.081247</td>\n",
       "      <td>0.001192</td>\n",
       "      <td>1.18</td>\n",
       "      <td>0</td>\n",
       "    </tr>\n",
       "    <tr>\n",
       "      <th>114</th>\n",
       "      <td>74.0</td>\n",
       "      <td>1.038370</td>\n",
       "      <td>0.127486</td>\n",
       "      <td>0.184456</td>\n",
       "      <td>1.109950</td>\n",
       "      <td>0.441699</td>\n",
       "      <td>0.945283</td>\n",
       "      <td>-0.036715</td>\n",
       "      <td>0.350995</td>\n",
       "      <td>0.118950</td>\n",
       "      <td>...</td>\n",
       "      <td>0.102520</td>\n",
       "      <td>0.605089</td>\n",
       "      <td>0.023092</td>\n",
       "      <td>-0.626463</td>\n",
       "      <td>0.479120</td>\n",
       "      <td>-0.166937</td>\n",
       "      <td>0.081247</td>\n",
       "      <td>0.001192</td>\n",
       "      <td>1.18</td>\n",
       "      <td>0</td>\n",
       "    </tr>\n",
       "    <tr>\n",
       "      <th>115</th>\n",
       "      <td>74.0</td>\n",
       "      <td>1.038370</td>\n",
       "      <td>0.127486</td>\n",
       "      <td>0.184456</td>\n",
       "      <td>1.109950</td>\n",
       "      <td>0.441699</td>\n",
       "      <td>0.945283</td>\n",
       "      <td>-0.036715</td>\n",
       "      <td>0.350995</td>\n",
       "      <td>0.118950</td>\n",
       "      <td>...</td>\n",
       "      <td>0.102520</td>\n",
       "      <td>0.605089</td>\n",
       "      <td>0.023092</td>\n",
       "      <td>-0.626463</td>\n",
       "      <td>0.479120</td>\n",
       "      <td>-0.166937</td>\n",
       "      <td>0.081247</td>\n",
       "      <td>0.001192</td>\n",
       "      <td>1.18</td>\n",
       "      <td>0</td>\n",
       "    </tr>\n",
       "    <tr>\n",
       "      <th>...</th>\n",
       "      <td>...</td>\n",
       "      <td>...</td>\n",
       "      <td>...</td>\n",
       "      <td>...</td>\n",
       "      <td>...</td>\n",
       "      <td>...</td>\n",
       "      <td>...</td>\n",
       "      <td>...</td>\n",
       "      <td>...</td>\n",
       "      <td>...</td>\n",
       "      <td>...</td>\n",
       "      <td>...</td>\n",
       "      <td>...</td>\n",
       "      <td>...</td>\n",
       "      <td>...</td>\n",
       "      <td>...</td>\n",
       "      <td>...</td>\n",
       "      <td>...</td>\n",
       "      <td>...</td>\n",
       "      <td>...</td>\n",
       "      <td>...</td>\n",
       "    </tr>\n",
       "    <tr>\n",
       "      <th>282987</th>\n",
       "      <td>171288.0</td>\n",
       "      <td>1.912550</td>\n",
       "      <td>-0.455240</td>\n",
       "      <td>-1.750654</td>\n",
       "      <td>0.454324</td>\n",
       "      <td>2.089130</td>\n",
       "      <td>4.160019</td>\n",
       "      <td>-0.881302</td>\n",
       "      <td>1.081750</td>\n",
       "      <td>1.022928</td>\n",
       "      <td>...</td>\n",
       "      <td>-0.524067</td>\n",
       "      <td>-1.337510</td>\n",
       "      <td>0.473943</td>\n",
       "      <td>0.616683</td>\n",
       "      <td>-0.283548</td>\n",
       "      <td>-1.084843</td>\n",
       "      <td>0.073133</td>\n",
       "      <td>-0.036020</td>\n",
       "      <td>11.99</td>\n",
       "      <td>0</td>\n",
       "    </tr>\n",
       "    <tr>\n",
       "      <th>283483</th>\n",
       "      <td>171627.0</td>\n",
       "      <td>-1.464380</td>\n",
       "      <td>1.368119</td>\n",
       "      <td>0.815992</td>\n",
       "      <td>-0.601282</td>\n",
       "      <td>-0.689115</td>\n",
       "      <td>-0.487154</td>\n",
       "      <td>-0.303778</td>\n",
       "      <td>0.884953</td>\n",
       "      <td>0.054065</td>\n",
       "      <td>...</td>\n",
       "      <td>0.287217</td>\n",
       "      <td>0.947825</td>\n",
       "      <td>-0.218773</td>\n",
       "      <td>0.082926</td>\n",
       "      <td>0.044127</td>\n",
       "      <td>0.639270</td>\n",
       "      <td>0.213565</td>\n",
       "      <td>0.119251</td>\n",
       "      <td>6.82</td>\n",
       "      <td>0</td>\n",
       "    </tr>\n",
       "    <tr>\n",
       "      <th>283485</th>\n",
       "      <td>171627.0</td>\n",
       "      <td>-1.457978</td>\n",
       "      <td>1.378203</td>\n",
       "      <td>0.811515</td>\n",
       "      <td>-0.603760</td>\n",
       "      <td>-0.711883</td>\n",
       "      <td>-0.471672</td>\n",
       "      <td>-0.282535</td>\n",
       "      <td>0.880654</td>\n",
       "      <td>0.052808</td>\n",
       "      <td>...</td>\n",
       "      <td>0.284205</td>\n",
       "      <td>0.949659</td>\n",
       "      <td>-0.216949</td>\n",
       "      <td>0.083250</td>\n",
       "      <td>0.044944</td>\n",
       "      <td>0.639933</td>\n",
       "      <td>0.219432</td>\n",
       "      <td>0.116772</td>\n",
       "      <td>11.93</td>\n",
       "      <td>0</td>\n",
       "    </tr>\n",
       "    <tr>\n",
       "      <th>284191</th>\n",
       "      <td>172233.0</td>\n",
       "      <td>-2.667936</td>\n",
       "      <td>3.160505</td>\n",
       "      <td>-3.355984</td>\n",
       "      <td>1.007845</td>\n",
       "      <td>-0.377397</td>\n",
       "      <td>-0.109730</td>\n",
       "      <td>-0.667233</td>\n",
       "      <td>2.309700</td>\n",
       "      <td>-1.639306</td>\n",
       "      <td>...</td>\n",
       "      <td>0.391483</td>\n",
       "      <td>0.266536</td>\n",
       "      <td>-0.079853</td>\n",
       "      <td>-0.096395</td>\n",
       "      <td>0.086719</td>\n",
       "      <td>-0.451128</td>\n",
       "      <td>-1.183743</td>\n",
       "      <td>-0.222200</td>\n",
       "      <td>55.66</td>\n",
       "      <td>0</td>\n",
       "    </tr>\n",
       "    <tr>\n",
       "      <th>284193</th>\n",
       "      <td>172233.0</td>\n",
       "      <td>-2.691642</td>\n",
       "      <td>3.123168</td>\n",
       "      <td>-3.339407</td>\n",
       "      <td>1.017018</td>\n",
       "      <td>-0.293095</td>\n",
       "      <td>-0.167054</td>\n",
       "      <td>-0.745886</td>\n",
       "      <td>2.325616</td>\n",
       "      <td>-1.634651</td>\n",
       "      <td>...</td>\n",
       "      <td>0.402639</td>\n",
       "      <td>0.259746</td>\n",
       "      <td>-0.086606</td>\n",
       "      <td>-0.097597</td>\n",
       "      <td>0.083693</td>\n",
       "      <td>-0.453584</td>\n",
       "      <td>-1.205466</td>\n",
       "      <td>-0.213020</td>\n",
       "      <td>36.74</td>\n",
       "      <td>0</td>\n",
       "    </tr>\n",
       "  </tbody>\n",
       "</table>\n",
       "<p>1081 rows × 31 columns</p>\n",
       "</div>"
      ],
      "text/plain": [
       "            Time        V1        V2        V3        V4        V5        V6  \\\n",
       "33          26.0 -0.529912  0.873892  1.347247  0.145457  0.414209  0.100223   \n",
       "35          26.0 -0.535388  0.865268  1.351076  0.147575  0.433680  0.086983   \n",
       "113         74.0  1.038370  0.127486  0.184456  1.109950  0.441699  0.945283   \n",
       "114         74.0  1.038370  0.127486  0.184456  1.109950  0.441699  0.945283   \n",
       "115         74.0  1.038370  0.127486  0.184456  1.109950  0.441699  0.945283   \n",
       "...          ...       ...       ...       ...       ...       ...       ...   \n",
       "282987  171288.0  1.912550 -0.455240 -1.750654  0.454324  2.089130  4.160019   \n",
       "283483  171627.0 -1.464380  1.368119  0.815992 -0.601282 -0.689115 -0.487154   \n",
       "283485  171627.0 -1.457978  1.378203  0.811515 -0.603760 -0.711883 -0.471672   \n",
       "284191  172233.0 -2.667936  3.160505 -3.355984  1.007845 -0.377397 -0.109730   \n",
       "284193  172233.0 -2.691642  3.123168 -3.339407  1.017018 -0.293095 -0.167054   \n",
       "\n",
       "              V7        V8        V9  ...       V21       V22       V23  \\\n",
       "33      0.711206  0.176066 -0.286717  ...  0.046949  0.208105 -0.185548   \n",
       "35      0.693039  0.179742 -0.285642  ...  0.049526  0.206537 -0.187108   \n",
       "113    -0.036715  0.350995  0.118950  ...  0.102520  0.605089  0.023092   \n",
       "114    -0.036715  0.350995  0.118950  ...  0.102520  0.605089  0.023092   \n",
       "115    -0.036715  0.350995  0.118950  ...  0.102520  0.605089  0.023092   \n",
       "...          ...       ...       ...  ...       ...       ...       ...   \n",
       "282987 -0.881302  1.081750  1.022928  ... -0.524067 -1.337510  0.473943   \n",
       "283483 -0.303778  0.884953  0.054065  ...  0.287217  0.947825 -0.218773   \n",
       "283485 -0.282535  0.880654  0.052808  ...  0.284205  0.949659 -0.216949   \n",
       "284191 -0.667233  2.309700 -1.639306  ...  0.391483  0.266536 -0.079853   \n",
       "284193 -0.745886  2.325616 -1.634651  ...  0.402639  0.259746 -0.086606   \n",
       "\n",
       "             V24       V25       V26       V27       V28  Amount  Class  \n",
       "33      0.001031  0.098816 -0.552904 -0.073288  0.023307    6.14      0  \n",
       "35      0.000753  0.098117 -0.553471 -0.078306  0.025427    1.77      0  \n",
       "113    -0.626463  0.479120 -0.166937  0.081247  0.001192    1.18      0  \n",
       "114    -0.626463  0.479120 -0.166937  0.081247  0.001192    1.18      0  \n",
       "115    -0.626463  0.479120 -0.166937  0.081247  0.001192    1.18      0  \n",
       "...          ...       ...       ...       ...       ...     ...    ...  \n",
       "282987  0.616683 -0.283548 -1.084843  0.073133 -0.036020   11.99      0  \n",
       "283483  0.082926  0.044127  0.639270  0.213565  0.119251    6.82      0  \n",
       "283485  0.083250  0.044944  0.639933  0.219432  0.116772   11.93      0  \n",
       "284191 -0.096395  0.086719 -0.451128 -1.183743 -0.222200   55.66      0  \n",
       "284193 -0.097597  0.083693 -0.453584 -1.205466 -0.213020   36.74      0  \n",
       "\n",
       "[1081 rows x 31 columns]"
      ]
     },
     "execution_count": 9,
     "metadata": {},
     "output_type": "execute_result"
    }
   ],
   "source": [
    "# to display duplicate values\n",
    "df[df.duplicated()]"
   ]
  },
  {
   "cell_type": "code",
   "execution_count": 10,
   "id": "42d0fb1e",
   "metadata": {},
   "outputs": [],
   "source": [
    "# delete the duplicate rows\n",
    "df.drop_duplicates(inplace=True)"
   ]
  },
  {
   "cell_type": "code",
   "execution_count": 11,
   "id": "53534392",
   "metadata": {},
   "outputs": [
    {
     "data": {
      "text/plain": [
       "(283726, 31)"
      ]
     },
     "execution_count": 11,
     "metadata": {},
     "output_type": "execute_result"
    }
   ],
   "source": [
    "df.shape"
   ]
  },
  {
   "cell_type": "code",
   "execution_count": 12,
   "id": "ad620f23",
   "metadata": {},
   "outputs": [
    {
     "data": {
      "text/plain": [
       "array([0, 1], dtype=int64)"
      ]
     },
     "execution_count": 12,
     "metadata": {},
     "output_type": "execute_result"
    }
   ],
   "source": [
    "# values in 'Class' column\n",
    "df['Class'].unique()"
   ]
  },
  {
   "cell_type": "code",
   "execution_count": 13,
   "id": "35093716",
   "metadata": {},
   "outputs": [
    {
     "data": {
      "text/plain": [
       "0    283253\n",
       "1       473\n",
       "Name: Class, dtype: int64"
      ]
     },
     "execution_count": 13,
     "metadata": {},
     "output_type": "execute_result"
    }
   ],
   "source": [
    "# no. of values in 'Class'\n",
    "df['Class'].value_counts()\n",
    "# as we can \"BLINDLY\"  see that the data set here is un-balanced"
   ]
  },
  {
   "cell_type": "code",
   "execution_count": 14,
   "id": "80776dee",
   "metadata": {},
   "outputs": [],
   "source": [
    "# first select input and output columns\n",
    "x=df.drop('Class',axis=1) # input \n",
    "y=df['Class'] # output "
   ]
  },
  {
   "cell_type": "code",
   "execution_count": 15,
   "id": "897d6468",
   "metadata": {},
   "outputs": [],
   "source": [
    "# train_test_split\n",
    "from sklearn.model_selection import train_test_split \n",
    "x_train,x_test,y_train,y_test=train_test_split(x,y,test_size=0.3,random_state=1)"
   ]
  },
  {
   "cell_type": "code",
   "execution_count": 16,
   "id": "4450085b",
   "metadata": {},
   "outputs": [],
   "source": [
    "# Apply StandardScaler on the x_train,x_test \n",
    "from sklearn.preprocessing import StandardScaler\n",
    "\n",
    "# create an object of StandardScaler class\n",
    "ss=StandardScaler()\n",
    "\n",
    "# train the model \n",
    "x_train=ss.fit_transform(x_train)\n",
    "x_test=ss.transform(x_test)"
   ]
  },
  {
   "cell_type": "code",
   "execution_count": 17,
   "id": "8fa1816f",
   "metadata": {},
   "outputs": [
    {
     "data": {
      "text/plain": [
       "((198608, 30), (198608,))"
      ]
     },
     "execution_count": 17,
     "metadata": {},
     "output_type": "execute_result"
    }
   ],
   "source": [
    "# check the shape of the input  split dataframe\n",
    "x_train.shape,y_train.shape"
   ]
  },
  {
   "cell_type": "code",
   "execution_count": 18,
   "id": "65fd14e6",
   "metadata": {},
   "outputs": [],
   "source": [
    "# to balance the data here we use sampling technique\n",
    "# In Sampling :- 1. RandomOverSampler\n",
    "# call the package of RandomOverSampler\n",
    "from imblearn.over_sampling import RandomOverSampler"
   ]
  },
  {
   "cell_type": "code",
   "execution_count": 19,
   "id": "e74ba60c",
   "metadata": {},
   "outputs": [
    {
     "data": {
      "text/plain": [
       "0    198260\n",
       "1       348\n",
       "Name: Class, dtype: int64"
      ]
     },
     "execution_count": 19,
     "metadata": {},
     "output_type": "execute_result"
    }
   ],
   "source": [
    "y_train.value_counts()\n",
    "\n",
    "# Applied value_counts on y_train because we cannot  apply this function on numpy.array(which is x_train).\n",
    "# only use it on the output "
   ]
  },
  {
   "cell_type": "code",
   "execution_count": 20,
   "id": "5c7050d7",
   "metadata": {},
   "outputs": [],
   "source": [
    "# the value of 0 is more then value of 1 \n",
    "# so we convert Minority(1) into majority(0) using randomoversampler\n",
    "\n",
    "# create an object of RandomOverSampler class\n",
    "ros=RandomOverSampler(random_state=1)\n"
   ]
  },
  {
   "cell_type": "code",
   "execution_count": 21,
   "id": "13b32947",
   "metadata": {},
   "outputs": [],
   "source": [
    "x_train_ros,y_train_ros=ros.fit_resample(x_train,y_train)"
   ]
  },
  {
   "cell_type": "code",
   "execution_count": 22,
   "id": "4877e0c5",
   "metadata": {},
   "outputs": [
    {
     "data": {
      "text/plain": [
       "((396520, 30), (396520,))"
      ]
     },
     "execution_count": 22,
     "metadata": {},
     "output_type": "execute_result"
    }
   ],
   "source": [
    "x_train_ros.shape,y_train_ros.shape"
   ]
  },
  {
   "cell_type": "code",
   "execution_count": 23,
   "id": "d16ca3e7",
   "metadata": {},
   "outputs": [
    {
     "data": {
      "text/plain": [
       "0    198260\n",
       "1    198260\n",
       "Name: Class, dtype: int64"
      ]
     },
     "execution_count": 23,
     "metadata": {},
     "output_type": "execute_result"
    }
   ],
   "source": [
    "y_train_ros.value_counts() # the data in y_train_ros is balanced"
   ]
  },
  {
   "cell_type": "code",
   "execution_count": 24,
   "id": "b49490a7",
   "metadata": {},
   "outputs": [],
   "source": [
    "x_test_ros,y_test_ros=ros.fit_resample(x_test,y_test)"
   ]
  },
  {
   "cell_type": "code",
   "execution_count": 25,
   "id": "51eb60d9",
   "metadata": {},
   "outputs": [
    {
     "data": {
      "text/plain": [
       "((169986, 30), (169986,))"
      ]
     },
     "execution_count": 25,
     "metadata": {},
     "output_type": "execute_result"
    }
   ],
   "source": [
    "x_test_ros.shape,y_test_ros.shape"
   ]
  },
  {
   "cell_type": "code",
   "execution_count": 26,
   "id": "1e893b24",
   "metadata": {},
   "outputs": [
    {
     "data": {
      "text/plain": [
       "0    84993\n",
       "1    84993\n",
       "Name: Class, dtype: int64"
      ]
     },
     "execution_count": 26,
     "metadata": {},
     "output_type": "execute_result"
    }
   ],
   "source": [
    "y_test_ros.value_counts() # the data in y_test_ros is also balanced "
   ]
  },
  {
   "cell_type": "code",
   "execution_count": 27,
   "id": "b4c59236",
   "metadata": {},
   "outputs": [],
   "source": [
    "# The data is now Balanced"
   ]
  },
  {
   "cell_type": "code",
   "execution_count": 28,
   "id": "9fc78f2e",
   "metadata": {},
   "outputs": [],
   "source": [
    "# Create function  \n",
    "\n",
    "def create_model(model):\n",
    "    # train the model \n",
    "    model.fit(x_train_ros,y_train_ros)\n",
    "    # test the model \n",
    "    y_pred=model.predict(x_test_ros)\n",
    "    # generate report\n",
    "    print(classification_report(y_test_ros,y_pred))\n",
    "    print(confusion_matrix(y_test_ros,y_pred))\n",
    "    return model"
   ]
  },
  {
   "cell_type": "code",
   "execution_count": 29,
   "id": "17649738",
   "metadata": {},
   "outputs": [],
   "source": [
    "# call the confusion_matrix,classification_report package\n",
    "from sklearn.metrics import confusion_matrix\n",
    "from sklearn.metrics import classification_report"
   ]
  },
  {
   "cell_type": "markdown",
   "id": "9dc02630",
   "metadata": {},
   "source": [
    "# LogisticRegression"
   ]
  },
  {
   "cell_type": "code",
   "execution_count": 30,
   "id": "77894c91",
   "metadata": {},
   "outputs": [],
   "source": [
    "from sklearn.linear_model import LogisticRegression"
   ]
  },
  {
   "cell_type": "code",
   "execution_count": 31,
   "id": "ad102b3a",
   "metadata": {},
   "outputs": [],
   "source": [
    "# create an object of LogisticRegression class\n",
    "lr=LogisticRegression()"
   ]
  },
  {
   "cell_type": "code",
   "execution_count": 32,
   "id": "336dd083",
   "metadata": {},
   "outputs": [
    {
     "name": "stdout",
     "output_type": "stream",
     "text": [
      "              precision    recall  f1-score   support\n",
      "\n",
      "           0       0.90      0.98      0.94     84993\n",
      "           1       0.98      0.89      0.93     84993\n",
      "\n",
      "    accuracy                           0.93    169986\n",
      "   macro avg       0.94      0.93      0.93    169986\n",
      "weighted avg       0.94      0.93      0.93    169986\n",
      "\n",
      "[[83265  1728]\n",
      " [ 9386 75607]]\n"
     ]
    }
   ],
   "source": [
    "lr=create_model(lr)"
   ]
  },
  {
   "cell_type": "code",
   "execution_count": 33,
   "id": "15d0af4a",
   "metadata": {},
   "outputs": [],
   "source": [
    "# The Score we got here  for 0 = 96% and for 1 = 84% which is very good is very good \n",
    "# \"but we told to do further \""
   ]
  },
  {
   "cell_type": "markdown",
   "id": "713fb6e8",
   "metadata": {},
   "source": [
    "# DecisionTreeClassifier"
   ]
  },
  {
   "cell_type": "code",
   "execution_count": 34,
   "id": "73746392",
   "metadata": {},
   "outputs": [],
   "source": [
    "from sklearn.tree import DecisionTreeClassifier\n",
    "\n",
    "# create an object of DecisionTreeClassifier class\n",
    "dt=DecisionTreeClassifier(random_state=1) # by default Gini index"
   ]
  },
  {
   "cell_type": "code",
   "execution_count": 35,
   "id": "76800469",
   "metadata": {},
   "outputs": [
    {
     "name": "stdout",
     "output_type": "stream",
     "text": [
      "              precision    recall  f1-score   support\n",
      "\n",
      "           0       0.75      1.00      0.86     84993\n",
      "           1       1.00      0.67      0.80     84993\n",
      "\n",
      "    accuracy                           0.84    169986\n",
      "   macro avg       0.88      0.84      0.83    169986\n",
      "weighted avg       0.88      0.84      0.83    169986\n",
      "\n",
      "[[84968    25]\n",
      " [27802 57191]]\n"
     ]
    }
   ],
   "source": [
    "# call function \n",
    "dt=create_model(dt)"
   ]
  },
  {
   "cell_type": "code",
   "execution_count": 36,
   "id": "8bd728e6",
   "metadata": {},
   "outputs": [
    {
     "data": {
      "text/html": [
       "<div>\n",
       "<style scoped>\n",
       "    .dataframe tbody tr th:only-of-type {\n",
       "        vertical-align: middle;\n",
       "    }\n",
       "\n",
       "    .dataframe tbody tr th {\n",
       "        vertical-align: top;\n",
       "    }\n",
       "\n",
       "    .dataframe thead th {\n",
       "        text-align: right;\n",
       "    }\n",
       "</style>\n",
       "<table border=\"1\" class=\"dataframe\">\n",
       "  <thead>\n",
       "    <tr style=\"text-align: right;\">\n",
       "      <th></th>\n",
       "      <th>Input columns</th>\n",
       "      <th>IG</th>\n",
       "    </tr>\n",
       "  </thead>\n",
       "  <tbody>\n",
       "    <tr>\n",
       "      <th>0</th>\n",
       "      <td>V14</td>\n",
       "      <td>0.750593</td>\n",
       "    </tr>\n",
       "    <tr>\n",
       "      <th>1</th>\n",
       "      <td>V4</td>\n",
       "      <td>0.048959</td>\n",
       "    </tr>\n",
       "    <tr>\n",
       "      <th>2</th>\n",
       "      <td>V12</td>\n",
       "      <td>0.027476</td>\n",
       "    </tr>\n",
       "    <tr>\n",
       "      <th>3</th>\n",
       "      <td>V8</td>\n",
       "      <td>0.021313</td>\n",
       "    </tr>\n",
       "    <tr>\n",
       "      <th>4</th>\n",
       "      <td>V3</td>\n",
       "      <td>0.018836</td>\n",
       "    </tr>\n",
       "    <tr>\n",
       "      <th>5</th>\n",
       "      <td>V7</td>\n",
       "      <td>0.017205</td>\n",
       "    </tr>\n",
       "    <tr>\n",
       "      <th>6</th>\n",
       "      <td>V20</td>\n",
       "      <td>0.015063</td>\n",
       "    </tr>\n",
       "    <tr>\n",
       "      <th>7</th>\n",
       "      <td>V16</td>\n",
       "      <td>0.011824</td>\n",
       "    </tr>\n",
       "    <tr>\n",
       "      <th>8</th>\n",
       "      <td>Amount</td>\n",
       "      <td>0.010202</td>\n",
       "    </tr>\n",
       "    <tr>\n",
       "      <th>9</th>\n",
       "      <td>V17</td>\n",
       "      <td>0.010169</td>\n",
       "    </tr>\n",
       "    <tr>\n",
       "      <th>10</th>\n",
       "      <td>V27</td>\n",
       "      <td>0.009871</td>\n",
       "    </tr>\n",
       "    <tr>\n",
       "      <th>11</th>\n",
       "      <td>V5</td>\n",
       "      <td>0.009816</td>\n",
       "    </tr>\n",
       "    <tr>\n",
       "      <th>12</th>\n",
       "      <td>V25</td>\n",
       "      <td>0.007889</td>\n",
       "    </tr>\n",
       "    <tr>\n",
       "      <th>13</th>\n",
       "      <td>V26</td>\n",
       "      <td>0.005995</td>\n",
       "    </tr>\n",
       "    <tr>\n",
       "      <th>14</th>\n",
       "      <td>V9</td>\n",
       "      <td>0.005829</td>\n",
       "    </tr>\n",
       "    <tr>\n",
       "      <th>15</th>\n",
       "      <td>V13</td>\n",
       "      <td>0.005542</td>\n",
       "    </tr>\n",
       "    <tr>\n",
       "      <th>16</th>\n",
       "      <td>V15</td>\n",
       "      <td>0.005049</td>\n",
       "    </tr>\n",
       "    <tr>\n",
       "      <th>17</th>\n",
       "      <td>V28</td>\n",
       "      <td>0.004086</td>\n",
       "    </tr>\n",
       "    <tr>\n",
       "      <th>18</th>\n",
       "      <td>V10</td>\n",
       "      <td>0.003727</td>\n",
       "    </tr>\n",
       "    <tr>\n",
       "      <th>19</th>\n",
       "      <td>V23</td>\n",
       "      <td>0.002878</td>\n",
       "    </tr>\n",
       "    <tr>\n",
       "      <th>20</th>\n",
       "      <td>V1</td>\n",
       "      <td>0.002184</td>\n",
       "    </tr>\n",
       "    <tr>\n",
       "      <th>21</th>\n",
       "      <td>V6</td>\n",
       "      <td>0.001737</td>\n",
       "    </tr>\n",
       "    <tr>\n",
       "      <th>22</th>\n",
       "      <td>V2</td>\n",
       "      <td>0.001671</td>\n",
       "    </tr>\n",
       "    <tr>\n",
       "      <th>23</th>\n",
       "      <td>V11</td>\n",
       "      <td>0.000799</td>\n",
       "    </tr>\n",
       "    <tr>\n",
       "      <th>24</th>\n",
       "      <td>V24</td>\n",
       "      <td>0.000346</td>\n",
       "    </tr>\n",
       "    <tr>\n",
       "      <th>25</th>\n",
       "      <td>V18</td>\n",
       "      <td>0.000290</td>\n",
       "    </tr>\n",
       "    <tr>\n",
       "      <th>26</th>\n",
       "      <td>V19</td>\n",
       "      <td>0.000238</td>\n",
       "    </tr>\n",
       "    <tr>\n",
       "      <th>27</th>\n",
       "      <td>V22</td>\n",
       "      <td>0.000170</td>\n",
       "    </tr>\n",
       "    <tr>\n",
       "      <th>28</th>\n",
       "      <td>V21</td>\n",
       "      <td>0.000134</td>\n",
       "    </tr>\n",
       "    <tr>\n",
       "      <th>29</th>\n",
       "      <td>Time</td>\n",
       "      <td>0.000110</td>\n",
       "    </tr>\n",
       "  </tbody>\n",
       "</table>\n",
       "</div>"
      ],
      "text/plain": [
       "   Input columns        IG\n",
       "0            V14  0.750593\n",
       "1             V4  0.048959\n",
       "2            V12  0.027476\n",
       "3             V8  0.021313\n",
       "4             V3  0.018836\n",
       "5             V7  0.017205\n",
       "6            V20  0.015063\n",
       "7            V16  0.011824\n",
       "8         Amount  0.010202\n",
       "9            V17  0.010169\n",
       "10           V27  0.009871\n",
       "11            V5  0.009816\n",
       "12           V25  0.007889\n",
       "13           V26  0.005995\n",
       "14            V9  0.005829\n",
       "15           V13  0.005542\n",
       "16           V15  0.005049\n",
       "17           V28  0.004086\n",
       "18           V10  0.003727\n",
       "19           V23  0.002878\n",
       "20            V1  0.002184\n",
       "21            V6  0.001737\n",
       "22            V2  0.001671\n",
       "23           V11  0.000799\n",
       "24           V24  0.000346\n",
       "25           V18  0.000290\n",
       "26           V19  0.000238\n",
       "27           V22  0.000170\n",
       "28           V21  0.000134\n",
       "29          Time  0.000110"
      ]
     },
     "execution_count": 36,
     "metadata": {},
     "output_type": "execute_result"
    }
   ],
   "source": [
    "# create a dictionary to see which feature is important\n",
    "dict={'Input columns':x.columns,'IG':dt.feature_importances_}\n",
    "# convert into dataframe \n",
    "df1=pd.DataFrame(dict)\n",
    "df1.sort_values('IG',ascending=False,ignore_index=True)"
   ]
  },
  {
   "cell_type": "code",
   "execution_count": 37,
   "id": "b6c27294",
   "metadata": {},
   "outputs": [
    {
     "data": {
      "image/png": "[encoded data removed]",
      "text/plain": [
       "<Figure size 1440x1440 with 1 Axes>"
      ]
     },
     "metadata": {
      "needs_background": "light"
     },
     "output_type": "display_data"
    }
   ],
   "source": [
    "# draw the tree\n",
    "from sklearn import tree\n",
    "features=x.columns\n",
    "plt.figure(figsize=(20,20))\n",
    "_=tree.plot_tree(dt,feature_names=features,filled=True)"
   ]
  },
  {
   "cell_type": "markdown",
   "id": "d08d7de3",
   "metadata": {},
   "source": [
    "# Max_depth(Gini index)"
   ]
  },
  {
   "cell_type": "code",
   "execution_count": 38,
   "id": "e65131d2",
   "metadata": {},
   "outputs": [
    {
     "name": "stdout",
     "output_type": "stream",
     "text": [
      "              precision    recall  f1-score   support\n",
      "\n",
      "           0       0.84      0.95      0.89     84993\n",
      "           1       0.94      0.83      0.88     84993\n",
      "\n",
      "    accuracy                           0.89    169986\n",
      "   macro avg       0.89      0.89      0.89    169986\n",
      "weighted avg       0.89      0.89      0.89    169986\n",
      "\n",
      "[[80515  4478]\n",
      " [14826 70167]]\n"
     ]
    }
   ],
   "source": [
    "# create an object of DecisionTreeClassifier class with max_depth\n",
    "dt1=DecisionTreeClassifier(max_depth=3,random_state=1) # by default Gini index\n",
    "'''for i in range(1,9):\n",
    "    dt1=DecisionTreeClassifier(max_depth=8,random_state=1)\n",
    "    print(\"max_depth\",i)'''\n",
    "\n",
    "    #call function\n",
    "dt1=create_model(dt1)"
   ]
  },
  {
   "cell_type": "code",
   "execution_count": 39,
   "id": "1b5eee7b",
   "metadata": {},
   "outputs": [
    {
     "data": {
      "text/html": [
       "<div>\n",
       "<style scoped>\n",
       "    .dataframe tbody tr th:only-of-type {\n",
       "        vertical-align: middle;\n",
       "    }\n",
       "\n",
       "    .dataframe tbody tr th {\n",
       "        vertical-align: top;\n",
       "    }\n",
       "\n",
       "    .dataframe thead th {\n",
       "        text-align: right;\n",
       "    }\n",
       "</style>\n",
       "<table border=\"1\" class=\"dataframe\">\n",
       "  <thead>\n",
       "    <tr style=\"text-align: right;\">\n",
       "      <th></th>\n",
       "      <th>Input columns</th>\n",
       "      <th>IG</th>\n",
       "    </tr>\n",
       "  </thead>\n",
       "  <tbody>\n",
       "    <tr>\n",
       "      <th>0</th>\n",
       "      <td>V14</td>\n",
       "      <td>0.893717</td>\n",
       "    </tr>\n",
       "    <tr>\n",
       "      <th>1</th>\n",
       "      <td>V4</td>\n",
       "      <td>0.039723</td>\n",
       "    </tr>\n",
       "    <tr>\n",
       "      <th>2</th>\n",
       "      <td>V8</td>\n",
       "      <td>0.023942</td>\n",
       "    </tr>\n",
       "    <tr>\n",
       "      <th>3</th>\n",
       "      <td>V3</td>\n",
       "      <td>0.018385</td>\n",
       "    </tr>\n",
       "    <tr>\n",
       "      <th>4</th>\n",
       "      <td>V20</td>\n",
       "      <td>0.015404</td>\n",
       "    </tr>\n",
       "    <tr>\n",
       "      <th>5</th>\n",
       "      <td>V12</td>\n",
       "      <td>0.008829</td>\n",
       "    </tr>\n",
       "    <tr>\n",
       "      <th>6</th>\n",
       "      <td>V23</td>\n",
       "      <td>0.000000</td>\n",
       "    </tr>\n",
       "    <tr>\n",
       "      <th>7</th>\n",
       "      <td>V21</td>\n",
       "      <td>0.000000</td>\n",
       "    </tr>\n",
       "    <tr>\n",
       "      <th>8</th>\n",
       "      <td>V22</td>\n",
       "      <td>0.000000</td>\n",
       "    </tr>\n",
       "    <tr>\n",
       "      <th>9</th>\n",
       "      <td>Time</td>\n",
       "      <td>0.000000</td>\n",
       "    </tr>\n",
       "    <tr>\n",
       "      <th>10</th>\n",
       "      <td>V24</td>\n",
       "      <td>0.000000</td>\n",
       "    </tr>\n",
       "    <tr>\n",
       "      <th>11</th>\n",
       "      <td>V18</td>\n",
       "      <td>0.000000</td>\n",
       "    </tr>\n",
       "    <tr>\n",
       "      <th>12</th>\n",
       "      <td>V25</td>\n",
       "      <td>0.000000</td>\n",
       "    </tr>\n",
       "    <tr>\n",
       "      <th>13</th>\n",
       "      <td>V26</td>\n",
       "      <td>0.000000</td>\n",
       "    </tr>\n",
       "    <tr>\n",
       "      <th>14</th>\n",
       "      <td>V27</td>\n",
       "      <td>0.000000</td>\n",
       "    </tr>\n",
       "    <tr>\n",
       "      <th>15</th>\n",
       "      <td>V28</td>\n",
       "      <td>0.000000</td>\n",
       "    </tr>\n",
       "    <tr>\n",
       "      <th>16</th>\n",
       "      <td>V19</td>\n",
       "      <td>0.000000</td>\n",
       "    </tr>\n",
       "    <tr>\n",
       "      <th>17</th>\n",
       "      <td>V15</td>\n",
       "      <td>0.000000</td>\n",
       "    </tr>\n",
       "    <tr>\n",
       "      <th>18</th>\n",
       "      <td>V17</td>\n",
       "      <td>0.000000</td>\n",
       "    </tr>\n",
       "    <tr>\n",
       "      <th>19</th>\n",
       "      <td>V16</td>\n",
       "      <td>0.000000</td>\n",
       "    </tr>\n",
       "    <tr>\n",
       "      <th>20</th>\n",
       "      <td>V1</td>\n",
       "      <td>0.000000</td>\n",
       "    </tr>\n",
       "    <tr>\n",
       "      <th>21</th>\n",
       "      <td>V13</td>\n",
       "      <td>0.000000</td>\n",
       "    </tr>\n",
       "    <tr>\n",
       "      <th>22</th>\n",
       "      <td>V11</td>\n",
       "      <td>0.000000</td>\n",
       "    </tr>\n",
       "    <tr>\n",
       "      <th>23</th>\n",
       "      <td>V10</td>\n",
       "      <td>0.000000</td>\n",
       "    </tr>\n",
       "    <tr>\n",
       "      <th>24</th>\n",
       "      <td>V9</td>\n",
       "      <td>0.000000</td>\n",
       "    </tr>\n",
       "    <tr>\n",
       "      <th>25</th>\n",
       "      <td>V7</td>\n",
       "      <td>0.000000</td>\n",
       "    </tr>\n",
       "    <tr>\n",
       "      <th>26</th>\n",
       "      <td>V6</td>\n",
       "      <td>0.000000</td>\n",
       "    </tr>\n",
       "    <tr>\n",
       "      <th>27</th>\n",
       "      <td>V5</td>\n",
       "      <td>0.000000</td>\n",
       "    </tr>\n",
       "    <tr>\n",
       "      <th>28</th>\n",
       "      <td>V2</td>\n",
       "      <td>0.000000</td>\n",
       "    </tr>\n",
       "    <tr>\n",
       "      <th>29</th>\n",
       "      <td>Amount</td>\n",
       "      <td>0.000000</td>\n",
       "    </tr>\n",
       "  </tbody>\n",
       "</table>\n",
       "</div>"
      ],
      "text/plain": [
       "   Input columns        IG\n",
       "0            V14  0.893717\n",
       "1             V4  0.039723\n",
       "2             V8  0.023942\n",
       "3             V3  0.018385\n",
       "4            V20  0.015404\n",
       "5            V12  0.008829\n",
       "6            V23  0.000000\n",
       "7            V21  0.000000\n",
       "8            V22  0.000000\n",
       "9           Time  0.000000\n",
       "10           V24  0.000000\n",
       "11           V18  0.000000\n",
       "12           V25  0.000000\n",
       "13           V26  0.000000\n",
       "14           V27  0.000000\n",
       "15           V28  0.000000\n",
       "16           V19  0.000000\n",
       "17           V15  0.000000\n",
       "18           V17  0.000000\n",
       "19           V16  0.000000\n",
       "20            V1  0.000000\n",
       "21           V13  0.000000\n",
       "22           V11  0.000000\n",
       "23           V10  0.000000\n",
       "24            V9  0.000000\n",
       "25            V7  0.000000\n",
       "26            V6  0.000000\n",
       "27            V5  0.000000\n",
       "28            V2  0.000000\n",
       "29        Amount  0.000000"
      ]
     },
     "execution_count": 39,
     "metadata": {},
     "output_type": "execute_result"
    }
   ],
   "source": [
    "# create a dictionary \n",
    "dict={'Input columns':x.columns,'IG':dt1.feature_importances_}\n",
    "df2=pd.DataFrame(dict)\n",
    "df2.sort_values('IG',ascending=False,ignore_index=True)"
   ]
  },
  {
   "cell_type": "code",
   "execution_count": 40,
   "id": "2534ca9a",
   "metadata": {},
   "outputs": [
    {
     "data": {
      "image/png": "[encoded data removed]",
      "text/plain": [
       "<Figure size 432x288 with 1 Axes>"
      ]
     },
     "metadata": {
      "needs_background": "light"
     },
     "output_type": "display_data"
    }
   ],
   "source": [
    "# create a tree \n",
    "from sklearn import tree\n",
    "features=x.columns\n",
    "#plt.figure(figsize=(20,20))\n",
    "_=tree.plot_tree(dt1,feature_names=features,filled=True)"
   ]
  },
  {
   "cell_type": "markdown",
   "id": "5f4cdbee",
   "metadata": {},
   "source": [
    "# Min_samples_leaf(Gini index)"
   ]
  },
  {
   "cell_type": "code",
   "execution_count": 41,
   "id": "baad49b5",
   "metadata": {},
   "outputs": [
    {
     "name": "stdout",
     "output_type": "stream",
     "text": [
      "              precision    recall  f1-score   support\n",
      "\n",
      "           0       0.81      1.00      0.90     84993\n",
      "           1       1.00      0.77      0.87     84993\n",
      "\n",
      "    accuracy                           0.88    169986\n",
      "   macro avg       0.90      0.88      0.88    169986\n",
      "weighted avg       0.90      0.88      0.88    169986\n",
      "\n",
      "[[84768   225]\n",
      " [19592 65401]]\n"
     ]
    }
   ],
   "source": [
    "# create an object of DecisionTreeClassifier class with min_samples_leaf\n",
    "dt2=DecisionTreeClassifier(min_samples_leaf=45,random_state=1)\n",
    "'''for i in range(45,100):\n",
    "    dt2=DecisionTreeClassifier(min_samples_leaf=i,random_state=1)\n",
    "    print('min_sample_leaf',i)'''\n",
    "    # call function\n",
    "dt2=create_model(dt2)"
   ]
  },
  {
   "cell_type": "code",
   "execution_count": 42,
   "id": "32c48d7a",
   "metadata": {},
   "outputs": [
    {
     "data": {
      "image/png": "[encoded data removed]",
      "text/plain": [
       "<Figure size 1440x1440 with 1 Axes>"
      ]
     },
     "metadata": {
      "needs_background": "light"
     },
     "output_type": "display_data"
    }
   ],
   "source": [
    "# create a tree\n",
    "from sklearn import tree\n",
    "features=x.columns\n",
    "plt.figure(figsize=(20,20))\n",
    "_=tree.plot_tree(dt2,feature_names=features,filled=True)"
   ]
  },
  {
   "cell_type": "code",
   "execution_count": 43,
   "id": "aa68772e",
   "metadata": {},
   "outputs": [
    {
     "data": {
      "text/html": [
       "<div>\n",
       "<style scoped>\n",
       "    .dataframe tbody tr th:only-of-type {\n",
       "        vertical-align: middle;\n",
       "    }\n",
       "\n",
       "    .dataframe tbody tr th {\n",
       "        vertical-align: top;\n",
       "    }\n",
       "\n",
       "    .dataframe thead th {\n",
       "        text-align: right;\n",
       "    }\n",
       "</style>\n",
       "<table border=\"1\" class=\"dataframe\">\n",
       "  <thead>\n",
       "    <tr style=\"text-align: right;\">\n",
       "      <th></th>\n",
       "      <th>input column</th>\n",
       "      <th>IG</th>\n",
       "    </tr>\n",
       "  </thead>\n",
       "  <tbody>\n",
       "    <tr>\n",
       "      <th>0</th>\n",
       "      <td>V14</td>\n",
       "      <td>7.536748e-01</td>\n",
       "    </tr>\n",
       "    <tr>\n",
       "      <th>1</th>\n",
       "      <td>V4</td>\n",
       "      <td>4.832418e-02</td>\n",
       "    </tr>\n",
       "    <tr>\n",
       "      <th>2</th>\n",
       "      <td>V12</td>\n",
       "      <td>2.729717e-02</td>\n",
       "    </tr>\n",
       "    <tr>\n",
       "      <th>3</th>\n",
       "      <td>V8</td>\n",
       "      <td>2.131975e-02</td>\n",
       "    </tr>\n",
       "    <tr>\n",
       "      <th>4</th>\n",
       "      <td>V3</td>\n",
       "      <td>1.872150e-02</td>\n",
       "    </tr>\n",
       "    <tr>\n",
       "      <th>5</th>\n",
       "      <td>V7</td>\n",
       "      <td>1.720722e-02</td>\n",
       "    </tr>\n",
       "    <tr>\n",
       "      <th>6</th>\n",
       "      <td>V20</td>\n",
       "      <td>1.536692e-02</td>\n",
       "    </tr>\n",
       "    <tr>\n",
       "      <th>7</th>\n",
       "      <td>V16</td>\n",
       "      <td>1.154710e-02</td>\n",
       "    </tr>\n",
       "    <tr>\n",
       "      <th>8</th>\n",
       "      <td>Amount</td>\n",
       "      <td>1.082499e-02</td>\n",
       "    </tr>\n",
       "    <tr>\n",
       "      <th>9</th>\n",
       "      <td>V27</td>\n",
       "      <td>1.044054e-02</td>\n",
       "    </tr>\n",
       "    <tr>\n",
       "      <th>10</th>\n",
       "      <td>V17</td>\n",
       "      <td>9.852755e-03</td>\n",
       "    </tr>\n",
       "    <tr>\n",
       "      <th>11</th>\n",
       "      <td>V5</td>\n",
       "      <td>9.829311e-03</td>\n",
       "    </tr>\n",
       "    <tr>\n",
       "      <th>12</th>\n",
       "      <td>V25</td>\n",
       "      <td>7.764147e-03</td>\n",
       "    </tr>\n",
       "    <tr>\n",
       "      <th>13</th>\n",
       "      <td>V26</td>\n",
       "      <td>5.981538e-03</td>\n",
       "    </tr>\n",
       "    <tr>\n",
       "      <th>14</th>\n",
       "      <td>V13</td>\n",
       "      <td>5.844301e-03</td>\n",
       "    </tr>\n",
       "    <tr>\n",
       "      <th>15</th>\n",
       "      <td>V15</td>\n",
       "      <td>5.563646e-03</td>\n",
       "    </tr>\n",
       "    <tr>\n",
       "      <th>16</th>\n",
       "      <td>V9</td>\n",
       "      <td>5.357152e-03</td>\n",
       "    </tr>\n",
       "    <tr>\n",
       "      <th>17</th>\n",
       "      <td>V28</td>\n",
       "      <td>3.839567e-03</td>\n",
       "    </tr>\n",
       "    <tr>\n",
       "      <th>18</th>\n",
       "      <td>V10</td>\n",
       "      <td>3.109477e-03</td>\n",
       "    </tr>\n",
       "    <tr>\n",
       "      <th>19</th>\n",
       "      <td>V23</td>\n",
       "      <td>2.673548e-03</td>\n",
       "    </tr>\n",
       "    <tr>\n",
       "      <th>20</th>\n",
       "      <td>V1</td>\n",
       "      <td>2.042185e-03</td>\n",
       "    </tr>\n",
       "    <tr>\n",
       "      <th>21</th>\n",
       "      <td>V2</td>\n",
       "      <td>1.657796e-03</td>\n",
       "    </tr>\n",
       "    <tr>\n",
       "      <th>22</th>\n",
       "      <td>V6</td>\n",
       "      <td>1.003683e-03</td>\n",
       "    </tr>\n",
       "    <tr>\n",
       "      <th>23</th>\n",
       "      <td>V21</td>\n",
       "      <td>6.632891e-04</td>\n",
       "    </tr>\n",
       "    <tr>\n",
       "      <th>24</th>\n",
       "      <td>V11</td>\n",
       "      <td>6.988568e-05</td>\n",
       "    </tr>\n",
       "    <tr>\n",
       "      <th>25</th>\n",
       "      <td>V18</td>\n",
       "      <td>1.755348e-05</td>\n",
       "    </tr>\n",
       "    <tr>\n",
       "      <th>26</th>\n",
       "      <td>V19</td>\n",
       "      <td>5.163744e-06</td>\n",
       "    </tr>\n",
       "    <tr>\n",
       "      <th>27</th>\n",
       "      <td>Time</td>\n",
       "      <td>7.872789e-07</td>\n",
       "    </tr>\n",
       "    <tr>\n",
       "      <th>28</th>\n",
       "      <td>V22</td>\n",
       "      <td>0.000000e+00</td>\n",
       "    </tr>\n",
       "    <tr>\n",
       "      <th>29</th>\n",
       "      <td>V24</td>\n",
       "      <td>0.000000e+00</td>\n",
       "    </tr>\n",
       "  </tbody>\n",
       "</table>\n",
       "</div>"
      ],
      "text/plain": [
       "   input column            IG\n",
       "0           V14  7.536748e-01\n",
       "1            V4  4.832418e-02\n",
       "2           V12  2.729717e-02\n",
       "3            V8  2.131975e-02\n",
       "4            V3  1.872150e-02\n",
       "5            V7  1.720722e-02\n",
       "6           V20  1.536692e-02\n",
       "7           V16  1.154710e-02\n",
       "8        Amount  1.082499e-02\n",
       "9           V27  1.044054e-02\n",
       "10          V17  9.852755e-03\n",
       "11           V5  9.829311e-03\n",
       "12          V25  7.764147e-03\n",
       "13          V26  5.981538e-03\n",
       "14          V13  5.844301e-03\n",
       "15          V15  5.563646e-03\n",
       "16           V9  5.357152e-03\n",
       "17          V28  3.839567e-03\n",
       "18          V10  3.109477e-03\n",
       "19          V23  2.673548e-03\n",
       "20           V1  2.042185e-03\n",
       "21           V2  1.657796e-03\n",
       "22           V6  1.003683e-03\n",
       "23          V21  6.632891e-04\n",
       "24          V11  6.988568e-05\n",
       "25          V18  1.755348e-05\n",
       "26          V19  5.163744e-06\n",
       "27         Time  7.872789e-07\n",
       "28          V22  0.000000e+00\n",
       "29          V24  0.000000e+00"
      ]
     },
     "execution_count": 43,
     "metadata": {},
     "output_type": "execute_result"
    }
   ],
   "source": [
    "# create a dictionary \n",
    "dict={\"input column\":x.columns,\"IG\":dt2.feature_importances_}\n",
    "df3=pd.DataFrame(dict)\n",
    "df3.sort_values(\"IG\",ascending=False,ignore_index=True)"
   ]
  },
  {
   "cell_type": "code",
   "execution_count": 44,
   "id": "cab2b864",
   "metadata": {},
   "outputs": [],
   "source": [
    "# Here the output which we have got from \n",
    "# DecisionTreeClassifier for 0 =100%   and 1= 67%\n",
    "\n",
    "#DecisionTreeClassifier(max_depth) for 0= 95%  and 1 =  83%\n",
    "\n",
    "# DecisionTreeClassifier(min_leaf_sampler) for 0 = 100%   and 1=  77%"
   ]
  },
  {
   "cell_type": "markdown",
   "id": "3a65d520",
   "metadata": {},
   "source": [
    "# Entropy"
   ]
  },
  {
   "cell_type": "code",
   "execution_count": 45,
   "id": "075d1758",
   "metadata": {},
   "outputs": [],
   "source": [
    "# create an object of DecisionTreeClassifier class with Entropy without pruning tech\n",
    "dt=DecisionTreeClassifier(criterion='entropy',random_state=1)"
   ]
  },
  {
   "cell_type": "code",
   "execution_count": 46,
   "id": "fe5ce893",
   "metadata": {},
   "outputs": [
    {
     "name": "stdout",
     "output_type": "stream",
     "text": [
      "              precision    recall  f1-score   support\n",
      "\n",
      "           0       0.76      1.00      0.86     84993\n",
      "           1       1.00      0.68      0.81     84993\n",
      "\n",
      "    accuracy                           0.84    169986\n",
      "   macro avg       0.88      0.84      0.84    169986\n",
      "weighted avg       0.88      0.84      0.84    169986\n",
      "\n",
      "[[84964    29]\n",
      " [27060 57933]]\n"
     ]
    }
   ],
   "source": [
    "# call function\n",
    "dt=create_model(dt)"
   ]
  },
  {
   "cell_type": "markdown",
   "id": "22170db7",
   "metadata": {},
   "source": [
    "# Entopy(max_depth)"
   ]
  },
  {
   "cell_type": "code",
   "execution_count": 47,
   "id": "febf9bfb",
   "metadata": {},
   "outputs": [
    {
     "name": "stdout",
     "output_type": "stream",
     "text": [
      "              precision    recall  f1-score   support\n",
      "\n",
      "           0       0.87      0.97      0.92     84993\n",
      "           1       0.96      0.86      0.91     84993\n",
      "\n",
      "    accuracy                           0.91    169986\n",
      "   macro avg       0.92      0.91      0.91    169986\n",
      "weighted avg       0.92      0.91      0.91    169986\n",
      "\n",
      "[[82317  2676]\n",
      " [12090 72903]]\n"
     ]
    }
   ],
   "source": [
    "dt1=DecisionTreeClassifier(criterion='entropy',max_depth=4,random_state=1)\n",
    "'''for i in range(1,9):\n",
    "    dt1=DecisionTreeClassifier(criterion='entropy',max_depth=i,random_state=1)\n",
    "    print(\"entropy with max_depth\",i)'''\n",
    "    # call function\n",
    "dt1=create_model(dt1)"
   ]
  },
  {
   "cell_type": "markdown",
   "id": "b820d199",
   "metadata": {},
   "source": [
    "# Entropy(min_samples_leaf)"
   ]
  },
  {
   "cell_type": "code",
   "execution_count": 48,
   "id": "2125ad6d",
   "metadata": {},
   "outputs": [
    {
     "name": "stdout",
     "output_type": "stream",
     "text": [
      "              precision    recall  f1-score   support\n",
      "\n",
      "           0       0.82      1.00      0.90     84993\n",
      "           1       1.00      0.79      0.88     84993\n",
      "\n",
      "    accuracy                           0.89    169986\n",
      "   macro avg       0.91      0.89      0.89    169986\n",
      "weighted avg       0.91      0.89      0.89    169986\n",
      "\n",
      "[[84773   220]\n",
      " [18234 66759]]\n"
     ]
    }
   ],
   "source": [
    "dt2=DecisionTreeClassifier(criterion='entropy',min_samples_leaf=49,random_state=1)\n",
    "'''for i in range(45,101):\n",
    "    dt2=DecisionTreeClassifier(criterion='entropy',min_samples_leaf=i,random_state=1)\n",
    "    print('entropy with min_samples_leaf',i)'''\n",
    "    # call function\n",
    "dt2=create_model(dt2)"
   ]
  },
  {
   "cell_type": "markdown",
   "id": "8b9d2114",
   "metadata": {},
   "source": [
    "# Ensembling Technique"
   ]
  },
  {
   "cell_type": "code",
   "execution_count": 49,
   "id": "9d08022e",
   "metadata": {},
   "outputs": [],
   "source": [
    "# Apply Ensembling technique :- RandomForestClassifier\n",
    "from sklearn.ensemble import RandomForestClassifier"
   ]
  },
  {
   "cell_type": "code",
   "execution_count": 50,
   "id": "1fbd0fbe",
   "metadata": {},
   "outputs": [
    {
     "name": "stdout",
     "output_type": "stream",
     "text": [
      "              precision    recall  f1-score   support\n",
      "\n",
      "           0       0.79      1.00      0.88     84993\n",
      "           1       1.00      0.73      0.84     84993\n",
      "\n",
      "    accuracy                           0.87    169986\n",
      "   macro avg       0.89      0.87      0.86    169986\n",
      "weighted avg       0.89      0.87      0.86    169986\n",
      "\n",
      "[[84991     2]\n",
      " [22940 62053]]\n"
     ]
    }
   ],
   "source": [
    "# Create an object of RandomForestClassifier class (by default Gini index)\n",
    "rfc=RandomForestClassifier(n_estimators=10,max_features=5,random_state=1)\n",
    "# n_enumarates means no of decision tree to be taken from 10 till 100 \n",
    "# max_features means no of inputs\n",
    "'''for i in range(1,31):\n",
    "    rfc=RandomForestClassifier(n_estimators=10,max_features=i,random_state=1)\n",
    "    print('ensembling tech',i)'''\n",
    "    #call dunction\n",
    "rfc=create_model(rfc)"
   ]
  },
  {
   "cell_type": "code",
   "execution_count": 51,
   "id": "28b5b00e",
   "metadata": {},
   "outputs": [
    {
     "name": "stdout",
     "output_type": "stream",
     "text": [
      "              precision    recall  f1-score   support\n",
      "\n",
      "           0       0.79      1.00      0.88     84993\n",
      "           1       1.00      0.73      0.84     84993\n",
      "\n",
      "    accuracy                           0.86    169986\n",
      "   macro avg       0.89      0.86      0.86    169986\n",
      "weighted avg       0.89      0.86      0.86    169986\n",
      "\n",
      "[[84991     2]\n",
      " [22976 62017]]\n"
     ]
    }
   ],
   "source": [
    "# create an object of Ensembling tech :- RandomForestClassifier(with the help of 'entropy')\n",
    "rfc1=RandomForestClassifier(n_estimators=10,max_features=10,criterion='entropy',random_state=1)\n",
    "\n",
    "'''for i in range(1,31):\n",
    "    rfc1=RandomForestClassifier(n_estimators=10,max_features=i,criterion='entropy',random_state=1)\n",
    "    print('ensembling tech',i)'''\n",
    "            #call dunction\n",
    "rfc1=create_model(rfc1)"
   ]
  },
  {
   "cell_type": "markdown",
   "id": "aacf49bf",
   "metadata": {},
   "source": [
    "# Ada Boosting"
   ]
  },
  {
   "cell_type": "code",
   "execution_count": 52,
   "id": "c0e2f364",
   "metadata": {},
   "outputs": [],
   "source": [
    "# Apply Ada\n",
    "from sklearn.ensemble import AdaBoostClassifier"
   ]
  },
  {
   "cell_type": "code",
   "execution_count": 53,
   "id": "2f63634b",
   "metadata": {},
   "outputs": [
    {
     "name": "stdout",
     "output_type": "stream",
     "text": [
      "              precision    recall  f1-score   support\n",
      "\n",
      "           0       0.90      0.93      0.92     84993\n",
      "           1       0.93      0.90      0.91     84993\n",
      "\n",
      "    accuracy                           0.91    169986\n",
      "   macro avg       0.91      0.91      0.91    169986\n",
      "weighted avg       0.91      0.91      0.91    169986\n",
      "\n",
      "[[79250  5743]\n",
      " [ 8813 76180]]\n"
     ]
    }
   ],
   "source": [
    "# create an object of AdaBoostClassifier class\n",
    "ada=AdaBoostClassifier(n_estimators=5,random_state=1)\n",
    "\n",
    "\n",
    "# call function\n",
    "ada=create_model(ada)"
   ]
  },
  {
   "cell_type": "code",
   "execution_count": 54,
   "id": "55553914",
   "metadata": {},
   "outputs": [],
   "source": [
    "# the output we from Ada Boost is very good for 0 = 93%  and for 1 = 90%"
   ]
  },
  {
   "cell_type": "markdown",
   "id": "8ee10d1f",
   "metadata": {},
   "source": [
    "# Gradient Boost"
   ]
  },
  {
   "cell_type": "code",
   "execution_count": 55,
   "id": "529698ce",
   "metadata": {},
   "outputs": [],
   "source": [
    "# IT creates fully grown tree And focuses on short coming error\n",
    "from sklearn.ensemble import GradientBoostingClassifier"
   ]
  },
  {
   "cell_type": "code",
   "execution_count": 56,
   "id": "e0301b05",
   "metadata": {},
   "outputs": [
    {
     "name": "stdout",
     "output_type": "stream",
     "text": [
      "              precision    recall  f1-score   support\n",
      "\n",
      "           0       0.87      0.99      0.92     84993\n",
      "           1       0.98      0.85      0.91     84993\n",
      "\n",
      "    accuracy                           0.92    169986\n",
      "   macro avg       0.93      0.92      0.92    169986\n",
      "weighted avg       0.93      0.92      0.92    169986\n",
      "\n",
      "[[83756  1237]\n",
      " [12810 72183]]\n"
     ]
    }
   ],
   "source": [
    "# create an object of GradientBoostingClassifier class\n",
    "gbc=GradientBoostingClassifier(random_state=1,n_estimators=30)\n",
    "# call function\n",
    "gbc=create_model(gbc)"
   ]
  },
  {
   "cell_type": "markdown",
   "id": "7e8b69f2",
   "metadata": {},
   "source": [
    "# Extreme Gradient Boosting"
   ]
  },
  {
   "cell_type": "code",
   "execution_count": 57,
   "id": "c94a0d5f",
   "metadata": {},
   "outputs": [],
   "source": [
    "#!pip install xgboost"
   ]
  },
  {
   "cell_type": "code",
   "execution_count": 58,
   "id": "90386fff",
   "metadata": {},
   "outputs": [],
   "source": [
    "# call the extreme boosting package\n",
    "from xgboost import XGBClassifier"
   ]
  },
  {
   "cell_type": "code",
   "execution_count": 59,
   "id": "ddea9c4d",
   "metadata": {},
   "outputs": [
    {
     "name": "stdout",
     "output_type": "stream",
     "text": [
      "              precision    recall  f1-score   support\n",
      "\n",
      "           0       0.82      0.98      0.90     84993\n",
      "           1       0.98      0.79      0.87     84993\n",
      "\n",
      "    accuracy                           0.89    169986\n",
      "   macro avg       0.90      0.89      0.88    169986\n",
      "weighted avg       0.90      0.89      0.88    169986\n",
      "\n",
      "[[83711  1282]\n",
      " [18237 66756]]\n"
     ]
    }
   ],
   "source": [
    "# create an object of XGBClassifier class\n",
    "xgc=XGBClassifier(n_estimators=1,reg_alpha=1,random_state=1)# reg=regularisationand alpha means lambda\n",
    "\n",
    "'''for i in range(1,50):\n",
    "    xgc=XGBClassifier(n_estimators=i,reg_alpha=1,random_state=1)\n",
    "    print('xgc',i)'''\n",
    "    \n",
    "# call function\n",
    "xgc=create_model(xgc)"
   ]
  },
  {
   "cell_type": "markdown",
   "id": "e8a4fa5e",
   "metadata": {},
   "source": [
    "# SVM"
   ]
  },
  {
   "cell_type": "code",
   "execution_count": 60,
   "id": "ba096a91",
   "metadata": {},
   "outputs": [],
   "source": [
    "# call linear svc package\n",
    "from sklearn.svm import LinearSVC"
   ]
  },
  {
   "cell_type": "code",
   "execution_count": 61,
   "id": "796ebf87",
   "metadata": {},
   "outputs": [
    {
     "name": "stdout",
     "output_type": "stream",
     "text": [
      "              precision    recall  f1-score   support\n",
      "\n",
      "           0       0.89      0.98      0.93     84993\n",
      "           1       0.98      0.87      0.92     84993\n",
      "\n",
      "    accuracy                           0.93    169986\n",
      "   macro avg       0.93      0.93      0.93    169986\n",
      "weighted avg       0.93      0.93      0.93    169986\n",
      "\n",
      "[[83375  1618]\n",
      " [10773 74220]]\n"
     ]
    }
   ],
   "source": [
    "# create an object of LinearSVC class\n",
    "svc=LinearSVC(random_state=1)# hard margin\n",
    "\n",
    "# call function\n",
    "svc=create_model(svc)"
   ]
  },
  {
   "cell_type": "code",
   "execution_count": 62,
   "id": "01c94a1c",
   "metadata": {},
   "outputs": [
    {
     "name": "stdout",
     "output_type": "stream",
     "text": [
      "              precision    recall  f1-score   support\n",
      "\n",
      "           0       0.89      0.98      0.93     84993\n",
      "           1       0.98      0.87      0.92     84993\n",
      "\n",
      "    accuracy                           0.93    169986\n",
      "   macro avg       0.93      0.93      0.93    169986\n",
      "weighted avg       0.93      0.93      0.93    169986\n",
      "\n",
      "[[83419  1574]\n",
      " [10773 74220]]\n"
     ]
    }
   ],
   "source": [
    "# create an object of LinearSVC class with external error\n",
    "svc1=LinearSVC(random_state=1,C=0.9)\n",
    "\n",
    "# call function\n",
    "svc1=create_model(svc1)"
   ]
  },
  {
   "cell_type": "code",
   "execution_count": 63,
   "id": "c4c1a46f",
   "metadata": {},
   "outputs": [],
   "source": [
    "#use polynomial kernel function\n",
    "#from sklearn.svm import SVC\n",
    "#create object ,pass poly in kernel parameter\n",
    "#svc2=SVC(random_state=1,kernel='poly')\n",
    "#call function\n",
    "#svc2=create_model(svc2)"
   ]
  },
  {
   "cell_type": "code",
   "execution_count": 64,
   "id": "e41091ad",
   "metadata": {},
   "outputs": [],
   "source": [
    "#lets check once with Radial basis\n",
    "#svc3=SVC(random_state=1,kernel='rbf')\n",
    "#call function\n",
    "#svc3=create_model(svc3)"
   ]
  },
  {
   "cell_type": "code",
   "execution_count": 65,
   "id": "e8df126f",
   "metadata": {},
   "outputs": [],
   "source": [
    "# the best result we have got from Ada Boosting algorithm where for 0 = 93% and 1 = 90%"
   ]
  }
 ],
 "metadata": {
  "kernelspec": {
   "display_name": "Python 3 (ipykernel)",
   "language": "python",
   "name": "python3"
  },
  "language_info": {
   "codemirror_mode": {
    "name": "ipython",
    "version": 3
   },
   "file_extension": ".py",
   "mimetype": "text/x-python",
   "name": "python",
   "nbconvert_exporter": "python",
   "pygments_lexer": "ipython3",
   "version": "3.9.12"
  }
 },
 "nbformat": 4,
 "nbformat_minor": 5
}
