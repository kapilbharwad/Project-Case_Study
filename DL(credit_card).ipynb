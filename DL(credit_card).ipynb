{
  "cells": [
    {
      "cell_type": "code",
      "execution_count": null,
      "metadata": {
        "id": "UWDhsW9F6kxK"
      },
      "outputs": [],
      "source": [
        "# install all the library \n",
        "import numpy as np\n",
        "import pandas as pd\n",
        "import seaborn as sb\n",
        "import matplotlib.pyplot as plt\n",
        "import warnings\n",
        "warnings.filterwarnings('ignore')\n",
        "import tensorflow as tf"
      ]
    },
    {
      "cell_type": "markdown",
      "source": [
        "# In this dataset we find out that how many fraud transction takes place and they can be prevented \n",
        "# To also see in which Time frame does most of the fraud transaction takes place also to see that when the card user is most \n",
        "# active (i.e mostly makes payment at certain amount of time )."
      ],
      "metadata": {
        "id": "_bkxYIAG-n_k"
      }
    },
    {
      "cell_type": "code",
      "execution_count": null,
      "metadata": {
        "id": "fGCKeLnJgmP5"
      },
      "outputs": [],
      "source": [
        "# to load the data set of 'credit card.csv'\n",
        "df=pd.read_csv('/content/drive/MyDrive/Deep Learning(case-study)/creditcard.csv')"
      ]
    },
    {
      "cell_type": "code",
      "execution_count": null,
      "metadata": {
        "colab": {
          "base_uri": "https://localhost:8080/",
          "height": 299
        },
        "id": "ggwKCtAJiCPh",
        "outputId": "6e55d43d-15b7-4ec3-db18-45a7394661eb"
      },
      "outputs": [
        {
          "output_type": "execute_result",
          "data": {
            "text/plain": [
              "   Time        V1        V2        V3        V4        V5        V6        V7  \\\n",
              "0   0.0 -1.359807 -0.072781  2.536347  1.378155 -0.338321  0.462388  0.239599   \n",
              "1   0.0  1.191857  0.266151  0.166480  0.448154  0.060018 -0.082361 -0.078803   \n",
              "2   1.0 -1.358354 -1.340163  1.773209  0.379780 -0.503198  1.800499  0.791461   \n",
              "3   1.0 -0.966272 -0.185226  1.792993 -0.863291 -0.010309  1.247203  0.237609   \n",
              "4   2.0 -1.158233  0.877737  1.548718  0.403034 -0.407193  0.095921  0.592941   \n",
              "\n",
              "         V8        V9  ...       V21       V22       V23       V24       V25  \\\n",
              "0  0.098698  0.363787  ... -0.018307  0.277838 -0.110474  0.066928  0.128539   \n",
              "1  0.085102 -0.255425  ... -0.225775 -0.638672  0.101288 -0.339846  0.167170   \n",
              "2  0.247676 -1.514654  ...  0.247998  0.771679  0.909412 -0.689281 -0.327642   \n",
              "3  0.377436 -1.387024  ... -0.108300  0.005274 -0.190321 -1.175575  0.647376   \n",
              "4 -0.270533  0.817739  ... -0.009431  0.798278 -0.137458  0.141267 -0.206010   \n",
              "\n",
              "        V26       V27       V28  Amount  Class  \n",
              "0 -0.189115  0.133558 -0.021053  149.62      0  \n",
              "1  0.125895 -0.008983  0.014724    2.69      0  \n",
              "2 -0.139097 -0.055353 -0.059752  378.66      0  \n",
              "3 -0.221929  0.062723  0.061458  123.50      0  \n",
              "4  0.502292  0.219422  0.215153   69.99      0  \n",
              "\n",
              "[5 rows x 31 columns]"
            ],
            "text/html": [
              "\n",
              "  <div id=\"df-d675ab77-fb66-448f-a669-32265174d7be\">\n",
              "    <div class=\"colab-df-container\">\n",
              "      <div>\n",
              "<style scoped>\n",
              "    .dataframe tbody tr th:only-of-type {\n",
              "        vertical-align: middle;\n",
              "    }\n",
              "\n",
              "    .dataframe tbody tr th {\n",
              "        vertical-align: top;\n",
              "    }\n",
              "\n",
              "    .dataframe thead th {\n",
              "        text-align: right;\n",
              "    }\n",
              "</style>\n",
              "<table border=\"1\" class=\"dataframe\">\n",
              "  <thead>\n",
              "    <tr style=\"text-align: right;\">\n",
              "      <th></th>\n",
              "      <th>Time</th>\n",
              "      <th>V1</th>\n",
              "      <th>V2</th>\n",
              "      <th>V3</th>\n",
              "      <th>V4</th>\n",
              "      <th>V5</th>\n",
              "      <th>V6</th>\n",
              "      <th>V7</th>\n",
              "      <th>V8</th>\n",
              "      <th>V9</th>\n",
              "      <th>...</th>\n",
              "      <th>V21</th>\n",
              "      <th>V22</th>\n",
              "      <th>V23</th>\n",
              "      <th>V24</th>\n",
              "      <th>V25</th>\n",
              "      <th>V26</th>\n",
              "      <th>V27</th>\n",
              "      <th>V28</th>\n",
              "      <th>Amount</th>\n",
              "      <th>Class</th>\n",
              "    </tr>\n",
              "  </thead>\n",
              "  <tbody>\n",
              "    <tr>\n",
              "      <th>0</th>\n",
              "      <td>0.0</td>\n",
              "      <td>-1.359807</td>\n",
              "      <td>-0.072781</td>\n",
              "      <td>2.536347</td>\n",
              "      <td>1.378155</td>\n",
              "      <td>-0.338321</td>\n",
              "      <td>0.462388</td>\n",
              "      <td>0.239599</td>\n",
              "      <td>0.098698</td>\n",
              "      <td>0.363787</td>\n",
              "      <td>...</td>\n",
              "      <td>-0.018307</td>\n",
              "      <td>0.277838</td>\n",
              "      <td>-0.110474</td>\n",
              "      <td>0.066928</td>\n",
              "      <td>0.128539</td>\n",
              "      <td>-0.189115</td>\n",
              "      <td>0.133558</td>\n",
              "      <td>-0.021053</td>\n",
              "      <td>149.62</td>\n",
              "      <td>0</td>\n",
              "    </tr>\n",
              "    <tr>\n",
              "      <th>1</th>\n",
              "      <td>0.0</td>\n",
              "      <td>1.191857</td>\n",
              "      <td>0.266151</td>\n",
              "      <td>0.166480</td>\n",
              "      <td>0.448154</td>\n",
              "      <td>0.060018</td>\n",
              "      <td>-0.082361</td>\n",
              "      <td>-0.078803</td>\n",
              "      <td>0.085102</td>\n",
              "      <td>-0.255425</td>\n",
              "      <td>...</td>\n",
              "      <td>-0.225775</td>\n",
              "      <td>-0.638672</td>\n",
              "      <td>0.101288</td>\n",
              "      <td>-0.339846</td>\n",
              "      <td>0.167170</td>\n",
              "      <td>0.125895</td>\n",
              "      <td>-0.008983</td>\n",
              "      <td>0.014724</td>\n",
              "      <td>2.69</td>\n",
              "      <td>0</td>\n",
              "    </tr>\n",
              "    <tr>\n",
              "      <th>2</th>\n",
              "      <td>1.0</td>\n",
              "      <td>-1.358354</td>\n",
              "      <td>-1.340163</td>\n",
              "      <td>1.773209</td>\n",
              "      <td>0.379780</td>\n",
              "      <td>-0.503198</td>\n",
              "      <td>1.800499</td>\n",
              "      <td>0.791461</td>\n",
              "      <td>0.247676</td>\n",
              "      <td>-1.514654</td>\n",
              "      <td>...</td>\n",
              "      <td>0.247998</td>\n",
              "      <td>0.771679</td>\n",
              "      <td>0.909412</td>\n",
              "      <td>-0.689281</td>\n",
              "      <td>-0.327642</td>\n",
              "      <td>-0.139097</td>\n",
              "      <td>-0.055353</td>\n",
              "      <td>-0.059752</td>\n",
              "      <td>378.66</td>\n",
              "      <td>0</td>\n",
              "    </tr>\n",
              "    <tr>\n",
              "      <th>3</th>\n",
              "      <td>1.0</td>\n",
              "      <td>-0.966272</td>\n",
              "      <td>-0.185226</td>\n",
              "      <td>1.792993</td>\n",
              "      <td>-0.863291</td>\n",
              "      <td>-0.010309</td>\n",
              "      <td>1.247203</td>\n",
              "      <td>0.237609</td>\n",
              "      <td>0.377436</td>\n",
              "      <td>-1.387024</td>\n",
              "      <td>...</td>\n",
              "      <td>-0.108300</td>\n",
              "      <td>0.005274</td>\n",
              "      <td>-0.190321</td>\n",
              "      <td>-1.175575</td>\n",
              "      <td>0.647376</td>\n",
              "      <td>-0.221929</td>\n",
              "      <td>0.062723</td>\n",
              "      <td>0.061458</td>\n",
              "      <td>123.50</td>\n",
              "      <td>0</td>\n",
              "    </tr>\n",
              "    <tr>\n",
              "      <th>4</th>\n",
              "      <td>2.0</td>\n",
              "      <td>-1.158233</td>\n",
              "      <td>0.877737</td>\n",
              "      <td>1.548718</td>\n",
              "      <td>0.403034</td>\n",
              "      <td>-0.407193</td>\n",
              "      <td>0.095921</td>\n",
              "      <td>0.592941</td>\n",
              "      <td>-0.270533</td>\n",
              "      <td>0.817739</td>\n",
              "      <td>...</td>\n",
              "      <td>-0.009431</td>\n",
              "      <td>0.798278</td>\n",
              "      <td>-0.137458</td>\n",
              "      <td>0.141267</td>\n",
              "      <td>-0.206010</td>\n",
              "      <td>0.502292</td>\n",
              "      <td>0.219422</td>\n",
              "      <td>0.215153</td>\n",
              "      <td>69.99</td>\n",
              "      <td>0</td>\n",
              "    </tr>\n",
              "  </tbody>\n",
              "</table>\n",
              "<p>5 rows × 31 columns</p>\n",
              "</div>\n",
              "      <button class=\"colab-df-convert\" onclick=\"convertToInteractive('df-d675ab77-fb66-448f-a669-32265174d7be')\"\n",
              "              title=\"Convert this dataframe to an interactive table.\"\n",
              "              style=\"display:none;\">\n",
              "        \n",
              "  <svg xmlns=\"http://www.w3.org/2000/svg\" height=\"24px\"viewBox=\"0 0 24 24\"\n",
              "       width=\"24px\">\n",
              "    <path d=\"M0 0h24v24H0V0z\" fill=\"none\"/>\n",
              "    <path d=\"M18.56 5.44l.94 2.06.94-2.06 2.06-.94-2.06-.94-.94-2.06-.94 2.06-2.06.94zm-11 1L8.5 8.5l.94-2.06 2.06-.94-2.06-.94L8.5 2.5l-.94 2.06-2.06.94zm10 10l.94 2.06.94-2.06 2.06-.94-2.06-.94-.94-2.06-.94 2.06-2.06.94z\"/><path d=\"M17.41 7.96l-1.37-1.37c-.4-.4-.92-.59-1.43-.59-.52 0-1.04.2-1.43.59L10.3 9.45l-7.72 7.72c-.78.78-.78 2.05 0 2.83L4 21.41c.39.39.9.59 1.41.59.51 0 1.02-.2 1.41-.59l7.78-7.78 2.81-2.81c.8-.78.8-2.07 0-2.86zM5.41 20L4 18.59l7.72-7.72 1.47 1.35L5.41 20z\"/>\n",
              "  </svg>\n",
              "      </button>\n",
              "      \n",
              "  <style>\n",
              "    .colab-df-container {\n",
              "      display:flex;\n",
              "      flex-wrap:wrap;\n",
              "      gap: 12px;\n",
              "    }\n",
              "\n",
              "    .colab-df-convert {\n",
              "      background-color: #E8F0FE;\n",
              "      border: none;\n",
              "      border-radius: 50%;\n",
              "      cursor: pointer;\n",
              "      display: none;\n",
              "      fill: #1967D2;\n",
              "      height: 32px;\n",
              "      padding: 0 0 0 0;\n",
              "      width: 32px;\n",
              "    }\n",
              "\n",
              "    .colab-df-convert:hover {\n",
              "      background-color: #E2EBFA;\n",
              "      box-shadow: 0px 1px 2px rgba(60, 64, 67, 0.3), 0px 1px 3px 1px rgba(60, 64, 67, 0.15);\n",
              "      fill: #174EA6;\n",
              "    }\n",
              "\n",
              "    [theme=dark] .colab-df-convert {\n",
              "      background-color: #3B4455;\n",
              "      fill: #D2E3FC;\n",
              "    }\n",
              "\n",
              "    [theme=dark] .colab-df-convert:hover {\n",
              "      background-color: #434B5C;\n",
              "      box-shadow: 0px 1px 3px 1px rgba(0, 0, 0, 0.15);\n",
              "      filter: drop-shadow(0px 1px 2px rgba(0, 0, 0, 0.3));\n",
              "      fill: #FFFFFF;\n",
              "    }\n",
              "  </style>\n",
              "\n",
              "      <script>\n",
              "        const buttonEl =\n",
              "          document.querySelector('#df-d675ab77-fb66-448f-a669-32265174d7be button.colab-df-convert');\n",
              "        buttonEl.style.display =\n",
              "          google.colab.kernel.accessAllowed ? 'block' : 'none';\n",
              "\n",
              "        async function convertToInteractive(key) {\n",
              "          const element = document.querySelector('#df-d675ab77-fb66-448f-a669-32265174d7be');\n",
              "          const dataTable =\n",
              "            await google.colab.kernel.invokeFunction('convertToInteractive',\n",
              "                                                     [key], {});\n",
              "          if (!dataTable) return;\n",
              "\n",
              "          const docLinkHtml = 'Like what you see? Visit the ' +\n",
              "            '<a target=\"_blank\" href=https://colab.research.google.com/notebooks/data_table.ipynb>data table notebook</a>'\n",
              "            + ' to learn more about interactive tables.';\n",
              "          element.innerHTML = '';\n",
              "          dataTable['output_type'] = 'display_data';\n",
              "          await google.colab.output.renderOutput(dataTable, element);\n",
              "          const docLink = document.createElement('div');\n",
              "          docLink.innerHTML = docLinkHtml;\n",
              "          element.appendChild(docLink);\n",
              "        }\n",
              "      </script>\n",
              "    </div>\n",
              "  </div>\n",
              "  "
            ]
          },
          "metadata": {},
          "execution_count": 189
        }
      ],
      "source": [
        "# to see the first 5 vales in the data set \n",
        "df.head()"
      ]
    },
    {
      "cell_type": "code",
      "source": [
        "df.drop(['V1','V2','V3','V4','V5', 'V6', 'V7', 'V8', 'V9', 'V10',\n",
        "       'V11', 'V12', 'V13', 'V14', 'V15', 'V16', 'V17', 'V18', 'V19', 'V20',\n",
        "       'V21', 'V22', 'V23', 'V24', 'V25', 'V26', 'V27', 'V28'],axis=1,inplace=True)"
      ],
      "metadata": {
        "id": "dDBHve7xFoiz"
      },
      "execution_count": null,
      "outputs": []
    },
    {
      "cell_type": "code",
      "execution_count": null,
      "metadata": {
        "colab": {
          "base_uri": "https://localhost:8080/"
        },
        "id": "_aSBuz3riWU_",
        "outputId": "c35af6df-4b90-4167-c788-66769b4b8a30"
      },
      "outputs": [
        {
          "output_type": "execute_result",
          "data": {
            "text/plain": [
              "Index(['Time', 'Amount', 'Class'], dtype='object')"
            ]
          },
          "metadata": {},
          "execution_count": 191
        }
      ],
      "source": [
        "# to see which are the columns\n",
        "df.columns"
      ]
    },
    {
      "cell_type": "code",
      "execution_count": null,
      "metadata": {
        "colab": {
          "base_uri": "https://localhost:8080/"
        },
        "id": "dngqEU3LkKm7",
        "outputId": "114e2fba-0bcd-4237-e9f0-2bc7282c0763"
      },
      "outputs": [
        {
          "output_type": "execute_result",
          "data": {
            "text/plain": [
              "Time      0\n",
              "Amount    0\n",
              "Class     0\n",
              "dtype: int64"
            ]
          },
          "metadata": {},
          "execution_count": 192
        }
      ],
      "source": [
        "df.isnull().sum()"
      ]
    },
    {
      "cell_type": "code",
      "execution_count": null,
      "metadata": {
        "colab": {
          "base_uri": "https://localhost:8080/"
        },
        "id": "YkkNbWb0lBfF",
        "outputId": "4c7905f5-a211-4b43-f587-01b894f8659c"
      },
      "outputs": [
        {
          "output_type": "execute_result",
          "data": {
            "text/plain": [
              "(284807, 3)"
            ]
          },
          "metadata": {},
          "execution_count": 193
        }
      ],
      "source": [
        "# check no. of ows and columns\n",
        "df.shape"
      ]
    },
    {
      "cell_type": "code",
      "execution_count": null,
      "metadata": {
        "colab": {
          "base_uri": "https://localhost:8080/"
        },
        "id": "DsGUlR0_-HWX",
        "outputId": "eca27d34-0a36-40d5-f393-c0d3d63cfe52"
      },
      "outputs": [
        {
          "output_type": "execute_result",
          "data": {
            "text/plain": [
              "4857"
            ]
          },
          "metadata": {},
          "execution_count": 194
        }
      ],
      "source": [
        "# check duplicate values \n",
        "df.duplicated().sum()"
      ]
    },
    {
      "cell_type": "code",
      "execution_count": null,
      "metadata": {
        "colab": {
          "base_uri": "https://localhost:8080/",
          "height": 424
        },
        "id": "WFgzHB6E-W7L",
        "outputId": "0d78c2c9-ce13-433c-9311-c70e98a690ce"
      },
      "outputs": [
        {
          "output_type": "execute_result",
          "data": {
            "text/plain": [
              "            Time  Amount  Class\n",
              "33          26.0    6.14      0\n",
              "35          26.0    1.77      0\n",
              "109         73.0    1.00      0\n",
              "113         74.0    1.18      0\n",
              "114         74.0    1.18      0\n",
              "...          ...     ...    ...\n",
              "284157  172202.0   13.62      0\n",
              "284191  172233.0   55.66      0\n",
              "284193  172233.0   36.74      0\n",
              "284251  172273.0    1.98      0\n",
              "284329  172348.0   11.99      0\n",
              "\n",
              "[4857 rows x 3 columns]"
            ],
            "text/html": [
              "\n",
              "  <div id=\"df-2a85f4ae-c44a-47d6-95c6-bb454daa0e95\">\n",
              "    <div class=\"colab-df-container\">\n",
              "      <div>\n",
              "<style scoped>\n",
              "    .dataframe tbody tr th:only-of-type {\n",
              "        vertical-align: middle;\n",
              "    }\n",
              "\n",
              "    .dataframe tbody tr th {\n",
              "        vertical-align: top;\n",
              "    }\n",
              "\n",
              "    .dataframe thead th {\n",
              "        text-align: right;\n",
              "    }\n",
              "</style>\n",
              "<table border=\"1\" class=\"dataframe\">\n",
              "  <thead>\n",
              "    <tr style=\"text-align: right;\">\n",
              "      <th></th>\n",
              "      <th>Time</th>\n",
              "      <th>Amount</th>\n",
              "      <th>Class</th>\n",
              "    </tr>\n",
              "  </thead>\n",
              "  <tbody>\n",
              "    <tr>\n",
              "      <th>33</th>\n",
              "      <td>26.0</td>\n",
              "      <td>6.14</td>\n",
              "      <td>0</td>\n",
              "    </tr>\n",
              "    <tr>\n",
              "      <th>35</th>\n",
              "      <td>26.0</td>\n",
              "      <td>1.77</td>\n",
              "      <td>0</td>\n",
              "    </tr>\n",
              "    <tr>\n",
              "      <th>109</th>\n",
              "      <td>73.0</td>\n",
              "      <td>1.00</td>\n",
              "      <td>0</td>\n",
              "    </tr>\n",
              "    <tr>\n",
              "      <th>113</th>\n",
              "      <td>74.0</td>\n",
              "      <td>1.18</td>\n",
              "      <td>0</td>\n",
              "    </tr>\n",
              "    <tr>\n",
              "      <th>114</th>\n",
              "      <td>74.0</td>\n",
              "      <td>1.18</td>\n",
              "      <td>0</td>\n",
              "    </tr>\n",
              "    <tr>\n",
              "      <th>...</th>\n",
              "      <td>...</td>\n",
              "      <td>...</td>\n",
              "      <td>...</td>\n",
              "    </tr>\n",
              "    <tr>\n",
              "      <th>284157</th>\n",
              "      <td>172202.0</td>\n",
              "      <td>13.62</td>\n",
              "      <td>0</td>\n",
              "    </tr>\n",
              "    <tr>\n",
              "      <th>284191</th>\n",
              "      <td>172233.0</td>\n",
              "      <td>55.66</td>\n",
              "      <td>0</td>\n",
              "    </tr>\n",
              "    <tr>\n",
              "      <th>284193</th>\n",
              "      <td>172233.0</td>\n",
              "      <td>36.74</td>\n",
              "      <td>0</td>\n",
              "    </tr>\n",
              "    <tr>\n",
              "      <th>284251</th>\n",
              "      <td>172273.0</td>\n",
              "      <td>1.98</td>\n",
              "      <td>0</td>\n",
              "    </tr>\n",
              "    <tr>\n",
              "      <th>284329</th>\n",
              "      <td>172348.0</td>\n",
              "      <td>11.99</td>\n",
              "      <td>0</td>\n",
              "    </tr>\n",
              "  </tbody>\n",
              "</table>\n",
              "<p>4857 rows × 3 columns</p>\n",
              "</div>\n",
              "      <button class=\"colab-df-convert\" onclick=\"convertToInteractive('df-2a85f4ae-c44a-47d6-95c6-bb454daa0e95')\"\n",
              "              title=\"Convert this dataframe to an interactive table.\"\n",
              "              style=\"display:none;\">\n",
              "        \n",
              "  <svg xmlns=\"http://www.w3.org/2000/svg\" height=\"24px\"viewBox=\"0 0 24 24\"\n",
              "       width=\"24px\">\n",
              "    <path d=\"M0 0h24v24H0V0z\" fill=\"none\"/>\n",
              "    <path d=\"M18.56 5.44l.94 2.06.94-2.06 2.06-.94-2.06-.94-.94-2.06-.94 2.06-2.06.94zm-11 1L8.5 8.5l.94-2.06 2.06-.94-2.06-.94L8.5 2.5l-.94 2.06-2.06.94zm10 10l.94 2.06.94-2.06 2.06-.94-2.06-.94-.94-2.06-.94 2.06-2.06.94z\"/><path d=\"M17.41 7.96l-1.37-1.37c-.4-.4-.92-.59-1.43-.59-.52 0-1.04.2-1.43.59L10.3 9.45l-7.72 7.72c-.78.78-.78 2.05 0 2.83L4 21.41c.39.39.9.59 1.41.59.51 0 1.02-.2 1.41-.59l7.78-7.78 2.81-2.81c.8-.78.8-2.07 0-2.86zM5.41 20L4 18.59l7.72-7.72 1.47 1.35L5.41 20z\"/>\n",
              "  </svg>\n",
              "      </button>\n",
              "      \n",
              "  <style>\n",
              "    .colab-df-container {\n",
              "      display:flex;\n",
              "      flex-wrap:wrap;\n",
              "      gap: 12px;\n",
              "    }\n",
              "\n",
              "    .colab-df-convert {\n",
              "      background-color: #E8F0FE;\n",
              "      border: none;\n",
              "      border-radius: 50%;\n",
              "      cursor: pointer;\n",
              "      display: none;\n",
              "      fill: #1967D2;\n",
              "      height: 32px;\n",
              "      padding: 0 0 0 0;\n",
              "      width: 32px;\n",
              "    }\n",
              "\n",
              "    .colab-df-convert:hover {\n",
              "      background-color: #E2EBFA;\n",
              "      box-shadow: 0px 1px 2px rgba(60, 64, 67, 0.3), 0px 1px 3px 1px rgba(60, 64, 67, 0.15);\n",
              "      fill: #174EA6;\n",
              "    }\n",
              "\n",
              "    [theme=dark] .colab-df-convert {\n",
              "      background-color: #3B4455;\n",
              "      fill: #D2E3FC;\n",
              "    }\n",
              "\n",
              "    [theme=dark] .colab-df-convert:hover {\n",
              "      background-color: #434B5C;\n",
              "      box-shadow: 0px 1px 3px 1px rgba(0, 0, 0, 0.15);\n",
              "      filter: drop-shadow(0px 1px 2px rgba(0, 0, 0, 0.3));\n",
              "      fill: #FFFFFF;\n",
              "    }\n",
              "  </style>\n",
              "\n",
              "      <script>\n",
              "        const buttonEl =\n",
              "          document.querySelector('#df-2a85f4ae-c44a-47d6-95c6-bb454daa0e95 button.colab-df-convert');\n",
              "        buttonEl.style.display =\n",
              "          google.colab.kernel.accessAllowed ? 'block' : 'none';\n",
              "\n",
              "        async function convertToInteractive(key) {\n",
              "          const element = document.querySelector('#df-2a85f4ae-c44a-47d6-95c6-bb454daa0e95');\n",
              "          const dataTable =\n",
              "            await google.colab.kernel.invokeFunction('convertToInteractive',\n",
              "                                                     [key], {});\n",
              "          if (!dataTable) return;\n",
              "\n",
              "          const docLinkHtml = 'Like what you see? Visit the ' +\n",
              "            '<a target=\"_blank\" href=https://colab.research.google.com/notebooks/data_table.ipynb>data table notebook</a>'\n",
              "            + ' to learn more about interactive tables.';\n",
              "          element.innerHTML = '';\n",
              "          dataTable['output_type'] = 'display_data';\n",
              "          await google.colab.output.renderOutput(dataTable, element);\n",
              "          const docLink = document.createElement('div');\n",
              "          docLink.innerHTML = docLinkHtml;\n",
              "          element.appendChild(docLink);\n",
              "        }\n",
              "      </script>\n",
              "    </div>\n",
              "  </div>\n",
              "  "
            ]
          },
          "metadata": {},
          "execution_count": 195
        }
      ],
      "source": [
        "# check duplicate values \n",
        "df[df.duplicated()]"
      ]
    },
    {
      "cell_type": "code",
      "execution_count": null,
      "metadata": {
        "id": "SdO34nRx-f1p"
      },
      "outputs": [],
      "source": [
        "# delete duplicate rows\n",
        "df.drop_duplicates(inplace=True)"
      ]
    },
    {
      "cell_type": "code",
      "execution_count": null,
      "metadata": {
        "colab": {
          "base_uri": "https://localhost:8080/"
        },
        "id": "nnQRaZGa-tAr",
        "outputId": "c1746ff8-be4b-4a06-9c1c-dbdf7fe9b0a5"
      },
      "outputs": [
        {
          "output_type": "execute_result",
          "data": {
            "text/plain": [
              "array([0, 1])"
            ]
          },
          "metadata": {},
          "execution_count": 197
        }
      ],
      "source": [
        "# see the column class has what records in it \n",
        "df['Class'].unique()"
      ]
    },
    {
      "cell_type": "code",
      "execution_count": null,
      "metadata": {
        "colab": {
          "base_uri": "https://localhost:8080/"
        },
        "id": "5TRSOIPs_S78",
        "outputId": "8134e2d0-2150-4354-93f4-80548acefc32"
      },
      "outputs": [
        {
          "output_type": "execute_result",
          "data": {
            "text/plain": [
              "0    279477\n",
              "1       473\n",
              "Name: Class, dtype: int64"
            ]
          },
          "metadata": {},
          "execution_count": 198
        }
      ],
      "source": [
        "# see the col is  is Balanced or not \n",
        "df['Class'].value_counts()# the data is un-balanced we have to balanced it "
      ]
    },
    {
      "cell_type": "code",
      "execution_count": null,
      "metadata": {
        "colab": {
          "base_uri": "https://localhost:8080/"
        },
        "id": "muzYnbJC_kil",
        "outputId": "752c29cd-9c01-4481-cb13-3ba32596aca9"
      },
      "outputs": [
        {
          "output_type": "stream",
          "name": "stdout",
          "text": [
            "Looking in indexes: https://pypi.org/simple, https://us-python.pkg.dev/colab-wheels/public/simple/\n",
            "Requirement already satisfied: imblearn in /usr/local/lib/python3.8/dist-packages (0.0)\n",
            "Requirement already satisfied: imbalanced-learn in /usr/local/lib/python3.8/dist-packages (from imblearn) (0.8.1)\n",
            "Requirement already satisfied: joblib>=0.11 in /usr/local/lib/python3.8/dist-packages (from imbalanced-learn->imblearn) (1.2.0)\n",
            "Requirement already satisfied: numpy>=1.13.3 in /usr/local/lib/python3.8/dist-packages (from imbalanced-learn->imblearn) (1.21.6)\n",
            "Requirement already satisfied: scikit-learn>=0.24 in /usr/local/lib/python3.8/dist-packages (from imbalanced-learn->imblearn) (1.0.2)\n",
            "Requirement already satisfied: scipy>=0.19.1 in /usr/local/lib/python3.8/dist-packages (from imbalanced-learn->imblearn) (1.7.3)\n",
            "Requirement already satisfied: threadpoolctl>=2.0.0 in /usr/local/lib/python3.8/dist-packages (from scikit-learn>=0.24->imbalanced-learn->imblearn) (3.1.0)\n"
          ]
        }
      ],
      "source": [
        "!pip install imblearn"
      ]
    },
    {
      "cell_type": "code",
      "execution_count": null,
      "metadata": {
        "id": "AVQLqWdrA4iV"
      },
      "outputs": [],
      "source": [
        "# select input col and output column \n",
        "x=df.drop('Class',axis=1) # input column\n",
        "y=df['Class'] # output column"
      ]
    },
    {
      "cell_type": "code",
      "execution_count": null,
      "metadata": {
        "id": "8vub10gNFr0t"
      },
      "outputs": [],
      "source": [
        "# train_test_split\n",
        "from sklearn.model_selection import train_test_split\n",
        "x_train,x_test,y_train,y_test=train_test_split(x,y,test_size=0.3,random_state=1)\n"
      ]
    },
    {
      "cell_type": "code",
      "execution_count": null,
      "metadata": {
        "id": "btiGRCqgBRxw"
      },
      "outputs": [],
      "source": [
        "# here the value of 1 is much less then the value of 0 so we have to increase the values in 1 .\n",
        "# so we use Random forest to do so \n",
        "from imblearn.over_sampling import RandomOverSampler"
      ]
    },
    {
      "cell_type": "code",
      "execution_count": null,
      "metadata": {
        "id": "iHT2FFLUDhvI"
      },
      "outputs": [],
      "source": [
        "# create an object of RandomOverSampler class\n",
        "ros=RandomOverSampler(random_state=1)"
      ]
    },
    {
      "cell_type": "code",
      "execution_count": null,
      "metadata": {
        "id": "sMTD4_JzD4VN"
      },
      "outputs": [],
      "source": [
        "x_train1,y_train1=ros.fit_resample(x_train,y_train)"
      ]
    },
    {
      "cell_type": "code",
      "execution_count": null,
      "metadata": {
        "colab": {
          "base_uri": "https://localhost:8080/"
        },
        "id": "2QM47rk_En-G",
        "outputId": "7d9e6e56-3b36-4788-9237-6231cb824583"
      },
      "outputs": [
        {
          "output_type": "execute_result",
          "data": {
            "text/plain": [
              "((391280, 2), (391280,))"
            ]
          },
          "metadata": {},
          "execution_count": 205
        }
      ],
      "source": [
        "x_train1.shape,y_train1.shape"
      ]
    },
    {
      "cell_type": "code",
      "execution_count": null,
      "metadata": {
        "colab": {
          "base_uri": "https://localhost:8080/"
        },
        "id": "gAj5medKSXS5",
        "outputId": "a39399f3-8517-4006-ab95-b4894eaa3cea"
      },
      "outputs": [
        {
          "output_type": "execute_result",
          "data": {
            "text/plain": [
              "0    195640\n",
              "1    195640\n",
              "Name: Class, dtype: int64"
            ]
          },
          "metadata": {},
          "execution_count": 206
        }
      ],
      "source": [
        "y_train1.value_counts()"
      ]
    },
    {
      "cell_type": "code",
      "execution_count": null,
      "metadata": {
        "id": "rxu-ZwbjSoXW"
      },
      "outputs": [],
      "source": [
        "# now balance the output data \n",
        "x_test1,y_test1=ros.fit_resample(x_test,y_test)"
      ]
    },
    {
      "cell_type": "code",
      "execution_count": null,
      "metadata": {
        "colab": {
          "base_uri": "https://localhost:8080/"
        },
        "id": "MOSFarWoS15r",
        "outputId": "72503175-56ae-40bb-b81c-6acbe0c63549"
      },
      "outputs": [
        {
          "output_type": "execute_result",
          "data": {
            "text/plain": [
              "((167674, 2), (167674,))"
            ]
          },
          "metadata": {},
          "execution_count": 208
        }
      ],
      "source": [
        "x_test1.shape,y_test1.shape"
      ]
    },
    {
      "cell_type": "code",
      "execution_count": null,
      "metadata": {
        "colab": {
          "base_uri": "https://localhost:8080/"
        },
        "id": "TuiFSKeHVNgK",
        "outputId": "fba7c6a2-4387-4646-cae0-841bb434ea6f"
      },
      "outputs": [
        {
          "output_type": "execute_result",
          "data": {
            "text/plain": [
              "0    83837\n",
              "1    83837\n",
              "Name: Class, dtype: int64"
            ]
          },
          "metadata": {},
          "execution_count": 209
        }
      ],
      "source": [
        "y_test1.value_counts()"
      ]
    },
    {
      "cell_type": "code",
      "execution_count": null,
      "metadata": {
        "id": "KjNjacWaRb5v"
      },
      "outputs": [],
      "source": [
        "# Apply StandardScaler on the input and output \n",
        "from sklearn.preprocessing import StandardScaler\n",
        "\n",
        "# create object of StandardScaler class\n",
        "ss=StandardScaler()\n",
        "\n",
        "# train the data set \n",
        "x_train1=ss.fit_transform(x_train1)\n",
        "x_test1=ss.transform(x_test1)"
      ]
    },
    {
      "cell_type": "code",
      "execution_count": null,
      "metadata": {
        "id": "TrklaobrVSFv"
      },
      "outputs": [],
      "source": [
        "# create object of Sequential class\n",
        "model=tf.keras.Sequential([\n",
        "    # first hidden layer\n",
        "    tf.keras.layers.Dense(units=3,activation='relu',input_dim=2),# here 10 means no.of features \n",
        "    # input_shape=(x.shape[1]) or input_dim=no. of inputs\n",
        "\n",
        "    # second hidden layer\n",
        "    tf.keras.layers.Dense(units=2,activation='relu'),\n",
        "\n",
        "    # Third Hidden layer\n",
        "    tf.keras.layers.Dense(units=2,activation='relu'),\n",
        "\n",
        "\n",
        "    # output layer \n",
        "    tf.keras.layers.Dense(units=1,activation='sigmoid')\n",
        "\n",
        "])"
      ]
    },
    {
      "cell_type": "code",
      "execution_count": null,
      "metadata": {
        "colab": {
          "base_uri": "https://localhost:8080/"
        },
        "id": "_5V-_jsEYPBK",
        "outputId": "2a95875b-9c27-4fe0-f3b9-7e8cafa8ce02"
      },
      "outputs": [
        {
          "output_type": "stream",
          "name": "stdout",
          "text": [
            "Model: \"sequential_12\"\n",
            "_________________________________________________________________\n",
            " Layer (type)                Output Shape              Param #   \n",
            "=================================================================\n",
            " dense_45 (Dense)            (None, 3)                 9         \n",
            "                                                                 \n",
            " dense_46 (Dense)            (None, 2)                 8         \n",
            "                                                                 \n",
            " dense_47 (Dense)            (None, 2)                 6         \n",
            "                                                                 \n",
            " dense_48 (Dense)            (None, 1)                 3         \n",
            "                                                                 \n",
            "=================================================================\n",
            "Total params: 26\n",
            "Trainable params: 26\n",
            "Non-trainable params: 0\n",
            "_________________________________________________________________\n"
          ]
        }
      ],
      "source": [
        "# model summary \n",
        "model.summary()"
      ]
    },
    {
      "cell_type": "code",
      "execution_count": null,
      "metadata": {
        "id": "0GXp_FGUZGpA"
      },
      "outputs": [],
      "source": [
        "# compile the model \n",
        "model.compile(optimizer ='adam',loss='binary_crossentropy',metrics=['accuracy'])"
      ]
    },
    {
      "cell_type": "code",
      "execution_count": null,
      "metadata": {
        "id": "IOSwq1uwZiMZ"
      },
      "outputs": [],
      "source": [
        "from tensorflow.keras.callbacks import EarlyStopping\n",
        "cb=EarlyStopping(\n",
        "    monitor='val_loss',\n",
        "    min_delta = 0.00001,\n",
        "    patience=20,\n",
        "    verbose=1,\n",
        "    mode='auto',\n",
        "    baseline= None,\n",
        "    restore_best_weights= False\n",
        ")"
      ]
    },
    {
      "cell_type": "code",
      "execution_count": null,
      "metadata": {
        "colab": {
          "base_uri": "https://localhost:8080/"
        },
        "id": "35UxJ1CcenlN",
        "outputId": "f6dc7c2f-40b3-410f-de70-ad12ef785f21"
      },
      "outputs": [
        {
          "output_type": "stream",
          "name": "stdout",
          "text": [
            "Epoch 1/5000\n",
            "12228/12228 [==============================] - 48s 4ms/step - loss: 0.6579 - accuracy: 0.6141 - val_loss: 0.6560 - val_accuracy: 0.6156\n",
            "Epoch 2/5000\n",
            "12228/12228 [==============================] - 31s 3ms/step - loss: 0.6223 - accuracy: 0.6623 - val_loss: 0.6542 - val_accuracy: 0.6205\n",
            "Epoch 3/5000\n",
            "12228/12228 [==============================] - 38s 3ms/step - loss: 0.6160 - accuracy: 0.6797 - val_loss: 0.6556 - val_accuracy: 0.6257\n",
            "Epoch 4/5000\n",
            "12228/12228 [==============================] - 34s 3ms/step - loss: 0.6143 - accuracy: 0.6812 - val_loss: 0.6632 - val_accuracy: 0.6238\n",
            "Epoch 5/5000\n",
            "12228/12228 [==============================] - 31s 3ms/step - loss: 0.6128 - accuracy: 0.6825 - val_loss: 0.6566 - val_accuracy: 0.5981\n",
            "Epoch 6/5000\n",
            "12228/12228 [==============================] - 32s 3ms/step - loss: 0.6090 - accuracy: 0.6852 - val_loss: 0.6500 - val_accuracy: 0.6281\n",
            "Epoch 7/5000\n",
            "12228/12228 [==============================] - 33s 3ms/step - loss: 0.6044 - accuracy: 0.6931 - val_loss: 0.6514 - val_accuracy: 0.6293\n",
            "Epoch 8/5000\n",
            "12228/12228 [==============================] - 31s 3ms/step - loss: 0.6003 - accuracy: 0.6971 - val_loss: 0.6637 - val_accuracy: 0.6247\n",
            "Epoch 9/5000\n",
            "12228/12228 [==============================] - 30s 2ms/step - loss: 0.5988 - accuracy: 0.6986 - val_loss: 0.6522 - val_accuracy: 0.6223\n",
            "Epoch 10/5000\n",
            "12228/12228 [==============================] - 31s 3ms/step - loss: 0.5964 - accuracy: 0.6983 - val_loss: 0.6504 - val_accuracy: 0.6326\n",
            "Epoch 11/5000\n",
            "12228/12228 [==============================] - 31s 3ms/step - loss: 0.5929 - accuracy: 0.6983 - val_loss: 0.6425 - val_accuracy: 0.6447\n",
            "Epoch 12/5000\n",
            "12228/12228 [==============================] - 39s 3ms/step - loss: 0.5932 - accuracy: 0.6973 - val_loss: 0.6578 - val_accuracy: 0.6202\n",
            "Epoch 13/5000\n",
            "12228/12228 [==============================] - 32s 3ms/step - loss: 0.5924 - accuracy: 0.6987 - val_loss: 0.6414 - val_accuracy: 0.6428\n",
            "Epoch 14/5000\n",
            "12228/12228 [==============================] - 35s 3ms/step - loss: 0.5924 - accuracy: 0.6983 - val_loss: 0.6445 - val_accuracy: 0.6390\n",
            "Epoch 15/5000\n",
            "12228/12228 [==============================] - 36s 3ms/step - loss: 0.5920 - accuracy: 0.6985 - val_loss: 0.6453 - val_accuracy: 0.6435\n",
            "Epoch 16/5000\n",
            "12228/12228 [==============================] - 40s 3ms/step - loss: 0.5917 - accuracy: 0.6994 - val_loss: 0.6417 - val_accuracy: 0.6482\n",
            "Epoch 17/5000\n",
            "12228/12228 [==============================] - 38s 3ms/step - loss: 0.5918 - accuracy: 0.6987 - val_loss: 0.6436 - val_accuracy: 0.6472\n",
            "Epoch 18/5000\n",
            "12228/12228 [==============================] - 32s 3ms/step - loss: 0.5916 - accuracy: 0.6991 - val_loss: 0.6393 - val_accuracy: 0.6480\n",
            "Epoch 19/5000\n",
            "12228/12228 [==============================] - 33s 3ms/step - loss: 0.5917 - accuracy: 0.6990 - val_loss: 0.6485 - val_accuracy: 0.6493\n",
            "Epoch 20/5000\n",
            "12228/12228 [==============================] - 36s 3ms/step - loss: 0.5920 - accuracy: 0.6987 - val_loss: 0.6493 - val_accuracy: 0.6305\n",
            "Epoch 21/5000\n",
            "12228/12228 [==============================] - 36s 3ms/step - loss: 0.5916 - accuracy: 0.6990 - val_loss: 0.6466 - val_accuracy: 0.6341\n",
            "Epoch 22/5000\n",
            "12228/12228 [==============================] - 33s 3ms/step - loss: 0.5917 - accuracy: 0.6986 - val_loss: 0.6391 - val_accuracy: 0.6456\n",
            "Epoch 23/5000\n",
            "12228/12228 [==============================] - 37s 3ms/step - loss: 0.5921 - accuracy: 0.6979 - val_loss: 0.6579 - val_accuracy: 0.6087\n",
            "Epoch 24/5000\n",
            "12228/12228 [==============================] - 38s 3ms/step - loss: 0.5919 - accuracy: 0.6980 - val_loss: 0.6467 - val_accuracy: 0.6365\n",
            "Epoch 25/5000\n",
            "12228/12228 [==============================] - 36s 3ms/step - loss: 0.5916 - accuracy: 0.6984 - val_loss: 0.6387 - val_accuracy: 0.6436\n",
            "Epoch 26/5000\n",
            "12228/12228 [==============================] - 38s 3ms/step - loss: 0.5918 - accuracy: 0.6980 - val_loss: 0.6464 - val_accuracy: 0.6386\n",
            "Epoch 27/5000\n",
            "12228/12228 [==============================] - 37s 3ms/step - loss: 0.5917 - accuracy: 0.6980 - val_loss: 0.6459 - val_accuracy: 0.6442\n",
            "Epoch 28/5000\n",
            "12228/12228 [==============================] - 35s 3ms/step - loss: 0.5916 - accuracy: 0.6985 - val_loss: 0.6410 - val_accuracy: 0.6504\n",
            "Epoch 29/5000\n",
            "12228/12228 [==============================] - 40s 3ms/step - loss: 0.5913 - accuracy: 0.6986 - val_loss: 0.6449 - val_accuracy: 0.6361\n",
            "Epoch 30/5000\n",
            "12228/12228 [==============================] - 33s 3ms/step - loss: 0.5918 - accuracy: 0.6982 - val_loss: 0.6406 - val_accuracy: 0.6441\n",
            "Epoch 31/5000\n",
            "12228/12228 [==============================] - 36s 3ms/step - loss: 0.5912 - accuracy: 0.6993 - val_loss: 0.6562 - val_accuracy: 0.6310\n",
            "Epoch 32/5000\n",
            "12228/12228 [==============================] - 34s 3ms/step - loss: 0.5917 - accuracy: 0.6984 - val_loss: 0.6522 - val_accuracy: 0.6429\n",
            "Epoch 33/5000\n",
            "12228/12228 [==============================] - 36s 3ms/step - loss: 0.5909 - accuracy: 0.6995 - val_loss: 0.6436 - val_accuracy: 0.6418\n",
            "Epoch 34/5000\n",
            "12228/12228 [==============================] - 37s 3ms/step - loss: 0.5932 - accuracy: 0.6969 - val_loss: 0.6566 - val_accuracy: 0.6300\n",
            "Epoch 35/5000\n",
            "12228/12228 [==============================] - 32s 3ms/step - loss: 0.5993 - accuracy: 0.6933 - val_loss: 0.6502 - val_accuracy: 0.6289\n",
            "Epoch 36/5000\n",
            "12228/12228 [==============================] - 36s 3ms/step - loss: 0.5991 - accuracy: 0.6929 - val_loss: 0.6504 - val_accuracy: 0.6341\n",
            "Epoch 37/5000\n",
            "12228/12228 [==============================] - 33s 3ms/step - loss: 0.5991 - accuracy: 0.6926 - val_loss: 0.6564 - val_accuracy: 0.6248\n",
            "Epoch 38/5000\n",
            "12228/12228 [==============================] - 34s 3ms/step - loss: 0.5982 - accuracy: 0.6931 - val_loss: 0.6666 - val_accuracy: 0.6061\n",
            "Epoch 39/5000\n",
            "12228/12228 [==============================] - 32s 3ms/step - loss: 0.5981 - accuracy: 0.6932 - val_loss: 0.6498 - val_accuracy: 0.6267\n",
            "Epoch 40/5000\n",
            "12228/12228 [==============================] - 32s 3ms/step - loss: 0.5980 - accuracy: 0.6939 - val_loss: 0.6529 - val_accuracy: 0.6256\n",
            "Epoch 41/5000\n",
            "12228/12228 [==============================] - 36s 3ms/step - loss: 0.5981 - accuracy: 0.6936 - val_loss: 0.6521 - val_accuracy: 0.6212\n",
            "Epoch 42/5000\n",
            "12228/12228 [==============================] - 36s 3ms/step - loss: 0.5983 - accuracy: 0.6934 - val_loss: 0.6504 - val_accuracy: 0.6216\n",
            "Epoch 43/5000\n",
            "12228/12228 [==============================] - 33s 3ms/step - loss: 0.5983 - accuracy: 0.6934 - val_loss: 0.6540 - val_accuracy: 0.6205\n",
            "Epoch 44/5000\n",
            "12228/12228 [==============================] - 33s 3ms/step - loss: 0.5979 - accuracy: 0.6938 - val_loss: 0.6557 - val_accuracy: 0.6195\n",
            "Epoch 45/5000\n",
            "12228/12228 [==============================] - 35s 3ms/step - loss: 0.5988 - accuracy: 0.6931 - val_loss: 0.6524 - val_accuracy: 0.6236\n",
            "Epoch 45: early stopping\n"
          ]
        }
      ],
      "source": [
        "# train the model \n",
        "trained_model1=model.fit(x_train1,y_train1,epochs=5000,callbacks=cb,batch_size=32,validation_data=(x_test1,y_test1))# validation to check testing loss"
      ]
    },
    {
      "cell_type": "code",
      "execution_count": null,
      "metadata": {
        "id": "5EixICz7fQD9",
        "colab": {
          "base_uri": "https://localhost:8080/",
          "height": 280
        },
        "outputId": "280d4f69-6590-4feb-f6d9-b07d1514af08"
      },
      "outputs": [
        {
          "output_type": "display_data",
          "data": {
            "text/plain": [
              "<Figure size 432x288 with 1 Axes>"
            ],
            "image/png": "[encoded data removed]"
          },
          "metadata": {
            "needs_background": "light"
          }
        }
      ],
      "source": [
        "# visualize the loss and epoch of each iteration \n",
        "plt.plot(trained_model1.history['loss'],label=\"Training loss\")\n",
        "plt.xlabel('No of Epoch')\n",
        "plt.ylabel('Mean Squared error')\n",
        "plt.legend()\n",
        "plt.show()"
      ]
    },
    {
      "cell_type": "code",
      "source": [
        "# to show weight and bias of each layers\n",
        "model.get_weights()"
      ],
      "metadata": {
        "colab": {
          "base_uri": "https://localhost:8080/"
        },
        "id": "VOwjBE35lRnb",
        "outputId": "78eafd39-7d98-43e8-b36a-9f3d844e5a95"
      },
      "execution_count": null,
      "outputs": [
        {
          "output_type": "execute_result",
          "data": {
            "text/plain": [
              "[array([[ 2.0299814e+00,  2.1976804e-05,  1.2687777e+00],\n",
              "        [ 4.3486166e-01, -2.5016546e+00,  5.9261018e-01]], dtype=float32),\n",
              " array([-0.22842921, -0.95666283,  0.10779502], dtype=float32),\n",
              " array([[  0.19674134,  -7.321522  ],\n",
              "        [-25.782442  ,   2.5159276 ],\n",
              "        [ -0.2895262 ,   1.2097942 ]], dtype=float32),\n",
              " array([0.34424123, 0.02800219], dtype=float32),\n",
              " array([[-1.027985 ,  2.7787564],\n",
              "        [-0.6140827, -7.604286 ]], dtype=float32),\n",
              " array([ 0.        , -0.02545121], dtype=float32),\n",
              " array([[-1.2506493],\n",
              "        [-2.7739823]], dtype=float32),\n",
              " array([1.4695643], dtype=float32)]"
            ]
          },
          "metadata": {},
          "execution_count": 217
        }
      ]
    },
    {
      "cell_type": "code",
      "source": [
        "# Test the model with 30% data \n",
        "y_pred=model.predict(x_test1).round(2)"
      ],
      "metadata": {
        "colab": {
          "base_uri": "https://localhost:8080/"
        },
        "id": "35U2P5zdlqkw",
        "outputId": "7766642a-eab9-40c0-d1fe-292eda7d8a3e"
      },
      "execution_count": null,
      "outputs": [
        {
          "output_type": "stream",
          "name": "stdout",
          "text": [
            "5240/5240 [==============================] - 12s 2ms/step\n"
          ]
        }
      ]
    },
    {
      "cell_type": "code",
      "source": [
        "y_pred=np.where(y_pred>=0.5,1,0)\n",
        "y_pred"
      ],
      "metadata": {
        "colab": {
          "base_uri": "https://localhost:8080/"
        },
        "id": "3NUpG0ZHmgdy",
        "outputId": "626e4f3b-e424-429c-8201-0e7de0e6939b"
      },
      "execution_count": null,
      "outputs": [
        {
          "output_type": "execute_result",
          "data": {
            "text/plain": [
              "array([[1],\n",
              "       [0],\n",
              "       [0],\n",
              "       ...,\n",
              "       [0],\n",
              "       [0],\n",
              "       [1]])"
            ]
          },
          "metadata": {},
          "execution_count": 219
        }
      ]
    },
    {
      "cell_type": "code",
      "source": [
        "# Generate Classification Report and Confusion Matrix\n",
        "from sklearn.metrics import classification_report,confusion_matrix\n",
        "print(classification_report(y_test1,y_pred))\n",
        "print(confusion_matrix(y_test1,y_pred))"
      ],
      "metadata": {
        "colab": {
          "base_uri": "https://localhost:8080/"
        },
        "id": "WWxV9gX1mp8h",
        "outputId": "a60294cd-155a-494c-96e2-36614574ff2c"
      },
      "execution_count": null,
      "outputs": [
        {
          "output_type": "stream",
          "name": "stdout",
          "text": [
            "              precision    recall  f1-score   support\n",
            "\n",
            "           0       0.59      0.82      0.69     83837\n",
            "           1       0.70      0.42      0.53     83837\n",
            "\n",
            "    accuracy                           0.62    167674\n",
            "   macro avg       0.65      0.62      0.61    167674\n",
            "weighted avg       0.65      0.62      0.61    167674\n",
            "\n",
            "[[68852 14985]\n",
            " [48221 35616]]\n"
          ]
        }
      ]
    },
    {
      "cell_type": "code",
      "source": [
        "# create object of Sequential class\n",
        "from tensorflow.keras import regularizers\n",
        "model1=tf.keras.Sequential([\n",
        "    # first hidden layer\n",
        "    tf.keras.layers.Dense(units=32,activation='relu',input_dim=2,kernel_regularizer=regularizers.l2(0.01)),# here 10 means no.of features \n",
        "    # input_shape=(x.shape[1]) or input_dim=no. of inputs\n",
        "\n",
        "    # second hidden layer\n",
        "    tf.keras.layers.Dense(units=16,activation='relu',kernel_regularizer=regularizers.l2(0.01)),\n",
        "\n",
        "    # Third Hidden layer\n",
        "    tf.keras.layers.Dense(units=8,activation='relu',kernel_regularizer=regularizers.l2(0.01)),\n",
        "\n",
        "\n",
        "    # output layer \n",
        "    tf.keras.layers.Dense(units=1,activation='sigmoid',kernel_regularizer=regularizers.l2(0.01))\n",
        "\n",
        "])"
      ],
      "metadata": {
        "id": "7LVFqJOUfLDx"
      },
      "execution_count": null,
      "outputs": []
    },
    {
      "cell_type": "code",
      "source": [
        "# complie the model1 \n",
        "model1.compile(optimizer='adam',loss='binary_crossentropy',metrics=['accuracy'])"
      ],
      "metadata": {
        "id": "rDAZR6yrnGHM"
      },
      "execution_count": null,
      "outputs": []
    },
    {
      "cell_type": "code",
      "source": [
        "# train the model \n",
        "trained_model2=model1.fit(x_train1,y_train1,epochs=5000,callbacks=cb,batch_size=32,validation_data=(x_test1,y_test1))# validation to check testing loss"
      ],
      "metadata": {
        "colab": {
          "base_uri": "https://localhost:8080/"
        },
        "id": "1Kt45slynVVv",
        "outputId": "454aeeb0-c0af-461d-d3f3-c9b18edde210"
      },
      "execution_count": null,
      "outputs": [
        {
          "output_type": "stream",
          "name": "stdout",
          "text": [
            "Epoch 1/5000\n",
            "12228/12228 [==============================] - 40s 3ms/step - loss: 0.6991 - accuracy: 0.5063 - val_loss: 0.6932 - val_accuracy: 0.5000\n",
            "Epoch 2/5000\n",
            "12228/12228 [==============================] - 36s 3ms/step - loss: 0.6932 - accuracy: 0.4991 - val_loss: 0.6932 - val_accuracy: 0.5000\n",
            "Epoch 3/5000\n",
            "12228/12228 [==============================] - 40s 3ms/step - loss: 0.6932 - accuracy: 0.5018 - val_loss: 0.6932 - val_accuracy: 0.5000\n",
            "Epoch 4/5000\n",
            "12228/12228 [==============================] - 39s 3ms/step - loss: 0.6932 - accuracy: 0.5020 - val_loss: 0.6931 - val_accuracy: 0.5000\n",
            "Epoch 5/5000\n",
            "12228/12228 [==============================] - 39s 3ms/step - loss: 0.6932 - accuracy: 0.5004 - val_loss: 0.6932 - val_accuracy: 0.5000\n",
            "Epoch 6/5000\n",
            "12228/12228 [==============================] - 34s 3ms/step - loss: 0.6932 - accuracy: 0.4994 - val_loss: 0.6931 - val_accuracy: 0.5000\n",
            "Epoch 7/5000\n",
            "12228/12228 [==============================] - 36s 3ms/step - loss: 0.6932 - accuracy: 0.4988 - val_loss: 0.6931 - val_accuracy: 0.5000\n",
            "Epoch 8/5000\n",
            "12228/12228 [==============================] - 38s 3ms/step - loss: 0.6932 - accuracy: 0.4987 - val_loss: 0.6931 - val_accuracy: 0.5000\n",
            "Epoch 9/5000\n",
            "12228/12228 [==============================] - 37s 3ms/step - loss: 0.6932 - accuracy: 0.4976 - val_loss: 0.6931 - val_accuracy: 0.5000\n",
            "Epoch 10/5000\n",
            "12228/12228 [==============================] - 35s 3ms/step - loss: 0.6932 - accuracy: 0.4993 - val_loss: 0.6932 - val_accuracy: 0.5000\n",
            "Epoch 11/5000\n",
            "12228/12228 [==============================] - 35s 3ms/step - loss: 0.6932 - accuracy: 0.4992 - val_loss: 0.6932 - val_accuracy: 0.5000\n",
            "Epoch 12/5000\n",
            "12228/12228 [==============================] - 35s 3ms/step - loss: 0.6932 - accuracy: 0.4994 - val_loss: 0.6933 - val_accuracy: 0.5000\n",
            "Epoch 13/5000\n",
            "12228/12228 [==============================] - 34s 3ms/step - loss: 0.6932 - accuracy: 0.5018 - val_loss: 0.6932 - val_accuracy: 0.5000\n",
            "Epoch 14/5000\n",
            "12228/12228 [==============================] - 34s 3ms/step - loss: 0.6932 - accuracy: 0.5008 - val_loss: 0.6931 - val_accuracy: 0.5000\n",
            "Epoch 15/5000\n",
            "12228/12228 [==============================] - 35s 3ms/step - loss: 0.6932 - accuracy: 0.4998 - val_loss: 0.6931 - val_accuracy: 0.5000\n",
            "Epoch 16/5000\n",
            "12228/12228 [==============================] - 35s 3ms/step - loss: 0.6932 - accuracy: 0.5002 - val_loss: 0.6932 - val_accuracy: 0.5000\n",
            "Epoch 17/5000\n",
            "12228/12228 [==============================] - 39s 3ms/step - loss: 0.6932 - accuracy: 0.5007 - val_loss: 0.6931 - val_accuracy: 0.5000\n",
            "Epoch 18/5000\n",
            "12228/12228 [==============================] - 40s 3ms/step - loss: 0.6932 - accuracy: 0.4997 - val_loss: 0.6933 - val_accuracy: 0.5000\n",
            "Epoch 19/5000\n",
            "12228/12228 [==============================] - 38s 3ms/step - loss: 0.6932 - accuracy: 0.4997 - val_loss: 0.6932 - val_accuracy: 0.5000\n",
            "Epoch 20/5000\n",
            "12228/12228 [==============================] - 36s 3ms/step - loss: 0.6932 - accuracy: 0.5009 - val_loss: 0.6932 - val_accuracy: 0.5000\n",
            "Epoch 21/5000\n",
            "12228/12228 [==============================] - 39s 3ms/step - loss: 0.6932 - accuracy: 0.4996 - val_loss: 0.6931 - val_accuracy: 0.5000\n",
            "Epoch 22/5000\n",
            "12228/12228 [==============================] - 36s 3ms/step - loss: 0.6932 - accuracy: 0.4993 - val_loss: 0.6932 - val_accuracy: 0.5000\n",
            "Epoch 23/5000\n",
            "12228/12228 [==============================] - 35s 3ms/step - loss: 0.6932 - accuracy: 0.5003 - val_loss: 0.6931 - val_accuracy: 0.5000\n",
            "Epoch 24/5000\n",
            "12228/12228 [==============================] - 35s 3ms/step - loss: 0.6932 - accuracy: 0.5001 - val_loss: 0.6931 - val_accuracy: 0.5000\n",
            "Epoch 25/5000\n",
            "12228/12228 [==============================] - 40s 3ms/step - loss: 0.6932 - accuracy: 0.5013 - val_loss: 0.6932 - val_accuracy: 0.5000\n",
            "Epoch 26/5000\n",
            "12228/12228 [==============================] - 37s 3ms/step - loss: 0.6932 - accuracy: 0.5002 - val_loss: 0.6932 - val_accuracy: 0.5000\n",
            "Epoch 27/5000\n",
            "12228/12228 [==============================] - 34s 3ms/step - loss: 0.6932 - accuracy: 0.4990 - val_loss: 0.6931 - val_accuracy: 0.5000\n",
            "Epoch 28/5000\n",
            "12228/12228 [==============================] - 38s 3ms/step - loss: 0.6932 - accuracy: 0.4980 - val_loss: 0.6931 - val_accuracy: 0.5000\n",
            "Epoch 29/5000\n",
            "12228/12228 [==============================] - 34s 3ms/step - loss: 0.6932 - accuracy: 0.5015 - val_loss: 0.6932 - val_accuracy: 0.5000\n",
            "Epoch 30/5000\n",
            "12228/12228 [==============================] - 39s 3ms/step - loss: 0.6932 - accuracy: 0.4993 - val_loss: 0.6932 - val_accuracy: 0.5000\n",
            "Epoch 31/5000\n",
            "12228/12228 [==============================] - 40s 3ms/step - loss: 0.6932 - accuracy: 0.4991 - val_loss: 0.6931 - val_accuracy: 0.5000\n",
            "Epoch 32/5000\n",
            "12228/12228 [==============================] - 39s 3ms/step - loss: 0.6932 - accuracy: 0.5004 - val_loss: 0.6931 - val_accuracy: 0.5000\n",
            "Epoch 33/5000\n",
            "12228/12228 [==============================] - 42s 3ms/step - loss: 0.6932 - accuracy: 0.4995 - val_loss: 0.6932 - val_accuracy: 0.5000\n",
            "Epoch 34/5000\n",
            "12228/12228 [==============================] - 37s 3ms/step - loss: 0.6932 - accuracy: 0.5008 - val_loss: 0.6932 - val_accuracy: 0.5000\n",
            "Epoch 35/5000\n",
            "12228/12228 [==============================] - 36s 3ms/step - loss: 0.6932 - accuracy: 0.4988 - val_loss: 0.6932 - val_accuracy: 0.5000\n",
            "Epoch 36/5000\n",
            "12228/12228 [==============================] - 40s 3ms/step - loss: 0.6932 - accuracy: 0.4987 - val_loss: 0.6931 - val_accuracy: 0.5000\n",
            "Epoch 37/5000\n",
            "12228/12228 [==============================] - 37s 3ms/step - loss: 0.6932 - accuracy: 0.5006 - val_loss: 0.6932 - val_accuracy: 0.5000\n",
            "Epoch 37: early stopping\n"
          ]
        }
      ]
    },
    {
      "cell_type": "code",
      "source": [
        "# Evaluate the model \n",
        "print(\"Training Loss and Accuracy :\",model1.evaluate(x_train1,y_train1))\n",
        "print(\"Testing Loss and Accuracy :\",model1.evaluate(x_test1,y_test1))"
      ],
      "metadata": {
        "colab": {
          "base_uri": "https://localhost:8080/"
        },
        "id": "VmKesyohHsFs",
        "outputId": "84a83093-8a2b-4d41-f83c-81b847f03599"
      },
      "execution_count": null,
      "outputs": [
        {
          "output_type": "stream",
          "name": "stdout",
          "text": [
            "12228/12228 [==============================] - 21s 2ms/step - loss: 0.6932 - accuracy: 0.5000\n",
            "Training Loss and Accuracy : [0.6932465434074402, 0.5]\n",
            "5240/5240 [==============================] - 20s 4ms/step - loss: 0.6932 - accuracy: 0.5000\n",
            "Testing Loss and Accuracy : [0.6932451725006104, 0.5]\n"
          ]
        }
      ]
    },
    {
      "cell_type": "code",
      "source": [
        "from tensorflow.keras.layers import Dropout\n",
        "model2=tf.keras.Sequential([\n",
        "    # first hidden layer\n",
        "    tf.keras.layers.Dense(units=64,activation='relu',kernel_regularizer=regularizers.l2(0.012),input_dim=2),Dropout(0.20),# here 10 means no.of features \n",
        "    # input_shape=(x.shape[1]) or input_dim=no. of inputs, 0.25 is the min value \n",
        "\n",
        "    # second hidden layer\n",
        "    tf.keras.layers.Dense(units=128,activation='relu',kernel_regularizer=regularizers.l2(0.012)),Dropout(0.20),# 0-1\n",
        "\n",
        "    # Third Hidden layer\n",
        "    tf.keras.layers.Dense(units=64,activation='relu',kernel_regularizer=regularizers.l2(0.012)),Dropout(0.20),\n",
        "\n",
        "    # fourth hidden layer \n",
        "        tf.keras.layers.Dense(units=32,activation='relu',kernel_regularizer=regularizers.l2(0.012)),Dropout(0.20),\n",
        "\n",
        "        # fifth hidden layer \n",
        "            tf.keras.layers.Dense(units=16,activation='relu',kernel_regularizer=regularizers.l2(0.012)),Dropout(0.25),\n",
        "\n",
        "            # Sixth hidden layer\n",
        "                tf.keras.layers.Dense(units=8,activation='relu',kernel_regularizer=regularizers.l2(0.012)),Dropout(0.25),\n",
        "\n",
        "\n",
        "\n",
        "    # output layer \n",
        "    tf.keras.layers.Dense(units=1,activation='sigmoid',kernel_regularizer=regularizers.l2(0.012))\n",
        "\n",
        "])"
      ],
      "metadata": {
        "id": "fqsiJ9KYnXnn"
      },
      "execution_count": null,
      "outputs": []
    },
    {
      "cell_type": "code",
      "source": [
        "# complie the model2 \n",
        "model2.compile(optimizer='adam',loss='binary_crossentropy',metrics=['accuracy'])"
      ],
      "metadata": {
        "id": "u40On8MhYEky"
      },
      "execution_count": null,
      "outputs": []
    },
    {
      "cell_type": "code",
      "source": [
        "# train the model2\n",
        "trained_model=model2.fit(x_train1,y_train1,epochs=5000,callbacks=cb,batch_size=32,validation_data=(x_test1,y_test1))# validation to check testing loss"
      ],
      "metadata": {
        "colab": {
          "base_uri": "https://localhost:8080/"
        },
        "id": "gpkxxIv6YIHN",
        "outputId": "121a5170-b47d-4595-d6ad-7a4560c1fabc"
      },
      "execution_count": null,
      "outputs": [
        {
          "output_type": "stream",
          "name": "stdout",
          "text": [
            "Epoch 1/5000\n",
            "12228/12228 [==============================] - 55s 4ms/step - loss: 0.7097 - accuracy: 0.5011 - val_loss: 0.6931 - val_accuracy: 0.5000\n",
            "Epoch 2/5000\n",
            "12228/12228 [==============================] - 57s 5ms/step - loss: 0.6932 - accuracy: 0.4992 - val_loss: 0.6932 - val_accuracy: 0.5000\n",
            "Epoch 3/5000\n",
            "12228/12228 [==============================] - 51s 4ms/step - loss: 0.6932 - accuracy: 0.5000 - val_loss: 0.6931 - val_accuracy: 0.5000\n",
            "Epoch 4/5000\n",
            "12228/12228 [==============================] - 53s 4ms/step - loss: 0.6932 - accuracy: 0.5002 - val_loss: 0.6932 - val_accuracy: 0.5000\n",
            "Epoch 5/5000\n",
            "12228/12228 [==============================] - 55s 4ms/step - loss: 0.6932 - accuracy: 0.4999 - val_loss: 0.6931 - val_accuracy: 0.5000\n",
            "Epoch 6/5000\n",
            "12228/12228 [==============================] - 52s 4ms/step - loss: 0.6932 - accuracy: 0.5010 - val_loss: 0.6931 - val_accuracy: 0.5000\n",
            "Epoch 7/5000\n",
            "12228/12228 [==============================] - 51s 4ms/step - loss: 0.6932 - accuracy: 0.5007 - val_loss: 0.6931 - val_accuracy: 0.5000\n",
            "Epoch 8/5000\n",
            "12228/12228 [==============================] - 53s 4ms/step - loss: 0.6932 - accuracy: 0.4987 - val_loss: 0.6932 - val_accuracy: 0.5000\n",
            "Epoch 9/5000\n",
            "12228/12228 [==============================] - 58s 5ms/step - loss: 0.6932 - accuracy: 0.5006 - val_loss: 0.6931 - val_accuracy: 0.5000\n",
            "Epoch 10/5000\n",
            "12228/12228 [==============================] - 50s 4ms/step - loss: 0.6932 - accuracy: 0.5009 - val_loss: 0.6931 - val_accuracy: 0.5000\n",
            "Epoch 11/5000\n",
            "12228/12228 [==============================] - 52s 4ms/step - loss: 0.6932 - accuracy: 0.4996 - val_loss: 0.6932 - val_accuracy: 0.5000\n",
            "Epoch 12/5000\n",
            "12228/12228 [==============================] - 49s 4ms/step - loss: 0.6932 - accuracy: 0.4997 - val_loss: 0.6932 - val_accuracy: 0.5000\n",
            "Epoch 13/5000\n",
            "12228/12228 [==============================] - 53s 4ms/step - loss: 0.6932 - accuracy: 0.5000 - val_loss: 0.6932 - val_accuracy: 0.5000\n",
            "Epoch 14/5000\n",
            "12228/12228 [==============================] - 53s 4ms/step - loss: 0.6932 - accuracy: 0.4995 - val_loss: 0.6932 - val_accuracy: 0.5000\n",
            "Epoch 15/5000\n",
            "12228/12228 [==============================] - 50s 4ms/step - loss: 0.6932 - accuracy: 0.4997 - val_loss: 0.6932 - val_accuracy: 0.5000\n",
            "Epoch 16/5000\n",
            "12228/12228 [==============================] - 53s 4ms/step - loss: 0.6932 - accuracy: 0.5007 - val_loss: 0.6931 - val_accuracy: 0.5000\n",
            "Epoch 17/5000\n",
            "12228/12228 [==============================] - 50s 4ms/step - loss: 0.6932 - accuracy: 0.5004 - val_loss: 0.6932 - val_accuracy: 0.5000\n",
            "Epoch 18/5000\n",
            "12228/12228 [==============================] - 53s 4ms/step - loss: 0.6932 - accuracy: 0.5000 - val_loss: 0.6932 - val_accuracy: 0.5000\n",
            "Epoch 19/5000\n",
            "12228/12228 [==============================] - 51s 4ms/step - loss: 0.6932 - accuracy: 0.4996 - val_loss: 0.6931 - val_accuracy: 0.5000\n",
            "Epoch 20/5000\n",
            "12228/12228 [==============================] - 50s 4ms/step - loss: 0.6932 - accuracy: 0.4999 - val_loss: 0.6932 - val_accuracy: 0.5000\n",
            "Epoch 21/5000\n",
            "12228/12228 [==============================] - 49s 4ms/step - loss: 0.6932 - accuracy: 0.5015 - val_loss: 0.6932 - val_accuracy: 0.5000\n",
            "Epoch 22/5000\n",
            "12228/12228 [==============================] - 55s 4ms/step - loss: 0.6932 - accuracy: 0.4998 - val_loss: 0.6932 - val_accuracy: 0.5000\n",
            "Epoch 23/5000\n",
            "12228/12228 [==============================] - 50s 4ms/step - loss: 0.6932 - accuracy: 0.5007 - val_loss: 0.6931 - val_accuracy: 0.5000\n",
            "Epoch 23: early stopping\n"
          ]
        }
      ]
    },
    {
      "cell_type": "code",
      "source": [
        "# Evaluate the model \n",
        "print(\"Training Loss and Accuracy :\",model2.evaluate(x_train1,y_train1))\n",
        "print(\"Testing Loss and Accuracy :\",model2.evaluate(x_test1,y_test1))"
      ],
      "metadata": {
        "colab": {
          "base_uri": "https://localhost:8080/"
        },
        "id": "BSfHUtpCX5hW",
        "outputId": "1da1fa27-014a-4fee-e9ae-8c1a67999298"
      },
      "execution_count": null,
      "outputs": [
        {
          "output_type": "stream",
          "name": "stdout",
          "text": [
            "12228/12228 [==============================] - 21s 2ms/step - loss: 0.6931 - accuracy: 0.5000\n",
            "Training Loss and Accuracy : [0.6931308507919312, 0.5]\n",
            "5240/5240 [==============================] - 9s 2ms/step - loss: 0.6931 - accuracy: 0.5000\n",
            "Testing Loss and Accuracy : [0.6931191682815552, 0.5]\n"
          ]
        }
      ]
    },
    {
      "cell_type": "code",
      "source": [
        "# visualization for Training and Testing loss \n",
        "plt.plot(trained_model.history['loss'],label='Training_loss',color='red')\n",
        "plt.plot(trained_model.history['val_loss'],label='Testing_loss',color='blue')\n",
        "plt.legend()\n",
        "plt.xlabel('no.of Epochs')\n",
        "plt.ylabel('Binary cross Entropy loss')\n",
        "plt.show()"
      ],
      "metadata": {
        "colab": {
          "base_uri": "https://localhost:8080/",
          "height": 279
        },
        "id": "OE1dT7anX9aq",
        "outputId": "199ae1bb-48a0-4b06-ccb3-38b4cafd3efe"
      },
      "execution_count": null,
      "outputs": [
        {
          "output_type": "display_data",
          "data": {
            "text/plain": [
              "<Figure size 432x288 with 1 Axes>"
            ],
            "image/png": "[encoded data removed]"
          },
          "metadata": {
            "needs_background": "light"
          }
        }
      ]
    },
    {
      "cell_type": "code",
      "source": [
        "# visualization for Training and Testing loss \n",
        "plt.plot(trained_model.history['accuracy'],label='Training_Accuracy',color='red')\n",
        "plt.plot(trained_model.history['val_accuracy'],label='Testing_Accuracy',color='blue')\n",
        "plt.legend()\n",
        "plt.xlabel('no.of Epochs')\n",
        "plt.ylabel('Accuracy of model ')\n",
        "plt.show()# here the accuracyis very good it should always be near 1."
      ],
      "metadata": {
        "colab": {
          "base_uri": "https://localhost:8080/",
          "height": 279
        },
        "id": "9m2HvjAxlEwo",
        "outputId": "1413c3ab-ee9b-465d-a1d2-6c897098fa34"
      },
      "execution_count": null,
      "outputs": [
        {
          "output_type": "display_data",
          "data": {
            "text/plain": [
              "<Figure size 432x288 with 1 Axes>"
            ],
            "image/png": "[encoded data removed]"
          },
          "metadata": {
            "needs_background": "light"
          }
        }
      ]
    },
    {
      "cell_type": "code",
      "source": [
        "# Test the model with 20% data \n",
        "y_pred=model2.predict(x_test1).round(2)\n",
        "# Formula for prediction y_pred=1/(np.exp(x_test)) : return the value of probablity each class"
      ],
      "metadata": {
        "colab": {
          "base_uri": "https://localhost:8080/"
        },
        "id": "XfhGrXdAlfZt",
        "outputId": "64f4a501-014d-40dc-b429-c502e3c6fefd"
      },
      "execution_count": null,
      "outputs": [
        {
          "output_type": "stream",
          "name": "stdout",
          "text": [
            "5240/5240 [==============================] - 10s 2ms/step\n"
          ]
        }
      ]
    },
    {
      "cell_type": "code",
      "source": [
        "y_pred=np.where(y_pred>=0.5,1,0)"
      ],
      "metadata": {
        "id": "CD6nkyr6l2I6"
      },
      "execution_count": null,
      "outputs": []
    },
    {
      "cell_type": "code",
      "source": [
        "y_pred"
      ],
      "metadata": {
        "colab": {
          "base_uri": "https://localhost:8080/"
        },
        "id": "F_bNb_TnmBlq",
        "outputId": "9fed8036-e40a-4808-ff62-aeee389560e7"
      },
      "execution_count": null,
      "outputs": [
        {
          "output_type": "execute_result",
          "data": {
            "text/plain": [
              "array([[1],\n",
              "       [1],\n",
              "       [1],\n",
              "       ...,\n",
              "       [1],\n",
              "       [1],\n",
              "       [1]])"
            ]
          },
          "metadata": {},
          "execution_count": 248
        }
      ]
    },
    {
      "cell_type": "code",
      "source": [
        "# Generate Report \n",
        "from sklearn.metrics import classification_report,confusion_matrix\n",
        "print(classification_report(y_test1,y_pred))\n",
        "print(confusion_matrix(y_test1,y_pred))"
      ],
      "metadata": {
        "colab": {
          "base_uri": "https://localhost:8080/"
        },
        "id": "dkNDkmOamEPj",
        "outputId": "1730f5de-1dfb-4a8c-8d54-da5121a1693e"
      },
      "execution_count": null,
      "outputs": [
        {
          "output_type": "stream",
          "name": "stdout",
          "text": [
            "              precision    recall  f1-score   support\n",
            "\n",
            "           0       0.00      0.00      0.00     83837\n",
            "           1       0.50      1.00      0.67     83837\n",
            "\n",
            "    accuracy                           0.50    167674\n",
            "   macro avg       0.25      0.50      0.33    167674\n",
            "weighted avg       0.25      0.50      0.33    167674\n",
            "\n",
            "[[    0 83837]\n",
            " [    0 83837]]\n"
          ]
        }
      ]
    },
    {
      "cell_type": "markdown",
      "source": [
        "# Conclusion :- \n",
        "1) As we can see from the above Score that we have got from this data set is    not accurate .\n",
        "2). The cause of the data score is less because we have not given the machine enough features for it to train it self was not much .\n",
        "3). And most importantly the no of records in the Output column was not even i.e(Un-balanced) data in it so we created duplicate values of the existing values which made the data training it self with the same data repeatedly means it did not had much new data for it to train.\n",
        "4). Which affected on its  result.\n",
        "5) So the final conclusion is that there should be more data provide to the performer ."
      ],
      "metadata": {
        "id": "6FgujpQoDobT"
      }
    }
  ],
  "metadata": {
    "colab": {
      "provenance": []
    },
    "kernelspec": {
      "display_name": "Python 3",
      "name": "python3"
    },
    "language_info": {
      "name": "python"
    }
  },
  "nbformat": 4,
  "nbformat_minor": 0
}