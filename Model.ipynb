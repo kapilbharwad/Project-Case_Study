{
 "cells": [
  {
   "cell_type": "code",
   "execution_count": 1,
   "metadata": {
    "executionInfo": {
     "elapsed": 942,
     "status": "ok",
     "timestamp": 1677497009544,
     "user": {
      "displayName": "Dishant Thakur",
      "userId": "07619413488814898094"
     },
     "user_tz": -330
    },
    "id": "WbUnjaYkQvks"
   },
   "outputs": [],
   "source": [
    "import numpy as np\n",
    "import pandas as pd\n",
    "import matplotlib.pyplot as plt\n",
    "import seaborn as sb\n",
    "from sklearn.metrics import confusion_matrix,classification_report\n",
    "#Import all algorithms libraries\n",
    "from sklearn.linear_model import LogisticRegression\n",
    "from sklearn.tree import DecisionTreeClassifier\n",
    "from sklearn import tree\n",
    "from sklearn.ensemble import RandomForestClassifier\n",
    "from sklearn.ensemble import AdaBoostClassifier\n",
    "from sklearn.ensemble import GradientBoostingClassifier\n",
    "from xgboost import XGBClassifier\n",
    "from sklearn.svm import LinearSVC\n",
    "from sklearn.svm import SVC\n",
    "from sklearn.neighbors import KNeighborsClassifier\n",
    "import warnings\n",
    "warnings.filterwarnings('ignore')"
   ]
  },
  {
   "cell_type": "code",
   "execution_count": 2,
   "metadata": {
    "executionInfo": {
     "elapsed": 767,
     "status": "ok",
     "timestamp": 1677497010272,
     "user": {
      "displayName": "Dishant Thakur",
      "userId": "07619413488814898094"
     },
     "user_tz": -330
    },
    "id": "guRMMv4VQzQz"
   },
   "outputs": [],
   "source": [
    "df=pd.read_csv(\"/content/drive/MyDrive/Jforce task/lending_club_loans .csv\")"
   ]
  },
  {
   "cell_type": "code",
   "execution_count": 4,
   "metadata": {
    "colab": {
     "base_uri": "https://localhost:8080/",
     "height": 386
    },
    "executionInfo": {
     "elapsed": 29,
     "status": "ok",
     "timestamp": 1677497014713,
     "user": {
      "displayName": "Dishant Thakur",
      "userId": "07619413488814898094"
     },
     "user_tz": -330
    },
    "id": "pVkD4SnuQzUl",
    "outputId": "ad929d7e-3d90-4014-a3ff-e6deb8af872c"
   },
   "outputs": [
    {
     "data": {
      "text/html": [
       "\n",
       "  <div id=\"df-e6efbf53-3ded-4ed9-8d78-b30dee892004\">\n",
       "    <div class=\"colab-df-container\">\n",
       "      <div>\n",
       "<style scoped>\n",
       "    .dataframe tbody tr th:only-of-type {\n",
       "        vertical-align: middle;\n",
       "    }\n",
       "\n",
       "    .dataframe tbody tr th {\n",
       "        vertical-align: top;\n",
       "    }\n",
       "\n",
       "    .dataframe thead th {\n",
       "        text-align: right;\n",
       "    }\n",
       "</style>\n",
       "<table border=\"1\" class=\"dataframe\">\n",
       "  <thead>\n",
       "    <tr style=\"text-align: right;\">\n",
       "      <th></th>\n",
       "      <th>id</th>\n",
       "      <th>member_id</th>\n",
       "      <th>loan_amnt</th>\n",
       "      <th>funded_amnt</th>\n",
       "      <th>funded_amnt_inv</th>\n",
       "      <th>term</th>\n",
       "      <th>int_rate</th>\n",
       "      <th>installment</th>\n",
       "      <th>grade</th>\n",
       "      <th>sub_grade</th>\n",
       "      <th>...</th>\n",
       "      <th>num_tl_90g_dpd_24m</th>\n",
       "      <th>num_tl_op_past_12m</th>\n",
       "      <th>pct_tl_nvr_dlq</th>\n",
       "      <th>percent_bc_gt_75</th>\n",
       "      <th>pub_rec_bankruptcies</th>\n",
       "      <th>tax_liens</th>\n",
       "      <th>tot_hi_cred_lim</th>\n",
       "      <th>total_bal_ex_mort</th>\n",
       "      <th>total_bc_limit</th>\n",
       "      <th>total_il_high_credit_limit</th>\n",
       "    </tr>\n",
       "  </thead>\n",
       "  <tbody>\n",
       "    <tr>\n",
       "      <th>0</th>\n",
       "      <td>1077501</td>\n",
       "      <td>1296599.0</td>\n",
       "      <td>5000.0</td>\n",
       "      <td>5000.0</td>\n",
       "      <td>4975.0</td>\n",
       "      <td>36 months</td>\n",
       "      <td>10.65%</td>\n",
       "      <td>162.87</td>\n",
       "      <td>B</td>\n",
       "      <td>B2</td>\n",
       "      <td>...</td>\n",
       "      <td>NaN</td>\n",
       "      <td>NaN</td>\n",
       "      <td>NaN</td>\n",
       "      <td>NaN</td>\n",
       "      <td>0.0</td>\n",
       "      <td>0.0</td>\n",
       "      <td>NaN</td>\n",
       "      <td>NaN</td>\n",
       "      <td>NaN</td>\n",
       "      <td>NaN</td>\n",
       "    </tr>\n",
       "    <tr>\n",
       "      <th>1</th>\n",
       "      <td>1077430</td>\n",
       "      <td>1314167.0</td>\n",
       "      <td>2500.0</td>\n",
       "      <td>2500.0</td>\n",
       "      <td>2500.0</td>\n",
       "      <td>60 months</td>\n",
       "      <td>15.27%</td>\n",
       "      <td>59.83</td>\n",
       "      <td>C</td>\n",
       "      <td>C4</td>\n",
       "      <td>...</td>\n",
       "      <td>NaN</td>\n",
       "      <td>NaN</td>\n",
       "      <td>NaN</td>\n",
       "      <td>NaN</td>\n",
       "      <td>0.0</td>\n",
       "      <td>0.0</td>\n",
       "      <td>NaN</td>\n",
       "      <td>NaN</td>\n",
       "      <td>NaN</td>\n",
       "      <td>NaN</td>\n",
       "    </tr>\n",
       "    <tr>\n",
       "      <th>2</th>\n",
       "      <td>1077175</td>\n",
       "      <td>1313524.0</td>\n",
       "      <td>2400.0</td>\n",
       "      <td>2400.0</td>\n",
       "      <td>2400.0</td>\n",
       "      <td>36 months</td>\n",
       "      <td>15.96%</td>\n",
       "      <td>84.33</td>\n",
       "      <td>C</td>\n",
       "      <td>C5</td>\n",
       "      <td>...</td>\n",
       "      <td>NaN</td>\n",
       "      <td>NaN</td>\n",
       "      <td>NaN</td>\n",
       "      <td>NaN</td>\n",
       "      <td>0.0</td>\n",
       "      <td>0.0</td>\n",
       "      <td>NaN</td>\n",
       "      <td>NaN</td>\n",
       "      <td>NaN</td>\n",
       "      <td>NaN</td>\n",
       "    </tr>\n",
       "    <tr>\n",
       "      <th>3</th>\n",
       "      <td>1076863</td>\n",
       "      <td>1277178.0</td>\n",
       "      <td>10000.0</td>\n",
       "      <td>10000.0</td>\n",
       "      <td>10000.0</td>\n",
       "      <td>36 months</td>\n",
       "      <td>13.49%</td>\n",
       "      <td>339.31</td>\n",
       "      <td>C</td>\n",
       "      <td>C1</td>\n",
       "      <td>...</td>\n",
       "      <td>NaN</td>\n",
       "      <td>NaN</td>\n",
       "      <td>NaN</td>\n",
       "      <td>NaN</td>\n",
       "      <td>0.0</td>\n",
       "      <td>0.0</td>\n",
       "      <td>NaN</td>\n",
       "      <td>NaN</td>\n",
       "      <td>NaN</td>\n",
       "      <td>NaN</td>\n",
       "    </tr>\n",
       "    <tr>\n",
       "      <th>4</th>\n",
       "      <td>1075358</td>\n",
       "      <td>1311748.0</td>\n",
       "      <td>3000.0</td>\n",
       "      <td>3000.0</td>\n",
       "      <td>3000.0</td>\n",
       "      <td>60 months</td>\n",
       "      <td>12.69%</td>\n",
       "      <td>67.79</td>\n",
       "      <td>B</td>\n",
       "      <td>B5</td>\n",
       "      <td>...</td>\n",
       "      <td>NaN</td>\n",
       "      <td>NaN</td>\n",
       "      <td>NaN</td>\n",
       "      <td>NaN</td>\n",
       "      <td>0.0</td>\n",
       "      <td>0.0</td>\n",
       "      <td>NaN</td>\n",
       "      <td>NaN</td>\n",
       "      <td>NaN</td>\n",
       "      <td>NaN</td>\n",
       "    </tr>\n",
       "  </tbody>\n",
       "</table>\n",
       "<p>5 rows × 115 columns</p>\n",
       "</div>\n",
       "      <button class=\"colab-df-convert\" onclick=\"convertToInteractive('df-e6efbf53-3ded-4ed9-8d78-b30dee892004')\"\n",
       "              title=\"Convert this dataframe to an interactive table.\"\n",
       "              style=\"display:none;\">\n",
       "        \n",
       "  <svg xmlns=\"http://www.w3.org/2000/svg\" height=\"24px\"viewBox=\"0 0 24 24\"\n",
       "       width=\"24px\">\n",
       "    <path d=\"M0 0h24v24H0V0z\" fill=\"none\"/>\n",
       "    <path d=\"M18.56 5.44l.94 2.06.94-2.06 2.06-.94-2.06-.94-.94-2.06-.94 2.06-2.06.94zm-11 1L8.5 8.5l.94-2.06 2.06-.94-2.06-.94L8.5 2.5l-.94 2.06-2.06.94zm10 10l.94 2.06.94-2.06 2.06-.94-2.06-.94-.94-2.06-.94 2.06-2.06.94z\"/><path d=\"M17.41 7.96l-1.37-1.37c-.4-.4-.92-.59-1.43-.59-.52 0-1.04.2-1.43.59L10.3 9.45l-7.72 7.72c-.78.78-.78 2.05 0 2.83L4 21.41c.39.39.9.59 1.41.59.51 0 1.02-.2 1.41-.59l7.78-7.78 2.81-2.81c.8-.78.8-2.07 0-2.86zM5.41 20L4 18.59l7.72-7.72 1.47 1.35L5.41 20z\"/>\n",
       "  </svg>\n",
       "      </button>\n",
       "      \n",
       "  <style>\n",
       "    .colab-df-container {\n",
       "      display:flex;\n",
       "      flex-wrap:wrap;\n",
       "      gap: 12px;\n",
       "    }\n",
       "\n",
       "    .colab-df-convert {\n",
       "      background-color: #E8F0FE;\n",
       "      border: none;\n",
       "      border-radius: 50%;\n",
       "      cursor: pointer;\n",
       "      display: none;\n",
       "      fill: #1967D2;\n",
       "      height: 32px;\n",
       "      padding: 0 0 0 0;\n",
       "      width: 32px;\n",
       "    }\n",
       "\n",
       "    .colab-df-convert:hover {\n",
       "      background-color: #E2EBFA;\n",
       "      box-shadow: 0px 1px 2px rgba(60, 64, 67, 0.3), 0px 1px 3px 1px rgba(60, 64, 67, 0.15);\n",
       "      fill: #174EA6;\n",
       "    }\n",
       "\n",
       "    [theme=dark] .colab-df-convert {\n",
       "      background-color: #3B4455;\n",
       "      fill: #D2E3FC;\n",
       "    }\n",
       "\n",
       "    [theme=dark] .colab-df-convert:hover {\n",
       "      background-color: #434B5C;\n",
       "      box-shadow: 0px 1px 3px 1px rgba(0, 0, 0, 0.15);\n",
       "      filter: drop-shadow(0px 1px 2px rgba(0, 0, 0, 0.3));\n",
       "      fill: #FFFFFF;\n",
       "    }\n",
       "  </style>\n",
       "\n",
       "      <script>\n",
       "        const buttonEl =\n",
       "          document.querySelector('#df-e6efbf53-3ded-4ed9-8d78-b30dee892004 button.colab-df-convert');\n",
       "        buttonEl.style.display =\n",
       "          google.colab.kernel.accessAllowed ? 'block' : 'none';\n",
       "\n",
       "        async function convertToInteractive(key) {\n",
       "          const element = document.querySelector('#df-e6efbf53-3ded-4ed9-8d78-b30dee892004');\n",
       "          const dataTable =\n",
       "            await google.colab.kernel.invokeFunction('convertToInteractive',\n",
       "                                                     [key], {});\n",
       "          if (!dataTable) return;\n",
       "\n",
       "          const docLinkHtml = 'Like what you see? Visit the ' +\n",
       "            '<a target=\"_blank\" href=https://colab.research.google.com/notebooks/data_table.ipynb>data table notebook</a>'\n",
       "            + ' to learn more about interactive tables.';\n",
       "          element.innerHTML = '';\n",
       "          dataTable['output_type'] = 'display_data';\n",
       "          await google.colab.output.renderOutput(dataTable, element);\n",
       "          const docLink = document.createElement('div');\n",
       "          docLink.innerHTML = docLinkHtml;\n",
       "          element.appendChild(docLink);\n",
       "        }\n",
       "      </script>\n",
       "    </div>\n",
       "  </div>\n",
       "  "
      ],
      "text/plain": [
       "        id  member_id  loan_amnt  funded_amnt  funded_amnt_inv        term  \\\n",
       "0  1077501  1296599.0     5000.0       5000.0           4975.0   36 months   \n",
       "1  1077430  1314167.0     2500.0       2500.0           2500.0   60 months   \n",
       "2  1077175  1313524.0     2400.0       2400.0           2400.0   36 months   \n",
       "3  1076863  1277178.0    10000.0      10000.0          10000.0   36 months   \n",
       "4  1075358  1311748.0     3000.0       3000.0           3000.0   60 months   \n",
       "\n",
       "  int_rate  installment grade sub_grade  ... num_tl_90g_dpd_24m  \\\n",
       "0   10.65%       162.87     B        B2  ...                NaN   \n",
       "1   15.27%        59.83     C        C4  ...                NaN   \n",
       "2   15.96%        84.33     C        C5  ...                NaN   \n",
       "3   13.49%       339.31     C        C1  ...                NaN   \n",
       "4   12.69%        67.79     B        B5  ...                NaN   \n",
       "\n",
       "  num_tl_op_past_12m pct_tl_nvr_dlq  percent_bc_gt_75 pub_rec_bankruptcies  \\\n",
       "0                NaN            NaN               NaN                  0.0   \n",
       "1                NaN            NaN               NaN                  0.0   \n",
       "2                NaN            NaN               NaN                  0.0   \n",
       "3                NaN            NaN               NaN                  0.0   \n",
       "4                NaN            NaN               NaN                  0.0   \n",
       "\n",
       "  tax_liens tot_hi_cred_lim total_bal_ex_mort total_bc_limit  \\\n",
       "0       0.0             NaN               NaN            NaN   \n",
       "1       0.0             NaN               NaN            NaN   \n",
       "2       0.0             NaN               NaN            NaN   \n",
       "3       0.0             NaN               NaN            NaN   \n",
       "4       0.0             NaN               NaN            NaN   \n",
       "\n",
       "  total_il_high_credit_limit  \n",
       "0                        NaN  \n",
       "1                        NaN  \n",
       "2                        NaN  \n",
       "3                        NaN  \n",
       "4                        NaN  \n",
       "\n",
       "[5 rows x 115 columns]"
      ]
     },
     "execution_count": 4,
     "metadata": {},
     "output_type": "execute_result"
    }
   ],
   "source": [
    "df.head()"
   ]
  },
  {
   "cell_type": "code",
   "execution_count": 5,
   "metadata": {
    "colab": {
     "base_uri": "https://localhost:8080/"
    },
    "executionInfo": {
     "elapsed": 28,
     "status": "ok",
     "timestamp": 1677497014714,
     "user": {
      "displayName": "Dishant Thakur",
      "userId": "07619413488814898094"
     },
     "user_tz": -330
    },
    "id": "yDaZ5rVBQzWv",
    "outputId": "dc30197b-dae9-4c71-d279-3a21a7de20ac"
   },
   "outputs": [
    {
     "data": {
      "text/plain": [
       "(42542, 115)"
      ]
     },
     "execution_count": 5,
     "metadata": {},
     "output_type": "execute_result"
    }
   ],
   "source": [
    "#To see numbers  of rows and column\n",
    "df.shape"
   ]
  },
  {
   "cell_type": "code",
   "execution_count": 6,
   "metadata": {
    "colab": {
     "base_uri": "https://localhost:8080/"
    },
    "executionInfo": {
     "elapsed": 25,
     "status": "ok",
     "timestamp": 1677497014715,
     "user": {
      "displayName": "Dishant Thakur",
      "userId": "07619413488814898094"
     },
     "user_tz": -330
    },
    "id": "haHU6689btZG",
    "outputId": "583b1f53-6cf7-4d6c-c012-368ad08dd8ec"
   },
   "outputs": [
    {
     "name": "stdout",
     "output_type": "stream",
     "text": [
      "<class 'pandas.core.frame.DataFrame'>\n",
      "RangeIndex: 42542 entries, 0 to 42541\n",
      "Columns: 115 entries, id to total_il_high_credit_limit\n",
      "dtypes: float64(90), object(25)\n",
      "memory usage: 37.3+ MB\n"
     ]
    }
   ],
   "source": [
    "#To see information about the dataset\n",
    "df.info()"
   ]
  },
  {
   "cell_type": "code",
   "execution_count": 7,
   "metadata": {
    "colab": {
     "base_uri": "https://localhost:8080/",
     "height": 394
    },
    "executionInfo": {
     "elapsed": 23,
     "status": "ok",
     "timestamp": 1677497014717,
     "user": {
      "displayName": "Dishant Thakur",
      "userId": "07619413488814898094"
     },
     "user_tz": -330
    },
    "id": "ArIods2wb6AX",
    "outputId": "5755f5d4-f549-44c2-b6b4-7cbbe11cbe6d"
   },
   "outputs": [
    {
     "data": {
      "text/html": [
       "\n",
       "  <div id=\"df-9d1e0667-6361-4623-9602-4a10056ab369\">\n",
       "    <div class=\"colab-df-container\">\n",
       "      <div>\n",
       "<style scoped>\n",
       "    .dataframe tbody tr th:only-of-type {\n",
       "        vertical-align: middle;\n",
       "    }\n",
       "\n",
       "    .dataframe tbody tr th {\n",
       "        vertical-align: top;\n",
       "    }\n",
       "\n",
       "    .dataframe thead th {\n",
       "        text-align: right;\n",
       "    }\n",
       "</style>\n",
       "<table border=\"1\" class=\"dataframe\">\n",
       "  <thead>\n",
       "    <tr style=\"text-align: right;\">\n",
       "      <th></th>\n",
       "      <th>member_id</th>\n",
       "      <th>loan_amnt</th>\n",
       "      <th>funded_amnt</th>\n",
       "      <th>funded_amnt_inv</th>\n",
       "      <th>installment</th>\n",
       "      <th>annual_inc</th>\n",
       "      <th>dti</th>\n",
       "      <th>delinq_2yrs</th>\n",
       "      <th>fico_range_low</th>\n",
       "      <th>fico_range_high</th>\n",
       "      <th>...</th>\n",
       "      <th>num_tl_90g_dpd_24m</th>\n",
       "      <th>num_tl_op_past_12m</th>\n",
       "      <th>pct_tl_nvr_dlq</th>\n",
       "      <th>percent_bc_gt_75</th>\n",
       "      <th>pub_rec_bankruptcies</th>\n",
       "      <th>tax_liens</th>\n",
       "      <th>tot_hi_cred_lim</th>\n",
       "      <th>total_bal_ex_mort</th>\n",
       "      <th>total_bc_limit</th>\n",
       "      <th>total_il_high_credit_limit</th>\n",
       "    </tr>\n",
       "  </thead>\n",
       "  <tbody>\n",
       "    <tr>\n",
       "      <th>count</th>\n",
       "      <td>4.253500e+04</td>\n",
       "      <td>42535.000000</td>\n",
       "      <td>42535.000000</td>\n",
       "      <td>42535.000000</td>\n",
       "      <td>42535.000000</td>\n",
       "      <td>4.253100e+04</td>\n",
       "      <td>42535.000000</td>\n",
       "      <td>42506.000000</td>\n",
       "      <td>42535.000000</td>\n",
       "      <td>42535.000000</td>\n",
       "      <td>...</td>\n",
       "      <td>0.0</td>\n",
       "      <td>0.0</td>\n",
       "      <td>0.0</td>\n",
       "      <td>0.0</td>\n",
       "      <td>41170.000000</td>\n",
       "      <td>42430.000000</td>\n",
       "      <td>0.0</td>\n",
       "      <td>0.0</td>\n",
       "      <td>0.0</td>\n",
       "      <td>0.0</td>\n",
       "    </tr>\n",
       "    <tr>\n",
       "      <th>mean</th>\n",
       "      <td>8.257026e+05</td>\n",
       "      <td>11089.722581</td>\n",
       "      <td>10821.585753</td>\n",
       "      <td>10139.830603</td>\n",
       "      <td>322.623063</td>\n",
       "      <td>6.913656e+04</td>\n",
       "      <td>13.373043</td>\n",
       "      <td>0.152449</td>\n",
       "      <td>713.052545</td>\n",
       "      <td>717.052545</td>\n",
       "      <td>...</td>\n",
       "      <td>NaN</td>\n",
       "      <td>NaN</td>\n",
       "      <td>NaN</td>\n",
       "      <td>NaN</td>\n",
       "      <td>0.045227</td>\n",
       "      <td>0.000024</td>\n",
       "      <td>NaN</td>\n",
       "      <td>NaN</td>\n",
       "      <td>NaN</td>\n",
       "      <td>NaN</td>\n",
       "    </tr>\n",
       "    <tr>\n",
       "      <th>std</th>\n",
       "      <td>2.795409e+05</td>\n",
       "      <td>7410.938391</td>\n",
       "      <td>7146.914675</td>\n",
       "      <td>7131.686447</td>\n",
       "      <td>208.927216</td>\n",
       "      <td>6.409635e+04</td>\n",
       "      <td>6.726315</td>\n",
       "      <td>0.512406</td>\n",
       "      <td>36.188439</td>\n",
       "      <td>36.188439</td>\n",
       "      <td>...</td>\n",
       "      <td>NaN</td>\n",
       "      <td>NaN</td>\n",
       "      <td>NaN</td>\n",
       "      <td>NaN</td>\n",
       "      <td>0.208737</td>\n",
       "      <td>0.004855</td>\n",
       "      <td>NaN</td>\n",
       "      <td>NaN</td>\n",
       "      <td>NaN</td>\n",
       "      <td>NaN</td>\n",
       "    </tr>\n",
       "    <tr>\n",
       "      <th>min</th>\n",
       "      <td>7.047300e+04</td>\n",
       "      <td>500.000000</td>\n",
       "      <td>500.000000</td>\n",
       "      <td>0.000000</td>\n",
       "      <td>15.670000</td>\n",
       "      <td>1.896000e+03</td>\n",
       "      <td>0.000000</td>\n",
       "      <td>0.000000</td>\n",
       "      <td>610.000000</td>\n",
       "      <td>614.000000</td>\n",
       "      <td>...</td>\n",
       "      <td>NaN</td>\n",
       "      <td>NaN</td>\n",
       "      <td>NaN</td>\n",
       "      <td>NaN</td>\n",
       "      <td>0.000000</td>\n",
       "      <td>0.000000</td>\n",
       "      <td>NaN</td>\n",
       "      <td>NaN</td>\n",
       "      <td>NaN</td>\n",
       "      <td>NaN</td>\n",
       "    </tr>\n",
       "    <tr>\n",
       "      <th>25%</th>\n",
       "      <td>6.384795e+05</td>\n",
       "      <td>5200.000000</td>\n",
       "      <td>5000.000000</td>\n",
       "      <td>4950.000000</td>\n",
       "      <td>165.520000</td>\n",
       "      <td>4.000000e+04</td>\n",
       "      <td>8.200000</td>\n",
       "      <td>0.000000</td>\n",
       "      <td>685.000000</td>\n",
       "      <td>689.000000</td>\n",
       "      <td>...</td>\n",
       "      <td>NaN</td>\n",
       "      <td>NaN</td>\n",
       "      <td>NaN</td>\n",
       "      <td>NaN</td>\n",
       "      <td>0.000000</td>\n",
       "      <td>0.000000</td>\n",
       "      <td>NaN</td>\n",
       "      <td>NaN</td>\n",
       "      <td>NaN</td>\n",
       "      <td>NaN</td>\n",
       "    </tr>\n",
       "    <tr>\n",
       "      <th>50%</th>\n",
       "      <td>8.241780e+05</td>\n",
       "      <td>9700.000000</td>\n",
       "      <td>9600.000000</td>\n",
       "      <td>8500.000000</td>\n",
       "      <td>277.690000</td>\n",
       "      <td>5.900000e+04</td>\n",
       "      <td>13.470000</td>\n",
       "      <td>0.000000</td>\n",
       "      <td>710.000000</td>\n",
       "      <td>714.000000</td>\n",
       "      <td>...</td>\n",
       "      <td>NaN</td>\n",
       "      <td>NaN</td>\n",
       "      <td>NaN</td>\n",
       "      <td>NaN</td>\n",
       "      <td>0.000000</td>\n",
       "      <td>0.000000</td>\n",
       "      <td>NaN</td>\n",
       "      <td>NaN</td>\n",
       "      <td>NaN</td>\n",
       "      <td>NaN</td>\n",
       "    </tr>\n",
       "    <tr>\n",
       "      <th>75%</th>\n",
       "      <td>1.033946e+06</td>\n",
       "      <td>15000.000000</td>\n",
       "      <td>15000.000000</td>\n",
       "      <td>14000.000000</td>\n",
       "      <td>428.180000</td>\n",
       "      <td>8.250000e+04</td>\n",
       "      <td>18.680000</td>\n",
       "      <td>0.000000</td>\n",
       "      <td>740.000000</td>\n",
       "      <td>744.000000</td>\n",
       "      <td>...</td>\n",
       "      <td>NaN</td>\n",
       "      <td>NaN</td>\n",
       "      <td>NaN</td>\n",
       "      <td>NaN</td>\n",
       "      <td>0.000000</td>\n",
       "      <td>0.000000</td>\n",
       "      <td>NaN</td>\n",
       "      <td>NaN</td>\n",
       "      <td>NaN</td>\n",
       "      <td>NaN</td>\n",
       "    </tr>\n",
       "    <tr>\n",
       "      <th>max</th>\n",
       "      <td>1.314167e+06</td>\n",
       "      <td>35000.000000</td>\n",
       "      <td>35000.000000</td>\n",
       "      <td>35000.000000</td>\n",
       "      <td>1305.190000</td>\n",
       "      <td>6.000000e+06</td>\n",
       "      <td>29.990000</td>\n",
       "      <td>13.000000</td>\n",
       "      <td>825.000000</td>\n",
       "      <td>829.000000</td>\n",
       "      <td>...</td>\n",
       "      <td>NaN</td>\n",
       "      <td>NaN</td>\n",
       "      <td>NaN</td>\n",
       "      <td>NaN</td>\n",
       "      <td>2.000000</td>\n",
       "      <td>1.000000</td>\n",
       "      <td>NaN</td>\n",
       "      <td>NaN</td>\n",
       "      <td>NaN</td>\n",
       "      <td>NaN</td>\n",
       "    </tr>\n",
       "  </tbody>\n",
       "</table>\n",
       "<p>8 rows × 90 columns</p>\n",
       "</div>\n",
       "      <button class=\"colab-df-convert\" onclick=\"convertToInteractive('df-9d1e0667-6361-4623-9602-4a10056ab369')\"\n",
       "              title=\"Convert this dataframe to an interactive table.\"\n",
       "              style=\"display:none;\">\n",
       "        \n",
       "  <svg xmlns=\"http://www.w3.org/2000/svg\" height=\"24px\"viewBox=\"0 0 24 24\"\n",
       "       width=\"24px\">\n",
       "    <path d=\"M0 0h24v24H0V0z\" fill=\"none\"/>\n",
       "    <path d=\"M18.56 5.44l.94 2.06.94-2.06 2.06-.94-2.06-.94-.94-2.06-.94 2.06-2.06.94zm-11 1L8.5 8.5l.94-2.06 2.06-.94-2.06-.94L8.5 2.5l-.94 2.06-2.06.94zm10 10l.94 2.06.94-2.06 2.06-.94-2.06-.94-.94-2.06-.94 2.06-2.06.94z\"/><path d=\"M17.41 7.96l-1.37-1.37c-.4-.4-.92-.59-1.43-.59-.52 0-1.04.2-1.43.59L10.3 9.45l-7.72 7.72c-.78.78-.78 2.05 0 2.83L4 21.41c.39.39.9.59 1.41.59.51 0 1.02-.2 1.41-.59l7.78-7.78 2.81-2.81c.8-.78.8-2.07 0-2.86zM5.41 20L4 18.59l7.72-7.72 1.47 1.35L5.41 20z\"/>\n",
       "  </svg>\n",
       "      </button>\n",
       "      \n",
       "  <style>\n",
       "    .colab-df-container {\n",
       "      display:flex;\n",
       "      flex-wrap:wrap;\n",
       "      gap: 12px;\n",
       "    }\n",
       "\n",
       "    .colab-df-convert {\n",
       "      background-color: #E8F0FE;\n",
       "      border: none;\n",
       "      border-radius: 50%;\n",
       "      cursor: pointer;\n",
       "      display: none;\n",
       "      fill: #1967D2;\n",
       "      height: 32px;\n",
       "      padding: 0 0 0 0;\n",
       "      width: 32px;\n",
       "    }\n",
       "\n",
       "    .colab-df-convert:hover {\n",
       "      background-color: #E2EBFA;\n",
       "      box-shadow: 0px 1px 2px rgba(60, 64, 67, 0.3), 0px 1px 3px 1px rgba(60, 64, 67, 0.15);\n",
       "      fill: #174EA6;\n",
       "    }\n",
       "\n",
       "    [theme=dark] .colab-df-convert {\n",
       "      background-color: #3B4455;\n",
       "      fill: #D2E3FC;\n",
       "    }\n",
       "\n",
       "    [theme=dark] .colab-df-convert:hover {\n",
       "      background-color: #434B5C;\n",
       "      box-shadow: 0px 1px 3px 1px rgba(0, 0, 0, 0.15);\n",
       "      filter: drop-shadow(0px 1px 2px rgba(0, 0, 0, 0.3));\n",
       "      fill: #FFFFFF;\n",
       "    }\n",
       "  </style>\n",
       "\n",
       "      <script>\n",
       "        const buttonEl =\n",
       "          document.querySelector('#df-9d1e0667-6361-4623-9602-4a10056ab369 button.colab-df-convert');\n",
       "        buttonEl.style.display =\n",
       "          google.colab.kernel.accessAllowed ? 'block' : 'none';\n",
       "\n",
       "        async function convertToInteractive(key) {\n",
       "          const element = document.querySelector('#df-9d1e0667-6361-4623-9602-4a10056ab369');\n",
       "          const dataTable =\n",
       "            await google.colab.kernel.invokeFunction('convertToInteractive',\n",
       "                                                     [key], {});\n",
       "          if (!dataTable) return;\n",
       "\n",
       "          const docLinkHtml = 'Like what you see? Visit the ' +\n",
       "            '<a target=\"_blank\" href=https://colab.research.google.com/notebooks/data_table.ipynb>data table notebook</a>'\n",
       "            + ' to learn more about interactive tables.';\n",
       "          element.innerHTML = '';\n",
       "          dataTable['output_type'] = 'display_data';\n",
       "          await google.colab.output.renderOutput(dataTable, element);\n",
       "          const docLink = document.createElement('div');\n",
       "          docLink.innerHTML = docLinkHtml;\n",
       "          element.appendChild(docLink);\n",
       "        }\n",
       "      </script>\n",
       "    </div>\n",
       "  </div>\n",
       "  "
      ],
      "text/plain": [
       "          member_id     loan_amnt   funded_amnt  funded_amnt_inv  \\\n",
       "count  4.253500e+04  42535.000000  42535.000000     42535.000000   \n",
       "mean   8.257026e+05  11089.722581  10821.585753     10139.830603   \n",
       "std    2.795409e+05   7410.938391   7146.914675      7131.686447   \n",
       "min    7.047300e+04    500.000000    500.000000         0.000000   \n",
       "25%    6.384795e+05   5200.000000   5000.000000      4950.000000   \n",
       "50%    8.241780e+05   9700.000000   9600.000000      8500.000000   \n",
       "75%    1.033946e+06  15000.000000  15000.000000     14000.000000   \n",
       "max    1.314167e+06  35000.000000  35000.000000     35000.000000   \n",
       "\n",
       "        installment    annual_inc           dti   delinq_2yrs  fico_range_low  \\\n",
       "count  42535.000000  4.253100e+04  42535.000000  42506.000000    42535.000000   \n",
       "mean     322.623063  6.913656e+04     13.373043      0.152449      713.052545   \n",
       "std      208.927216  6.409635e+04      6.726315      0.512406       36.188439   \n",
       "min       15.670000  1.896000e+03      0.000000      0.000000      610.000000   \n",
       "25%      165.520000  4.000000e+04      8.200000      0.000000      685.000000   \n",
       "50%      277.690000  5.900000e+04     13.470000      0.000000      710.000000   \n",
       "75%      428.180000  8.250000e+04     18.680000      0.000000      740.000000   \n",
       "max     1305.190000  6.000000e+06     29.990000     13.000000      825.000000   \n",
       "\n",
       "       fico_range_high  ...  num_tl_90g_dpd_24m  num_tl_op_past_12m  \\\n",
       "count     42535.000000  ...                 0.0                 0.0   \n",
       "mean        717.052545  ...                 NaN                 NaN   \n",
       "std          36.188439  ...                 NaN                 NaN   \n",
       "min         614.000000  ...                 NaN                 NaN   \n",
       "25%         689.000000  ...                 NaN                 NaN   \n",
       "50%         714.000000  ...                 NaN                 NaN   \n",
       "75%         744.000000  ...                 NaN                 NaN   \n",
       "max         829.000000  ...                 NaN                 NaN   \n",
       "\n",
       "       pct_tl_nvr_dlq  percent_bc_gt_75  pub_rec_bankruptcies     tax_liens  \\\n",
       "count             0.0               0.0          41170.000000  42430.000000   \n",
       "mean              NaN               NaN              0.045227      0.000024   \n",
       "std               NaN               NaN              0.208737      0.004855   \n",
       "min               NaN               NaN              0.000000      0.000000   \n",
       "25%               NaN               NaN              0.000000      0.000000   \n",
       "50%               NaN               NaN              0.000000      0.000000   \n",
       "75%               NaN               NaN              0.000000      0.000000   \n",
       "max               NaN               NaN              2.000000      1.000000   \n",
       "\n",
       "       tot_hi_cred_lim  total_bal_ex_mort  total_bc_limit  \\\n",
       "count              0.0                0.0             0.0   \n",
       "mean               NaN                NaN             NaN   \n",
       "std                NaN                NaN             NaN   \n",
       "min                NaN                NaN             NaN   \n",
       "25%                NaN                NaN             NaN   \n",
       "50%                NaN                NaN             NaN   \n",
       "75%                NaN                NaN             NaN   \n",
       "max                NaN                NaN             NaN   \n",
       "\n",
       "       total_il_high_credit_limit  \n",
       "count                         0.0  \n",
       "mean                          NaN  \n",
       "std                           NaN  \n",
       "min                           NaN  \n",
       "25%                           NaN  \n",
       "50%                           NaN  \n",
       "75%                           NaN  \n",
       "max                           NaN  \n",
       "\n",
       "[8 rows x 90 columns]"
      ]
     },
     "execution_count": 7,
     "metadata": {},
     "output_type": "execute_result"
    }
   ],
   "source": [
    "#To see statistical information about the dataset\n",
    "df.describe()"
   ]
  },
  {
   "cell_type": "code",
   "execution_count": 8,
   "metadata": {
    "colab": {
     "base_uri": "https://localhost:8080/"
    },
    "executionInfo": {
     "elapsed": 23,
     "status": "ok",
     "timestamp": 1677497014718,
     "user": {
      "displayName": "Dishant Thakur",
      "userId": "07619413488814898094"
     },
     "user_tz": -330
    },
    "id": "cwwNiG8dQzY3",
    "outputId": "053e82d2-da7d-4d79-ca83-4262b10318b8"
   },
   "outputs": [
    {
     "data": {
      "text/plain": [
       "id                                4\n",
       "member_id                         7\n",
       "loan_amnt                         7\n",
       "funded_amnt                       7\n",
       "funded_amnt_inv                   7\n",
       "                              ...  \n",
       "tax_liens                       112\n",
       "tot_hi_cred_lim               42542\n",
       "total_bal_ex_mort             42542\n",
       "total_bc_limit                42542\n",
       "total_il_high_credit_limit    42542\n",
       "Length: 115, dtype: int64"
      ]
     },
     "execution_count": 8,
     "metadata": {},
     "output_type": "execute_result"
    }
   ],
   "source": [
    "#Now Cleaning the data\n",
    "#Checking if null value is present or not\n",
    "df.isnull().sum()"
   ]
  },
  {
   "cell_type": "code",
   "execution_count": 9,
   "metadata": {
    "colab": {
     "base_uri": "https://localhost:8080/",
     "height": 402
    },
    "executionInfo": {
     "elapsed": 8794,
     "status": "ok",
     "timestamp": 1677497023494,
     "user": {
      "displayName": "Dishant Thakur",
      "userId": "07619413488814898094"
     },
     "user_tz": -330
    },
    "id": "hPJXZdY7Qza4",
    "outputId": "5d93ab21-c94e-4d66-80ad-e95340dc14d6"
   },
   "outputs": [
    {
     "data": {
      "image/png": "[encoded data removed]",
      "text/plain": [
       "<Figure size 432x288 with 2 Axes>"
      ]
     },
     "metadata": {
      "needs_background": "light"
     },
     "output_type": "display_data"
    }
   ],
   "source": [
    "#To visualize the null value\n",
    "sb.heatmap(df.isnull())\n",
    "plt.title(\"Null Value Visual Plot\")\n",
    "plt.show()"
   ]
  },
  {
   "cell_type": "code",
   "execution_count": 10,
   "metadata": {
    "colab": {
     "base_uri": "https://localhost:8080/"
    },
    "executionInfo": {
     "elapsed": 16,
     "status": "ok",
     "timestamp": 1677497023495,
     "user": {
      "displayName": "Dishant Thakur",
      "userId": "07619413488814898094"
     },
     "user_tz": -330
    },
    "id": "IZbIkFDfQzdH",
    "outputId": "7e3c4226-97f4-4347-f5d0-1ff8a2c1b2c7"
   },
   "outputs": [
    {
     "data": {
      "text/plain": [
       "0.49505205086329007"
      ]
     },
     "execution_count": 10,
     "metadata": {},
     "output_type": "execute_result"
    }
   ],
   "source": [
    "#Total percentage of null values in the data\n",
    "(df.isnull().sum().sum())/(df.shape[0]*df.shape[1])"
   ]
  },
  {
   "cell_type": "code",
   "execution_count": 11,
   "metadata": {
    "colab": {
     "base_uri": "https://localhost:8080/",
     "height": 269
    },
    "executionInfo": {
     "elapsed": 870,
     "status": "ok",
     "timestamp": 1677497024357,
     "user": {
      "displayName": "Dishant Thakur",
      "userId": "07619413488814898094"
     },
     "user_tz": -330
    },
    "id": "uQXHITAcQzfI",
    "outputId": "2917a22c-183b-49b4-f760-ffd51338fd53"
   },
   "outputs": [
    {
     "data": {
      "text/html": [
       "\n",
       "  <div id=\"df-ea2cd6b4-8e99-4412-b14d-c25e5204f5b6\">\n",
       "    <div class=\"colab-df-container\">\n",
       "      <div>\n",
       "<style scoped>\n",
       "    .dataframe tbody tr th:only-of-type {\n",
       "        vertical-align: middle;\n",
       "    }\n",
       "\n",
       "    .dataframe tbody tr th {\n",
       "        vertical-align: top;\n",
       "    }\n",
       "\n",
       "    .dataframe thead th {\n",
       "        text-align: right;\n",
       "    }\n",
       "</style>\n",
       "<table border=\"1\" class=\"dataframe\">\n",
       "  <thead>\n",
       "    <tr style=\"text-align: right;\">\n",
       "      <th></th>\n",
       "      <th>Percentage of null values</th>\n",
       "      <th>No.of columns</th>\n",
       "    </tr>\n",
       "  </thead>\n",
       "  <tbody>\n",
       "    <tr>\n",
       "      <th>0</th>\n",
       "      <td>10% or less</td>\n",
       "      <td>57</td>\n",
       "    </tr>\n",
       "    <tr>\n",
       "      <th>1</th>\n",
       "      <td>20% or less</td>\n",
       "      <td>57</td>\n",
       "    </tr>\n",
       "    <tr>\n",
       "      <th>2</th>\n",
       "      <td>30% or less</td>\n",
       "      <td>57</td>\n",
       "    </tr>\n",
       "    <tr>\n",
       "      <th>3</th>\n",
       "      <td>40% or less</td>\n",
       "      <td>58</td>\n",
       "    </tr>\n",
       "    <tr>\n",
       "      <th>4</th>\n",
       "      <td>50% or less</td>\n",
       "      <td>58</td>\n",
       "    </tr>\n",
       "    <tr>\n",
       "      <th>5</th>\n",
       "      <td>60% or less</td>\n",
       "      <td>58</td>\n",
       "    </tr>\n",
       "    <tr>\n",
       "      <th>6</th>\n",
       "      <td>70% or less</td>\n",
       "      <td>59</td>\n",
       "    </tr>\n",
       "  </tbody>\n",
       "</table>\n",
       "</div>\n",
       "      <button class=\"colab-df-convert\" onclick=\"convertToInteractive('df-ea2cd6b4-8e99-4412-b14d-c25e5204f5b6')\"\n",
       "              title=\"Convert this dataframe to an interactive table.\"\n",
       "              style=\"display:none;\">\n",
       "        \n",
       "  <svg xmlns=\"http://www.w3.org/2000/svg\" height=\"24px\"viewBox=\"0 0 24 24\"\n",
       "       width=\"24px\">\n",
       "    <path d=\"M0 0h24v24H0V0z\" fill=\"none\"/>\n",
       "    <path d=\"M18.56 5.44l.94 2.06.94-2.06 2.06-.94-2.06-.94-.94-2.06-.94 2.06-2.06.94zm-11 1L8.5 8.5l.94-2.06 2.06-.94-2.06-.94L8.5 2.5l-.94 2.06-2.06.94zm10 10l.94 2.06.94-2.06 2.06-.94-2.06-.94-.94-2.06-.94 2.06-2.06.94z\"/><path d=\"M17.41 7.96l-1.37-1.37c-.4-.4-.92-.59-1.43-.59-.52 0-1.04.2-1.43.59L10.3 9.45l-7.72 7.72c-.78.78-.78 2.05 0 2.83L4 21.41c.39.39.9.59 1.41.59.51 0 1.02-.2 1.41-.59l7.78-7.78 2.81-2.81c.8-.78.8-2.07 0-2.86zM5.41 20L4 18.59l7.72-7.72 1.47 1.35L5.41 20z\"/>\n",
       "  </svg>\n",
       "      </button>\n",
       "      \n",
       "  <style>\n",
       "    .colab-df-container {\n",
       "      display:flex;\n",
       "      flex-wrap:wrap;\n",
       "      gap: 12px;\n",
       "    }\n",
       "\n",
       "    .colab-df-convert {\n",
       "      background-color: #E8F0FE;\n",
       "      border: none;\n",
       "      border-radius: 50%;\n",
       "      cursor: pointer;\n",
       "      display: none;\n",
       "      fill: #1967D2;\n",
       "      height: 32px;\n",
       "      padding: 0 0 0 0;\n",
       "      width: 32px;\n",
       "    }\n",
       "\n",
       "    .colab-df-convert:hover {\n",
       "      background-color: #E2EBFA;\n",
       "      box-shadow: 0px 1px 2px rgba(60, 64, 67, 0.3), 0px 1px 3px 1px rgba(60, 64, 67, 0.15);\n",
       "      fill: #174EA6;\n",
       "    }\n",
       "\n",
       "    [theme=dark] .colab-df-convert {\n",
       "      background-color: #3B4455;\n",
       "      fill: #D2E3FC;\n",
       "    }\n",
       "\n",
       "    [theme=dark] .colab-df-convert:hover {\n",
       "      background-color: #434B5C;\n",
       "      box-shadow: 0px 1px 3px 1px rgba(0, 0, 0, 0.15);\n",
       "      filter: drop-shadow(0px 1px 2px rgba(0, 0, 0, 0.3));\n",
       "      fill: #FFFFFF;\n",
       "    }\n",
       "  </style>\n",
       "\n",
       "      <script>\n",
       "        const buttonEl =\n",
       "          document.querySelector('#df-ea2cd6b4-8e99-4412-b14d-c25e5204f5b6 button.colab-df-convert');\n",
       "        buttonEl.style.display =\n",
       "          google.colab.kernel.accessAllowed ? 'block' : 'none';\n",
       "\n",
       "        async function convertToInteractive(key) {\n",
       "          const element = document.querySelector('#df-ea2cd6b4-8e99-4412-b14d-c25e5204f5b6');\n",
       "          const dataTable =\n",
       "            await google.colab.kernel.invokeFunction('convertToInteractive',\n",
       "                                                     [key], {});\n",
       "          if (!dataTable) return;\n",
       "\n",
       "          const docLinkHtml = 'Like what you see? Visit the ' +\n",
       "            '<a target=\"_blank\" href=https://colab.research.google.com/notebooks/data_table.ipynb>data table notebook</a>'\n",
       "            + ' to learn more about interactive tables.';\n",
       "          element.innerHTML = '';\n",
       "          dataTable['output_type'] = 'display_data';\n",
       "          await google.colab.output.renderOutput(dataTable, element);\n",
       "          const docLink = document.createElement('div');\n",
       "          docLink.innerHTML = docLinkHtml;\n",
       "          element.appendChild(docLink);\n",
       "        }\n",
       "      </script>\n",
       "    </div>\n",
       "  </div>\n",
       "  "
      ],
      "text/plain": [
       "  Percentage of null values  No.of columns\n",
       "0               10% or less             57\n",
       "1               20% or less             57\n",
       "2               30% or less             57\n",
       "3               40% or less             58\n",
       "4               50% or less             58\n",
       "5               60% or less             58\n",
       "6               70% or less             59"
      ]
     },
     "execution_count": 11,
     "metadata": {},
     "output_type": "execute_result"
    }
   ],
   "source": [
    "#Creating a dataframe to display percentage of null values in each column\n",
    "null= pd.DataFrame()\n",
    "null['Percentage of null values']=['10% or less','20% or less','30% or less','40% or less','50% or less','60% or less','70% or less']\n",
    "\n",
    "ten_percent = len(df.columns[((df.isnull().sum())/len(df)) < 0.1])\n",
    "twenty_percent = len(df.columns[((df.isnull().sum())/len(df)) < 0.2])\n",
    "thirty_percent = len(df.columns[((df.isnull().sum())/len(df)) < 0.3])\n",
    "fourty_percent = len(df.columns[((df.isnull().sum())/len(df)) < 0.4])\n",
    "fifty_percent = len(df.columns[((df.isnull().sum())/len(df)) < 0.5])\n",
    "sixty_percent = len(df.columns[((df.isnull().sum())/len(df)) < 0.6])\n",
    "seventy_percent = len(df.columns[((df.isnull().sum())/len(df)) < 0.7])\n",
    "\n",
    "null['No.of columns'] = [ten_percent,twenty_percent,thirty_percent,fourty_percent,fifty_percent,sixty_percent,seventy_percent]\n",
    "null"
   ]
  },
  {
   "cell_type": "markdown",
   "metadata": {
    "id": "ThDvSvE7cMMp"
   },
   "source": [
    "As we can see above dataframe the distribution on null value on the basis of null values\n",
    "\n",
    "As we can see there are 58 columns having null value under 40%\n",
    "\n",
    "So we are going to consider 58 columns only"
   ]
  },
  {
   "cell_type": "code",
   "execution_count": 12,
   "metadata": {
    "executionInfo": {
     "elapsed": 77,
     "status": "ok",
     "timestamp": 1677497024361,
     "user": {
      "displayName": "Dishant Thakur",
      "userId": "07619413488814898094"
     },
     "user_tz": -330
    },
    "id": "cqFZayiMQzhH"
   },
   "outputs": [],
   "source": [
    "# Considering only those columns which have null values less than 40% in that particular column\n",
    "df = df[df.columns[((df.isnull().sum())/len(df)) < 0.4]]"
   ]
  },
  {
   "cell_type": "code",
   "execution_count": 13,
   "metadata": {
    "colab": {
     "base_uri": "https://localhost:8080/"
    },
    "executionInfo": {
     "elapsed": 78,
     "status": "ok",
     "timestamp": 1677497024364,
     "user": {
      "displayName": "Dishant Thakur",
      "userId": "07619413488814898094"
     },
     "user_tz": -330
    },
    "id": "qJyc3r7RQzjJ",
    "outputId": "da006b1b-013c-4521-be49-7f006172bbd6"
   },
   "outputs": [
    {
     "data": {
      "text/plain": [
       "(42542, 58)"
      ]
     },
     "execution_count": 13,
     "metadata": {},
     "output_type": "execute_result"
    }
   ],
   "source": [
    "#To see numbers  of rows and column\n",
    "df.shape"
   ]
  },
  {
   "cell_type": "code",
   "execution_count": 14,
   "metadata": {
    "colab": {
     "base_uri": "https://localhost:8080/"
    },
    "executionInfo": {
     "elapsed": 71,
     "status": "ok",
     "timestamp": 1677497024365,
     "user": {
      "displayName": "Dishant Thakur",
      "userId": "07619413488814898094"
     },
     "user_tz": -330
    },
    "id": "t21d-nGmQzlJ",
    "outputId": "80a6ec9c-1f15-43fd-a033-32495954f819"
   },
   "outputs": [
    {
     "name": "stdout",
     "output_type": "stream",
     "text": [
      "1077501                                    1\n",
      "540348                                     1\n",
      "540300                                     1\n",
      "540270                                     1\n",
      "540280                                     1\n",
      "                                          ..\n",
      "769217                                     1\n",
      "770000                                     1\n",
      "765994                                     1\n",
      "769973                                     1\n",
      "Total amount funded in policy code 2: 0    1\n",
      "Name: id, Length: 42538, dtype: int64\n",
      "*********\n",
      " 36 months    31534\n",
      " 60 months    11001\n",
      "Name: term, dtype: int64\n",
      "*********\n",
      "10.99%    970\n",
      "11.49%    837\n",
      "13.49%    832\n",
      "7.51%     787\n",
      "7.88%     742\n",
      "         ... \n",
      "17.46%      1\n",
      "21.48%      1\n",
      "24.40%      1\n",
      "16.83%      1\n",
      "16.20%      1\n",
      "Name: int_rate, Length: 394, dtype: int64\n",
      "*********\n",
      "B    12389\n",
      "A    10183\n",
      "C     8740\n",
      "D     6016\n",
      "E     3394\n",
      "F     1301\n",
      "G      512\n",
      "Name: grade, dtype: int64\n",
      "*********\n",
      "B3    2997\n",
      "A4    2905\n",
      "B5    2807\n",
      "A5    2793\n",
      "B4    2590\n",
      "C1    2264\n",
      "C2    2157\n",
      "B2    2113\n",
      "B1    1882\n",
      "A3    1823\n",
      "C3    1658\n",
      "A2    1520\n",
      "D2    1485\n",
      "C4    1370\n",
      "D3    1322\n",
      "C5    1291\n",
      "A1    1142\n",
      "D4    1140\n",
      "D1    1053\n",
      "D5    1016\n",
      "E1     884\n",
      "E2     791\n",
      "E3     668\n",
      "E4     552\n",
      "E5     499\n",
      "F1     392\n",
      "F2     308\n",
      "F3     236\n",
      "F4     211\n",
      "F5     154\n",
      "G1     141\n",
      "G2     107\n",
      "G4      99\n",
      "G5      86\n",
      "G3      79\n",
      "Name: sub_grade, dtype: int64\n",
      "*********\n",
      "US Army                             139\n",
      "Bank of America                     115\n",
      "IBM                                  72\n",
      "Kaiser Permanente                    61\n",
      "AT&T                                 61\n",
      "                                   ... \n",
      "Regional Elite Airlines Services      1\n",
      "Mass General Medical Group            1\n",
      "Kontera                               1\n",
      "Southeast Georgia Health ystem        1\n",
      "Homemaker                             1\n",
      "Name: emp_title, Length: 30658, dtype: int64\n",
      "*********\n",
      "10+ years    9369\n",
      "< 1 year     5062\n",
      "2 years      4743\n",
      "3 years      4364\n",
      "4 years      3649\n",
      "1 year       3595\n",
      "5 years      3458\n",
      "6 years      2375\n",
      "7 years      1875\n",
      "8 years      1592\n",
      "9 years      1341\n",
      "Name: emp_length, dtype: int64\n",
      "*********\n",
      "RENT        20181\n",
      "MORTGAGE    18959\n",
      "OWN          3251\n",
      "OTHER         136\n",
      "NONE            8\n",
      "Name: home_ownership, dtype: int64\n",
      "*********\n",
      "Not Verified       18758\n",
      "Verified           13471\n",
      "Source Verified    10306\n",
      "Name: verification_status, dtype: int64\n",
      "*********\n",
      "Dec-2011    2267\n",
      "Nov-2011    2232\n",
      "Oct-2011    2118\n",
      "Sep-2011    2067\n",
      "Aug-2011    1934\n",
      "Jul-2011    1875\n",
      "Jun-2011    1835\n",
      "May-2011    1704\n",
      "Apr-2011    1563\n",
      "Mar-2011    1448\n",
      "Jan-2011    1380\n",
      "Dec-2010    1335\n",
      "Feb-2011    1298\n",
      "Oct-2010    1232\n",
      "Nov-2010    1224\n",
      "Jul-2010    1204\n",
      "Sep-2010    1189\n",
      "Aug-2010    1175\n",
      "Jun-2010    1105\n",
      "May-2010     989\n",
      "Apr-2010     912\n",
      "Mar-2010     828\n",
      "Feb-2010     682\n",
      "Jan-2010     662\n",
      "Nov-2009     662\n",
      "Dec-2009     658\n",
      "Oct-2009     604\n",
      "Sep-2009     507\n",
      "Aug-2009     446\n",
      "Jul-2009     411\n",
      "Jun-2009     406\n",
      "Mar-2008     402\n",
      "May-2009     359\n",
      "Apr-2009     333\n",
      "Mar-2009     324\n",
      "Feb-2008     306\n",
      "Jan-2008     305\n",
      "Feb-2009     302\n",
      "Jan-2009     269\n",
      "Apr-2008     259\n",
      "Dec-2008     253\n",
      "Nov-2008     209\n",
      "Dec-2007     172\n",
      "Jul-2008     141\n",
      "Jun-2008     124\n",
      "Oct-2008     122\n",
      "May-2008     115\n",
      "Nov-2007     112\n",
      "Oct-2007     105\n",
      "Aug-2008     100\n",
      "Aug-2007      74\n",
      "Jul-2007      63\n",
      "Sep-2008      57\n",
      "Sep-2007      53\n",
      "Jun-2007      24\n",
      "Name: issue_d, dtype: int64\n",
      "*********\n",
      "Fully Paid                                             33586\n",
      "Charged Off                                             5653\n",
      "Does not meet the credit policy. Status:Fully Paid      1988\n",
      "Does not meet the credit policy. Status:Charged Off      761\n",
      "Current                                                  513\n",
      "In Grace Period                                           16\n",
      "Late (31-120 days)                                        12\n",
      "Late (16-30 days)                                          5\n",
      "Default                                                    1\n",
      "Name: loan_status, dtype: int64\n",
      "*********\n",
      "n    42534\n",
      "y        1\n",
      "Name: pymnt_plan, dtype: int64\n",
      "*********\n",
      "https://lendingclub.com/browse/loanDetail.action?loan_id=1077501    1\n",
      "https://lendingclub.com/browse/loanDetail.action?loan_id=538025     1\n",
      "https://lendingclub.com/browse/loanDetail.action?loan_id=540325     1\n",
      "https://lendingclub.com/browse/loanDetail.action?loan_id=540300     1\n",
      "https://lendingclub.com/browse/loanDetail.action?loan_id=540270     1\n",
      "                                                                   ..\n",
      "https://lendingclub.com/browse/loanDetail.action?loan_id=770036     1\n",
      "https://lendingclub.com/browse/loanDetail.action?loan_id=769217     1\n",
      "https://lendingclub.com/browse/loanDetail.action?loan_id=770000     1\n",
      "https://lendingclub.com/browse/loanDetail.action?loan_id=765994     1\n",
      "https://lendingclub.com/browse/loanDetail.action?loan_id=70686      1\n",
      "Name: url, Length: 42535, dtype: int64\n",
      "*********\n",
      "                                                                                                                                                                                                                                                                                                                                                                                                                                                                                                                                                 225\n",
      "Debt Consolidation                                                                                                                                                                                                                                                                                                                                                                                                                                                                                                                                11\n",
      "Camping Membership                                                                                                                                                                                                                                                                                                                                                                                                                                                                                                                                 8\n",
      "refinancing                                                                                                                                                                                                                                                                                                                                                                                                                                                                                                                                        5\n",
      "personal loan                                                                                                                                                                                                                                                                                                                                                                                                                                                                                                                                      3\n",
      "                                                                                                                                                                                                                                                                                                                                                                                                                                                                                                                                                ... \n",
      "  Borrower added on 04/13/11 > debt consolidation<br/> Borrower added on 04/13/11 > debt consolidation<br/>                                                                                                                                                                                                                                                                                                                                                                                                                                        1\n",
      "  Borrower added on 04/13/11 > I am looking to pay the difference in the sell of my home that I have up for sale and in contract. I am looking at paying $20000 of the difference so I can relocate closer to me and my wife's employers. We have no other debt, to include credit cards, with the exception of an auto loan at $19000. I plan on solely paying this debt off and ultimately purchasing a home again in a closer location. I initially needed a $12000 loan , but now I am only needing the requested amount. Thank you.<br/>      1\n",
      "  Borrower added on 04/18/11 > I am employed for 23 years at a major aerospace company.<br/>                                                                                                                                                                                                                                                                                                                                                                                                                                                       1\n",
      "I'm in the process of doing home remolding.                                                                                                                                                                                                                                                                                                                                                                                                                                                                                                        1\n",
      "I need to make several improvements around the house - fix garage, fix back fencing, and misc other.                                                                                                                                                                                                                                                                                                                                                                                                                                               1\n",
      "Name: desc, Length: 28963, dtype: int64\n",
      "*********\n",
      "debt_consolidation    19776\n",
      "credit_card            5477\n",
      "other                  4425\n",
      "home_improvement       3199\n",
      "major_purchase         2311\n",
      "small_business         1992\n",
      "car                    1615\n",
      "wedding                1004\n",
      "medical                 753\n",
      "moving                  629\n",
      "house                   426\n",
      "educational             422\n",
      "vacation                400\n",
      "renewable_energy        106\n",
      "Name: purpose, dtype: int64\n",
      "*********\n",
      "Debt Consolidation                  2259\n",
      "Debt Consolidation Loan             1760\n",
      "Personal Loan                        708\n",
      "Consolidation                        547\n",
      "debt consolidation                   532\n",
      "                                    ... \n",
      "CitiCard PayOff                        1\n",
      "Taxes Loan                             1\n",
      "Blazing in 5 years                     1\n",
      "I was scammed and now recovering       1\n",
      "Aroundthehouse                         1\n",
      "Name: title, Length: 21263, dtype: int64\n",
      "*********\n",
      "100xx    649\n",
      "945xx    559\n",
      "606xx    548\n",
      "112xx    538\n",
      "070xx    503\n",
      "        ... \n",
      "823xx      1\n",
      "965xx      1\n",
      "388xx      1\n",
      "386xx      1\n",
      "036xx      1\n",
      "Name: zip_code, Length: 837, dtype: int64\n",
      "*********\n",
      "CA    7429\n",
      "NY    4065\n",
      "FL    3104\n",
      "TX    2915\n",
      "NJ    1988\n",
      "IL    1672\n",
      "PA    1651\n",
      "GA    1503\n",
      "VA    1487\n",
      "MA    1438\n",
      "OH    1329\n",
      "MD    1125\n",
      "AZ     933\n",
      "WA     888\n",
      "CO     857\n",
      "NC     830\n",
      "CT     816\n",
      "MI     796\n",
      "MO     765\n",
      "MN     652\n",
      "NV     527\n",
      "WI     516\n",
      "SC     489\n",
      "AL     484\n",
      "OR     468\n",
      "LA     461\n",
      "KY     359\n",
      "OK     317\n",
      "KS     298\n",
      "UT     278\n",
      "AR     261\n",
      "DC     224\n",
      "RI     208\n",
      "NM     205\n",
      "NH     188\n",
      "WV     187\n",
      "HI     181\n",
      "DE     136\n",
      "MT      96\n",
      "WY      87\n",
      "AK      86\n",
      "SD      67\n",
      "VT      57\n",
      "TN      32\n",
      "MS      26\n",
      "IN      19\n",
      "IA      12\n",
      "NE      11\n",
      "ID       9\n",
      "ME       3\n",
      "Name: addr_state, dtype: int64\n",
      "*********\n",
      "Oct-1999    393\n",
      "Nov-1998    390\n",
      "Oct-2000    370\n",
      "Dec-1998    366\n",
      "Dec-1997    348\n",
      "           ... \n",
      "Jul-1964      1\n",
      "Mar-1963      1\n",
      "Nov-1965      1\n",
      "Apr-1966      1\n",
      "Nov-1959      1\n",
      "Name: earliest_cr_line, Length: 530, dtype: int64\n",
      "*********\n",
      "0%         1070\n",
      "40.70%       65\n",
      "0.20%        64\n",
      "63%          63\n",
      "66.60%       62\n",
      "           ... \n",
      "21.59%        1\n",
      "39.95%        1\n",
      "0.01%         1\n",
      "17.67%        1\n",
      "105.70%       1\n",
      "Name: revol_util, Length: 1119, dtype: int64\n",
      "*********\n",
      "f    42535\n",
      "Name: initial_list_status, dtype: int64\n",
      "*********\n",
      "Mar-2013    1070\n",
      "Dec-2014     949\n",
      "May-2013     943\n",
      "Feb-2013     906\n",
      "Mar-2012     893\n",
      "            ... \n",
      "Jun-2008      20\n",
      "Mar-2008      18\n",
      "Jan-2008      11\n",
      "Feb-2008       8\n",
      "Dec-2007       2\n",
      "Name: last_pymnt_d, Length: 106, dtype: int64\n",
      "*********\n",
      "Sep-2016    16232\n",
      "Mar-2016      859\n",
      "Aug-2016      771\n",
      "Apr-2016      700\n",
      "Feb-2013      696\n",
      "            ...  \n",
      "Nov-2007        3\n",
      "May-2008        1\n",
      "Jul-2008        1\n",
      "Jun-2008        1\n",
      "Jul-2007        1\n",
      "Name: last_credit_pull_d, Length: 111, dtype: int64\n",
      "*********\n",
      "INDIVIDUAL    42535\n",
      "Name: application_type, dtype: int64\n",
      "*********\n"
     ]
    }
   ],
   "source": [
    "#To check the objects\n",
    "for i in df.columns[df.dtypes == 'object']:\n",
    "    print(df[i].value_counts())\n",
    "    print('*********')"
   ]
  },
  {
   "cell_type": "code",
   "execution_count": 15,
   "metadata": {
    "executionInfo": {
     "elapsed": 62,
     "status": "ok",
     "timestamp": 1677497024367,
     "user": {
      "displayName": "Dishant Thakur",
      "userId": "07619413488814898094"
     },
     "user_tz": -330
    },
    "id": "p6nfq1KYQzna"
   },
   "outputs": [],
   "source": [
    "# After observing the above output, we are dropping columns which are not important and which doesn't add value to our use case.\n",
    "df.drop(['emp_title','pymnt_plan','desc','title', 'zip_code', 'addr_state', 'initial_list_status','application_type'],axis=1,inplace=True)"
   ]
  },
  {
   "cell_type": "code",
   "execution_count": 16,
   "metadata": {
    "colab": {
     "base_uri": "https://localhost:8080/"
    },
    "executionInfo": {
     "elapsed": 64,
     "status": "ok",
     "timestamp": 1677497024369,
     "user": {
      "displayName": "Dishant Thakur",
      "userId": "07619413488814898094"
     },
     "user_tz": -330
    },
    "id": "v5asIX98Qzpi",
    "outputId": "dbc82dcf-aeed-4c9e-c6e3-ae885c134228"
   },
   "outputs": [
    {
     "name": "stdout",
     "output_type": "stream",
     "text": [
      "0.0    42502\n",
      "1.0        4\n",
      "Name: acc_now_delinq, dtype: int64\n",
      "**********\n",
      "0.0    42390\n",
      "Name: chargeoff_within_12_mths, dtype: int64\n",
      "**********\n",
      "0.0    42390\n",
      "Name: collections_12_mths_ex_med, dtype: int64\n",
      "**********\n",
      "0.0       42504\n",
      "27.0          1\n",
      "6053.0        1\n",
      "Name: delinq_amnt, dtype: int64\n",
      "**********\n",
      "1.0    42535\n",
      "Name: policy_code, dtype: int64\n",
      "**********\n",
      "0.0    42429\n",
      "1.0        1\n",
      "Name: tax_liens, dtype: int64\n",
      "**********\n"
     ]
    }
   ],
   "source": [
    "# Checking some numerical columns\n",
    "col = ['acc_now_delinq','chargeoff_within_12_mths','collections_12_mths_ex_med','delinq_amnt','policy_code','tax_liens']\n",
    "for i in col:\n",
    "    print(df[i].value_counts())\n",
    "    print('**********')"
   ]
  },
  {
   "cell_type": "code",
   "execution_count": 17,
   "metadata": {
    "executionInfo": {
     "elapsed": 45,
     "status": "ok",
     "timestamp": 1677497024370,
     "user": {
      "displayName": "Dishant Thakur",
      "userId": "07619413488814898094"
     },
     "user_tz": -330
    },
    "id": "yHG5Hf9JQzru"
   },
   "outputs": [],
   "source": [
    "# There are also few not so useful numerical columns.We are dropping these numerical columns after examining them. \n",
    "df.drop(['acc_now_delinq','chargeoff_within_12_mths','collection_recovery_fee',\n",
    "         'collections_12_mths_ex_med','delinq_amnt','policy_code','tax_liens'],axis=1,inplace=True)"
   ]
  },
  {
   "cell_type": "code",
   "execution_count": 18,
   "metadata": {
    "colab": {
     "base_uri": "https://localhost:8080/"
    },
    "executionInfo": {
     "elapsed": 46,
     "status": "ok",
     "timestamp": 1677497024372,
     "user": {
      "displayName": "Dishant Thakur",
      "userId": "07619413488814898094"
     },
     "user_tz": -330
    },
    "id": "XNR2xZ5qQztt",
    "outputId": "cc2b6ca0-7633-4b0b-ae6c-d0cab9b27af4"
   },
   "outputs": [
    {
     "data": {
      "text/plain": [
       "(42542, 43)"
      ]
     },
     "execution_count": 18,
     "metadata": {},
     "output_type": "execute_result"
    }
   ],
   "source": [
    "df.shape"
   ]
  },
  {
   "cell_type": "code",
   "execution_count": 19,
   "metadata": {
    "colab": {
     "base_uri": "https://localhost:8080/",
     "height": 363
    },
    "executionInfo": {
     "elapsed": 41,
     "status": "ok",
     "timestamp": 1677497024373,
     "user": {
      "displayName": "Dishant Thakur",
      "userId": "07619413488814898094"
     },
     "user_tz": -330
    },
    "id": "sJnqApqGQzv5",
    "outputId": "4ada2f44-3b86-41f3-e52e-930cd8a9399e"
   },
   "outputs": [
    {
     "data": {
      "text/html": [
       "\n",
       "  <div id=\"df-22079319-a061-43e6-86e5-e2d1c5ec6118\">\n",
       "    <div class=\"colab-df-container\">\n",
       "      <div>\n",
       "<style scoped>\n",
       "    .dataframe tbody tr th:only-of-type {\n",
       "        vertical-align: middle;\n",
       "    }\n",
       "\n",
       "    .dataframe tbody tr th {\n",
       "        vertical-align: top;\n",
       "    }\n",
       "\n",
       "    .dataframe thead th {\n",
       "        text-align: right;\n",
       "    }\n",
       "</style>\n",
       "<table border=\"1\" class=\"dataframe\">\n",
       "  <thead>\n",
       "    <tr style=\"text-align: right;\">\n",
       "      <th></th>\n",
       "      <th>Percentage of null values</th>\n",
       "    </tr>\n",
       "  </thead>\n",
       "  <tbody>\n",
       "    <tr>\n",
       "      <th>pub_rec_bankruptcies</th>\n",
       "      <td>3.225048</td>\n",
       "    </tr>\n",
       "    <tr>\n",
       "      <th>emp_length</th>\n",
       "      <td>2.630342</td>\n",
       "    </tr>\n",
       "    <tr>\n",
       "      <th>revol_util</th>\n",
       "      <td>0.228010</td>\n",
       "    </tr>\n",
       "    <tr>\n",
       "      <th>last_pymnt_d</th>\n",
       "      <td>0.211556</td>\n",
       "    </tr>\n",
       "    <tr>\n",
       "      <th>delinq_2yrs</th>\n",
       "      <td>0.084622</td>\n",
       "    </tr>\n",
       "    <tr>\n",
       "      <th>earliest_cr_line</th>\n",
       "      <td>0.084622</td>\n",
       "    </tr>\n",
       "    <tr>\n",
       "      <th>inq_last_6mths</th>\n",
       "      <td>0.084622</td>\n",
       "    </tr>\n",
       "    <tr>\n",
       "      <th>open_acc</th>\n",
       "      <td>0.084622</td>\n",
       "    </tr>\n",
       "    <tr>\n",
       "      <th>pub_rec</th>\n",
       "      <td>0.084622</td>\n",
       "    </tr>\n",
       "    <tr>\n",
       "      <th>total_acc</th>\n",
       "      <td>0.084622</td>\n",
       "    </tr>\n",
       "  </tbody>\n",
       "</table>\n",
       "</div>\n",
       "      <button class=\"colab-df-convert\" onclick=\"convertToInteractive('df-22079319-a061-43e6-86e5-e2d1c5ec6118')\"\n",
       "              title=\"Convert this dataframe to an interactive table.\"\n",
       "              style=\"display:none;\">\n",
       "        \n",
       "  <svg xmlns=\"http://www.w3.org/2000/svg\" height=\"24px\"viewBox=\"0 0 24 24\"\n",
       "       width=\"24px\">\n",
       "    <path d=\"M0 0h24v24H0V0z\" fill=\"none\"/>\n",
       "    <path d=\"M18.56 5.44l.94 2.06.94-2.06 2.06-.94-2.06-.94-.94-2.06-.94 2.06-2.06.94zm-11 1L8.5 8.5l.94-2.06 2.06-.94-2.06-.94L8.5 2.5l-.94 2.06-2.06.94zm10 10l.94 2.06.94-2.06 2.06-.94-2.06-.94-.94-2.06-.94 2.06-2.06.94z\"/><path d=\"M17.41 7.96l-1.37-1.37c-.4-.4-.92-.59-1.43-.59-.52 0-1.04.2-1.43.59L10.3 9.45l-7.72 7.72c-.78.78-.78 2.05 0 2.83L4 21.41c.39.39.9.59 1.41.59.51 0 1.02-.2 1.41-.59l7.78-7.78 2.81-2.81c.8-.78.8-2.07 0-2.86zM5.41 20L4 18.59l7.72-7.72 1.47 1.35L5.41 20z\"/>\n",
       "  </svg>\n",
       "      </button>\n",
       "      \n",
       "  <style>\n",
       "    .colab-df-container {\n",
       "      display:flex;\n",
       "      flex-wrap:wrap;\n",
       "      gap: 12px;\n",
       "    }\n",
       "\n",
       "    .colab-df-convert {\n",
       "      background-color: #E8F0FE;\n",
       "      border: none;\n",
       "      border-radius: 50%;\n",
       "      cursor: pointer;\n",
       "      display: none;\n",
       "      fill: #1967D2;\n",
       "      height: 32px;\n",
       "      padding: 0 0 0 0;\n",
       "      width: 32px;\n",
       "    }\n",
       "\n",
       "    .colab-df-convert:hover {\n",
       "      background-color: #E2EBFA;\n",
       "      box-shadow: 0px 1px 2px rgba(60, 64, 67, 0.3), 0px 1px 3px 1px rgba(60, 64, 67, 0.15);\n",
       "      fill: #174EA6;\n",
       "    }\n",
       "\n",
       "    [theme=dark] .colab-df-convert {\n",
       "      background-color: #3B4455;\n",
       "      fill: #D2E3FC;\n",
       "    }\n",
       "\n",
       "    [theme=dark] .colab-df-convert:hover {\n",
       "      background-color: #434B5C;\n",
       "      box-shadow: 0px 1px 3px 1px rgba(0, 0, 0, 0.15);\n",
       "      filter: drop-shadow(0px 1px 2px rgba(0, 0, 0, 0.3));\n",
       "      fill: #FFFFFF;\n",
       "    }\n",
       "  </style>\n",
       "\n",
       "      <script>\n",
       "        const buttonEl =\n",
       "          document.querySelector('#df-22079319-a061-43e6-86e5-e2d1c5ec6118 button.colab-df-convert');\n",
       "        buttonEl.style.display =\n",
       "          google.colab.kernel.accessAllowed ? 'block' : 'none';\n",
       "\n",
       "        async function convertToInteractive(key) {\n",
       "          const element = document.querySelector('#df-22079319-a061-43e6-86e5-e2d1c5ec6118');\n",
       "          const dataTable =\n",
       "            await google.colab.kernel.invokeFunction('convertToInteractive',\n",
       "                                                     [key], {});\n",
       "          if (!dataTable) return;\n",
       "\n",
       "          const docLinkHtml = 'Like what you see? Visit the ' +\n",
       "            '<a target=\"_blank\" href=https://colab.research.google.com/notebooks/data_table.ipynb>data table notebook</a>'\n",
       "            + ' to learn more about interactive tables.';\n",
       "          element.innerHTML = '';\n",
       "          dataTable['output_type'] = 'display_data';\n",
       "          await google.colab.output.renderOutput(dataTable, element);\n",
       "          const docLink = document.createElement('div');\n",
       "          docLink.innerHTML = docLinkHtml;\n",
       "          element.appendChild(docLink);\n",
       "        }\n",
       "      </script>\n",
       "    </div>\n",
       "  </div>\n",
       "  "
      ],
      "text/plain": [
       "                      Percentage of null values\n",
       "pub_rec_bankruptcies                   3.225048\n",
       "emp_length                             2.630342\n",
       "revol_util                             0.228010\n",
       "last_pymnt_d                           0.211556\n",
       "delinq_2yrs                            0.084622\n",
       "earliest_cr_line                       0.084622\n",
       "inq_last_6mths                         0.084622\n",
       "open_acc                               0.084622\n",
       "pub_rec                                0.084622\n",
       "total_acc                              0.084622"
      ]
     },
     "execution_count": 19,
     "metadata": {},
     "output_type": "execute_result"
    }
   ],
   "source": [
    "# Checking for null values\n",
    "# Percentage of null values\n",
    "x= (df.isnull().sum()/df.shape[0])*100\n",
    "y= x[x>0.05]\n",
    "y= pd.DataFrame(y,columns=['Percentage of null values'])\n",
    "y.sort_values(by=['Percentage of null values'],ascending=False)"
   ]
  },
  {
   "cell_type": "code",
   "execution_count": 20,
   "metadata": {
    "executionInfo": {
     "elapsed": 43,
     "status": "ok",
     "timestamp": 1677497024376,
     "user": {
      "displayName": "Dishant Thakur",
      "userId": "07619413488814898094"
     },
     "user_tz": -330
    },
    "id": "DMABD-vWQzyQ"
   },
   "outputs": [],
   "source": [
    "# All these columns are based on future transactions(We only want data that contains info before charging off a loan\n",
    "df.drop(['total_pymnt','total_pymnt_inv','total_rec_prncp','total_rec_int',\n",
    "        'total_rec_late_fee','recoveries'],inplace=True,axis=1)"
   ]
  },
  {
   "cell_type": "code",
   "execution_count": 21,
   "metadata": {
    "executionInfo": {
     "elapsed": 43,
     "status": "ok",
     "timestamp": 1677497024377,
     "user": {
      "displayName": "Dishant Thakur",
      "userId": "07619413488814898094"
     },
     "user_tz": -330
    },
    "id": "tVRsDgGlQz0L"
   },
   "outputs": [],
   "source": [
    "df.drop(['id','url'],axis=1,inplace=True)\n"
   ]
  },
  {
   "cell_type": "code",
   "execution_count": 22,
   "metadata": {
    "colab": {
     "base_uri": "https://localhost:8080/"
    },
    "executionInfo": {
     "elapsed": 44,
     "status": "ok",
     "timestamp": 1677497024378,
     "user": {
      "displayName": "Dishant Thakur",
      "userId": "07619413488814898094"
     },
     "user_tz": -330
    },
    "id": "s5fDJdt_Qz2K",
    "outputId": "96796e2d-edbe-45c8-8a4a-1cfc950ff69f"
   },
   "outputs": [
    {
     "data": {
      "text/plain": [
       "(42542, 35)"
      ]
     },
     "execution_count": 22,
     "metadata": {},
     "output_type": "execute_result"
    }
   ],
   "source": [
    "df.shape"
   ]
  },
  {
   "cell_type": "code",
   "execution_count": 23,
   "metadata": {
    "colab": {
     "base_uri": "https://localhost:8080/"
    },
    "executionInfo": {
     "elapsed": 46,
     "status": "ok",
     "timestamp": 1677497025112,
     "user": {
      "displayName": "Dishant Thakur",
      "userId": "07619413488814898094"
     },
     "user_tz": -330
    },
    "id": "k49W04yJQz4G",
    "outputId": "79df8b9d-018d-4881-a089-87b40a142162"
   },
   "outputs": [
    {
     "data": {
      "text/plain": [
       "member_id                  7\n",
       "loan_amnt                  7\n",
       "funded_amnt                7\n",
       "funded_amnt_inv            7\n",
       "term                       7\n",
       "int_rate                   7\n",
       "installment                7\n",
       "grade                      7\n",
       "sub_grade                  7\n",
       "emp_length              1119\n",
       "home_ownership             7\n",
       "annual_inc                11\n",
       "verification_status        7\n",
       "issue_d                    7\n",
       "loan_status                7\n",
       "purpose                    7\n",
       "dti                        7\n",
       "delinq_2yrs               36\n",
       "earliest_cr_line          36\n",
       "fico_range_low             7\n",
       "fico_range_high            7\n",
       "inq_last_6mths            36\n",
       "open_acc                  36\n",
       "pub_rec                   36\n",
       "revol_bal                  7\n",
       "revol_util                97\n",
       "total_acc                 36\n",
       "out_prncp                  7\n",
       "out_prncp_inv              7\n",
       "last_pymnt_d              90\n",
       "last_pymnt_amnt            7\n",
       "last_credit_pull_d        11\n",
       "last_fico_range_high       7\n",
       "last_fico_range_low        7\n",
       "pub_rec_bankruptcies    1372\n",
       "dtype: int64"
      ]
     },
     "execution_count": 23,
     "metadata": {},
     "output_type": "execute_result"
    }
   ],
   "source": [
    "#To see if null value are present or not\n",
    "df.isnull().sum()"
   ]
  },
  {
   "cell_type": "code",
   "execution_count": 24,
   "metadata": {
    "colab": {
     "base_uri": "https://localhost:8080/",
     "height": 1000
    },
    "executionInfo": {
     "elapsed": 44,
     "status": "ok",
     "timestamp": 1677497025113,
     "user": {
      "displayName": "Dishant Thakur",
      "userId": "07619413488814898094"
     },
     "user_tz": -330
    },
    "id": "u6vdYDC9Qz6Q",
    "outputId": "226a28e4-3323-42a8-f249-db549afdc7ec"
   },
   "outputs": [
    {
     "data": {
      "text/html": [
       "\n",
       "  <div id=\"df-6ccef947-e2da-44e0-837a-b68ac7c06cdf\">\n",
       "    <div class=\"colab-df-container\">\n",
       "      <div>\n",
       "<style scoped>\n",
       "    .dataframe tbody tr th:only-of-type {\n",
       "        vertical-align: middle;\n",
       "    }\n",
       "\n",
       "    .dataframe tbody tr th {\n",
       "        vertical-align: top;\n",
       "    }\n",
       "\n",
       "    .dataframe thead th {\n",
       "        text-align: right;\n",
       "    }\n",
       "</style>\n",
       "<table border=\"1\" class=\"dataframe\">\n",
       "  <thead>\n",
       "    <tr style=\"text-align: right;\">\n",
       "      <th></th>\n",
       "      <th>Percentage of null values</th>\n",
       "    </tr>\n",
       "  </thead>\n",
       "  <tbody>\n",
       "    <tr>\n",
       "      <th>pub_rec_bankruptcies</th>\n",
       "      <td>3.225048</td>\n",
       "    </tr>\n",
       "    <tr>\n",
       "      <th>emp_length</th>\n",
       "      <td>2.630342</td>\n",
       "    </tr>\n",
       "    <tr>\n",
       "      <th>revol_util</th>\n",
       "      <td>0.228010</td>\n",
       "    </tr>\n",
       "    <tr>\n",
       "      <th>last_pymnt_d</th>\n",
       "      <td>0.211556</td>\n",
       "    </tr>\n",
       "    <tr>\n",
       "      <th>total_acc</th>\n",
       "      <td>0.084622</td>\n",
       "    </tr>\n",
       "    <tr>\n",
       "      <th>pub_rec</th>\n",
       "      <td>0.084622</td>\n",
       "    </tr>\n",
       "    <tr>\n",
       "      <th>open_acc</th>\n",
       "      <td>0.084622</td>\n",
       "    </tr>\n",
       "    <tr>\n",
       "      <th>inq_last_6mths</th>\n",
       "      <td>0.084622</td>\n",
       "    </tr>\n",
       "    <tr>\n",
       "      <th>earliest_cr_line</th>\n",
       "      <td>0.084622</td>\n",
       "    </tr>\n",
       "    <tr>\n",
       "      <th>delinq_2yrs</th>\n",
       "      <td>0.084622</td>\n",
       "    </tr>\n",
       "    <tr>\n",
       "      <th>last_credit_pull_d</th>\n",
       "      <td>0.025857</td>\n",
       "    </tr>\n",
       "    <tr>\n",
       "      <th>annual_inc</th>\n",
       "      <td>0.025857</td>\n",
       "    </tr>\n",
       "    <tr>\n",
       "      <th>home_ownership</th>\n",
       "      <td>0.016454</td>\n",
       "    </tr>\n",
       "    <tr>\n",
       "      <th>int_rate</th>\n",
       "      <td>0.016454</td>\n",
       "    </tr>\n",
       "    <tr>\n",
       "      <th>last_fico_range_low</th>\n",
       "      <td>0.016454</td>\n",
       "    </tr>\n",
       "    <tr>\n",
       "      <th>last_fico_range_high</th>\n",
       "      <td>0.016454</td>\n",
       "    </tr>\n",
       "    <tr>\n",
       "      <th>last_pymnt_amnt</th>\n",
       "      <td>0.016454</td>\n",
       "    </tr>\n",
       "    <tr>\n",
       "      <th>funded_amnt</th>\n",
       "      <td>0.016454</td>\n",
       "    </tr>\n",
       "    <tr>\n",
       "      <th>out_prncp_inv</th>\n",
       "      <td>0.016454</td>\n",
       "    </tr>\n",
       "    <tr>\n",
       "      <th>out_prncp</th>\n",
       "      <td>0.016454</td>\n",
       "    </tr>\n",
       "    <tr>\n",
       "      <th>funded_amnt_inv</th>\n",
       "      <td>0.016454</td>\n",
       "    </tr>\n",
       "    <tr>\n",
       "      <th>term</th>\n",
       "      <td>0.016454</td>\n",
       "    </tr>\n",
       "    <tr>\n",
       "      <th>revol_bal</th>\n",
       "      <td>0.016454</td>\n",
       "    </tr>\n",
       "    <tr>\n",
       "      <th>installment</th>\n",
       "      <td>0.016454</td>\n",
       "    </tr>\n",
       "    <tr>\n",
       "      <th>grade</th>\n",
       "      <td>0.016454</td>\n",
       "    </tr>\n",
       "    <tr>\n",
       "      <th>fico_range_high</th>\n",
       "      <td>0.016454</td>\n",
       "    </tr>\n",
       "    <tr>\n",
       "      <th>fico_range_low</th>\n",
       "      <td>0.016454</td>\n",
       "    </tr>\n",
       "    <tr>\n",
       "      <th>sub_grade</th>\n",
       "      <td>0.016454</td>\n",
       "    </tr>\n",
       "    <tr>\n",
       "      <th>loan_amnt</th>\n",
       "      <td>0.016454</td>\n",
       "    </tr>\n",
       "    <tr>\n",
       "      <th>dti</th>\n",
       "      <td>0.016454</td>\n",
       "    </tr>\n",
       "    <tr>\n",
       "      <th>purpose</th>\n",
       "      <td>0.016454</td>\n",
       "    </tr>\n",
       "    <tr>\n",
       "      <th>loan_status</th>\n",
       "      <td>0.016454</td>\n",
       "    </tr>\n",
       "    <tr>\n",
       "      <th>issue_d</th>\n",
       "      <td>0.016454</td>\n",
       "    </tr>\n",
       "    <tr>\n",
       "      <th>verification_status</th>\n",
       "      <td>0.016454</td>\n",
       "    </tr>\n",
       "    <tr>\n",
       "      <th>member_id</th>\n",
       "      <td>0.016454</td>\n",
       "    </tr>\n",
       "  </tbody>\n",
       "</table>\n",
       "</div>\n",
       "      <button class=\"colab-df-convert\" onclick=\"convertToInteractive('df-6ccef947-e2da-44e0-837a-b68ac7c06cdf')\"\n",
       "              title=\"Convert this dataframe to an interactive table.\"\n",
       "              style=\"display:none;\">\n",
       "        \n",
       "  <svg xmlns=\"http://www.w3.org/2000/svg\" height=\"24px\"viewBox=\"0 0 24 24\"\n",
       "       width=\"24px\">\n",
       "    <path d=\"M0 0h24v24H0V0z\" fill=\"none\"/>\n",
       "    <path d=\"M18.56 5.44l.94 2.06.94-2.06 2.06-.94-2.06-.94-.94-2.06-.94 2.06-2.06.94zm-11 1L8.5 8.5l.94-2.06 2.06-.94-2.06-.94L8.5 2.5l-.94 2.06-2.06.94zm10 10l.94 2.06.94-2.06 2.06-.94-2.06-.94-.94-2.06-.94 2.06-2.06.94z\"/><path d=\"M17.41 7.96l-1.37-1.37c-.4-.4-.92-.59-1.43-.59-.52 0-1.04.2-1.43.59L10.3 9.45l-7.72 7.72c-.78.78-.78 2.05 0 2.83L4 21.41c.39.39.9.59 1.41.59.51 0 1.02-.2 1.41-.59l7.78-7.78 2.81-2.81c.8-.78.8-2.07 0-2.86zM5.41 20L4 18.59l7.72-7.72 1.47 1.35L5.41 20z\"/>\n",
       "  </svg>\n",
       "      </button>\n",
       "      \n",
       "  <style>\n",
       "    .colab-df-container {\n",
       "      display:flex;\n",
       "      flex-wrap:wrap;\n",
       "      gap: 12px;\n",
       "    }\n",
       "\n",
       "    .colab-df-convert {\n",
       "      background-color: #E8F0FE;\n",
       "      border: none;\n",
       "      border-radius: 50%;\n",
       "      cursor: pointer;\n",
       "      display: none;\n",
       "      fill: #1967D2;\n",
       "      height: 32px;\n",
       "      padding: 0 0 0 0;\n",
       "      width: 32px;\n",
       "    }\n",
       "\n",
       "    .colab-df-convert:hover {\n",
       "      background-color: #E2EBFA;\n",
       "      box-shadow: 0px 1px 2px rgba(60, 64, 67, 0.3), 0px 1px 3px 1px rgba(60, 64, 67, 0.15);\n",
       "      fill: #174EA6;\n",
       "    }\n",
       "\n",
       "    [theme=dark] .colab-df-convert {\n",
       "      background-color: #3B4455;\n",
       "      fill: #D2E3FC;\n",
       "    }\n",
       "\n",
       "    [theme=dark] .colab-df-convert:hover {\n",
       "      background-color: #434B5C;\n",
       "      box-shadow: 0px 1px 3px 1px rgba(0, 0, 0, 0.15);\n",
       "      filter: drop-shadow(0px 1px 2px rgba(0, 0, 0, 0.3));\n",
       "      fill: #FFFFFF;\n",
       "    }\n",
       "  </style>\n",
       "\n",
       "      <script>\n",
       "        const buttonEl =\n",
       "          document.querySelector('#df-6ccef947-e2da-44e0-837a-b68ac7c06cdf button.colab-df-convert');\n",
       "        buttonEl.style.display =\n",
       "          google.colab.kernel.accessAllowed ? 'block' : 'none';\n",
       "\n",
       "        async function convertToInteractive(key) {\n",
       "          const element = document.querySelector('#df-6ccef947-e2da-44e0-837a-b68ac7c06cdf');\n",
       "          const dataTable =\n",
       "            await google.colab.kernel.invokeFunction('convertToInteractive',\n",
       "                                                     [key], {});\n",
       "          if (!dataTable) return;\n",
       "\n",
       "          const docLinkHtml = 'Like what you see? Visit the ' +\n",
       "            '<a target=\"_blank\" href=https://colab.research.google.com/notebooks/data_table.ipynb>data table notebook</a>'\n",
       "            + ' to learn more about interactive tables.';\n",
       "          element.innerHTML = '';\n",
       "          dataTable['output_type'] = 'display_data';\n",
       "          await google.colab.output.renderOutput(dataTable, element);\n",
       "          const docLink = document.createElement('div');\n",
       "          docLink.innerHTML = docLinkHtml;\n",
       "          element.appendChild(docLink);\n",
       "        }\n",
       "      </script>\n",
       "    </div>\n",
       "  </div>\n",
       "  "
      ],
      "text/plain": [
       "                      Percentage of null values\n",
       "pub_rec_bankruptcies                   3.225048\n",
       "emp_length                             2.630342\n",
       "revol_util                             0.228010\n",
       "last_pymnt_d                           0.211556\n",
       "total_acc                              0.084622\n",
       "pub_rec                                0.084622\n",
       "open_acc                               0.084622\n",
       "inq_last_6mths                         0.084622\n",
       "earliest_cr_line                       0.084622\n",
       "delinq_2yrs                            0.084622\n",
       "last_credit_pull_d                     0.025857\n",
       "annual_inc                             0.025857\n",
       "home_ownership                         0.016454\n",
       "int_rate                               0.016454\n",
       "last_fico_range_low                    0.016454\n",
       "last_fico_range_high                   0.016454\n",
       "last_pymnt_amnt                        0.016454\n",
       "funded_amnt                            0.016454\n",
       "out_prncp_inv                          0.016454\n",
       "out_prncp                              0.016454\n",
       "funded_amnt_inv                        0.016454\n",
       "term                                   0.016454\n",
       "revol_bal                              0.016454\n",
       "installment                            0.016454\n",
       "grade                                  0.016454\n",
       "fico_range_high                        0.016454\n",
       "fico_range_low                         0.016454\n",
       "sub_grade                              0.016454\n",
       "loan_amnt                              0.016454\n",
       "dti                                    0.016454\n",
       "purpose                                0.016454\n",
       "loan_status                            0.016454\n",
       "issue_d                                0.016454\n",
       "verification_status                    0.016454\n",
       "member_id                              0.016454"
      ]
     },
     "execution_count": 24,
     "metadata": {},
     "output_type": "execute_result"
    }
   ],
   "source": [
    "# Checking for null values\n",
    "# Percentage of null values\n",
    "x= (df.isnull().sum()/df.shape[0])*100\n",
    "y= x[x>0.0]\n",
    "y= pd.DataFrame(y,columns=['Percentage of null values'])\n",
    "y.sort_values(by=['Percentage of null values'],ascending=False)"
   ]
  },
  {
   "cell_type": "code",
   "execution_count": 25,
   "metadata": {
    "colab": {
     "base_uri": "https://localhost:8080/"
    },
    "executionInfo": {
     "elapsed": 43,
     "status": "ok",
     "timestamp": 1677497025114,
     "user": {
      "displayName": "Dishant Thakur",
      "userId": "07619413488814898094"
     },
     "user_tz": -330
    },
    "id": "_iDwPB2IQz-d",
    "outputId": "968000c4-a0e7-48ee-9294-dd1a6738b41c"
   },
   "outputs": [
    {
     "data": {
      "text/plain": [
       "array(['B', 'C', 'A', 'E', 'F', 'D', 'G', nan], dtype=object)"
      ]
     },
     "execution_count": 25,
     "metadata": {},
     "output_type": "execute_result"
    }
   ],
   "source": [
    "df['grade'].unique()"
   ]
  },
  {
   "cell_type": "code",
   "execution_count": 26,
   "metadata": {
    "colab": {
     "base_uri": "https://localhost:8080/",
     "height": 630
    },
    "executionInfo": {
     "elapsed": 41,
     "status": "ok",
     "timestamp": 1677497025117,
     "user": {
      "displayName": "Dishant Thakur",
      "userId": "07619413488814898094"
     },
     "user_tz": -330
    },
    "id": "uvKlkqW9T4tS",
    "outputId": "d4bd3045-c666-4d1d-8a27-d7f862a0ba4b"
   },
   "outputs": [
    {
     "data": {
      "text/html": [
       "\n",
       "  <div id=\"df-aee409a2-e87b-46a6-9098-63e6fd738069\">\n",
       "    <div class=\"colab-df-container\">\n",
       "      <div>\n",
       "<style scoped>\n",
       "    .dataframe tbody tr th:only-of-type {\n",
       "        vertical-align: middle;\n",
       "    }\n",
       "\n",
       "    .dataframe tbody tr th {\n",
       "        vertical-align: top;\n",
       "    }\n",
       "\n",
       "    .dataframe thead th {\n",
       "        text-align: right;\n",
       "    }\n",
       "</style>\n",
       "<table border=\"1\" class=\"dataframe\">\n",
       "  <thead>\n",
       "    <tr style=\"text-align: right;\">\n",
       "      <th></th>\n",
       "      <th>member_id</th>\n",
       "      <th>loan_amnt</th>\n",
       "      <th>funded_amnt</th>\n",
       "      <th>funded_amnt_inv</th>\n",
       "      <th>term</th>\n",
       "      <th>int_rate</th>\n",
       "      <th>installment</th>\n",
       "      <th>grade</th>\n",
       "      <th>sub_grade</th>\n",
       "      <th>emp_length</th>\n",
       "      <th>...</th>\n",
       "      <th>revol_util</th>\n",
       "      <th>total_acc</th>\n",
       "      <th>out_prncp</th>\n",
       "      <th>out_prncp_inv</th>\n",
       "      <th>last_pymnt_d</th>\n",
       "      <th>last_pymnt_amnt</th>\n",
       "      <th>last_credit_pull_d</th>\n",
       "      <th>last_fico_range_high</th>\n",
       "      <th>last_fico_range_low</th>\n",
       "      <th>pub_rec_bankruptcies</th>\n",
       "    </tr>\n",
       "  </thead>\n",
       "  <tbody>\n",
       "    <tr>\n",
       "      <th>0</th>\n",
       "      <td>1296599.0</td>\n",
       "      <td>5000.0</td>\n",
       "      <td>5000.0</td>\n",
       "      <td>4975.0</td>\n",
       "      <td>36 months</td>\n",
       "      <td>10.65%</td>\n",
       "      <td>162.87</td>\n",
       "      <td>B</td>\n",
       "      <td>B2</td>\n",
       "      <td>10+ years</td>\n",
       "      <td>...</td>\n",
       "      <td>83.70%</td>\n",
       "      <td>9.0</td>\n",
       "      <td>0.00</td>\n",
       "      <td>0.00</td>\n",
       "      <td>Jan-2015</td>\n",
       "      <td>171.62</td>\n",
       "      <td>Sep-2016</td>\n",
       "      <td>744.0</td>\n",
       "      <td>740.0</td>\n",
       "      <td>0.0</td>\n",
       "    </tr>\n",
       "    <tr>\n",
       "      <th>1</th>\n",
       "      <td>1314167.0</td>\n",
       "      <td>2500.0</td>\n",
       "      <td>2500.0</td>\n",
       "      <td>2500.0</td>\n",
       "      <td>60 months</td>\n",
       "      <td>15.27%</td>\n",
       "      <td>59.83</td>\n",
       "      <td>C</td>\n",
       "      <td>C4</td>\n",
       "      <td>&lt; 1 year</td>\n",
       "      <td>...</td>\n",
       "      <td>9.40%</td>\n",
       "      <td>4.0</td>\n",
       "      <td>0.00</td>\n",
       "      <td>0.00</td>\n",
       "      <td>Apr-2013</td>\n",
       "      <td>119.66</td>\n",
       "      <td>Sep-2016</td>\n",
       "      <td>499.0</td>\n",
       "      <td>0.0</td>\n",
       "      <td>0.0</td>\n",
       "    </tr>\n",
       "    <tr>\n",
       "      <th>2</th>\n",
       "      <td>1313524.0</td>\n",
       "      <td>2400.0</td>\n",
       "      <td>2400.0</td>\n",
       "      <td>2400.0</td>\n",
       "      <td>36 months</td>\n",
       "      <td>15.96%</td>\n",
       "      <td>84.33</td>\n",
       "      <td>C</td>\n",
       "      <td>C5</td>\n",
       "      <td>10+ years</td>\n",
       "      <td>...</td>\n",
       "      <td>98.50%</td>\n",
       "      <td>10.0</td>\n",
       "      <td>0.00</td>\n",
       "      <td>0.00</td>\n",
       "      <td>Jun-2014</td>\n",
       "      <td>649.91</td>\n",
       "      <td>Sep-2016</td>\n",
       "      <td>719.0</td>\n",
       "      <td>715.0</td>\n",
       "      <td>0.0</td>\n",
       "    </tr>\n",
       "    <tr>\n",
       "      <th>3</th>\n",
       "      <td>1277178.0</td>\n",
       "      <td>10000.0</td>\n",
       "      <td>10000.0</td>\n",
       "      <td>10000.0</td>\n",
       "      <td>36 months</td>\n",
       "      <td>13.49%</td>\n",
       "      <td>339.31</td>\n",
       "      <td>C</td>\n",
       "      <td>C1</td>\n",
       "      <td>10+ years</td>\n",
       "      <td>...</td>\n",
       "      <td>21%</td>\n",
       "      <td>37.0</td>\n",
       "      <td>0.00</td>\n",
       "      <td>0.00</td>\n",
       "      <td>Jan-2015</td>\n",
       "      <td>357.48</td>\n",
       "      <td>Apr-2016</td>\n",
       "      <td>604.0</td>\n",
       "      <td>600.0</td>\n",
       "      <td>0.0</td>\n",
       "    </tr>\n",
       "    <tr>\n",
       "      <th>4</th>\n",
       "      <td>1311748.0</td>\n",
       "      <td>3000.0</td>\n",
       "      <td>3000.0</td>\n",
       "      <td>3000.0</td>\n",
       "      <td>60 months</td>\n",
       "      <td>12.69%</td>\n",
       "      <td>67.79</td>\n",
       "      <td>B</td>\n",
       "      <td>B5</td>\n",
       "      <td>1 year</td>\n",
       "      <td>...</td>\n",
       "      <td>53.90%</td>\n",
       "      <td>38.0</td>\n",
       "      <td>270.78</td>\n",
       "      <td>270.78</td>\n",
       "      <td>Sep-2016</td>\n",
       "      <td>67.79</td>\n",
       "      <td>Sep-2016</td>\n",
       "      <td>694.0</td>\n",
       "      <td>690.0</td>\n",
       "      <td>0.0</td>\n",
       "    </tr>\n",
       "    <tr>\n",
       "      <th>5</th>\n",
       "      <td>1311441.0</td>\n",
       "      <td>5000.0</td>\n",
       "      <td>5000.0</td>\n",
       "      <td>5000.0</td>\n",
       "      <td>36 months</td>\n",
       "      <td>7.90%</td>\n",
       "      <td>156.46</td>\n",
       "      <td>A</td>\n",
       "      <td>A4</td>\n",
       "      <td>3 years</td>\n",
       "      <td>...</td>\n",
       "      <td>28.30%</td>\n",
       "      <td>12.0</td>\n",
       "      <td>0.00</td>\n",
       "      <td>0.00</td>\n",
       "      <td>Jan-2015</td>\n",
       "      <td>161.03</td>\n",
       "      <td>Jan-2016</td>\n",
       "      <td>679.0</td>\n",
       "      <td>675.0</td>\n",
       "      <td>0.0</td>\n",
       "    </tr>\n",
       "    <tr>\n",
       "      <th>6</th>\n",
       "      <td>1304742.0</td>\n",
       "      <td>7000.0</td>\n",
       "      <td>7000.0</td>\n",
       "      <td>7000.0</td>\n",
       "      <td>60 months</td>\n",
       "      <td>15.96%</td>\n",
       "      <td>170.08</td>\n",
       "      <td>C</td>\n",
       "      <td>C5</td>\n",
       "      <td>8 years</td>\n",
       "      <td>...</td>\n",
       "      <td>85.60%</td>\n",
       "      <td>11.0</td>\n",
       "      <td>0.00</td>\n",
       "      <td>0.00</td>\n",
       "      <td>May-2016</td>\n",
       "      <td>1313.76</td>\n",
       "      <td>Sep-2016</td>\n",
       "      <td>654.0</td>\n",
       "      <td>650.0</td>\n",
       "      <td>0.0</td>\n",
       "    </tr>\n",
       "    <tr>\n",
       "      <th>7</th>\n",
       "      <td>1288686.0</td>\n",
       "      <td>3000.0</td>\n",
       "      <td>3000.0</td>\n",
       "      <td>3000.0</td>\n",
       "      <td>36 months</td>\n",
       "      <td>18.64%</td>\n",
       "      <td>109.43</td>\n",
       "      <td>E</td>\n",
       "      <td>E1</td>\n",
       "      <td>9 years</td>\n",
       "      <td>...</td>\n",
       "      <td>87.50%</td>\n",
       "      <td>4.0</td>\n",
       "      <td>0.00</td>\n",
       "      <td>0.00</td>\n",
       "      <td>Jan-2015</td>\n",
       "      <td>111.34</td>\n",
       "      <td>Dec-2014</td>\n",
       "      <td>689.0</td>\n",
       "      <td>685.0</td>\n",
       "      <td>0.0</td>\n",
       "    </tr>\n",
       "    <tr>\n",
       "      <th>8</th>\n",
       "      <td>1306957.0</td>\n",
       "      <td>5600.0</td>\n",
       "      <td>5600.0</td>\n",
       "      <td>5600.0</td>\n",
       "      <td>60 months</td>\n",
       "      <td>21.28%</td>\n",
       "      <td>152.39</td>\n",
       "      <td>F</td>\n",
       "      <td>F2</td>\n",
       "      <td>4 years</td>\n",
       "      <td>...</td>\n",
       "      <td>32.60%</td>\n",
       "      <td>13.0</td>\n",
       "      <td>0.00</td>\n",
       "      <td>0.00</td>\n",
       "      <td>Apr-2012</td>\n",
       "      <td>152.39</td>\n",
       "      <td>Sep-2016</td>\n",
       "      <td>499.0</td>\n",
       "      <td>0.0</td>\n",
       "      <td>0.0</td>\n",
       "    </tr>\n",
       "    <tr>\n",
       "      <th>9</th>\n",
       "      <td>1306721.0</td>\n",
       "      <td>5375.0</td>\n",
       "      <td>5375.0</td>\n",
       "      <td>5350.0</td>\n",
       "      <td>60 months</td>\n",
       "      <td>12.69%</td>\n",
       "      <td>121.45</td>\n",
       "      <td>B</td>\n",
       "      <td>B5</td>\n",
       "      <td>&lt; 1 year</td>\n",
       "      <td>...</td>\n",
       "      <td>36.50%</td>\n",
       "      <td>3.0</td>\n",
       "      <td>0.00</td>\n",
       "      <td>0.00</td>\n",
       "      <td>Nov-2012</td>\n",
       "      <td>121.45</td>\n",
       "      <td>Sep-2016</td>\n",
       "      <td>519.0</td>\n",
       "      <td>515.0</td>\n",
       "      <td>0.0</td>\n",
       "    </tr>\n",
       "  </tbody>\n",
       "</table>\n",
       "<p>10 rows × 35 columns</p>\n",
       "</div>\n",
       "      <button class=\"colab-df-convert\" onclick=\"convertToInteractive('df-aee409a2-e87b-46a6-9098-63e6fd738069')\"\n",
       "              title=\"Convert this dataframe to an interactive table.\"\n",
       "              style=\"display:none;\">\n",
       "        \n",
       "  <svg xmlns=\"http://www.w3.org/2000/svg\" height=\"24px\"viewBox=\"0 0 24 24\"\n",
       "       width=\"24px\">\n",
       "    <path d=\"M0 0h24v24H0V0z\" fill=\"none\"/>\n",
       "    <path d=\"M18.56 5.44l.94 2.06.94-2.06 2.06-.94-2.06-.94-.94-2.06-.94 2.06-2.06.94zm-11 1L8.5 8.5l.94-2.06 2.06-.94-2.06-.94L8.5 2.5l-.94 2.06-2.06.94zm10 10l.94 2.06.94-2.06 2.06-.94-2.06-.94-.94-2.06-.94 2.06-2.06.94z\"/><path d=\"M17.41 7.96l-1.37-1.37c-.4-.4-.92-.59-1.43-.59-.52 0-1.04.2-1.43.59L10.3 9.45l-7.72 7.72c-.78.78-.78 2.05 0 2.83L4 21.41c.39.39.9.59 1.41.59.51 0 1.02-.2 1.41-.59l7.78-7.78 2.81-2.81c.8-.78.8-2.07 0-2.86zM5.41 20L4 18.59l7.72-7.72 1.47 1.35L5.41 20z\"/>\n",
       "  </svg>\n",
       "      </button>\n",
       "      \n",
       "  <style>\n",
       "    .colab-df-container {\n",
       "      display:flex;\n",
       "      flex-wrap:wrap;\n",
       "      gap: 12px;\n",
       "    }\n",
       "\n",
       "    .colab-df-convert {\n",
       "      background-color: #E8F0FE;\n",
       "      border: none;\n",
       "      border-radius: 50%;\n",
       "      cursor: pointer;\n",
       "      display: none;\n",
       "      fill: #1967D2;\n",
       "      height: 32px;\n",
       "      padding: 0 0 0 0;\n",
       "      width: 32px;\n",
       "    }\n",
       "\n",
       "    .colab-df-convert:hover {\n",
       "      background-color: #E2EBFA;\n",
       "      box-shadow: 0px 1px 2px rgba(60, 64, 67, 0.3), 0px 1px 3px 1px rgba(60, 64, 67, 0.15);\n",
       "      fill: #174EA6;\n",
       "    }\n",
       "\n",
       "    [theme=dark] .colab-df-convert {\n",
       "      background-color: #3B4455;\n",
       "      fill: #D2E3FC;\n",
       "    }\n",
       "\n",
       "    [theme=dark] .colab-df-convert:hover {\n",
       "      background-color: #434B5C;\n",
       "      box-shadow: 0px 1px 3px 1px rgba(0, 0, 0, 0.15);\n",
       "      filter: drop-shadow(0px 1px 2px rgba(0, 0, 0, 0.3));\n",
       "      fill: #FFFFFF;\n",
       "    }\n",
       "  </style>\n",
       "\n",
       "      <script>\n",
       "        const buttonEl =\n",
       "          document.querySelector('#df-aee409a2-e87b-46a6-9098-63e6fd738069 button.colab-df-convert');\n",
       "        buttonEl.style.display =\n",
       "          google.colab.kernel.accessAllowed ? 'block' : 'none';\n",
       "\n",
       "        async function convertToInteractive(key) {\n",
       "          const element = document.querySelector('#df-aee409a2-e87b-46a6-9098-63e6fd738069');\n",
       "          const dataTable =\n",
       "            await google.colab.kernel.invokeFunction('convertToInteractive',\n",
       "                                                     [key], {});\n",
       "          if (!dataTable) return;\n",
       "\n",
       "          const docLinkHtml = 'Like what you see? Visit the ' +\n",
       "            '<a target=\"_blank\" href=https://colab.research.google.com/notebooks/data_table.ipynb>data table notebook</a>'\n",
       "            + ' to learn more about interactive tables.';\n",
       "          element.innerHTML = '';\n",
       "          dataTable['output_type'] = 'display_data';\n",
       "          await google.colab.output.renderOutput(dataTable, element);\n",
       "          const docLink = document.createElement('div');\n",
       "          docLink.innerHTML = docLinkHtml;\n",
       "          element.appendChild(docLink);\n",
       "        }\n",
       "      </script>\n",
       "    </div>\n",
       "  </div>\n",
       "  "
      ],
      "text/plain": [
       "   member_id  loan_amnt  funded_amnt  funded_amnt_inv        term int_rate  \\\n",
       "0  1296599.0     5000.0       5000.0           4975.0   36 months   10.65%   \n",
       "1  1314167.0     2500.0       2500.0           2500.0   60 months   15.27%   \n",
       "2  1313524.0     2400.0       2400.0           2400.0   36 months   15.96%   \n",
       "3  1277178.0    10000.0      10000.0          10000.0   36 months   13.49%   \n",
       "4  1311748.0     3000.0       3000.0           3000.0   60 months   12.69%   \n",
       "5  1311441.0     5000.0       5000.0           5000.0   36 months    7.90%   \n",
       "6  1304742.0     7000.0       7000.0           7000.0   60 months   15.96%   \n",
       "7  1288686.0     3000.0       3000.0           3000.0   36 months   18.64%   \n",
       "8  1306957.0     5600.0       5600.0           5600.0   60 months   21.28%   \n",
       "9  1306721.0     5375.0       5375.0           5350.0   60 months   12.69%   \n",
       "\n",
       "   installment grade sub_grade emp_length  ... revol_util  total_acc  \\\n",
       "0       162.87     B        B2  10+ years  ...     83.70%        9.0   \n",
       "1        59.83     C        C4   < 1 year  ...      9.40%        4.0   \n",
       "2        84.33     C        C5  10+ years  ...     98.50%       10.0   \n",
       "3       339.31     C        C1  10+ years  ...        21%       37.0   \n",
       "4        67.79     B        B5     1 year  ...     53.90%       38.0   \n",
       "5       156.46     A        A4    3 years  ...     28.30%       12.0   \n",
       "6       170.08     C        C5    8 years  ...     85.60%       11.0   \n",
       "7       109.43     E        E1    9 years  ...     87.50%        4.0   \n",
       "8       152.39     F        F2    4 years  ...     32.60%       13.0   \n",
       "9       121.45     B        B5   < 1 year  ...     36.50%        3.0   \n",
       "\n",
       "  out_prncp out_prncp_inv last_pymnt_d last_pymnt_amnt  last_credit_pull_d  \\\n",
       "0      0.00          0.00     Jan-2015          171.62            Sep-2016   \n",
       "1      0.00          0.00     Apr-2013          119.66            Sep-2016   \n",
       "2      0.00          0.00     Jun-2014          649.91            Sep-2016   \n",
       "3      0.00          0.00     Jan-2015          357.48            Apr-2016   \n",
       "4    270.78        270.78     Sep-2016           67.79            Sep-2016   \n",
       "5      0.00          0.00     Jan-2015          161.03            Jan-2016   \n",
       "6      0.00          0.00     May-2016         1313.76            Sep-2016   \n",
       "7      0.00          0.00     Jan-2015          111.34            Dec-2014   \n",
       "8      0.00          0.00     Apr-2012          152.39            Sep-2016   \n",
       "9      0.00          0.00     Nov-2012          121.45            Sep-2016   \n",
       "\n",
       "   last_fico_range_high last_fico_range_low  pub_rec_bankruptcies  \n",
       "0                 744.0               740.0                   0.0  \n",
       "1                 499.0                 0.0                   0.0  \n",
       "2                 719.0               715.0                   0.0  \n",
       "3                 604.0               600.0                   0.0  \n",
       "4                 694.0               690.0                   0.0  \n",
       "5                 679.0               675.0                   0.0  \n",
       "6                 654.0               650.0                   0.0  \n",
       "7                 689.0               685.0                   0.0  \n",
       "8                 499.0                 0.0                   0.0  \n",
       "9                 519.0               515.0                   0.0  \n",
       "\n",
       "[10 rows x 35 columns]"
      ]
     },
     "execution_count": 26,
     "metadata": {},
     "output_type": "execute_result"
    }
   ],
   "source": [
    "#replace ? with null values in normalized-losses column permanently\n",
    "df['grade'].replace('nan',np.nan,inplace=True)\n",
    "df.head(10)"
   ]
  },
  {
   "cell_type": "code",
   "execution_count": 27,
   "metadata": {
    "executionInfo": {
     "elapsed": 41,
     "status": "ok",
     "timestamp": 1677497025119,
     "user": {
      "displayName": "Dishant Thakur",
      "userId": "07619413488814898094"
     },
     "user_tz": -330
    },
    "id": "YZwJ3L48Q0Gy"
   },
   "outputs": [],
   "source": [
    "from sklearn.preprocessing import LabelEncoder\n",
    "le=LabelEncoder()\n",
    "df.grade = le.fit_transform(df.grade)"
   ]
  },
  {
   "cell_type": "code",
   "execution_count": 28,
   "metadata": {
    "colab": {
     "base_uri": "https://localhost:8080/",
     "height": 363
    },
    "executionInfo": {
     "elapsed": 42,
     "status": "ok",
     "timestamp": 1677497025120,
     "user": {
      "displayName": "Dishant Thakur",
      "userId": "07619413488814898094"
     },
     "user_tz": -330
    },
    "id": "Ljw6BHs5Q0NB",
    "outputId": "79d266d2-ee7d-4e52-ecc5-bc9049feba30"
   },
   "outputs": [
    {
     "data": {
      "text/html": [
       "\n",
       "  <div id=\"df-b6f3c94d-e61a-4b97-a877-5dd193d781fa\">\n",
       "    <div class=\"colab-df-container\">\n",
       "      <div>\n",
       "<style scoped>\n",
       "    .dataframe tbody tr th:only-of-type {\n",
       "        vertical-align: middle;\n",
       "    }\n",
       "\n",
       "    .dataframe tbody tr th {\n",
       "        vertical-align: top;\n",
       "    }\n",
       "\n",
       "    .dataframe thead th {\n",
       "        text-align: right;\n",
       "    }\n",
       "</style>\n",
       "<table border=\"1\" class=\"dataframe\">\n",
       "  <thead>\n",
       "    <tr style=\"text-align: right;\">\n",
       "      <th></th>\n",
       "      <th>Percentage of null values</th>\n",
       "    </tr>\n",
       "  </thead>\n",
       "  <tbody>\n",
       "    <tr>\n",
       "      <th>pub_rec_bankruptcies</th>\n",
       "      <td>3.225048</td>\n",
       "    </tr>\n",
       "    <tr>\n",
       "      <th>emp_length</th>\n",
       "      <td>2.630342</td>\n",
       "    </tr>\n",
       "    <tr>\n",
       "      <th>revol_util</th>\n",
       "      <td>0.228010</td>\n",
       "    </tr>\n",
       "    <tr>\n",
       "      <th>last_pymnt_d</th>\n",
       "      <td>0.211556</td>\n",
       "    </tr>\n",
       "    <tr>\n",
       "      <th>delinq_2yrs</th>\n",
       "      <td>0.084622</td>\n",
       "    </tr>\n",
       "    <tr>\n",
       "      <th>earliest_cr_line</th>\n",
       "      <td>0.084622</td>\n",
       "    </tr>\n",
       "    <tr>\n",
       "      <th>inq_last_6mths</th>\n",
       "      <td>0.084622</td>\n",
       "    </tr>\n",
       "    <tr>\n",
       "      <th>open_acc</th>\n",
       "      <td>0.084622</td>\n",
       "    </tr>\n",
       "    <tr>\n",
       "      <th>pub_rec</th>\n",
       "      <td>0.084622</td>\n",
       "    </tr>\n",
       "    <tr>\n",
       "      <th>total_acc</th>\n",
       "      <td>0.084622</td>\n",
       "    </tr>\n",
       "  </tbody>\n",
       "</table>\n",
       "</div>\n",
       "      <button class=\"colab-df-convert\" onclick=\"convertToInteractive('df-b6f3c94d-e61a-4b97-a877-5dd193d781fa')\"\n",
       "              title=\"Convert this dataframe to an interactive table.\"\n",
       "              style=\"display:none;\">\n",
       "        \n",
       "  <svg xmlns=\"http://www.w3.org/2000/svg\" height=\"24px\"viewBox=\"0 0 24 24\"\n",
       "       width=\"24px\">\n",
       "    <path d=\"M0 0h24v24H0V0z\" fill=\"none\"/>\n",
       "    <path d=\"M18.56 5.44l.94 2.06.94-2.06 2.06-.94-2.06-.94-.94-2.06-.94 2.06-2.06.94zm-11 1L8.5 8.5l.94-2.06 2.06-.94-2.06-.94L8.5 2.5l-.94 2.06-2.06.94zm10 10l.94 2.06.94-2.06 2.06-.94-2.06-.94-.94-2.06-.94 2.06-2.06.94z\"/><path d=\"M17.41 7.96l-1.37-1.37c-.4-.4-.92-.59-1.43-.59-.52 0-1.04.2-1.43.59L10.3 9.45l-7.72 7.72c-.78.78-.78 2.05 0 2.83L4 21.41c.39.39.9.59 1.41.59.51 0 1.02-.2 1.41-.59l7.78-7.78 2.81-2.81c.8-.78.8-2.07 0-2.86zM5.41 20L4 18.59l7.72-7.72 1.47 1.35L5.41 20z\"/>\n",
       "  </svg>\n",
       "      </button>\n",
       "      \n",
       "  <style>\n",
       "    .colab-df-container {\n",
       "      display:flex;\n",
       "      flex-wrap:wrap;\n",
       "      gap: 12px;\n",
       "    }\n",
       "\n",
       "    .colab-df-convert {\n",
       "      background-color: #E8F0FE;\n",
       "      border: none;\n",
       "      border-radius: 50%;\n",
       "      cursor: pointer;\n",
       "      display: none;\n",
       "      fill: #1967D2;\n",
       "      height: 32px;\n",
       "      padding: 0 0 0 0;\n",
       "      width: 32px;\n",
       "    }\n",
       "\n",
       "    .colab-df-convert:hover {\n",
       "      background-color: #E2EBFA;\n",
       "      box-shadow: 0px 1px 2px rgba(60, 64, 67, 0.3), 0px 1px 3px 1px rgba(60, 64, 67, 0.15);\n",
       "      fill: #174EA6;\n",
       "    }\n",
       "\n",
       "    [theme=dark] .colab-df-convert {\n",
       "      background-color: #3B4455;\n",
       "      fill: #D2E3FC;\n",
       "    }\n",
       "\n",
       "    [theme=dark] .colab-df-convert:hover {\n",
       "      background-color: #434B5C;\n",
       "      box-shadow: 0px 1px 3px 1px rgba(0, 0, 0, 0.15);\n",
       "      filter: drop-shadow(0px 1px 2px rgba(0, 0, 0, 0.3));\n",
       "      fill: #FFFFFF;\n",
       "    }\n",
       "  </style>\n",
       "\n",
       "      <script>\n",
       "        const buttonEl =\n",
       "          document.querySelector('#df-b6f3c94d-e61a-4b97-a877-5dd193d781fa button.colab-df-convert');\n",
       "        buttonEl.style.display =\n",
       "          google.colab.kernel.accessAllowed ? 'block' : 'none';\n",
       "\n",
       "        async function convertToInteractive(key) {\n",
       "          const element = document.querySelector('#df-b6f3c94d-e61a-4b97-a877-5dd193d781fa');\n",
       "          const dataTable =\n",
       "            await google.colab.kernel.invokeFunction('convertToInteractive',\n",
       "                                                     [key], {});\n",
       "          if (!dataTable) return;\n",
       "\n",
       "          const docLinkHtml = 'Like what you see? Visit the ' +\n",
       "            '<a target=\"_blank\" href=https://colab.research.google.com/notebooks/data_table.ipynb>data table notebook</a>'\n",
       "            + ' to learn more about interactive tables.';\n",
       "          element.innerHTML = '';\n",
       "          dataTable['output_type'] = 'display_data';\n",
       "          await google.colab.output.renderOutput(dataTable, element);\n",
       "          const docLink = document.createElement('div');\n",
       "          docLink.innerHTML = docLinkHtml;\n",
       "          element.appendChild(docLink);\n",
       "        }\n",
       "      </script>\n",
       "    </div>\n",
       "  </div>\n",
       "  "
      ],
      "text/plain": [
       "                      Percentage of null values\n",
       "pub_rec_bankruptcies                   3.225048\n",
       "emp_length                             2.630342\n",
       "revol_util                             0.228010\n",
       "last_pymnt_d                           0.211556\n",
       "delinq_2yrs                            0.084622\n",
       "earliest_cr_line                       0.084622\n",
       "inq_last_6mths                         0.084622\n",
       "open_acc                               0.084622\n",
       "pub_rec                                0.084622\n",
       "total_acc                              0.084622"
      ]
     },
     "execution_count": 28,
     "metadata": {},
     "output_type": "execute_result"
    }
   ],
   "source": [
    "# Checking for null values\n",
    "# Percentage of null values\n",
    "a = (df.isnull().sum()/df.shape[0])*100\n",
    "b = a[a>0.05]\n",
    "b = pd.DataFrame(b,columns=['Percentage of null values'])\n",
    "b.sort_values(by=['Percentage of null values'],ascending=False)\n"
   ]
  },
  {
   "cell_type": "code",
   "execution_count": 29,
   "metadata": {
    "executionInfo": {
     "elapsed": 42,
     "status": "ok",
     "timestamp": 1677497025121,
     "user": {
      "displayName": "Dishant Thakur",
      "userId": "07619413488814898094"
     },
     "user_tz": -330
    },
    "id": "fa9bZLRpWxy1"
   },
   "outputs": [],
   "source": [
    "# seperating null values by assigning a random string\n",
    "df['emp_length'].fillna('5000',inplace=True) \n",
    "# Filling less than one year as 0 years of experience\n",
    "df.emp_length.replace({'10+ years':'10 years','< 1 year':'0 years'},inplace=True) \n",
    "# Converting it's dtype to float\n",
    "df.emp_length = df.emp_length.apply(lambda x:x[:2])\n",
    "df.emp_length = df.emp_length.astype('float')"
   ]
  },
  {
   "cell_type": "code",
   "execution_count": 30,
   "metadata": {
    "colab": {
     "base_uri": "https://localhost:8080/"
    },
    "executionInfo": {
     "elapsed": 42,
     "status": "ok",
     "timestamp": 1677497025122,
     "user": {
      "displayName": "Dishant Thakur",
      "userId": "07619413488814898094"
     },
     "user_tz": -330
    },
    "id": "sz6vGL5xW05z",
    "outputId": "4ab7c29d-dac0-4dbe-8d04-98617c19b061"
   },
   "outputs": [
    {
     "data": {
      "text/plain": [
       "0"
      ]
     },
     "execution_count": 30,
     "metadata": {},
     "output_type": "execute_result"
    }
   ],
   "source": [
    "df['emp_length'].isnull().sum()"
   ]
  },
  {
   "cell_type": "code",
   "execution_count": 31,
   "metadata": {
    "executionInfo": {
     "elapsed": 40,
     "status": "ok",
     "timestamp": 1677497025124,
     "user": {
      "displayName": "Dishant Thakur",
      "userId": "07619413488814898094"
     },
     "user_tz": -330
    },
    "id": "ywX-RxTYXERQ"
   },
   "outputs": [],
   "source": [
    "# pub_rec_bankruptcies column is highly imbalanced.\n",
    "#So, it is better to fill it with median(0) as even after building model the model will be skewed very much towards 0.\n",
    "df['pub_rec_bankruptcies'].fillna(df['pub_rec_bankruptcies'].median(),inplace=True)"
   ]
  },
  {
   "cell_type": "code",
   "execution_count": 32,
   "metadata": {
    "executionInfo": {
     "elapsed": 42,
     "status": "ok",
     "timestamp": 1677497025126,
     "user": {
      "displayName": "Dishant Thakur",
      "userId": "07619413488814898094"
     },
     "user_tz": -330
    },
    "id": "zFjd8TAdXG7p"
   },
   "outputs": [],
   "source": [
    "# Filling null values with median(string) which is close to 50.\n",
    "df.revol_util.fillna('50%',inplace=True)  \n",
    "\n",
    "# Converting string to float\n",
    "df.revol_util = df.revol_util.apply(lambda x:x[:-1])\n",
    "df.revol_util = df.revol_util.astype('float')"
   ]
  },
  {
   "cell_type": "code",
   "execution_count": 33,
   "metadata": {
    "executionInfo": {
     "elapsed": 44,
     "status": "ok",
     "timestamp": 1677497025128,
     "user": {
      "displayName": "Dishant Thakur",
      "userId": "07619413488814898094"
     },
     "user_tz": -330
    },
    "id": "is5J0glIXG9r"
   },
   "outputs": [],
   "source": [
    "# Dropping the 29 rows which have null values in 4 columns\n",
    "df = df[df['delinq_2yrs'].notnull()]"
   ]
  },
  {
   "cell_type": "code",
   "execution_count": 34,
   "metadata": {
    "executionInfo": {
     "elapsed": 44,
     "status": "ok",
     "timestamp": 1677497025129,
     "user": {
      "displayName": "Dishant Thakur",
      "userId": "07619413488814898094"
     },
     "user_tz": -330
    },
    "id": "aBxdOkF1XG_j"
   },
   "outputs": [],
   "source": [
    "# Converting term and int_rate to numerical columns\n",
    "df.term = df.term.apply(lambda x:x[:2])\n",
    "df.term = df.term.astype('float')\n",
    "df.int_rate = df.int_rate.apply(lambda x:x[:2])\n",
    "df.int_rate = df.int_rate.astype('float')"
   ]
  },
  {
   "cell_type": "code",
   "execution_count": 35,
   "metadata": {
    "colab": {
     "base_uri": "https://localhost:8080/"
    },
    "executionInfo": {
     "elapsed": 45,
     "status": "ok",
     "timestamp": 1677497025130,
     "user": {
      "displayName": "Dishant Thakur",
      "userId": "07619413488814898094"
     },
     "user_tz": -330
    },
    "id": "IePqKcebV1uz",
    "outputId": "6f6c325a-6cb1-42ec-86cc-cf56049e18b8"
   },
   "outputs": [
    {
     "data": {
      "text/plain": [
       "member_id                0\n",
       "loan_amnt                0\n",
       "funded_amnt              0\n",
       "funded_amnt_inv          0\n",
       "term                     0\n",
       "int_rate                 0\n",
       "installment              0\n",
       "grade                    0\n",
       "sub_grade                0\n",
       "emp_length               0\n",
       "home_ownership           0\n",
       "annual_inc               0\n",
       "verification_status      0\n",
       "issue_d                  0\n",
       "loan_status              0\n",
       "purpose                  0\n",
       "dti                      0\n",
       "delinq_2yrs              0\n",
       "earliest_cr_line         0\n",
       "fico_range_low           0\n",
       "fico_range_high          0\n",
       "inq_last_6mths           0\n",
       "open_acc                 0\n",
       "pub_rec                  0\n",
       "revol_bal                0\n",
       "revol_util               0\n",
       "total_acc                0\n",
       "out_prncp                0\n",
       "out_prncp_inv            0\n",
       "last_pymnt_d            83\n",
       "last_pymnt_amnt          0\n",
       "last_credit_pull_d       3\n",
       "last_fico_range_high     0\n",
       "last_fico_range_low      0\n",
       "pub_rec_bankruptcies     0\n",
       "dtype: int64"
      ]
     },
     "execution_count": 35,
     "metadata": {},
     "output_type": "execute_result"
    }
   ],
   "source": [
    "df.isnull().sum()"
   ]
  },
  {
   "cell_type": "code",
   "execution_count": 36,
   "metadata": {
    "colab": {
     "base_uri": "https://localhost:8080/"
    },
    "executionInfo": {
     "elapsed": 894,
     "status": "ok",
     "timestamp": 1677497025983,
     "user": {
      "displayName": "Dishant Thakur",
      "userId": "07619413488814898094"
     },
     "user_tz": -330
    },
    "id": "4OROpxhEV1wm",
    "outputId": "7bc88c0f-114f-41cc-e633-919333481152"
   },
   "outputs": [
    {
     "data": {
      "text/plain": [
       "array([0, 1, 2, 3, 4, 5, 6])"
      ]
     },
     "execution_count": 36,
     "metadata": {},
     "output_type": "execute_result"
    }
   ],
   "source": [
    "# Label encoding on grade column\n",
    "from sklearn import preprocessing\n",
    "le = preprocessing.LabelEncoder()\n",
    "le.fit(df.grade)\n",
    "le.classes_"
   ]
  },
  {
   "cell_type": "code",
   "execution_count": 37,
   "metadata": {
    "executionInfo": {
     "elapsed": 17,
     "status": "ok",
     "timestamp": 1677497025983,
     "user": {
      "displayName": "Dishant Thakur",
      "userId": "07619413488814898094"
     },
     "user_tz": -330
    },
    "id": "9c1PRGPBV1yb"
   },
   "outputs": [],
   "source": [
    "# Dropping the original features to avoid data redundancy\n",
    "df.drop(['issue_d','last_pymnt_d','last_credit_pull_d'],axis=1,inplace=True)"
   ]
  },
  {
   "cell_type": "code",
   "execution_count": 38,
   "metadata": {
    "colab": {
     "base_uri": "https://localhost:8080/"
    },
    "executionInfo": {
     "elapsed": 17,
     "status": "ok",
     "timestamp": 1677497025984,
     "user": {
      "displayName": "Dishant Thakur",
      "userId": "07619413488814898094"
     },
     "user_tz": -330
    },
    "id": "Odt48r1SV10k",
    "outputId": "62a8cb94-4fba-42c0-a0b4-4c51da7c633a"
   },
   "outputs": [
    {
     "data": {
      "text/plain": [
       "member_id               0\n",
       "loan_amnt               0\n",
       "funded_amnt             0\n",
       "funded_amnt_inv         0\n",
       "term                    0\n",
       "int_rate                0\n",
       "installment             0\n",
       "grade                   0\n",
       "sub_grade               0\n",
       "emp_length              0\n",
       "home_ownership          0\n",
       "annual_inc              0\n",
       "verification_status     0\n",
       "loan_status             0\n",
       "purpose                 0\n",
       "dti                     0\n",
       "delinq_2yrs             0\n",
       "earliest_cr_line        0\n",
       "fico_range_low          0\n",
       "fico_range_high         0\n",
       "inq_last_6mths          0\n",
       "open_acc                0\n",
       "pub_rec                 0\n",
       "revol_bal               0\n",
       "revol_util              0\n",
       "total_acc               0\n",
       "out_prncp               0\n",
       "out_prncp_inv           0\n",
       "last_pymnt_amnt         0\n",
       "last_fico_range_high    0\n",
       "last_fico_range_low     0\n",
       "pub_rec_bankruptcies    0\n",
       "dtype: int64"
      ]
     },
     "execution_count": 38,
     "metadata": {},
     "output_type": "execute_result"
    }
   ],
   "source": [
    "df.isnull().sum()"
   ]
  },
  {
   "cell_type": "code",
   "execution_count": 39,
   "metadata": {
    "colab": {
     "base_uri": "https://localhost:8080/",
     "height": 358
    },
    "executionInfo": {
     "elapsed": 2682,
     "status": "ok",
     "timestamp": 1677497028659,
     "user": {
      "displayName": "Dishant Thakur",
      "userId": "07619413488814898094"
     },
     "user_tz": -330
    },
    "id": "BL0_1uWRmc9b",
    "outputId": "d8ca51c2-f1a2-48d0-b518-715318dd3238"
   },
   "outputs": [
    {
     "data": {
      "image/png": "[encoded data removed]",
      "text/plain": [
       "<Figure size 432x288 with 2 Axes>"
      ]
     },
     "metadata": {
      "needs_background": "light"
     },
     "output_type": "display_data"
    }
   ],
   "source": [
    "#To visualize if null value are there or not\n",
    "sb.heatmap(df.isnull())\n",
    "plt.show()\n",
    "\n",
    "#Pink color indicate that null vlaue are not there"
   ]
  },
  {
   "cell_type": "code",
   "execution_count": 40,
   "metadata": {
    "colab": {
     "base_uri": "https://localhost:8080/"
    },
    "executionInfo": {
     "elapsed": 33,
     "status": "ok",
     "timestamp": 1677497028660,
     "user": {
      "displayName": "Dishant Thakur",
      "userId": "07619413488814898094"
     },
     "user_tz": -330
    },
    "id": "kyGDskQqV12n",
    "outputId": "ed28a2a2-203e-4729-db31-f55c9e20e32e"
   },
   "outputs": [
    {
     "data": {
      "text/plain": [
       "array(['A1', 'A2', 'A3', 'A4', 'A5', 'B1', 'B2', 'B3', 'B4', 'B5', 'C1',\n",
       "       'C2', 'C3', 'C4', 'C5', 'D1', 'D2', 'D3', 'D4', 'D5', 'E1', 'E2',\n",
       "       'E3', 'E4', 'E5', 'F1', 'F2', 'F3', 'F4', 'F5', 'G1', 'G2', 'G3',\n",
       "       'G4', 'G5'], dtype=object)"
      ]
     },
     "execution_count": 40,
     "metadata": {},
     "output_type": "execute_result"
    }
   ],
   "source": [
    "# Label encoding on grade column\n",
    "from sklearn import preprocessing\n",
    "le = preprocessing.LabelEncoder()\n",
    "le.fit(df.sub_grade)\n",
    "le.classes_"
   ]
  },
  {
   "cell_type": "markdown",
   "metadata": {
    "id": "DruQ5s_ZcXQx"
   },
   "source": [
    "Working on Target Variable\n",
    "\n",
    "Loan_Class is our Target variable with two categories Good Loan and Bad Loan\n",
    "For Good Loan we are considering categories from loan_status 1- Current 2- Fully Paid 3- Issued and 4- Does not meet the credit policy. Status:Fully Paid Since Current loan could be a Good Loan or a Bad Loan in future which as for now we are considering to be a Good Loan\n",
    "\n",
    "Our Target Varible is Loan_Class where 1 = Good Loan and 0 = Bad Loan\n",
    "\n"
   ]
  },
  {
   "cell_type": "code",
   "execution_count": 41,
   "metadata": {
    "colab": {
     "base_uri": "https://localhost:8080/"
    },
    "executionInfo": {
     "elapsed": 29,
     "status": "ok",
     "timestamp": 1677497028661,
     "user": {
      "displayName": "Dishant Thakur",
      "userId": "07619413488814898094"
     },
     "user_tz": -330
    },
    "id": "lyY9IzzLV18m",
    "outputId": "1b9882a6-ec9f-4e16-b8cc-864b45959724"
   },
   "outputs": [
    {
     "data": {
      "text/plain": [
       "Fully Paid                                             33586\n",
       "Charged Off                                             5653\n",
       "Does not meet the credit policy. Status:Fully Paid      1962\n",
       "Does not meet the credit policy. Status:Charged Off      758\n",
       "Current                                                  513\n",
       "In Grace Period                                           16\n",
       "Late (31-120 days)                                        12\n",
       "Late (16-30 days)                                          5\n",
       "Default                                                    1\n",
       "Name: loan_status, dtype: int64"
      ]
     },
     "execution_count": 41,
     "metadata": {},
     "output_type": "execute_result"
    }
   ],
   "source": [
    "df[\"loan_status\"].value_counts()"
   ]
  },
  {
   "cell_type": "code",
   "execution_count": 42,
   "metadata": {
    "executionInfo": {
     "elapsed": 21,
     "status": "ok",
     "timestamp": 1677497028662,
     "user": {
      "displayName": "Dishant Thakur",
      "userId": "07619413488814898094"
     },
     "user_tz": -330
    },
    "id": "Pf2AKEGGcbMP"
   },
   "outputs": [],
   "source": [
    "# Create a target variable \"Loan Status\" with two categories Good and Bad Loan\n",
    "df[\"Loan_Class\"] = np.where((df.loan_status == 'Current') |\n",
    "                        (df.loan_status == 'Fully Paid') |\n",
    "                        (df.loan_status== \"Issued\") |\n",
    "                        (df.loan_status == 'Does not meet the credit policy. Status:Fully Paid'), 1, 0)"
   ]
  },
  {
   "cell_type": "code",
   "execution_count": 43,
   "metadata": {
    "colab": {
     "base_uri": "https://localhost:8080/"
    },
    "executionInfo": {
     "elapsed": 20,
     "status": "ok",
     "timestamp": 1677497028663,
     "user": {
      "displayName": "Dishant Thakur",
      "userId": "07619413488814898094"
     },
     "user_tz": -330
    },
    "id": "ahBIvT85l-U6",
    "outputId": "b665ada3-cbf4-4e91-98c0-de0f3f155920"
   },
   "outputs": [
    {
     "data": {
      "text/plain": [
       "0"
      ]
     },
     "execution_count": 43,
     "metadata": {},
     "output_type": "execute_result"
    }
   ],
   "source": [
    "#To see if duplicate value are present or not\n",
    "df.duplicated().sum()"
   ]
  },
  {
   "cell_type": "code",
   "execution_count": 44,
   "metadata": {
    "colab": {
     "base_uri": "https://localhost:8080/",
     "height": 427
    },
    "executionInfo": {
     "elapsed": 732,
     "status": "ok",
     "timestamp": 1677497029384,
     "user": {
      "displayName": "Dishant Thakur",
      "userId": "07619413488814898094"
     },
     "user_tz": -330
    },
    "id": "iDpXT39CcbeQ",
    "outputId": "fd5cd1dd-889f-4443-f7de-def1eb345a35"
   },
   "outputs": [
    {
     "data": {
      "text/plain": [
       "Text(0, 0.5, 'Loan Amount')"
      ]
     },
     "execution_count": 44,
     "metadata": {},
     "output_type": "execute_result"
    },
    {
     "data": {
      "image/png": "[encoded data removed]",
      "text/plain": [
       "<Figure size 720x432 with 1 Axes>"
      ]
     },
     "metadata": {
      "needs_background": "light"
     },
     "output_type": "display_data"
    }
   ],
   "source": [
    "# Bar plot of Term (Loan taken for number of months)\n",
    "plt.figure(figsize=(10,6))\n",
    "sb.barplot(\"term\", \"loan_amnt\", data=df, palette='spring')\n",
    "plt.title(\"Term of Loan\", fontsize=16)\n",
    "plt.xlabel(\"Months\", fontsize=14)\n",
    "plt.ylabel(\"Loan Amount\", fontsize=14)"
   ]
  },
  {
   "cell_type": "code",
   "execution_count": 45,
   "metadata": {
    "colab": {
     "base_uri": "https://localhost:8080/",
     "height": 429
    },
    "executionInfo": {
     "elapsed": 1436,
     "status": "ok",
     "timestamp": 1677497030815,
     "user": {
      "displayName": "Dishant Thakur",
      "userId": "07619413488814898094"
     },
     "user_tz": -330
    },
    "id": "Do1--tTxcbf7",
    "outputId": "7c9aa415-9abd-4f8c-fcf4-63c66e4c1a86"
   },
   "outputs": [
    {
     "data": {
      "text/plain": [
       "Text(0.5, 1.0, 'Frequency Distribuition- Loan Amount')"
      ]
     },
     "execution_count": 45,
     "metadata": {},
     "output_type": "execute_result"
    },
    {
     "data": {
      "image/png": "[encoded data removed]",
      "text/plain": [
       "<Figure size 864x432 with 1 Axes>"
      ]
     },
     "metadata": {
      "needs_background": "light"
     },
     "output_type": "display_data"
    }
   ],
   "source": [
    "# Frequency distribution of Loan Amount\n",
    "plt.figure(figsize=(12,6))\n",
    "g = sb.distplot(df[\"loan_amnt\"])\n",
    "g.set_xlabel(\"Loan Amount\", fontsize=12)\n",
    "g.set_ylabel(\"Frequency\", fontsize=12)\n",
    "g.set_title(\"Frequency Distribuition- Loan Amount\", fontsize=20)"
   ]
  },
  {
   "cell_type": "code",
   "execution_count": 46,
   "metadata": {
    "colab": {
     "base_uri": "https://localhost:8080/",
     "height": 429
    },
    "executionInfo": {
     "elapsed": 1104,
     "status": "ok",
     "timestamp": 1677497031906,
     "user": {
      "displayName": "Dishant Thakur",
      "userId": "07619413488814898094"
     },
     "user_tz": -330
    },
    "id": "dXZO7Upccbk7",
    "outputId": "43fb824f-1c1d-4246-be22-e87b450f5ee3"
   },
   "outputs": [
    {
     "data": {
      "text/plain": [
       "Text(0.5, 1.0, 'Int Rate Distribuition')"
      ]
     },
     "execution_count": 46,
     "metadata": {},
     "output_type": "execute_result"
    },
    {
     "data": {
      "image/png": "[encoded data removed]",
      "text/plain": [
       "<Figure size 864x432 with 1 Axes>"
      ]
     },
     "metadata": {
      "needs_background": "light"
     },
     "output_type": "display_data"
    }
   ],
   "source": [
    "#Frequency distribution of Interest Rate\n",
    "plt.figure(figsize=(12,6))\n",
    "g = sb.distplot(df[\"int_rate\"])\n",
    "g.set_xlabel(\"Interest Rate\", fontsize=12)\n",
    "g.set_ylabel(\"Frequency\", fontsize=12)\n",
    "g.set_title(\"Int Rate Distribuition\", fontsize=20)"
   ]
  },
  {
   "cell_type": "code",
   "execution_count": 47,
   "metadata": {
    "colab": {
     "base_uri": "https://localhost:8080/",
     "height": 719
    },
    "executionInfo": {
     "elapsed": 16,
     "status": "ok",
     "timestamp": 1677497031909,
     "user": {
      "displayName": "Dishant Thakur",
      "userId": "07619413488814898094"
     },
     "user_tz": -330
    },
    "id": "O-c5q_rGV1-k",
    "outputId": "8daff6c0-52ef-46f6-e5ad-a636fb29061f"
   },
   "outputs": [
    {
     "data": {
      "text/plain": [
       "Text(0, 0.5, 'Loan Amount')"
      ]
     },
     "execution_count": 47,
     "metadata": {},
     "output_type": "execute_result"
    },
    {
     "data": {
      "image/png": "[encoded data removed]",
      "text/plain": [
       "<Figure size 864x576 with 1 Axes>"
      ]
     },
     "metadata": {
      "needs_background": "light"
     },
     "output_type": "display_data"
    }
   ],
   "source": [
    "# Loan Status vs Loan Amount\n",
    "plt.figure(figsize = (12,8))\n",
    "g = sb.countplot(x=\"loan_status\",data=df,\n",
    "                  palette='hls')\n",
    "g.set_xticklabels(g.get_xticklabels(),rotation=45)\n",
    "g.set_title(\"Loan Status\", fontsize=20)\n",
    "g.set_xlabel(\"Loan Status\", fontsize=15)\n",
    "g.set_ylabel(\"Loan Amount\", fontsize=20)"
   ]
  },
  {
   "cell_type": "code",
   "execution_count": 48,
   "metadata": {
    "colab": {
     "base_uri": "https://localhost:8080/",
     "height": 608
    },
    "executionInfo": {
     "elapsed": 1074,
     "status": "ok",
     "timestamp": 1677497032972,
     "user": {
      "displayName": "Dishant Thakur",
      "userId": "07619413488814898094"
     },
     "user_tz": -330
    },
    "id": "KmMZ04A7V2Ak",
    "outputId": "03fc46f9-b827-4423-97d4-de4b33bbbd66"
   },
   "outputs": [
    {
     "data": {
      "text/plain": [
       "Text(0, 0.5, 'Loan Amount')"
      ]
     },
     "execution_count": 48,
     "metadata": {},
     "output_type": "execute_result"
    },
    {
     "data": {
      "image/png": "[encoded data removed]",
      "text/plain": [
       "<Figure size 864x576 with 1 Axes>"
      ]
     },
     "metadata": {
      "needs_background": "light"
     },
     "output_type": "display_data"
    }
   ],
   "source": [
    "# Application Type and Loan Amount\n",
    "plt.figure(figsize = (12,8))\n",
    "g = sb.countplot(x=\"purpose\",data=df,\n",
    "                  palette='hls')\n",
    "g.set_xticklabels(g.get_xticklabels(),rotation=45)\n",
    "g.set_title(\"Application Type\", fontsize=20)\n",
    "g.set_xlabel(\"Application Type\", fontsize=15)\n",
    "g.set_ylabel(\"Loan Amount\", fontsize=15)"
   ]
  },
  {
   "cell_type": "code",
   "execution_count": 49,
   "metadata": {
    "colab": {
     "base_uri": "https://localhost:8080/",
     "height": 523
    },
    "executionInfo": {
     "elapsed": 764,
     "status": "ok",
     "timestamp": 1677497033726,
     "user": {
      "displayName": "Dishant Thakur",
      "userId": "07619413488814898094"
     },
     "user_tz": -330
    },
    "id": "_Awb3EFmV2CV",
    "outputId": "edd218ef-e8ee-4ef4-f8c1-042ee5aa5df4"
   },
   "outputs": [
    {
     "data": {
      "image/png": "[encoded data removed]",
      "text/plain": [
       "<Figure size 1296x576 with 1 Axes>"
      ]
     },
     "metadata": {
      "needs_background": "light"
     },
     "output_type": "display_data"
    }
   ],
   "source": [
    "# Employment Length and Number of Loans\n",
    "df['emp_length'].value_counts().sort_values().plot(kind='barh',figsize=(18,8))\n",
    "plt.title('Number of loans distributed by Employment Years',fontsize=20)\n",
    "plt.xlabel('Number of loans',fontsize=15)\n",
    "plt.ylabel('Years worked',fontsize=15);"
   ]
  },
  {
   "cell_type": "code",
   "execution_count": 50,
   "metadata": {
    "executionInfo": {
     "elapsed": 1292,
     "status": "ok",
     "timestamp": 1677497035006,
     "user": {
      "displayName": "Dishant Thakur",
      "userId": "07619413488814898094"
     },
     "user_tz": -330
    },
    "id": "zIG_6L7BV2Ft"
   },
   "outputs": [],
   "source": [
    "# categorical_features.columns\n",
    "\n",
    "cols= ['sub_grade', 'emp_length', 'home_ownership',\n",
    "       'verification_status', 'loan_status', 'purpose','earliest_cr_line']\n",
    "for i in cols:\n",
    "    lbl= LabelEncoder()\n",
    "    lbl.fit(list(df[i].values))\n",
    "    df[i]= lbl.transform(list(df[i].values))"
   ]
  },
  {
   "cell_type": "code",
   "execution_count": 51,
   "metadata": {
    "executionInfo": {
     "elapsed": 37,
     "status": "ok",
     "timestamp": 1677497035008,
     "user": {
      "displayName": "Dishant Thakur",
      "userId": "07619413488814898094"
     },
     "user_tz": -330
    },
    "id": "pXKUkbcTV2I9"
   },
   "outputs": [],
   "source": [
    "#To select input and output\n",
    "X=df.drop('Loan_Class',axis=1)\n",
    "Y=df['Loan_Class']"
   ]
  },
  {
   "cell_type": "code",
   "execution_count": 52,
   "metadata": {
    "executionInfo": {
     "elapsed": 37,
     "status": "ok",
     "timestamp": 1677497035011,
     "user": {
      "displayName": "Dishant Thakur",
      "userId": "07619413488814898094"
     },
     "user_tz": -330
    },
    "id": "N7-xcm8uV2Kl"
   },
   "outputs": [],
   "source": [
    "#To split the dataset into training an testing data\n",
    "from sklearn.model_selection import train_test_split\n",
    "X_train,X_test,Y_train,Y_test=train_test_split(X,Y,test_size=0.3,random_state=1)"
   ]
  },
  {
   "cell_type": "code",
   "execution_count": 53,
   "metadata": {
    "colab": {
     "base_uri": "https://localhost:8080/"
    },
    "executionInfo": {
     "elapsed": 36,
     "status": "ok",
     "timestamp": 1677497035012,
     "user": {
      "displayName": "Dishant Thakur",
      "userId": "07619413488814898094"
     },
     "user_tz": -330
    },
    "id": "60NT2x5JV2NG",
    "outputId": "6a3115ea-a986-434c-b965-c4ec92ae61de"
   },
   "outputs": [
    {
     "data": {
      "text/plain": [
       "((29754, 32), (29754,))"
      ]
     },
     "execution_count": 53,
     "metadata": {},
     "output_type": "execute_result"
    }
   ],
   "source": [
    "#To see numbers of data in training \n",
    "X_train.shape,Y_train.shape"
   ]
  },
  {
   "cell_type": "code",
   "execution_count": 54,
   "metadata": {
    "colab": {
     "base_uri": "https://localhost:8080/"
    },
    "executionInfo": {
     "elapsed": 32,
     "status": "ok",
     "timestamp": 1677497035013,
     "user": {
      "displayName": "Dishant Thakur",
      "userId": "07619413488814898094"
     },
     "user_tz": -330
    },
    "id": "ZuAxFbLCV2PH",
    "outputId": "afbfaaf9-cdac-41af-f30c-e6a3591d5254"
   },
   "outputs": [
    {
     "data": {
      "text/plain": [
       "((12752, 32), (12752,))"
      ]
     },
     "execution_count": 54,
     "metadata": {},
     "output_type": "execute_result"
    }
   ],
   "source": [
    "#To see number of data in testing\n",
    "X_test.shape,Y_test.shape"
   ]
  },
  {
   "cell_type": "code",
   "execution_count": 55,
   "metadata": {
    "executionInfo": {
     "elapsed": 24,
     "status": "ok",
     "timestamp": 1677497035015,
     "user": {
      "displayName": "Dishant Thakur",
      "userId": "07619413488814898094"
     },
     "user_tz": -330
    },
    "id": "jHkKfVjKV2Qq"
   },
   "outputs": [],
   "source": [
    "#To apply StandardScaler\n",
    "#To apply Scaling\n",
    "from sklearn.preprocessing import StandardScaler\n",
    "ss=StandardScaler()\n",
    "X_train=ss.fit_transform(X_train)\n",
    "X_test=ss.transform(X_test)"
   ]
  },
  {
   "cell_type": "code",
   "execution_count": 56,
   "metadata": {
    "colab": {
     "base_uri": "https://localhost:8080/",
     "height": 280
    },
    "executionInfo": {
     "elapsed": 24,
     "status": "ok",
     "timestamp": 1677497035017,
     "user": {
      "displayName": "Dishant Thakur",
      "userId": "07619413488814898094"
     },
     "user_tz": -330
    },
    "id": "87gmNmdWgPHA",
    "outputId": "c2f00e83-06e5-4f9a-d393-3de0d0559b8a"
   },
   "outputs": [
    {
     "data": {
      "image/png": "[encoded data removed]",
      "text/plain": [
       "<Figure size 432x288 with 1 Axes>"
      ]
     },
     "metadata": {
      "needs_background": "light"
     },
     "output_type": "display_data"
    }
   ],
   "source": [
    "#To visualize the income to see the balance\n",
    "sb.countplot(data=df,x='Loan_Class')\n",
    "f=df['Loan_Class'].value_counts()\n",
    "plt.yticks(f)\n",
    "plt.show()\n",
    "#As we can clearly see that the column is unbalanced\n",
    "#We will balance it further"
   ]
  },
  {
   "cell_type": "code",
   "execution_count": 57,
   "metadata": {
    "executionInfo": {
     "elapsed": 752,
     "status": "ok",
     "timestamp": 1677497035749,
     "user": {
      "displayName": "Dishant Thakur",
      "userId": "07619413488814898094"
     },
     "user_tz": -330
    },
    "id": "23JfYJRDgPLu"
   },
   "outputs": [],
   "source": [
    "#Now we are balancing the dataser\n",
    "#We use RandomOverSampler\n",
    "#As RandomOverSampler convert the minority-sample to majority-sample\n",
    "#To balance the target column \n",
    "from imblearn.over_sampling import RandomOverSampler\n",
    "#create the object\n",
    "ros=RandomOverSampler(random_state=1)\n",
    "#To apply ros in training dataset\n",
    "X_train,Y_train=ros.fit_resample(X_train,Y_train)\n",
    "#To apply ros in testing dataset\n",
    "X_test,Y_test=ros.fit_resample(X_test,Y_test)"
   ]
  },
  {
   "cell_type": "code",
   "execution_count": 58,
   "metadata": {
    "colab": {
     "base_uri": "https://localhost:8080/"
    },
    "executionInfo": {
     "elapsed": 25,
     "status": "ok",
     "timestamp": 1677497035750,
     "user": {
      "displayName": "Dishant Thakur",
      "userId": "07619413488814898094"
     },
     "user_tz": -330
    },
    "id": "A3YrofeGigJ1",
    "outputId": "45ca0aab-9a8b-4a53-91e7-9279de69c98e"
   },
   "outputs": [
    {
     "data": {
      "text/plain": [
       "0    25209\n",
       "1    25209\n",
       "Name: Loan_Class, dtype: int64"
      ]
     },
     "execution_count": 58,
     "metadata": {},
     "output_type": "execute_result"
    }
   ],
   "source": [
    "#To see that the training data is balance or not\n",
    "Y_train.value_counts()\n",
    "#As we can see that the training data is balanced"
   ]
  },
  {
   "cell_type": "code",
   "execution_count": 59,
   "metadata": {
    "colab": {
     "base_uri": "https://localhost:8080/"
    },
    "executionInfo": {
     "elapsed": 22,
     "status": "ok",
     "timestamp": 1677497035751,
     "user": {
      "displayName": "Dishant Thakur",
      "userId": "07619413488814898094"
     },
     "user_tz": -330
    },
    "id": "OBMhf_-UigLb",
    "outputId": "bd767a25-170d-4253-dfb4-fa76c03c90dd"
   },
   "outputs": [
    {
     "data": {
      "text/plain": [
       "1    10852\n",
       "0    10852\n",
       "Name: Loan_Class, dtype: int64"
      ]
     },
     "execution_count": 59,
     "metadata": {},
     "output_type": "execute_result"
    }
   ],
   "source": [
    "#To see that the testing data is balance or not\n",
    "Y_test.value_counts()\n",
    "#As we can see that the training data is balanced\n",
    "#Now the data is balanced"
   ]
  },
  {
   "cell_type": "markdown",
   "metadata": {
    "id": "Fi_UK6ghi_EF"
   },
   "source": [
    "Creating the function to speedup the model building process"
   ]
  },
  {
   "cell_type": "code",
   "execution_count": 60,
   "metadata": {
    "executionInfo": {
     "elapsed": 13,
     "status": "ok",
     "timestamp": 1677497035751,
     "user": {
      "displayName": "Dishant Thakur",
      "userId": "07619413488814898094"
     },
     "user_tz": -330
    },
    "id": "VAS6B0rligPI"
   },
   "outputs": [],
   "source": [
    "#We create the model which train,test, give classification_report and confusion_matrix\n",
    "#It saves the time\n",
    "def model(model):\n",
    "    #To train the data\n",
    "    model.fit(X_train,Y_train)\n",
    "    #To test the data\n",
    "    Y_pred=model.predict(X_test)\n",
    "    #To give classification_report\n",
    "    print(classification_report(Y_test,Y_pred))\n",
    "    #To give confusion_matrix\n",
    "    print(confusion_matrix(Y_test,Y_pred))\n",
    "    return model"
   ]
  },
  {
   "cell_type": "markdown",
   "metadata": {
    "id": "qPCDLeS-kQk_"
   },
   "source": [
    "Applying Logistic Regression"
   ]
  },
  {
   "cell_type": "code",
   "execution_count": 61,
   "metadata": {
    "colab": {
     "base_uri": "https://localhost:8080/"
    },
    "executionInfo": {
     "elapsed": 1941,
     "status": "ok",
     "timestamp": 1677497037681,
     "user": {
      "displayName": "Dishant Thakur",
      "userId": "07619413488814898094"
     },
     "user_tz": -330
    },
    "id": "L8k8zZdgkH1T",
    "outputId": "8199c204-2903-4330-8672-d476e3628439"
   },
   "outputs": [
    {
     "name": "stdout",
     "output_type": "stream",
     "text": [
      "              precision    recall  f1-score   support\n",
      "\n",
      "           0       0.99      0.99      0.99     10852\n",
      "           1       0.99      0.99      0.99     10852\n",
      "\n",
      "    accuracy                           0.99     21704\n",
      "   macro avg       0.99      0.99      0.99     21704\n",
      "weighted avg       0.99      0.99      0.99     21704\n",
      "\n",
      "[[10776    76]\n",
      " [  138 10714]]\n"
     ]
    }
   ],
   "source": [
    "#create the object of LogisticRegression\n",
    "lr=LogisticRegression()\n",
    "#Give the object to the function\n",
    "lr=model(lr)"
   ]
  },
  {
   "cell_type": "markdown",
   "metadata": {
    "id": "t1Vej3RMlcSp"
   },
   "source": [
    "As We are getting excellent accurracy \n",
    "SO we are not using other algorithms so \n",
    "The Acurracy of the model is with recall=99% and F1score=99%"
   ]
  },
  {
   "cell_type": "code",
   "execution_count": 61,
   "metadata": {
    "executionInfo": {
     "elapsed": 36,
     "status": "ok",
     "timestamp": 1677497037682,
     "user": {
      "displayName": "Dishant Thakur",
      "userId": "07619413488814898094"
     },
     "user_tz": -330
    },
    "id": "UhAt1mUakH3E"
   },
   "outputs": [],
   "source": []
  },
  {
   "cell_type": "code",
   "execution_count": 61,
   "metadata": {
    "executionInfo": {
     "elapsed": 33,
     "status": "ok",
     "timestamp": 1677497037683,
     "user": {
      "displayName": "Dishant Thakur",
      "userId": "07619413488814898094"
     },
     "user_tz": -330
    },
    "id": "1M7OlUyekH6P"
   },
   "outputs": [],
   "source": []
  },
  {
   "cell_type": "code",
   "execution_count": 61,
   "metadata": {
    "executionInfo": {
     "elapsed": 31,
     "status": "ok",
     "timestamp": 1677497037684,
     "user": {
      "displayName": "Dishant Thakur",
      "userId": "07619413488814898094"
     },
     "user_tz": -330
    },
    "id": "hFzsU77hkH8M"
   },
   "outputs": [],
   "source": []
  },
  {
   "cell_type": "code",
   "execution_count": 61,
   "metadata": {
    "executionInfo": {
     "elapsed": 28,
     "status": "ok",
     "timestamp": 1677497037684,
     "user": {
      "displayName": "Dishant Thakur",
      "userId": "07619413488814898094"
     },
     "user_tz": -330
    },
    "id": "bm8SfktukIAb"
   },
   "outputs": [],
   "source": []
  },
  {
   "cell_type": "code",
   "execution_count": 61,
   "metadata": {
    "executionInfo": {
     "elapsed": 27,
     "status": "ok",
     "timestamp": 1677497037685,
     "user": {
      "displayName": "Dishant Thakur",
      "userId": "07619413488814898094"
     },
     "user_tz": -330
    },
    "id": "O_tp82Z0kICY"
   },
   "outputs": [],
   "source": []
  }
 ],
 "metadata": {
  "colab": {
   "provenance": []
  },
  "kernelspec": {
   "display_name": "Python 3 (ipykernel)",
   "language": "python",
   "name": "python3"
  },
  "language_info": {
   "codemirror_mode": {
    "name": "ipython",
    "version": 3
   },
   "file_extension": ".py",
   "mimetype": "text/x-python",
   "name": "python",
   "nbconvert_exporter": "python",
   "pygments_lexer": "ipython3",
   "version": "3.9.12"
  }
 },
 "nbformat": 4,
 "nbformat_minor": 1
}
