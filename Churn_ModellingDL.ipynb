{
 "cells": [
  {
   "cell_type": "markdown",
   "metadata": {
    "id": "nJJnC1Z0kHKB"
   },
   "source": [
    "# Churn_ModellingData_DL :"
   ]
  },
  {
   "cell_type": "code",
   "execution_count": null,
   "metadata": {
    "colab": {
     "base_uri": "https://localhost:8080/"
    },
    "id": "4-1S3LYfIPG5",
    "outputId": "655186ab-1cc8-4df2-a2e1-b2ba8fad46cb"
   },
   "outputs": [
    {
     "name": "stdout",
     "output_type": "stream",
     "text": [
      "Drive already mounted at /content/drive; to attempt to forcibly remount, call drive.mount(\"/content/drive\", force_remount=True).\n"
     ]
    }
   ],
   "source": [
    "from google.colab import drive\n",
    "drive.mount('/content/drive')"
   ]
  },
  {
   "cell_type": "code",
   "execution_count": null,
   "metadata": {
    "id": "bl2K4A8jjawj"
   },
   "outputs": [],
   "source": [
    "# to import basic libraries :\n",
    "import pandas as pd\n",
    "import numpy as np\n",
    "import matplotlib.pyplot as plt \n",
    "import seaborn as sns\n",
    "import warnings as w\n",
    "w.filterwarnings(\"ignore\")"
   ]
  },
  {
   "cell_type": "code",
   "execution_count": null,
   "metadata": {
    "colab": {
     "base_uri": "https://localhost:8080/"
    },
    "id": "VkBkljngkdYp",
    "outputId": "86724df9-ed4a-41fa-b04d-6dfb8d8a7e91"
   },
   "outputs": [
    {
     "name": "stdout",
     "output_type": "stream",
     "text": [
      "<class 'pandas.core.frame.DataFrame'>\n",
      "RangeIndex: 10000 entries, 0 to 9999\n",
      "Data columns (total 14 columns):\n",
      " #   Column           Non-Null Count  Dtype  \n",
      "---  ------           --------------  -----  \n",
      " 0   RowNumber        10000 non-null  int64  \n",
      " 1   CustomerId       10000 non-null  int64  \n",
      " 2   Surname          10000 non-null  object \n",
      " 3   CreditScore      10000 non-null  int64  \n",
      " 4   Geography        10000 non-null  object \n",
      " 5   Gender           10000 non-null  object \n",
      " 6   Age              10000 non-null  int64  \n",
      " 7   Tenure           10000 non-null  int64  \n",
      " 8   Balance          10000 non-null  float64\n",
      " 9   NumOfProducts    10000 non-null  int64  \n",
      " 10  HasCrCard        10000 non-null  int64  \n",
      " 11  IsActiveMember   10000 non-null  int64  \n",
      " 12  EstimatedSalary  10000 non-null  float64\n",
      " 13  Exited           10000 non-null  int64  \n",
      "dtypes: float64(2), int64(9), object(3)\n",
      "memory usage: 1.1+ MB\n"
     ]
    }
   ],
   "source": [
    "df = pd.read_csv(\"/content/drive/MyDrive/Deep Learning notebook/Churn_Modelling.csv\")\n",
    "df.info()"
   ]
  },
  {
   "cell_type": "code",
   "execution_count": null,
   "metadata": {
    "colab": {
     "base_uri": "https://localhost:8080/",
     "height": 270
    },
    "id": "o7USfzelkhYM",
    "outputId": "314e986f-7edd-4dec-b58c-ae642c9c59db"
   },
   "outputs": [
    {
     "data": {
      "text/html": [
       "\n",
       "  <div id=\"df-fa6bd685-4c11-429b-a9fa-93d180c629cb\">\n",
       "    <div class=\"colab-df-container\">\n",
       "      <div>\n",
       "<style scoped>\n",
       "    .dataframe tbody tr th:only-of-type {\n",
       "        vertical-align: middle;\n",
       "    }\n",
       "\n",
       "    .dataframe tbody tr th {\n",
       "        vertical-align: top;\n",
       "    }\n",
       "\n",
       "    .dataframe thead th {\n",
       "        text-align: right;\n",
       "    }\n",
       "</style>\n",
       "<table border=\"1\" class=\"dataframe\">\n",
       "  <thead>\n",
       "    <tr style=\"text-align: right;\">\n",
       "      <th></th>\n",
       "      <th>RowNumber</th>\n",
       "      <th>CustomerId</th>\n",
       "      <th>Surname</th>\n",
       "      <th>CreditScore</th>\n",
       "      <th>Geography</th>\n",
       "      <th>Gender</th>\n",
       "      <th>Age</th>\n",
       "      <th>Tenure</th>\n",
       "      <th>Balance</th>\n",
       "      <th>NumOfProducts</th>\n",
       "      <th>HasCrCard</th>\n",
       "      <th>IsActiveMember</th>\n",
       "      <th>EstimatedSalary</th>\n",
       "      <th>Exited</th>\n",
       "    </tr>\n",
       "  </thead>\n",
       "  <tbody>\n",
       "    <tr>\n",
       "      <th>0</th>\n",
       "      <td>1</td>\n",
       "      <td>15634602</td>\n",
       "      <td>Hargrave</td>\n",
       "      <td>619</td>\n",
       "      <td>France</td>\n",
       "      <td>Female</td>\n",
       "      <td>42</td>\n",
       "      <td>2</td>\n",
       "      <td>0.00</td>\n",
       "      <td>1</td>\n",
       "      <td>1</td>\n",
       "      <td>1</td>\n",
       "      <td>101348.88</td>\n",
       "      <td>1</td>\n",
       "    </tr>\n",
       "    <tr>\n",
       "      <th>1</th>\n",
       "      <td>2</td>\n",
       "      <td>15647311</td>\n",
       "      <td>Hill</td>\n",
       "      <td>608</td>\n",
       "      <td>Spain</td>\n",
       "      <td>Female</td>\n",
       "      <td>41</td>\n",
       "      <td>1</td>\n",
       "      <td>83807.86</td>\n",
       "      <td>1</td>\n",
       "      <td>0</td>\n",
       "      <td>1</td>\n",
       "      <td>112542.58</td>\n",
       "      <td>0</td>\n",
       "    </tr>\n",
       "    <tr>\n",
       "      <th>2</th>\n",
       "      <td>3</td>\n",
       "      <td>15619304</td>\n",
       "      <td>Onio</td>\n",
       "      <td>502</td>\n",
       "      <td>France</td>\n",
       "      <td>Female</td>\n",
       "      <td>42</td>\n",
       "      <td>8</td>\n",
       "      <td>159660.80</td>\n",
       "      <td>3</td>\n",
       "      <td>1</td>\n",
       "      <td>0</td>\n",
       "      <td>113931.57</td>\n",
       "      <td>1</td>\n",
       "    </tr>\n",
       "    <tr>\n",
       "      <th>3</th>\n",
       "      <td>4</td>\n",
       "      <td>15701354</td>\n",
       "      <td>Boni</td>\n",
       "      <td>699</td>\n",
       "      <td>France</td>\n",
       "      <td>Female</td>\n",
       "      <td>39</td>\n",
       "      <td>1</td>\n",
       "      <td>0.00</td>\n",
       "      <td>2</td>\n",
       "      <td>0</td>\n",
       "      <td>0</td>\n",
       "      <td>93826.63</td>\n",
       "      <td>0</td>\n",
       "    </tr>\n",
       "    <tr>\n",
       "      <th>4</th>\n",
       "      <td>5</td>\n",
       "      <td>15737888</td>\n",
       "      <td>Mitchell</td>\n",
       "      <td>850</td>\n",
       "      <td>Spain</td>\n",
       "      <td>Female</td>\n",
       "      <td>43</td>\n",
       "      <td>2</td>\n",
       "      <td>125510.82</td>\n",
       "      <td>1</td>\n",
       "      <td>1</td>\n",
       "      <td>1</td>\n",
       "      <td>79084.10</td>\n",
       "      <td>0</td>\n",
       "    </tr>\n",
       "  </tbody>\n",
       "</table>\n",
       "</div>\n",
       "      <button class=\"colab-df-convert\" onclick=\"convertToInteractive('df-fa6bd685-4c11-429b-a9fa-93d180c629cb')\"\n",
       "              title=\"Convert this dataframe to an interactive table.\"\n",
       "              style=\"display:none;\">\n",
       "        \n",
       "  <svg xmlns=\"http://www.w3.org/2000/svg\" height=\"24px\"viewBox=\"0 0 24 24\"\n",
       "       width=\"24px\">\n",
       "    <path d=\"M0 0h24v24H0V0z\" fill=\"none\"/>\n",
       "    <path d=\"M18.56 5.44l.94 2.06.94-2.06 2.06-.94-2.06-.94-.94-2.06-.94 2.06-2.06.94zm-11 1L8.5 8.5l.94-2.06 2.06-.94-2.06-.94L8.5 2.5l-.94 2.06-2.06.94zm10 10l.94 2.06.94-2.06 2.06-.94-2.06-.94-.94-2.06-.94 2.06-2.06.94z\"/><path d=\"M17.41 7.96l-1.37-1.37c-.4-.4-.92-.59-1.43-.59-.52 0-1.04.2-1.43.59L10.3 9.45l-7.72 7.72c-.78.78-.78 2.05 0 2.83L4 21.41c.39.39.9.59 1.41.59.51 0 1.02-.2 1.41-.59l7.78-7.78 2.81-2.81c.8-.78.8-2.07 0-2.86zM5.41 20L4 18.59l7.72-7.72 1.47 1.35L5.41 20z\"/>\n",
       "  </svg>\n",
       "      </button>\n",
       "      \n",
       "  <style>\n",
       "    .colab-df-container {\n",
       "      display:flex;\n",
       "      flex-wrap:wrap;\n",
       "      gap: 12px;\n",
       "    }\n",
       "\n",
       "    .colab-df-convert {\n",
       "      background-color: #E8F0FE;\n",
       "      border: none;\n",
       "      border-radius: 50%;\n",
       "      cursor: pointer;\n",
       "      display: none;\n",
       "      fill: #1967D2;\n",
       "      height: 32px;\n",
       "      padding: 0 0 0 0;\n",
       "      width: 32px;\n",
       "    }\n",
       "\n",
       "    .colab-df-convert:hover {\n",
       "      background-color: #E2EBFA;\n",
       "      box-shadow: 0px 1px 2px rgba(60, 64, 67, 0.3), 0px 1px 3px 1px rgba(60, 64, 67, 0.15);\n",
       "      fill: #174EA6;\n",
       "    }\n",
       "\n",
       "    [theme=dark] .colab-df-convert {\n",
       "      background-color: #3B4455;\n",
       "      fill: #D2E3FC;\n",
       "    }\n",
       "\n",
       "    [theme=dark] .colab-df-convert:hover {\n",
       "      background-color: #434B5C;\n",
       "      box-shadow: 0px 1px 3px 1px rgba(0, 0, 0, 0.15);\n",
       "      filter: drop-shadow(0px 1px 2px rgba(0, 0, 0, 0.3));\n",
       "      fill: #FFFFFF;\n",
       "    }\n",
       "  </style>\n",
       "\n",
       "      <script>\n",
       "        const buttonEl =\n",
       "          document.querySelector('#df-fa6bd685-4c11-429b-a9fa-93d180c629cb button.colab-df-convert');\n",
       "        buttonEl.style.display =\n",
       "          google.colab.kernel.accessAllowed ? 'block' : 'none';\n",
       "\n",
       "        async function convertToInteractive(key) {\n",
       "          const element = document.querySelector('#df-fa6bd685-4c11-429b-a9fa-93d180c629cb');\n",
       "          const dataTable =\n",
       "            await google.colab.kernel.invokeFunction('convertToInteractive',\n",
       "                                                     [key], {});\n",
       "          if (!dataTable) return;\n",
       "\n",
       "          const docLinkHtml = 'Like what you see? Visit the ' +\n",
       "            '<a target=\"_blank\" href=https://colab.research.google.com/notebooks/data_table.ipynb>data table notebook</a>'\n",
       "            + ' to learn more about interactive tables.';\n",
       "          element.innerHTML = '';\n",
       "          dataTable['output_type'] = 'display_data';\n",
       "          await google.colab.output.renderOutput(dataTable, element);\n",
       "          const docLink = document.createElement('div');\n",
       "          docLink.innerHTML = docLinkHtml;\n",
       "          element.appendChild(docLink);\n",
       "        }\n",
       "      </script>\n",
       "    </div>\n",
       "  </div>\n",
       "  "
      ],
      "text/plain": [
       "   RowNumber  CustomerId   Surname  CreditScore Geography  Gender  Age  \\\n",
       "0          1    15634602  Hargrave          619    France  Female   42   \n",
       "1          2    15647311      Hill          608     Spain  Female   41   \n",
       "2          3    15619304      Onio          502    France  Female   42   \n",
       "3          4    15701354      Boni          699    France  Female   39   \n",
       "4          5    15737888  Mitchell          850     Spain  Female   43   \n",
       "\n",
       "   Tenure    Balance  NumOfProducts  HasCrCard  IsActiveMember  \\\n",
       "0       2       0.00              1          1               1   \n",
       "1       1   83807.86              1          0               1   \n",
       "2       8  159660.80              3          1               0   \n",
       "3       1       0.00              2          0               0   \n",
       "4       2  125510.82              1          1               1   \n",
       "\n",
       "   EstimatedSalary  Exited  \n",
       "0        101348.88       1  \n",
       "1        112542.58       0  \n",
       "2        113931.57       1  \n",
       "3         93826.63       0  \n",
       "4         79084.10       0  "
      ]
     },
     "execution_count": 4,
     "metadata": {},
     "output_type": "execute_result"
    }
   ],
   "source": [
    "df.head()"
   ]
  },
  {
   "cell_type": "code",
   "execution_count": null,
   "metadata": {
    "colab": {
     "base_uri": "https://localhost:8080/",
     "height": 360
    },
    "id": "Ii4aUsrSkkAS",
    "outputId": "5a8ad986-a64f-42c1-c2cb-4d3e73c490e6"
   },
   "outputs": [
    {
     "data": {
      "text/plain": [
       "<matplotlib.axes._subplots.AxesSubplot at 0x7fdfb9970510>"
      ]
     },
     "execution_count": 5,
     "metadata": {},
     "output_type": "execute_result"
    },
    {
     "data": {
      "image/png": "[encoded data removed]",
      "text/plain": [
       "<Figure size 432x288 with 2 Axes>"
      ]
     },
     "metadata": {},
     "output_type": "display_data"
    }
   ],
   "source": [
    "sns.heatmap(df.isnull())"
   ]
  },
  {
   "cell_type": "code",
   "execution_count": null,
   "metadata": {
    "colab": {
     "base_uri": "https://localhost:8080/"
    },
    "id": "Z4ulaMPnk2Op",
    "outputId": "48d9cf95-fa2c-4641-e285-77d51396df17"
   },
   "outputs": [
    {
     "data": {
      "text/plain": [
       "RowNumber            int64\n",
       "CustomerId           int64\n",
       "Surname             object\n",
       "CreditScore          int64\n",
       "Geography           object\n",
       "Gender              object\n",
       "Age                  int64\n",
       "Tenure               int64\n",
       "Balance            float64\n",
       "NumOfProducts        int64\n",
       "HasCrCard            int64\n",
       "IsActiveMember       int64\n",
       "EstimatedSalary    float64\n",
       "Exited               int64\n",
       "dtype: object"
      ]
     },
     "execution_count": 6,
     "metadata": {},
     "output_type": "execute_result"
    }
   ],
   "source": [
    "df.dtypes"
   ]
  },
  {
   "cell_type": "code",
   "execution_count": null,
   "metadata": {
    "colab": {
     "base_uri": "https://localhost:8080/",
     "height": 297
    },
    "id": "EN0Fqy8klnLv",
    "outputId": "7caed548-565f-4fe7-8f43-e9688900b8b0"
   },
   "outputs": [
    {
     "data": {
      "text/plain": [
       "<matplotlib.axes._subplots.AxesSubplot at 0x7fdfb99707d0>"
      ]
     },
     "execution_count": 7,
     "metadata": {},
     "output_type": "execute_result"
    },
    {
     "data": {
      "image/png": "[encoded data removed]",
      "text/plain": [
       "<Figure size 432x288 with 1 Axes>"
      ]
     },
     "metadata": {},
     "output_type": "display_data"
    }
   ],
   "source": [
    "sns.countplot(data = df, x = \"Exited\")"
   ]
  },
  {
   "cell_type": "code",
   "execution_count": null,
   "metadata": {
    "colab": {
     "base_uri": "https://localhost:8080/"
    },
    "id": "k8eNypqFwq4t",
    "outputId": "afa0a0d1-83b4-456f-b55c-39ba5cabc86d"
   },
   "outputs": [
    {
     "data": {
      "text/plain": [
       "0    7963\n",
       "1    2037\n",
       "Name: Exited, dtype: int64"
      ]
     },
     "execution_count": 8,
     "metadata": {},
     "output_type": "execute_result"
    }
   ],
   "source": [
    "df[\"Exited\"].value_counts()"
   ]
  },
  {
   "cell_type": "markdown",
   "metadata": {
    "id": "rVHk-LAWkqM-"
   },
   "source": [
    "Observation : Their are no null values, and all the data-types are of numerical type and object type. And data is not balanced as well, need to overcome it."
   ]
  },
  {
   "cell_type": "markdown",
   "metadata": {
    "id": "N9THlWD5lUY3"
   },
   "source": [
    "## Handling the object type data and removing the unwanted columns :"
   ]
  },
  {
   "cell_type": "code",
   "execution_count": null,
   "metadata": {
    "id": "kMZeMw6ykoO2"
   },
   "outputs": [],
   "source": [
    "df.drop([\"RowNumber\",\"Surname\",\"CustomerId\"], axis = 1, inplace = True)"
   ]
  },
  {
   "cell_type": "code",
   "execution_count": null,
   "metadata": {
    "colab": {
     "base_uri": "https://localhost:8080/",
     "height": 270
    },
    "id": "7cZSYILFmnxk",
    "outputId": "771550aa-9475-4852-dcee-866d5e078115"
   },
   "outputs": [
    {
     "data": {
      "text/html": [
       "\n",
       "  <div id=\"df-2284481c-bd97-48e4-a63a-66b7d8f68f6d\">\n",
       "    <div class=\"colab-df-container\">\n",
       "      <div>\n",
       "<style scoped>\n",
       "    .dataframe tbody tr th:only-of-type {\n",
       "        vertical-align: middle;\n",
       "    }\n",
       "\n",
       "    .dataframe tbody tr th {\n",
       "        vertical-align: top;\n",
       "    }\n",
       "\n",
       "    .dataframe thead th {\n",
       "        text-align: right;\n",
       "    }\n",
       "</style>\n",
       "<table border=\"1\" class=\"dataframe\">\n",
       "  <thead>\n",
       "    <tr style=\"text-align: right;\">\n",
       "      <th></th>\n",
       "      <th>CreditScore</th>\n",
       "      <th>Geography</th>\n",
       "      <th>Gender</th>\n",
       "      <th>Age</th>\n",
       "      <th>Tenure</th>\n",
       "      <th>Balance</th>\n",
       "      <th>NumOfProducts</th>\n",
       "      <th>HasCrCard</th>\n",
       "      <th>IsActiveMember</th>\n",
       "      <th>EstimatedSalary</th>\n",
       "      <th>Exited</th>\n",
       "    </tr>\n",
       "  </thead>\n",
       "  <tbody>\n",
       "    <tr>\n",
       "      <th>0</th>\n",
       "      <td>619</td>\n",
       "      <td>France</td>\n",
       "      <td>Female</td>\n",
       "      <td>42</td>\n",
       "      <td>2</td>\n",
       "      <td>0.00</td>\n",
       "      <td>1</td>\n",
       "      <td>1</td>\n",
       "      <td>1</td>\n",
       "      <td>101348.88</td>\n",
       "      <td>1</td>\n",
       "    </tr>\n",
       "    <tr>\n",
       "      <th>1</th>\n",
       "      <td>608</td>\n",
       "      <td>Spain</td>\n",
       "      <td>Female</td>\n",
       "      <td>41</td>\n",
       "      <td>1</td>\n",
       "      <td>83807.86</td>\n",
       "      <td>1</td>\n",
       "      <td>0</td>\n",
       "      <td>1</td>\n",
       "      <td>112542.58</td>\n",
       "      <td>0</td>\n",
       "    </tr>\n",
       "    <tr>\n",
       "      <th>2</th>\n",
       "      <td>502</td>\n",
       "      <td>France</td>\n",
       "      <td>Female</td>\n",
       "      <td>42</td>\n",
       "      <td>8</td>\n",
       "      <td>159660.80</td>\n",
       "      <td>3</td>\n",
       "      <td>1</td>\n",
       "      <td>0</td>\n",
       "      <td>113931.57</td>\n",
       "      <td>1</td>\n",
       "    </tr>\n",
       "    <tr>\n",
       "      <th>3</th>\n",
       "      <td>699</td>\n",
       "      <td>France</td>\n",
       "      <td>Female</td>\n",
       "      <td>39</td>\n",
       "      <td>1</td>\n",
       "      <td>0.00</td>\n",
       "      <td>2</td>\n",
       "      <td>0</td>\n",
       "      <td>0</td>\n",
       "      <td>93826.63</td>\n",
       "      <td>0</td>\n",
       "    </tr>\n",
       "    <tr>\n",
       "      <th>4</th>\n",
       "      <td>850</td>\n",
       "      <td>Spain</td>\n",
       "      <td>Female</td>\n",
       "      <td>43</td>\n",
       "      <td>2</td>\n",
       "      <td>125510.82</td>\n",
       "      <td>1</td>\n",
       "      <td>1</td>\n",
       "      <td>1</td>\n",
       "      <td>79084.10</td>\n",
       "      <td>0</td>\n",
       "    </tr>\n",
       "  </tbody>\n",
       "</table>\n",
       "</div>\n",
       "      <button class=\"colab-df-convert\" onclick=\"convertToInteractive('df-2284481c-bd97-48e4-a63a-66b7d8f68f6d')\"\n",
       "              title=\"Convert this dataframe to an interactive table.\"\n",
       "              style=\"display:none;\">\n",
       "        \n",
       "  <svg xmlns=\"http://www.w3.org/2000/svg\" height=\"24px\"viewBox=\"0 0 24 24\"\n",
       "       width=\"24px\">\n",
       "    <path d=\"M0 0h24v24H0V0z\" fill=\"none\"/>\n",
       "    <path d=\"M18.56 5.44l.94 2.06.94-2.06 2.06-.94-2.06-.94-.94-2.06-.94 2.06-2.06.94zm-11 1L8.5 8.5l.94-2.06 2.06-.94-2.06-.94L8.5 2.5l-.94 2.06-2.06.94zm10 10l.94 2.06.94-2.06 2.06-.94-2.06-.94-.94-2.06-.94 2.06-2.06.94z\"/><path d=\"M17.41 7.96l-1.37-1.37c-.4-.4-.92-.59-1.43-.59-.52 0-1.04.2-1.43.59L10.3 9.45l-7.72 7.72c-.78.78-.78 2.05 0 2.83L4 21.41c.39.39.9.59 1.41.59.51 0 1.02-.2 1.41-.59l7.78-7.78 2.81-2.81c.8-.78.8-2.07 0-2.86zM5.41 20L4 18.59l7.72-7.72 1.47 1.35L5.41 20z\"/>\n",
       "  </svg>\n",
       "      </button>\n",
       "      \n",
       "  <style>\n",
       "    .colab-df-container {\n",
       "      display:flex;\n",
       "      flex-wrap:wrap;\n",
       "      gap: 12px;\n",
       "    }\n",
       "\n",
       "    .colab-df-convert {\n",
       "      background-color: #E8F0FE;\n",
       "      border: none;\n",
       "      border-radius: 50%;\n",
       "      cursor: pointer;\n",
       "      display: none;\n",
       "      fill: #1967D2;\n",
       "      height: 32px;\n",
       "      padding: 0 0 0 0;\n",
       "      width: 32px;\n",
       "    }\n",
       "\n",
       "    .colab-df-convert:hover {\n",
       "      background-color: #E2EBFA;\n",
       "      box-shadow: 0px 1px 2px rgba(60, 64, 67, 0.3), 0px 1px 3px 1px rgba(60, 64, 67, 0.15);\n",
       "      fill: #174EA6;\n",
       "    }\n",
       "\n",
       "    [theme=dark] .colab-df-convert {\n",
       "      background-color: #3B4455;\n",
       "      fill: #D2E3FC;\n",
       "    }\n",
       "\n",
       "    [theme=dark] .colab-df-convert:hover {\n",
       "      background-color: #434B5C;\n",
       "      box-shadow: 0px 1px 3px 1px rgba(0, 0, 0, 0.15);\n",
       "      filter: drop-shadow(0px 1px 2px rgba(0, 0, 0, 0.3));\n",
       "      fill: #FFFFFF;\n",
       "    }\n",
       "  </style>\n",
       "\n",
       "      <script>\n",
       "        const buttonEl =\n",
       "          document.querySelector('#df-2284481c-bd97-48e4-a63a-66b7d8f68f6d button.colab-df-convert');\n",
       "        buttonEl.style.display =\n",
       "          google.colab.kernel.accessAllowed ? 'block' : 'none';\n",
       "\n",
       "        async function convertToInteractive(key) {\n",
       "          const element = document.querySelector('#df-2284481c-bd97-48e4-a63a-66b7d8f68f6d');\n",
       "          const dataTable =\n",
       "            await google.colab.kernel.invokeFunction('convertToInteractive',\n",
       "                                                     [key], {});\n",
       "          if (!dataTable) return;\n",
       "\n",
       "          const docLinkHtml = 'Like what you see? Visit the ' +\n",
       "            '<a target=\"_blank\" href=https://colab.research.google.com/notebooks/data_table.ipynb>data table notebook</a>'\n",
       "            + ' to learn more about interactive tables.';\n",
       "          element.innerHTML = '';\n",
       "          dataTable['output_type'] = 'display_data';\n",
       "          await google.colab.output.renderOutput(dataTable, element);\n",
       "          const docLink = document.createElement('div');\n",
       "          docLink.innerHTML = docLinkHtml;\n",
       "          element.appendChild(docLink);\n",
       "        }\n",
       "      </script>\n",
       "    </div>\n",
       "  </div>\n",
       "  "
      ],
      "text/plain": [
       "   CreditScore Geography  Gender  Age  Tenure    Balance  NumOfProducts  \\\n",
       "0          619    France  Female   42       2       0.00              1   \n",
       "1          608     Spain  Female   41       1   83807.86              1   \n",
       "2          502    France  Female   42       8  159660.80              3   \n",
       "3          699    France  Female   39       1       0.00              2   \n",
       "4          850     Spain  Female   43       2  125510.82              1   \n",
       "\n",
       "   HasCrCard  IsActiveMember  EstimatedSalary  Exited  \n",
       "0          1               1        101348.88       1  \n",
       "1          0               1        112542.58       0  \n",
       "2          1               0        113931.57       1  \n",
       "3          0               0         93826.63       0  \n",
       "4          1               1         79084.10       0  "
      ]
     },
     "execution_count": 10,
     "metadata": {},
     "output_type": "execute_result"
    }
   ],
   "source": [
    "df.head()"
   ]
  },
  {
   "cell_type": "code",
   "execution_count": null,
   "metadata": {
    "id": "jvt01OpHn5vs"
   },
   "outputs": [],
   "source": [
    "# to use LabelEncoder :\n",
    "from sklearn.preprocessing import LabelEncoder\n",
    "le = LabelEncoder()\n",
    "df[\"Gender\"] = le.fit_transform(df[[\"Gender\"]])\n",
    "df[\"Geography\"] = le.fit_transform(df[\"Geography\"])"
   ]
  },
  {
   "cell_type": "markdown",
   "metadata": {
    "id": "nB4CgZsWm1Yz"
   },
   "source": [
    "# To overcome data unbalancing :"
   ]
  },
  {
   "cell_type": "code",
   "execution_count": null,
   "metadata": {
    "id": "mwcIDyUvmppW"
   },
   "outputs": [],
   "source": [
    "from imblearn.over_sampling import RandomOverSampler"
   ]
  },
  {
   "cell_type": "code",
   "execution_count": null,
   "metadata": {
    "id": "zOwGA69VnIrg"
   },
   "outputs": [],
   "source": [
    "ros = RandomOverSampler(random_state = 1)"
   ]
  },
  {
   "cell_type": "code",
   "execution_count": null,
   "metadata": {
    "id": "6KBle4y5ni-k"
   },
   "outputs": [],
   "source": [
    "# to select the input and output :\n",
    "x = df.drop(\"Exited\", axis = 1)\n",
    "y = df[\"Exited\"]"
   ]
  },
  {
   "cell_type": "code",
   "execution_count": null,
   "metadata": {
    "id": "AqKMrW0hnWDp"
   },
   "outputs": [],
   "source": [
    "# to train test split :\n",
    "from sklearn.model_selection import train_test_split\n",
    "x_train, x_test, y_train, y_test = train_test_split(x, y, test_size = 0.3, random_state = 1)"
   ]
  },
  {
   "cell_type": "code",
   "execution_count": null,
   "metadata": {
    "id": "nwoGkl0how6F"
   },
   "outputs": [],
   "source": [
    "# to apply RandomOverSampler :\n",
    "\n",
    "x_train1, y_train1 = ros.fit_resample(x_train, y_train)\n",
    "x_test1, y_test1 = ros.fit_resample(x_test, y_test)"
   ]
  },
  {
   "cell_type": "code",
   "execution_count": null,
   "metadata": {
    "colab": {
     "base_uri": "https://localhost:8080/"
    },
    "id": "vXHvYJTCqiOr",
    "outputId": "b9c5bd38-d7ba-4d47-caeb-91fded80ff5f"
   },
   "outputs": [
    {
     "data": {
      "text/plain": [
       "0    5590\n",
       "1    5590\n",
       "Name: Exited, dtype: int64"
      ]
     },
     "execution_count": 17,
     "metadata": {},
     "output_type": "execute_result"
    }
   ],
   "source": [
    "y_train1.value_counts()"
   ]
  },
  {
   "cell_type": "code",
   "execution_count": null,
   "metadata": {
    "colab": {
     "base_uri": "https://localhost:8080/"
    },
    "id": "i1xFAY6wq9V3",
    "outputId": "b3a554b5-b970-4aec-a716-089ccfca3dff"
   },
   "outputs": [
    {
     "data": {
      "text/plain": [
       "0    2373\n",
       "1    2373\n",
       "Name: Exited, dtype: int64"
      ]
     },
     "execution_count": 18,
     "metadata": {},
     "output_type": "execute_result"
    }
   ],
   "source": [
    "y_test1.value_counts()"
   ]
  },
  {
   "cell_type": "code",
   "execution_count": null,
   "metadata": {
    "colab": {
     "base_uri": "https://localhost:8080/",
     "height": 541
    },
    "id": "YgYYydcnwrvv",
    "outputId": "fa09c164-58b2-4741-8c49-c2dbc0801a60"
   },
   "outputs": [
    {
     "data": {
      "image/png": "[encoded data removed]",
      "text/plain": [
       "<Figure size 432x288 with 1 Axes>"
      ]
     },
     "metadata": {},
     "output_type": "display_data"
    },
    {
     "data": {
      "image/png": "[encoded data removed]",
      "text/plain": [
       "<Figure size 432x288 with 1 Axes>"
      ]
     },
     "metadata": {},
     "output_type": "display_data"
    }
   ],
   "source": [
    "sns.countplot(y_train1)\n",
    "plt.show()\n",
    "sns.countplot(y_test1)\n",
    "plt.show()"
   ]
  },
  {
   "cell_type": "markdown",
   "metadata": {
    "id": "AwA8iJKvrCB8"
   },
   "source": [
    "Observation : The data is now balanced, we can now further proceed with Model Training. "
   ]
  },
  {
   "cell_type": "markdown",
   "metadata": {
    "id": "QtqYwQ6ErN7y"
   },
   "source": [
    "# To apply StandardScaler :"
   ]
  },
  {
   "cell_type": "code",
   "execution_count": null,
   "metadata": {
    "id": "pMrpgQz4rAXr"
   },
   "outputs": [],
   "source": [
    "from sklearn.preprocessing import StandardScaler\n",
    "\n",
    "s = StandardScaler()\n",
    "x_train = s.fit_transform(x_train)\n",
    "x_test = s.transform(x_test)"
   ]
  },
  {
   "cell_type": "code",
   "execution_count": null,
   "metadata": {
    "colab": {
     "base_uri": "https://localhost:8080/"
    },
    "id": "EGjBfUourgJK",
    "outputId": "450fde13-8133-4366-9e0f-6f809bd654cc"
   },
   "outputs": [
    {
     "data": {
      "text/plain": [
       "array([[-0.06042858, -0.90542304, -1.08628092, ...,  0.64198477,\n",
       "        -1.01903834, -1.37686713],\n",
       "       [-1.74363086, -0.90542304, -1.08628092, ...,  0.64198477,\n",
       "         0.98131735, -1.31233857],\n",
       "       [ 0.31132161, -0.90542304, -1.08628092, ...,  0.64198477,\n",
       "        -1.01903834, -0.31884349],\n",
       "       ...,\n",
       "       [ 0.22871046, -0.90542304, -1.08628092, ...,  0.64198477,\n",
       "         0.98131735, -0.14048457],\n",
       "       [ 0.13577291, -0.90542304, -1.08628092, ...,  0.64198477,\n",
       "         0.98131735,  0.01856724],\n",
       "       [ 1.16841234,  0.30503557,  0.92057219, ...,  0.64198477,\n",
       "        -1.01903834, -1.15947765]])"
      ]
     },
     "execution_count": 21,
     "metadata": {},
     "output_type": "execute_result"
    }
   ],
   "source": [
    "x_train"
   ]
  },
  {
   "cell_type": "code",
   "execution_count": null,
   "metadata": {
    "colab": {
     "base_uri": "https://localhost:8080/"
    },
    "id": "cwhBPu6-rl8a",
    "outputId": "4584553e-515f-4541-e1d0-aa8b9ab94288"
   },
   "outputs": [
    {
     "data": {
      "text/plain": [
       "array([[-1.03110965, -0.90542304,  0.92057219, ...,  0.64198477,\n",
       "         0.98131735, -0.05297259],\n",
       "       [ 0.31132161, -0.90542304,  0.92057219, ...,  0.64198477,\n",
       "        -1.01903834, -0.58419919],\n",
       "       [-1.22731114, -0.90542304, -1.08628092, ..., -1.55766936,\n",
       "         0.98131735, -0.16641355],\n",
       "       ...,\n",
       "       [-0.05010219, -0.90542304,  0.92057219, ...,  0.64198477,\n",
       "        -1.01903834, -0.99929104],\n",
       "       [-0.38054681, -0.90542304, -1.08628092, ...,  0.64198477,\n",
       "        -1.01903834,  1.72259088],\n",
       "       [ 0.17707849,  1.51549418, -1.08628092, ...,  0.64198477,\n",
       "         0.98131735,  1.50922501]])"
      ]
     },
     "execution_count": 22,
     "metadata": {},
     "output_type": "execute_result"
    }
   ],
   "source": [
    "x_test"
   ]
  },
  {
   "cell_type": "markdown",
   "metadata": {
    "id": "ZQqQPb11rul9"
   },
   "source": [
    "# To create a Neural Network :"
   ]
  },
  {
   "cell_type": "code",
   "execution_count": null,
   "metadata": {
    "id": "za3x7lLOrpDV"
   },
   "outputs": [],
   "source": [
    "import tensorflow as tf\n",
    "from keras.layers import Dropout"
   ]
  },
  {
   "cell_type": "code",
   "execution_count": null,
   "metadata": {
    "id": "tnH4hZL6r024"
   },
   "outputs": [],
   "source": [
    "# creating a neural network :\n",
    "model = tf.keras.models.Sequential([\n",
    "                                    \n",
    "        tf.keras.layers.Dense(units = 32, activation = \"relu\", input_shape = (x.shape[1],)),\n",
    "        tf.keras.layers.Dense(units = 16, activation = \"relu\"), Dropout(0.25),\n",
    "        tf.keras.layers.Dense(units = 8, activation = \"relu\"), Dropout(0.25),\n",
    "        tf.keras.layers.Dense(units = 1, activation = \"sigmoid\")\n",
    "])"
   ]
  },
  {
   "cell_type": "code",
   "execution_count": null,
   "metadata": {
    "colab": {
     "base_uri": "https://localhost:8080/"
    },
    "id": "QKlofhLJspsS",
    "outputId": "3dc4bfec-57ad-4371-b1ea-ef364416a53e"
   },
   "outputs": [
    {
     "name": "stdout",
     "output_type": "stream",
     "text": [
      "Model: \"sequential\"\n",
      "_________________________________________________________________\n",
      " Layer (type)                Output Shape              Param #   \n",
      "=================================================================\n",
      " dense (Dense)               (None, 32)                352       \n",
      "                                                                 \n",
      " dense_1 (Dense)             (None, 16)                528       \n",
      "                                                                 \n",
      " dropout (Dropout)           (None, 16)                0         \n",
      "                                                                 \n",
      " dense_2 (Dense)             (None, 8)                 136       \n",
      "                                                                 \n",
      " dropout_1 (Dropout)         (None, 8)                 0         \n",
      "                                                                 \n",
      " dense_3 (Dense)             (None, 1)                 9         \n",
      "                                                                 \n",
      "=================================================================\n",
      "Total params: 1,025\n",
      "Trainable params: 1,025\n",
      "Non-trainable params: 0\n",
      "_________________________________________________________________\n"
     ]
    }
   ],
   "source": [
    "# to show summary :\n",
    "model.summary()"
   ]
  },
  {
   "cell_type": "code",
   "execution_count": null,
   "metadata": {
    "id": "_XUj-WCftGGP"
   },
   "outputs": [],
   "source": [
    "# to compile the model :\n",
    "model.compile(optimizer = \"Adam\", loss = \"binary_crossentropy\", metrics = [\"accuracy\"])"
   ]
  },
  {
   "cell_type": "code",
   "execution_count": null,
   "metadata": {
    "id": "2wYypCP_tZJZ"
   },
   "outputs": [],
   "source": [
    "# to use early stopping :\n",
    "from tensorflow.keras.callbacks import EarlyStopping"
   ]
  },
  {
   "cell_type": "code",
   "execution_count": null,
   "metadata": {
    "id": "Sb_yYXYCtvE0"
   },
   "outputs": [],
   "source": [
    "callback = EarlyStopping(\n",
    "           monitor = \"val_loss\",\n",
    "           min_delta = 0.00001,\n",
    "           patience = 20,\n",
    "           verbose = 1,\n",
    "           mode = \"auto\",\n",
    "           baseline=None,\n",
    "           restore_best_weights=False\n",
    ")"
   ]
  },
  {
   "cell_type": "markdown",
   "metadata": {
    "id": "MBz1k9jp5BI3"
   },
   "source": [
    "Performing the modelling first with Unbalanced data :"
   ]
  },
  {
   "cell_type": "code",
   "execution_count": null,
   "metadata": {
    "colab": {
     "base_uri": "https://localhost:8080/"
    },
    "id": "8aAIWssqufYe",
    "outputId": "603bd723-7e32-4c06-8268-1d6dfd805f58"
   },
   "outputs": [
    {
     "name": "stdout",
     "output_type": "stream",
     "text": [
      "Epoch 1/1000\n",
      "140/140 [==============================] - 4s 11ms/step - loss: 0.5278 - accuracy: 0.7894 - val_loss: 0.4641 - val_accuracy: 0.7910\n",
      "Epoch 2/1000\n",
      "140/140 [==============================] - 1s 7ms/step - loss: 0.4652 - accuracy: 0.8001 - val_loss: 0.4370 - val_accuracy: 0.7950\n",
      "Epoch 3/1000\n",
      "140/140 [==============================] - 1s 7ms/step - loss: 0.4465 - accuracy: 0.8049 - val_loss: 0.4236 - val_accuracy: 0.8053\n",
      "Epoch 4/1000\n",
      "140/140 [==============================] - 1s 5ms/step - loss: 0.4244 - accuracy: 0.8114 - val_loss: 0.4062 - val_accuracy: 0.8063\n",
      "Epoch 5/1000\n",
      "140/140 [==============================] - 1s 5ms/step - loss: 0.4170 - accuracy: 0.8153 - val_loss: 0.3930 - val_accuracy: 0.8203\n",
      "Epoch 6/1000\n",
      "140/140 [==============================] - 1s 5ms/step - loss: 0.4056 - accuracy: 0.8231 - val_loss: 0.3817 - val_accuracy: 0.8387\n",
      "Epoch 7/1000\n",
      "140/140 [==============================] - 1s 7ms/step - loss: 0.4015 - accuracy: 0.8276 - val_loss: 0.3770 - val_accuracy: 0.8430\n",
      "Epoch 8/1000\n",
      "140/140 [==============================] - 1s 6ms/step - loss: 0.3922 - accuracy: 0.8337 - val_loss: 0.3682 - val_accuracy: 0.8527\n",
      "Epoch 9/1000\n",
      "140/140 [==============================] - 1s 8ms/step - loss: 0.3885 - accuracy: 0.8287 - val_loss: 0.3683 - val_accuracy: 0.8523\n",
      "Epoch 10/1000\n",
      "140/140 [==============================] - 1s 7ms/step - loss: 0.3881 - accuracy: 0.8330 - val_loss: 0.3639 - val_accuracy: 0.8560\n",
      "Epoch 11/1000\n",
      "140/140 [==============================] - 1s 6ms/step - loss: 0.3804 - accuracy: 0.8401 - val_loss: 0.3584 - val_accuracy: 0.8583\n",
      "Epoch 12/1000\n",
      "140/140 [==============================] - 1s 5ms/step - loss: 0.3723 - accuracy: 0.8461 - val_loss: 0.3572 - val_accuracy: 0.8560\n",
      "Epoch 13/1000\n",
      "140/140 [==============================] - 1s 5ms/step - loss: 0.3753 - accuracy: 0.8449 - val_loss: 0.3556 - val_accuracy: 0.8563\n",
      "Epoch 14/1000\n",
      "140/140 [==============================] - 1s 4ms/step - loss: 0.3719 - accuracy: 0.8456 - val_loss: 0.3552 - val_accuracy: 0.8577\n",
      "Epoch 15/1000\n",
      "140/140 [==============================] - 1s 4ms/step - loss: 0.3666 - accuracy: 0.8451 - val_loss: 0.3541 - val_accuracy: 0.8590\n",
      "Epoch 16/1000\n",
      "140/140 [==============================] - 1s 5ms/step - loss: 0.3661 - accuracy: 0.8497 - val_loss: 0.3506 - val_accuracy: 0.8567\n",
      "Epoch 17/1000\n",
      "140/140 [==============================] - 1s 4ms/step - loss: 0.3632 - accuracy: 0.8520 - val_loss: 0.3510 - val_accuracy: 0.8577\n",
      "Epoch 18/1000\n",
      "140/140 [==============================] - 1s 5ms/step - loss: 0.3597 - accuracy: 0.8544 - val_loss: 0.3529 - val_accuracy: 0.8550\n",
      "Epoch 19/1000\n",
      "140/140 [==============================] - 1s 6ms/step - loss: 0.3620 - accuracy: 0.8521 - val_loss: 0.3525 - val_accuracy: 0.8563\n",
      "Epoch 20/1000\n",
      "140/140 [==============================] - 1s 7ms/step - loss: 0.3612 - accuracy: 0.8499 - val_loss: 0.3491 - val_accuracy: 0.8580\n",
      "Epoch 21/1000\n",
      "140/140 [==============================] - 1s 5ms/step - loss: 0.3595 - accuracy: 0.8520 - val_loss: 0.3477 - val_accuracy: 0.8593\n",
      "Epoch 22/1000\n",
      "140/140 [==============================] - 1s 4ms/step - loss: 0.3556 - accuracy: 0.8533 - val_loss: 0.3477 - val_accuracy: 0.8583\n",
      "Epoch 23/1000\n",
      "140/140 [==============================] - 1s 6ms/step - loss: 0.3549 - accuracy: 0.8531 - val_loss: 0.3444 - val_accuracy: 0.8613\n",
      "Epoch 24/1000\n",
      "140/140 [==============================] - 1s 5ms/step - loss: 0.3604 - accuracy: 0.8529 - val_loss: 0.3470 - val_accuracy: 0.8587\n",
      "Epoch 25/1000\n",
      "140/140 [==============================] - 0s 3ms/step - loss: 0.3562 - accuracy: 0.8541 - val_loss: 0.3504 - val_accuracy: 0.8560\n",
      "Epoch 26/1000\n",
      "140/140 [==============================] - 0s 3ms/step - loss: 0.3520 - accuracy: 0.8564 - val_loss: 0.3491 - val_accuracy: 0.8567\n",
      "Epoch 27/1000\n",
      "140/140 [==============================] - 0s 2ms/step - loss: 0.3517 - accuracy: 0.8570 - val_loss: 0.3507 - val_accuracy: 0.8563\n",
      "Epoch 28/1000\n",
      "140/140 [==============================] - 0s 3ms/step - loss: 0.3471 - accuracy: 0.8594 - val_loss: 0.3469 - val_accuracy: 0.8577\n",
      "Epoch 29/1000\n",
      "140/140 [==============================] - 0s 3ms/step - loss: 0.3512 - accuracy: 0.8561 - val_loss: 0.3474 - val_accuracy: 0.8563\n",
      "Epoch 30/1000\n",
      "140/140 [==============================] - 0s 3ms/step - loss: 0.3464 - accuracy: 0.8584 - val_loss: 0.3471 - val_accuracy: 0.8587\n",
      "Epoch 31/1000\n",
      "140/140 [==============================] - 0s 3ms/step - loss: 0.3490 - accuracy: 0.8581 - val_loss: 0.3446 - val_accuracy: 0.8603\n",
      "Epoch 32/1000\n",
      "140/140 [==============================] - 0s 3ms/step - loss: 0.3487 - accuracy: 0.8560 - val_loss: 0.3502 - val_accuracy: 0.8603\n",
      "Epoch 33/1000\n",
      "140/140 [==============================] - 0s 3ms/step - loss: 0.3460 - accuracy: 0.8579 - val_loss: 0.3502 - val_accuracy: 0.8570\n",
      "Epoch 34/1000\n",
      "140/140 [==============================] - 0s 2ms/step - loss: 0.3455 - accuracy: 0.8591 - val_loss: 0.3488 - val_accuracy: 0.8593\n",
      "Epoch 35/1000\n",
      "140/140 [==============================] - 0s 3ms/step - loss: 0.3453 - accuracy: 0.8584 - val_loss: 0.3507 - val_accuracy: 0.8583\n",
      "Epoch 36/1000\n",
      "140/140 [==============================] - 0s 3ms/step - loss: 0.3481 - accuracy: 0.8563 - val_loss: 0.3469 - val_accuracy: 0.8570\n",
      "Epoch 37/1000\n",
      "140/140 [==============================] - 0s 3ms/step - loss: 0.3445 - accuracy: 0.8551 - val_loss: 0.3475 - val_accuracy: 0.8593\n",
      "Epoch 38/1000\n",
      "140/140 [==============================] - 0s 2ms/step - loss: 0.3450 - accuracy: 0.8596 - val_loss: 0.3469 - val_accuracy: 0.8600\n",
      "Epoch 39/1000\n",
      "140/140 [==============================] - 0s 3ms/step - loss: 0.3448 - accuracy: 0.8599 - val_loss: 0.3503 - val_accuracy: 0.8570\n",
      "Epoch 40/1000\n",
      "140/140 [==============================] - 0s 2ms/step - loss: 0.3433 - accuracy: 0.8593 - val_loss: 0.3482 - val_accuracy: 0.8600\n",
      "Epoch 41/1000\n",
      "140/140 [==============================] - 0s 3ms/step - loss: 0.3395 - accuracy: 0.8604 - val_loss: 0.3499 - val_accuracy: 0.8587\n",
      "Epoch 42/1000\n",
      "140/140 [==============================] - 0s 3ms/step - loss: 0.3383 - accuracy: 0.8596 - val_loss: 0.3499 - val_accuracy: 0.8587\n",
      "Epoch 43/1000\n",
      "140/140 [==============================] - 0s 3ms/step - loss: 0.3399 - accuracy: 0.8647 - val_loss: 0.3469 - val_accuracy: 0.8560\n",
      "Epoch 43: early stopping\n"
     ]
    }
   ],
   "source": [
    "# to train the model :\n",
    "trained_model = model.fit(x_train, y_train, epochs = 1000,batch_size = 50, validation_data = (x_test, y_test), verbose = 1, callbacks = callback)\n",
    "# validation_data = (x_test, y_test) or validation_split = 0.2"
   ]
  },
  {
   "cell_type": "code",
   "execution_count": null,
   "metadata": {
    "colab": {
     "base_uri": "https://localhost:8080/"
    },
    "id": "b-69jZnCvi_3",
    "outputId": "48b46676-74d1-4331-8dc7-025b486af7c4"
   },
   "outputs": [
    {
     "name": "stdout",
     "output_type": "stream",
     "text": [
      "219/219 [==============================] - 1s 2ms/step - loss: 0.3131 - accuracy: 0.8729\n",
      "Training loss and Accuracy =  [0.3131275177001953, 0.8728571534156799]\n",
      "94/94 [==============================] - 0s 2ms/step - loss: 0.3469 - accuracy: 0.8560\n",
      "Testing loss and Accurcay =  [0.34693288803100586, 0.8560000061988831]\n"
     ]
    }
   ],
   "source": [
    "# to evaluate the model :\n",
    "print(\"Training loss and Accuracy = \", model.evaluate(x_train, y_train))\n",
    "print(\"Testing loss and Accurcay = \", model.evaluate(x_test, y_test))"
   ]
  },
  {
   "cell_type": "code",
   "execution_count": null,
   "metadata": {
    "colab": {
     "base_uri": "https://localhost:8080/",
     "height": 283
    },
    "id": "W0fK8w-Pu0-R",
    "outputId": "7a6528c2-9a01-42d2-aed8-920297975223"
   },
   "outputs": [
    {
     "data": {
      "text/plain": [
       "<matplotlib.legend.Legend at 0x7fdf473a7d50>"
      ]
     },
     "execution_count": 31,
     "metadata": {},
     "output_type": "execute_result"
    },
    {
     "data": {
      "image/png": "[encoded data removed]",
      "text/plain": [
       "<Figure size 432x288 with 1 Axes>"
      ]
     },
     "metadata": {},
     "output_type": "display_data"
    }
   ],
   "source": [
    "# visulaize :\n",
    "plt.plot(trained_model.history[\"loss\"], label = \"Training\")\n",
    "plt.plot(trained_model.history[\"val_loss\"], label = \"Testing\")\n",
    "plt.legend()\n"
   ]
  },
  {
   "cell_type": "code",
   "execution_count": null,
   "metadata": {
    "colab": {
     "base_uri": "https://localhost:8080/",
     "height": 283
    },
    "id": "kGdaEZfjvduk",
    "outputId": "e17d76ea-571c-4008-f7bc-98348b6204fa"
   },
   "outputs": [
    {
     "data": {
      "text/plain": [
       "<matplotlib.legend.Legend at 0x7fdf48cb3610>"
      ]
     },
     "execution_count": 32,
     "metadata": {},
     "output_type": "execute_result"
    },
    {
     "data": {
      "image/png": "[encoded data removed]",
      "text/plain": [
       "<Figure size 432x288 with 1 Axes>"
      ]
     },
     "metadata": {},
     "output_type": "display_data"
    }
   ],
   "source": [
    "# visulaize :\n",
    "plt.plot(trained_model.history[\"accuracy\"], label = \"Training\")\n",
    "plt.plot(trained_model.history[\"val_accuracy\"], label = \"Testing\")\n",
    "plt.legend()\n"
   ]
  },
  {
   "cell_type": "code",
   "execution_count": null,
   "metadata": {
    "colab": {
     "base_uri": "https://localhost:8080/"
    },
    "id": "K6SEar7WynSC",
    "outputId": "0f56f9ed-0120-41c0-a131-5338a049795f"
   },
   "outputs": [
    {
     "data": {
      "text/plain": [
       "array([[0],\n",
       "       [0],\n",
       "       [0],\n",
       "       ...,\n",
       "       [0],\n",
       "       [0],\n",
       "       [0]])"
      ]
     },
     "execution_count": 33,
     "metadata": {},
     "output_type": "execute_result"
    }
   ],
   "source": [
    "# To predict the output :\n",
    "y_predict = model.predict(x_test)\n",
    "y_predict = np.where(y_predict >= 0.5, 1,0)\n",
    "y_predict"
   ]
  },
  {
   "cell_type": "code",
   "execution_count": null,
   "metadata": {
    "colab": {
     "base_uri": "https://localhost:8080/"
    },
    "id": "Y24tcizBy3Ot",
    "outputId": "aad399fb-f69f-43c7-9025-4d8efd2d3fe8"
   },
   "outputs": [
    {
     "name": "stdout",
     "output_type": "stream",
     "text": [
      "      Actual_output  Predicted_output\n",
      "9953              0                 0\n",
      "3850              0                 0\n",
      "4962              0                 0\n",
      "3886              0                 0\n",
      "5437              0                 0\n",
      "...             ...               ...\n",
      "5273              0                 0\n",
      "8014              0                 0\n",
      "8984              0                 0\n",
      "6498              0                 0\n",
      "6327              0                 0\n",
      "\n",
      "[3000 rows x 2 columns]\n"
     ]
    }
   ],
   "source": [
    "dict = {\"Actual_output\":y_test} # 1D array output.\n",
    "dict = pd.DataFrame(dict)\n",
    "\n",
    "# to add y_predict column :\n",
    "dict[\"Predicted_output\"] = y_predict # 2D array output.\n",
    "print(dict)"
   ]
  },
  {
   "cell_type": "code",
   "execution_count": null,
   "metadata": {
    "colab": {
     "base_uri": "https://localhost:8080/"
    },
    "id": "ZQz_E-zRzik0",
    "outputId": "6877214a-38c4-4eca-fcb2-a60a533d7385"
   },
   "outputs": [
    {
     "name": "stdout",
     "output_type": "stream",
     "text": [
      "Classification_Report = \n",
      "              precision    recall  f1-score   support\n",
      "\n",
      "           0       0.87      0.96      0.91      2373\n",
      "           1       0.75      0.46      0.57       627\n",
      "\n",
      "    accuracy                           0.86      3000\n",
      "   macro avg       0.81      0.71      0.74      3000\n",
      "weighted avg       0.85      0.86      0.84      3000\n",
      "\n",
      "Confusion_Matrix = \n",
      "[[2278   95]\n",
      " [ 337  290]]\n"
     ]
    }
   ],
   "source": [
    "# to print the Classification report and Confusion matrix :\n",
    "from sklearn.metrics import classification_report, confusion_matrix\n",
    "\n",
    "print(\"Classification_Report = \")\n",
    "print(classification_report(y_test, y_predict))\n",
    "print(\"Confusion_Matrix = \")\n",
    "print(confusion_matrix(y_test, y_predict))"
   ]
  },
  {
   "cell_type": "markdown",
   "metadata": {
    "id": "s7A6yuPt8AaW"
   },
   "source": [
    "Observation : From the Above model performing, it is observed that without balancing the data, we have gained the accuracy, but the minority records were neglected by the training model, and model is not fit to perform."
   ]
  },
  {
   "cell_type": "markdown",
   "metadata": {
    "id": "QwkzTeI48e5G"
   },
   "source": [
    "Now performing with Balanced Data :"
   ]
  },
  {
   "cell_type": "code",
   "execution_count": null,
   "metadata": {
    "colab": {
     "base_uri": "https://localhost:8080/"
    },
    "id": "eRouTRCV8jNg",
    "outputId": "4c295b49-0dd7-4a1a-8009-70736901f1c2"
   },
   "outputs": [
    {
     "name": "stdout",
     "output_type": "stream",
     "text": [
      "Epoch 1/1000\n",
      "224/224 [==============================] - 1s 4ms/step - loss: 454.4572 - accuracy: 0.4996 - val_loss: 0.7305 - val_accuracy: 0.5000\n",
      "Epoch 2/1000\n",
      "224/224 [==============================] - 1s 3ms/step - loss: 19.0989 - accuracy: 0.5157 - val_loss: 2.6402 - val_accuracy: 0.5579\n",
      "Epoch 3/1000\n",
      "224/224 [==============================] - 1s 3ms/step - loss: 4.5499 - accuracy: 0.5059 - val_loss: 0.9535 - val_accuracy: 0.4941\n",
      "Epoch 4/1000\n",
      "224/224 [==============================] - 1s 3ms/step - loss: 2.7421 - accuracy: 0.4957 - val_loss: 0.7058 - val_accuracy: 0.4994\n",
      "Epoch 5/1000\n",
      "224/224 [==============================] - 1s 4ms/step - loss: 0.7001 - accuracy: 0.5023 - val_loss: 0.6938 - val_accuracy: 0.4994\n",
      "Epoch 6/1000\n",
      "224/224 [==============================] - 1s 4ms/step - loss: 0.6932 - accuracy: 0.5023 - val_loss: 0.6939 - val_accuracy: 0.5000\n",
      "Epoch 7/1000\n",
      "224/224 [==============================] - 1s 3ms/step - loss: 0.6925 - accuracy: 0.5054 - val_loss: 0.6937 - val_accuracy: 0.5000\n",
      "Epoch 8/1000\n",
      "224/224 [==============================] - 1s 3ms/step - loss: 0.6926 - accuracy: 0.4995 - val_loss: 0.6936 - val_accuracy: 0.5000\n",
      "Epoch 9/1000\n",
      "224/224 [==============================] - 1s 3ms/step - loss: 0.6922 - accuracy: 0.5038 - val_loss: 0.6937 - val_accuracy: 0.5000\n",
      "Epoch 10/1000\n",
      "224/224 [==============================] - 1s 4ms/step - loss: 0.6921 - accuracy: 0.5041 - val_loss: 0.6940 - val_accuracy: 0.5002\n",
      "Epoch 11/1000\n",
      "224/224 [==============================] - 1s 3ms/step - loss: 0.6919 - accuracy: 0.5097 - val_loss: 0.6935 - val_accuracy: 0.5002\n",
      "Epoch 12/1000\n",
      "224/224 [==============================] - 1s 3ms/step - loss: 0.6921 - accuracy: 0.5021 - val_loss: 0.6934 - val_accuracy: 0.5004\n",
      "Epoch 13/1000\n",
      "224/224 [==============================] - 1s 3ms/step - loss: 0.6943 - accuracy: 0.4988 - val_loss: 0.6931 - val_accuracy: 0.5004\n",
      "Epoch 14/1000\n",
      "224/224 [==============================] - 1s 3ms/step - loss: 0.6917 - accuracy: 0.5036 - val_loss: 0.6929 - val_accuracy: 0.5002\n",
      "Epoch 15/1000\n",
      "224/224 [==============================] - 1s 3ms/step - loss: 0.6924 - accuracy: 0.4954 - val_loss: 0.6929 - val_accuracy: 0.5015\n",
      "Epoch 16/1000\n",
      "224/224 [==============================] - 1s 3ms/step - loss: 0.6919 - accuracy: 0.5006 - val_loss: 0.6932 - val_accuracy: 0.5004\n",
      "Epoch 17/1000\n",
      "224/224 [==============================] - 1s 4ms/step - loss: 0.6919 - accuracy: 0.5028 - val_loss: 0.6934 - val_accuracy: 0.5006\n",
      "Epoch 18/1000\n",
      "224/224 [==============================] - 1s 3ms/step - loss: 0.6922 - accuracy: 0.4936 - val_loss: 0.6936 - val_accuracy: 0.5006\n",
      "Epoch 19/1000\n",
      "224/224 [==============================] - 1s 4ms/step - loss: 0.6916 - accuracy: 0.5040 - val_loss: 0.6945 - val_accuracy: 0.5006\n",
      "Epoch 20/1000\n",
      "224/224 [==============================] - 1s 3ms/step - loss: 0.6919 - accuracy: 0.5039 - val_loss: 0.6931 - val_accuracy: 0.5006\n",
      "Epoch 21/1000\n",
      "224/224 [==============================] - 1s 3ms/step - loss: 0.6917 - accuracy: 0.5010 - val_loss: 0.6970 - val_accuracy: 0.5011\n",
      "Epoch 22/1000\n",
      "224/224 [==============================] - 1s 3ms/step - loss: 0.6919 - accuracy: 0.4945 - val_loss: 0.6931 - val_accuracy: 0.5006\n",
      "Epoch 23/1000\n",
      "224/224 [==============================] - 1s 4ms/step - loss: 0.6917 - accuracy: 0.4962 - val_loss: 0.6929 - val_accuracy: 0.5013\n",
      "Epoch 24/1000\n",
      "224/224 [==============================] - 1s 4ms/step - loss: 0.6915 - accuracy: 0.5049 - val_loss: 0.6929 - val_accuracy: 0.5006\n",
      "Epoch 25/1000\n",
      "224/224 [==============================] - 1s 3ms/step - loss: 0.6919 - accuracy: 0.5028 - val_loss: 0.6929 - val_accuracy: 0.5006\n",
      "Epoch 26/1000\n",
      "224/224 [==============================] - 1s 3ms/step - loss: 0.6919 - accuracy: 0.4946 - val_loss: 0.6929 - val_accuracy: 0.5013\n",
      "Epoch 27/1000\n",
      "224/224 [==============================] - 1s 3ms/step - loss: 0.6917 - accuracy: 0.4967 - val_loss: 0.6929 - val_accuracy: 0.5019\n",
      "Epoch 28/1000\n",
      "224/224 [==============================] - 1s 4ms/step - loss: 0.6916 - accuracy: 0.4994 - val_loss: 0.6929 - val_accuracy: 0.5015\n",
      "Epoch 29/1000\n",
      "224/224 [==============================] - 1s 3ms/step - loss: 0.6917 - accuracy: 0.4966 - val_loss: 0.6929 - val_accuracy: 0.5008\n",
      "Epoch 30/1000\n",
      "224/224 [==============================] - 1s 4ms/step - loss: 0.6914 - accuracy: 0.5025 - val_loss: 0.6930 - val_accuracy: 0.5008\n",
      "Epoch 31/1000\n",
      "224/224 [==============================] - 1s 3ms/step - loss: 0.6921 - accuracy: 0.4983 - val_loss: 0.6927 - val_accuracy: 0.5006\n",
      "Epoch 32/1000\n",
      "224/224 [==============================] - 1s 3ms/step - loss: 0.6918 - accuracy: 0.4981 - val_loss: 0.6928 - val_accuracy: 0.5008\n",
      "Epoch 33/1000\n",
      "224/224 [==============================] - 1s 3ms/step - loss: 0.6916 - accuracy: 0.4998 - val_loss: 0.6942 - val_accuracy: 0.5011\n",
      "Epoch 34/1000\n",
      "224/224 [==============================] - 1s 3ms/step - loss: 0.6919 - accuracy: 0.5013 - val_loss: 0.6926 - val_accuracy: 0.5015\n",
      "Epoch 35/1000\n",
      "224/224 [==============================] - 1s 3ms/step - loss: 0.6918 - accuracy: 0.4906 - val_loss: 0.6929 - val_accuracy: 0.5013\n",
      "Epoch 36/1000\n",
      "224/224 [==============================] - 1s 3ms/step - loss: 0.6923 - accuracy: 0.4982 - val_loss: 0.6925 - val_accuracy: 0.5004\n",
      "Epoch 37/1000\n",
      "224/224 [==============================] - 1s 3ms/step - loss: 0.6926 - accuracy: 0.5007 - val_loss: 0.6925 - val_accuracy: 0.5000\n",
      "Epoch 38/1000\n",
      "224/224 [==============================] - 1s 3ms/step - loss: 0.6916 - accuracy: 0.4980 - val_loss: 0.6924 - val_accuracy: 0.5000\n",
      "Epoch 39/1000\n",
      "224/224 [==============================] - 1s 3ms/step - loss: 0.6924 - accuracy: 0.4915 - val_loss: 0.6924 - val_accuracy: 0.5004\n",
      "Epoch 40/1000\n",
      "224/224 [==============================] - 1s 4ms/step - loss: 0.6927 - accuracy: 0.4964 - val_loss: 0.6924 - val_accuracy: 0.5004\n",
      "Epoch 41/1000\n",
      "224/224 [==============================] - 1s 4ms/step - loss: 0.6924 - accuracy: 0.5006 - val_loss: 0.6924 - val_accuracy: 0.5004\n",
      "Epoch 42/1000\n",
      "224/224 [==============================] - 1s 3ms/step - loss: 0.6924 - accuracy: 0.4973 - val_loss: 0.6924 - val_accuracy: 0.5004\n",
      "Epoch 43/1000\n",
      "224/224 [==============================] - 1s 3ms/step - loss: 0.6925 - accuracy: 0.4965 - val_loss: 0.6924 - val_accuracy: 0.5004\n",
      "Epoch 44/1000\n",
      "224/224 [==============================] - 1s 3ms/step - loss: 0.6925 - accuracy: 0.4932 - val_loss: 0.6924 - val_accuracy: 0.5004\n",
      "Epoch 45/1000\n",
      "224/224 [==============================] - 1s 4ms/step - loss: 0.6927 - accuracy: 0.4989 - val_loss: 0.6924 - val_accuracy: 0.5006\n",
      "Epoch 46/1000\n",
      "224/224 [==============================] - 1s 4ms/step - loss: 0.6926 - accuracy: 0.5006 - val_loss: 0.6924 - val_accuracy: 0.5004\n",
      "Epoch 47/1000\n",
      "224/224 [==============================] - 1s 4ms/step - loss: 0.6925 - accuracy: 0.4903 - val_loss: 0.6924 - val_accuracy: 0.5004\n",
      "Epoch 48/1000\n",
      "224/224 [==============================] - 1s 3ms/step - loss: 0.6926 - accuracy: 0.4995 - val_loss: 0.6924 - val_accuracy: 0.5004\n",
      "Epoch 49/1000\n",
      "224/224 [==============================] - 1s 3ms/step - loss: 0.6925 - accuracy: 0.4993 - val_loss: 0.6924 - val_accuracy: 0.5006\n",
      "Epoch 50/1000\n",
      "224/224 [==============================] - 1s 3ms/step - loss: 0.6924 - accuracy: 0.4999 - val_loss: 0.6924 - val_accuracy: 0.5004\n",
      "Epoch 51/1000\n",
      "224/224 [==============================] - 1s 4ms/step - loss: 0.6924 - accuracy: 0.4918 - val_loss: 0.6924 - val_accuracy: 0.5004\n",
      "Epoch 52/1000\n",
      "224/224 [==============================] - 1s 4ms/step - loss: 0.6924 - accuracy: 0.4962 - val_loss: 0.6924 - val_accuracy: 0.5006\n",
      "Epoch 53/1000\n",
      "224/224 [==============================] - 1s 3ms/step - loss: 0.6927 - accuracy: 0.4928 - val_loss: 0.6924 - val_accuracy: 0.5006\n",
      "Epoch 54/1000\n",
      "224/224 [==============================] - 1s 3ms/step - loss: 0.6925 - accuracy: 0.4942 - val_loss: 0.6924 - val_accuracy: 0.5006\n",
      "Epoch 55/1000\n",
      "224/224 [==============================] - 1s 4ms/step - loss: 0.6934 - accuracy: 0.5008 - val_loss: 0.6924 - val_accuracy: 0.5006\n",
      "Epoch 56/1000\n",
      "224/224 [==============================] - 1s 3ms/step - loss: 0.6925 - accuracy: 0.4930 - val_loss: 0.6924 - val_accuracy: 0.5004\n",
      "Epoch 57/1000\n",
      "224/224 [==============================] - 1s 3ms/step - loss: 0.6926 - accuracy: 0.4987 - val_loss: 0.6924 - val_accuracy: 0.5006\n",
      "Epoch 58/1000\n",
      "224/224 [==============================] - 1s 4ms/step - loss: 0.6925 - accuracy: 0.4919 - val_loss: 0.6924 - val_accuracy: 0.5004\n",
      "Epoch 58: early stopping\n"
     ]
    }
   ],
   "source": [
    "# to train the model :\n",
    "trained_model1 = model.fit(x_train1, y_train1, epochs = 1000, batch_size = 50, validation_data = (x_test1, y_test1),\n",
    "                           verbose = 1, callbacks = callback)\n",
    "# validation_data = (x_test, y_test) or validation_split = 0.2"
   ]
  },
  {
   "cell_type": "code",
   "execution_count": null,
   "metadata": {
    "colab": {
     "base_uri": "https://localhost:8080/"
    },
    "id": "nks1PEl9-MTP",
    "outputId": "de10a195-d245-4cb1-d144-f947a20c57d1"
   },
   "outputs": [
    {
     "name": "stdout",
     "output_type": "stream",
     "text": [
      "350/350 [==============================] - 1s 2ms/step - loss: 0.6923 - accuracy: 0.5004\n",
      "Training loss and Accuracy =  [0.6922816038131714, 0.5004472136497498]\n",
      "149/149 [==============================] - 0s 2ms/step - loss: 0.6924 - accuracy: 0.5004\n",
      "Testing loss and Accurcay =  [0.6924166679382324, 0.500421404838562]\n"
     ]
    }
   ],
   "source": [
    "# to evaluate the model :\n",
    "# to evaluate the model :\n",
    "print(\"Training loss and Accuracy = \", model.evaluate(x_train1, y_train1))\n",
    "print(\"Testing loss and Accurcay = \", model.evaluate(x_test1, y_test1))"
   ]
  },
  {
   "cell_type": "code",
   "execution_count": null,
   "metadata": {
    "colab": {
     "base_uri": "https://localhost:8080/",
     "height": 283
    },
    "id": "xtG8WYuo9zZ8",
    "outputId": "3f5598e0-eedf-4ad1-aa40-3af7eb3486ec"
   },
   "outputs": [
    {
     "data": {
      "text/plain": [
       "<matplotlib.legend.Legend at 0x7fdf45422550>"
      ]
     },
     "execution_count": 38,
     "metadata": {},
     "output_type": "execute_result"
    },
    {
     "data": {
      "image/png": "[encoded data removed]",
      "text/plain": [
       "<Figure size 432x288 with 1 Axes>"
      ]
     },
     "metadata": {},
     "output_type": "display_data"
    }
   ],
   "source": [
    "# visulaize :\n",
    "plt.plot(trained_model1.history[\"loss\"], label = \"Training\")\n",
    "plt.plot(trained_model1.history[\"val_loss\"], label = \"Testing\")\n",
    "plt.legend()\n"
   ]
  },
  {
   "cell_type": "code",
   "execution_count": null,
   "metadata": {
    "colab": {
     "base_uri": "https://localhost:8080/",
     "height": 283
    },
    "id": "JzXJuhC39331",
    "outputId": "9cac1ef7-08d0-4b5e-b370-322493003ed5"
   },
   "outputs": [
    {
     "data": {
      "text/plain": [
       "<matplotlib.legend.Legend at 0x7fdf488dd4d0>"
      ]
     },
     "execution_count": 39,
     "metadata": {},
     "output_type": "execute_result"
    },
    {
     "data": {
      "image/png": "[encoded data removed]",
      "text/plain": [
       "<Figure size 432x288 with 1 Axes>"
      ]
     },
     "metadata": {},
     "output_type": "display_data"
    }
   ],
   "source": [
    "# visulaize :\n",
    "plt.plot(trained_model1.history[\"accuracy\"], label = \"Training\")\n",
    "plt.plot(trained_model1.history[\"val_accuracy\"], label = \"Testing\")\n",
    "plt.legend()\n"
   ]
  },
  {
   "cell_type": "code",
   "execution_count": null,
   "metadata": {
    "colab": {
     "base_uri": "https://localhost:8080/"
    },
    "id": "nW8kDmCW_Fy1",
    "outputId": "ba0b7469-c6d8-4f06-d981-343f731f55d5"
   },
   "outputs": [
    {
     "data": {
      "text/plain": [
       "array([[1],\n",
       "       [1],\n",
       "       [1],\n",
       "       ...,\n",
       "       [1],\n",
       "       [1],\n",
       "       [1]])"
      ]
     },
     "execution_count": 40,
     "metadata": {},
     "output_type": "execute_result"
    }
   ],
   "source": [
    "# To predict the output :\n",
    "y_predict1 = model.predict(x_test1)\n",
    "y_predict1 = np.where(y_predict1 >= 0.5, 1,0)\n",
    "y_predict1"
   ]
  },
  {
   "cell_type": "code",
   "execution_count": null,
   "metadata": {
    "colab": {
     "base_uri": "https://localhost:8080/"
    },
    "id": "YMHaDJbKAY7b",
    "outputId": "28851a4d-ce27-4d7a-9e8b-5215f749c299"
   },
   "outputs": [
    {
     "name": "stdout",
     "output_type": "stream",
     "text": [
      "      Actual_output  Predicted_output\n",
      "0                 0                 1\n",
      "1                 0                 1\n",
      "2                 0                 1\n",
      "3                 0                 1\n",
      "4                 0                 1\n",
      "...             ...               ...\n",
      "4741              1                 1\n",
      "4742              1                 1\n",
      "4743              1                 1\n",
      "4744              1                 1\n",
      "4745              1                 1\n",
      "\n",
      "[4746 rows x 2 columns]\n"
     ]
    }
   ],
   "source": [
    "dict = {\"Actual_output\":y_test1} # 1D array output.\n",
    "dict = pd.DataFrame(dict)\n",
    "\n",
    "# to add y_predict column :\n",
    "dict[\"Predicted_output\"] = y_predict1 # 2D array output.\n",
    "print(dict)"
   ]
  },
  {
   "cell_type": "code",
   "execution_count": null,
   "metadata": {
    "colab": {
     "base_uri": "https://localhost:8080/"
    },
    "id": "Fa_bEa8Qarxv",
    "outputId": "bbedf300-b26c-4055-a2e2-af41aaa435ce"
   },
   "outputs": [
    {
     "name": "stdout",
     "output_type": "stream",
     "text": [
      "Classification_report\n",
      "              precision    recall  f1-score   support\n",
      "\n",
      "           0       1.00      0.00      0.00      2373\n",
      "           1       0.50      1.00      0.67      2373\n",
      "\n",
      "    accuracy                           0.50      4746\n",
      "   macro avg       0.75      0.50      0.33      4746\n",
      "weighted avg       0.75      0.50      0.33      4746\n",
      "\n",
      "Confusion_Matrix\n",
      "[[   2 2371]\n",
      " [   0 2373]]\n"
     ]
    }
   ],
   "source": [
    "# to print the Classification report and Confusion matrix :\n",
    "print(\"Classification_report\")\n",
    "print(classification_report(y_test1,y_predict1))\n",
    "print(\"Confusion_Matrix\")\n",
    "print(confusion_matrix(y_test1,y_predict1))"
   ]
  },
  {
   "cell_type": "markdown",
   "metadata": {
    "id": "VXN8PJaNQMeb"
   },
   "source": [
    "Observation : By training the model with Balanced Data, we have achieved accuracy but, the model is overfit, i.e, Training score is more than Testing score, as the model is learned too much from the Data leading to overfiting."
   ]
  },
  {
   "cell_type": "markdown",
   "metadata": {
    "id": "er0b5XDJeKgY"
   },
   "source": [
    "# To applying Regularization to reduce Overfiting :"
   ]
  },
  {
   "cell_type": "markdown",
   "metadata": {
    "id": "M6KJNymVkV4G"
   },
   "source": [
    "Artificial Neural Network is always tend to be overfit due to large data, and model tries to learn through every pattern of Data.\n",
    "\n",
    "So to reduce it we can try Regularization :\n",
    "\n",
    "!pip install keras\n"
   ]
  },
  {
   "cell_type": "code",
   "execution_count": null,
   "metadata": {
    "id": "QcFeDxDleJd9"
   },
   "outputs": [],
   "source": [
    "# to apply regularization :\n",
    "from keras import regularizers\n",
    "# regularizers is method of keras"
   ]
  },
  {
   "cell_type": "code",
   "execution_count": null,
   "metadata": {
    "id": "1O_mSVLHk5xo"
   },
   "outputs": [],
   "source": [
    "# creating a Neural Network using regularizers :\n",
    "\n",
    "model1 = tf.keras.models.Sequential([\n",
    "                                      \n",
    "         tf.keras.layers.Dense(units = 1000, activation = \"relu\", input_shape = (x.shape[1],),\n",
    "                               kernel_regularizer = regularizers.l1(0.01)), #Dropout(0.25),  # hidden layer 1\n",
    "         tf.keras.layers.Dense(units = 1000, activation = \"relu\", kernel_regularizer = regularizers.l2(0.01)), #Dropout(0.25), # hidden layer 2\n",
    "         tf.keras.layers.Dense(units = 1000, activation = \"relu\", kernel_regularizer = regularizers.l2(0.01)), #Dropout(0.25), # hidden layer 3\n",
    "         tf.keras.layers.Dense(units = 512, activation = \"relu\", kernel_regularizer = regularizers.l2(0.01)), #Dropout(0.25), # hidden layer 4\n",
    "         tf.keras.layers.Dense(units = 1, activation = \"sigmoid\", kernel_regularizer = regularizers.l2(0.01)) # output layer\n",
    "\n",
    "])\n",
    "# it is the fully grown network "
   ]
  },
  {
   "cell_type": "code",
   "execution_count": null,
   "metadata": {
    "colab": {
     "base_uri": "https://localhost:8080/"
    },
    "id": "bVJ05dyRk50s",
    "outputId": "4bb98345-1bc0-46d1-a21b-87a762574e13"
   },
   "outputs": [
    {
     "name": "stdout",
     "output_type": "stream",
     "text": [
      "Model: \"sequential_1\"\n",
      "_________________________________________________________________\n",
      " Layer (type)                Output Shape              Param #   \n",
      "=================================================================\n",
      " dense_4 (Dense)             (None, 1000)              11000     \n",
      "                                                                 \n",
      " dense_5 (Dense)             (None, 1000)              1001000   \n",
      "                                                                 \n",
      " dense_6 (Dense)             (None, 1000)              1001000   \n",
      "                                                                 \n",
      " dense_7 (Dense)             (None, 512)               512512    \n",
      "                                                                 \n",
      " dense_8 (Dense)             (None, 1)                 513       \n",
      "                                                                 \n",
      "=================================================================\n",
      "Total params: 2,526,025\n",
      "Trainable params: 2,526,025\n",
      "Non-trainable params: 0\n",
      "_________________________________________________________________\n"
     ]
    }
   ],
   "source": [
    "# to show summary :\n",
    "model1.summary()"
   ]
  },
  {
   "cell_type": "code",
   "execution_count": null,
   "metadata": {
    "id": "WLc5A4rak53r"
   },
   "outputs": [],
   "source": [
    "# to compile the model1 :\n",
    "model1.compile(optimizer = \"Adam\", loss = \"binary_crossentropy\", metrics = [\"accuracy\"])"
   ]
  },
  {
   "cell_type": "code",
   "execution_count": null,
   "metadata": {
    "colab": {
     "background_save": true,
     "base_uri": "https://localhost:8080/"
    },
    "id": "JYknnpmok55y",
    "outputId": "d13f1168-d071-4943-fdc8-1a2b2ae4735c"
   },
   "outputs": [
    {
     "name": "stdout",
     "output_type": "stream",
     "text": [
      "Epoch 1/1000\n",
      "224/224 [==============================] - 12s 50ms/step - loss: 298.0499 - accuracy: 0.5149 - val_loss: 21.3025 - val_accuracy: 0.5554\n",
      "Epoch 2/1000\n",
      "224/224 [==============================] - 11s 48ms/step - loss: 19.1389 - accuracy: 0.5057 - val_loss: 16.9211 - val_accuracy: 0.5209\n",
      "Epoch 3/1000\n",
      "224/224 [==============================] - 13s 58ms/step - loss: 15.0736 - accuracy: 0.5138 - val_loss: 14.5996 - val_accuracy: 0.5000\n",
      "Epoch 4/1000\n",
      "224/224 [==============================] - 11s 49ms/step - loss: 14.3126 - accuracy: 0.4965 - val_loss: 14.0566 - val_accuracy: 0.5000\n",
      "Epoch 5/1000\n",
      "224/224 [==============================] - 11s 48ms/step - loss: 13.9510 - accuracy: 0.5010 - val_loss: 13.6165 - val_accuracy: 0.5000\n",
      "Epoch 6/1000\n",
      "224/224 [==============================] - 11s 48ms/step - loss: 13.4454 - accuracy: 0.5006 - val_loss: 13.1913 - val_accuracy: 0.5000\n",
      "Epoch 7/1000\n",
      "224/224 [==============================] - 11s 48ms/step - loss: 13.0233 - accuracy: 0.5011 - val_loss: 12.7718 - val_accuracy: 0.5000\n",
      "Epoch 8/1000\n",
      "224/224 [==============================] - 11s 48ms/step - loss: 12.6256 - accuracy: 0.5016 - val_loss: 12.3775 - val_accuracy: 0.5004\n",
      "Epoch 9/1000\n",
      "224/224 [==============================] - 11s 48ms/step - loss: 12.1789 - accuracy: 0.5038 - val_loss: 11.9752 - val_accuracy: 0.5000\n",
      "Epoch 10/1000\n",
      "224/224 [==============================] - 11s 48ms/step - loss: 11.7849 - accuracy: 0.5000 - val_loss: 11.5767 - val_accuracy: 0.5000\n",
      "Epoch 11/1000\n",
      "224/224 [==============================] - 11s 49ms/step - loss: 11.3774 - accuracy: 0.5004 - val_loss: 11.1805 - val_accuracy: 0.5000\n",
      "Epoch 12/1000\n",
      "224/224 [==============================] - 11s 49ms/step - loss: 11.0132 - accuracy: 0.4972 - val_loss: 10.8129 - val_accuracy: 0.5000\n",
      "Epoch 13/1000\n",
      "224/224 [==============================] - 11s 48ms/step - loss: 10.6263 - accuracy: 0.5044 - val_loss: 10.4337 - val_accuracy: 0.5000\n",
      "Epoch 14/1000\n",
      "224/224 [==============================] - 11s 49ms/step - loss: 10.2616 - accuracy: 0.5024 - val_loss: 10.0668 - val_accuracy: 0.5000\n",
      "Epoch 15/1000\n",
      "224/224 [==============================] - 11s 49ms/step - loss: 9.8844 - accuracy: 0.4966 - val_loss: 9.6941 - val_accuracy: 0.5000\n",
      "Epoch 16/1000\n",
      "224/224 [==============================] - 11s 49ms/step - loss: 9.5152 - accuracy: 0.5025 - val_loss: 9.3250 - val_accuracy: 0.5000\n",
      "Epoch 17/1000\n",
      "224/224 [==============================] - 11s 49ms/step - loss: 9.1645 - accuracy: 0.4935 - val_loss: 8.9708 - val_accuracy: 0.5000\n",
      "Epoch 18/1000\n",
      "224/224 [==============================] - 11s 50ms/step - loss: 9.4210 - accuracy: 0.4963 - val_loss: 8.8912 - val_accuracy: 0.5000\n",
      "Epoch 19/1000\n",
      "224/224 [==============================] - 11s 50ms/step - loss: 8.6373 - accuracy: 0.5003 - val_loss: 8.4053 - val_accuracy: 0.5000\n",
      "Epoch 20/1000\n",
      "224/224 [==============================] - 11s 50ms/step - loss: 8.2361 - accuracy: 0.4908 - val_loss: 8.0295 - val_accuracy: 0.5000\n",
      "Epoch 21/1000\n",
      "224/224 [==============================] - 11s 50ms/step - loss: 7.8549 - accuracy: 0.4950 - val_loss: 7.6574 - val_accuracy: 0.5000\n",
      "Epoch 22/1000\n",
      "224/224 [==============================] - 11s 50ms/step - loss: 7.4761 - accuracy: 0.4995 - val_loss: 7.2956 - val_accuracy: 0.5000\n",
      "Epoch 23/1000\n",
      "224/224 [==============================] - 11s 49ms/step - loss: 7.1431 - accuracy: 0.4958 - val_loss: 6.9201 - val_accuracy: 0.5000\n",
      "Epoch 24/1000\n",
      "224/224 [==============================] - 11s 49ms/step - loss: 6.7387 - accuracy: 0.4979 - val_loss: 6.5564 - val_accuracy: 0.5044\n",
      "Epoch 25/1000\n",
      "224/224 [==============================] - 11s 50ms/step - loss: 6.3759 - accuracy: 0.4978 - val_loss: 6.1967 - val_accuracy: 0.5000\n",
      "Epoch 26/1000\n",
      "224/224 [==============================] - 11s 49ms/step - loss: 6.0258 - accuracy: 0.5015 - val_loss: 5.8562 - val_accuracy: 0.5000\n",
      "Epoch 27/1000\n",
      "224/224 [==============================] - 11s 49ms/step - loss: 5.6931 - accuracy: 0.4966 - val_loss: 5.5226 - val_accuracy: 0.5000\n",
      "Epoch 28/1000\n",
      "224/224 [==============================] - 11s 49ms/step - loss: 5.3666 - accuracy: 0.5023 - val_loss: 5.2140 - val_accuracy: 0.5000\n",
      "Epoch 29/1000\n",
      "224/224 [==============================] - 11s 49ms/step - loss: 5.2104 - accuracy: 0.5021 - val_loss: 4.8982 - val_accuracy: 0.5000\n",
      "Epoch 30/1000\n",
      "224/224 [==============================] - 11s 49ms/step - loss: 4.7919 - accuracy: 0.4993 - val_loss: 4.5955 - val_accuracy: 0.5000\n",
      "Epoch 31/1000\n",
      "224/224 [==============================] - 11s 50ms/step - loss: 4.4329 - accuracy: 0.4983 - val_loss: 4.2723 - val_accuracy: 0.5000\n",
      "Epoch 32/1000\n",
      "224/224 [==============================] - 11s 50ms/step - loss: 4.1145 - accuracy: 0.4987 - val_loss: 3.9954 - val_accuracy: 0.5000\n",
      "Epoch 33/1000\n",
      "224/224 [==============================] - 11s 49ms/step - loss: 3.8527 - accuracy: 0.4976 - val_loss: 3.7326 - val_accuracy: 0.5000\n",
      "Epoch 34/1000\n",
      "224/224 [==============================] - 11s 49ms/step - loss: 4.3816 - accuracy: 0.4987 - val_loss: 22.0690 - val_accuracy: 0.5004\n",
      "Epoch 35/1000\n",
      "224/224 [==============================] - 11s 49ms/step - loss: 4.2566 - accuracy: 0.4995 - val_loss: 3.6695 - val_accuracy: 0.5000\n",
      "Epoch 36/1000\n",
      "224/224 [==============================] - 11s 49ms/step - loss: 3.4776 - accuracy: 0.4966 - val_loss: 3.2961 - val_accuracy: 0.5000\n",
      "Epoch 37/1000\n",
      "224/224 [==============================] - 11s 50ms/step - loss: 3.1485 - accuracy: 0.4999 - val_loss: 3.0090 - val_accuracy: 0.5000\n",
      "Epoch 38/1000\n",
      "224/224 [==============================] - 11s 50ms/step - loss: 2.8807 - accuracy: 0.4975 - val_loss: 2.7377 - val_accuracy: 0.5291\n",
      "Epoch 39/1000\n",
      "224/224 [==============================] - 11s 50ms/step - loss: 2.6660 - accuracy: 0.5029 - val_loss: 2.5285 - val_accuracy: 0.5000\n",
      "Epoch 40/1000\n",
      "224/224 [==============================] - 11s 49ms/step - loss: 2.4168 - accuracy: 0.5004 - val_loss: 2.3005 - val_accuracy: 0.5000\n",
      "Epoch 41/1000\n",
      "224/224 [==============================] - 11s 50ms/step - loss: 2.2395 - accuracy: 0.4996 - val_loss: 2.1225 - val_accuracy: 0.5000\n",
      "Epoch 42/1000\n",
      "224/224 [==============================] - 11s 50ms/step - loss: 2.0830 - accuracy: 0.4966 - val_loss: 1.9986 - val_accuracy: 0.5000\n",
      "Epoch 43/1000\n",
      "224/224 [==============================] - 11s 50ms/step - loss: 1.9083 - accuracy: 0.4995 - val_loss: 1.8127 - val_accuracy: 0.5000\n",
      "Epoch 44/1000\n",
      "224/224 [==============================] - 11s 49ms/step - loss: 1.7330 - accuracy: 0.4975 - val_loss: 1.6459 - val_accuracy: 0.5000\n",
      "Epoch 45/1000\n",
      "224/224 [==============================] - 11s 49ms/step - loss: 1.5905 - accuracy: 0.5014 - val_loss: 1.5117 - val_accuracy: 0.5000\n",
      "Epoch 46/1000\n",
      "224/224 [==============================] - 11s 49ms/step - loss: 1.4526 - accuracy: 0.4928 - val_loss: 1.3960 - val_accuracy: 0.4568\n",
      "Epoch 47/1000\n",
      "224/224 [==============================] - 11s 50ms/step - loss: 1.3672 - accuracy: 0.5044 - val_loss: 1.3077 - val_accuracy: 0.4960\n",
      "Epoch 48/1000\n",
      "224/224 [==============================] - 11s 49ms/step - loss: 1.2515 - accuracy: 0.5135 - val_loss: 1.2002 - val_accuracy: 0.5529\n",
      "Epoch 49/1000\n",
      "224/224 [==============================] - 11s 50ms/step - loss: 1.2589 - accuracy: 0.5016 - val_loss: 1.1551 - val_accuracy: 0.5000\n",
      "Epoch 50/1000\n",
      "224/224 [==============================] - 11s 49ms/step - loss: 1.1171 - accuracy: 0.5124 - val_loss: 1.1291 - val_accuracy: 0.5611\n",
      "Epoch 51/1000\n",
      "224/224 [==============================] - 11s 50ms/step - loss: 1.0664 - accuracy: 0.5156 - val_loss: 1.0280 - val_accuracy: 0.5171\n",
      "Epoch 52/1000\n",
      "224/224 [==============================] - 11s 50ms/step - loss: 1.0231 - accuracy: 0.5087 - val_loss: 0.9530 - val_accuracy: 0.5643\n",
      "Epoch 53/1000\n",
      "224/224 [==============================] - 11s 49ms/step - loss: 0.9533 - accuracy: 0.5218 - val_loss: 0.9301 - val_accuracy: 0.5000\n",
      "Epoch 54/1000\n",
      "224/224 [==============================] - 11s 49ms/step - loss: 0.9060 - accuracy: 0.5233 - val_loss: 0.8840 - val_accuracy: 0.5000\n",
      "Epoch 55/1000\n",
      "224/224 [==============================] - 11s 50ms/step - loss: 0.8653 - accuracy: 0.5231 - val_loss: 0.8415 - val_accuracy: 0.5171\n",
      "Epoch 56/1000\n",
      "224/224 [==============================] - 11s 49ms/step - loss: 0.8297 - accuracy: 0.5635 - val_loss: 0.8106 - val_accuracy: 0.5666\n",
      "Epoch 57/1000\n",
      "224/224 [==============================] - 11s 49ms/step - loss: 0.7920 - accuracy: 0.5716 - val_loss: 0.7805 - val_accuracy: 0.5647\n",
      "Epoch 58/1000\n",
      "224/224 [==============================] - 11s 50ms/step - loss: 0.7719 - accuracy: 0.5700 - val_loss: 0.7674 - val_accuracy: 0.5678\n",
      "Epoch 59/1000\n",
      "224/224 [==============================] - 11s 49ms/step - loss: 0.7544 - accuracy: 0.5695 - val_loss: 0.7500 - val_accuracy: 0.5641\n",
      "Epoch 60/1000\n",
      "224/224 [==============================] - 11s 49ms/step - loss: 0.7427 - accuracy: 0.5716 - val_loss: 0.7464 - val_accuracy: 0.5333\n",
      "Epoch 61/1000\n",
      "224/224 [==============================] - 11s 49ms/step - loss: 0.7585 - accuracy: 0.5612 - val_loss: 0.7613 - val_accuracy: 0.5704\n",
      "Epoch 62/1000\n",
      "224/224 [==============================] - 11s 48ms/step - loss: 0.7348 - accuracy: 0.5641 - val_loss: 0.7416 - val_accuracy: 0.5516\n",
      "Epoch 63/1000\n",
      "224/224 [==============================] - 11s 49ms/step - loss: 0.7228 - accuracy: 0.5681 - val_loss: 0.7189 - val_accuracy: 0.5678\n",
      "Epoch 64/1000\n",
      "224/224 [==============================] - 11s 50ms/step - loss: 0.7171 - accuracy: 0.5677 - val_loss: 0.7142 - val_accuracy: 0.5681\n",
      "Epoch 65/1000\n",
      "224/224 [==============================] - 11s 50ms/step - loss: 0.7084 - accuracy: 0.5704 - val_loss: 0.7091 - val_accuracy: 0.5676\n",
      "Epoch 66/1000\n",
      "224/224 [==============================] - 11s 50ms/step - loss: 0.7052 - accuracy: 0.5716 - val_loss: 0.7055 - val_accuracy: 0.5660\n",
      "Epoch 67/1000\n",
      "224/224 [==============================] - 11s 49ms/step - loss: 0.7049 - accuracy: 0.5711 - val_loss: 0.7089 - val_accuracy: 0.5653\n",
      "Epoch 68/1000\n",
      "224/224 [==============================] - 11s 49ms/step - loss: 0.7019 - accuracy: 0.5692 - val_loss: 0.7014 - val_accuracy: 0.5674\n",
      "Epoch 69/1000\n",
      "224/224 [==============================] - 11s 49ms/step - loss: 0.6997 - accuracy: 0.5714 - val_loss: 0.7011 - val_accuracy: 0.5664\n",
      "Epoch 70/1000\n",
      "224/224 [==============================] - 11s 49ms/step - loss: 0.7022 - accuracy: 0.5677 - val_loss: 0.7039 - val_accuracy: 0.5689\n",
      "Epoch 71/1000\n",
      "224/224 [==============================] - 11s 49ms/step - loss: 0.7447 - accuracy: 0.5633 - val_loss: 0.7640 - val_accuracy: 0.5651\n",
      "Epoch 72/1000\n",
      "224/224 [==============================] - 11s 49ms/step - loss: 0.7111 - accuracy: 0.5714 - val_loss: 0.7010 - val_accuracy: 0.5638\n",
      "Epoch 73/1000\n",
      "224/224 [==============================] - 11s 49ms/step - loss: 0.6962 - accuracy: 0.5725 - val_loss: 0.6979 - val_accuracy: 0.5657\n",
      "Epoch 74/1000\n",
      "224/224 [==============================] - 11s 49ms/step - loss: 0.6955 - accuracy: 0.5719 - val_loss: 0.6990 - val_accuracy: 0.5666\n",
      "Epoch 75/1000\n",
      "224/224 [==============================] - 11s 49ms/step - loss: 0.6965 - accuracy: 0.5715 - val_loss: 0.6970 - val_accuracy: 0.5655\n",
      "Epoch 76/1000\n",
      "224/224 [==============================] - 11s 49ms/step - loss: 0.6941 - accuracy: 0.5716 - val_loss: 0.6950 - val_accuracy: 0.5672\n",
      "Epoch 77/1000\n",
      "224/224 [==============================] - 11s 48ms/step - loss: 0.6945 - accuracy: 0.5725 - val_loss: 0.6965 - val_accuracy: 0.5655\n",
      "Epoch 78/1000\n",
      "224/224 [==============================] - 11s 48ms/step - loss: 0.6946 - accuracy: 0.5718 - val_loss: 0.6977 - val_accuracy: 0.5672\n",
      "Epoch 79/1000\n",
      "224/224 [==============================] - 11s 49ms/step - loss: 0.7097 - accuracy: 0.5714 - val_loss: 0.7015 - val_accuracy: 0.5653\n",
      "Epoch 80/1000\n",
      "224/224 [==============================] - 11s 49ms/step - loss: 0.6963 - accuracy: 0.5725 - val_loss: 0.6971 - val_accuracy: 0.5655\n",
      "Epoch 81/1000\n",
      "224/224 [==============================] - 11s 49ms/step - loss: 0.6958 - accuracy: 0.5712 - val_loss: 0.6952 - val_accuracy: 0.5651\n",
      "Epoch 82/1000\n",
      "224/224 [==============================] - 11s 49ms/step - loss: 0.6943 - accuracy: 0.5728 - val_loss: 0.6950 - val_accuracy: 0.5660\n",
      "Epoch 83/1000\n",
      "224/224 [==============================] - 11s 48ms/step - loss: 0.6931 - accuracy: 0.5733 - val_loss: 0.6949 - val_accuracy: 0.5664\n",
      "Epoch 84/1000\n",
      "224/224 [==============================] - 11s 47ms/step - loss: 0.6951 - accuracy: 0.5705 - val_loss: 0.6959 - val_accuracy: 0.5657\n",
      "Epoch 85/1000\n",
      "224/224 [==============================] - 11s 48ms/step - loss: 0.6998 - accuracy: 0.5710 - val_loss: 0.7089 - val_accuracy: 0.5000\n",
      "Epoch 86/1000\n",
      "224/224 [==============================] - 11s 48ms/step - loss: 0.6977 - accuracy: 0.5535 - val_loss: 0.6955 - val_accuracy: 0.5672\n",
      "Epoch 87/1000\n",
      "224/224 [==============================] - 11s 48ms/step - loss: 0.7079 - accuracy: 0.5603 - val_loss: 0.7289 - val_accuracy: 0.5327\n",
      "Epoch 88/1000\n",
      "224/224 [==============================] - 11s 48ms/step - loss: 0.7032 - accuracy: 0.5687 - val_loss: 0.7018 - val_accuracy: 0.5674\n",
      "Epoch 89/1000\n",
      "224/224 [==============================] - 11s 47ms/step - loss: 0.7002 - accuracy: 0.5721 - val_loss: 0.6970 - val_accuracy: 0.5638\n",
      "Epoch 90/1000\n",
      "224/224 [==============================] - 10s 47ms/step - loss: 0.7029 - accuracy: 0.5672 - val_loss: 0.6966 - val_accuracy: 0.5672\n",
      "Epoch 91/1000\n",
      "224/224 [==============================] - 11s 47ms/step - loss: 0.7171 - accuracy: 0.5513 - val_loss: 0.7082 - val_accuracy: 0.5657\n",
      "Epoch 92/1000\n",
      "224/224 [==============================] - 11s 48ms/step - loss: 0.7213 - accuracy: 0.5733 - val_loss: 0.7014 - val_accuracy: 0.5674\n",
      "Epoch 93/1000\n",
      "224/224 [==============================] - 11s 48ms/step - loss: 0.6958 - accuracy: 0.5707 - val_loss: 0.6962 - val_accuracy: 0.5657\n",
      "Epoch 94/1000\n",
      "224/224 [==============================] - 11s 48ms/step - loss: 0.6941 - accuracy: 0.5720 - val_loss: 0.6951 - val_accuracy: 0.5664\n",
      "Epoch 95/1000\n",
      "224/224 [==============================] - 11s 47ms/step - loss: 0.6937 - accuracy: 0.5717 - val_loss: 0.6946 - val_accuracy: 0.5662\n",
      "Epoch 96/1000\n",
      "224/224 [==============================] - 11s 48ms/step - loss: 0.6929 - accuracy: 0.5729 - val_loss: 0.6940 - val_accuracy: 0.5664\n",
      "Epoch 97/1000\n",
      "224/224 [==============================] - 11s 48ms/step - loss: 0.6938 - accuracy: 0.5733 - val_loss: 0.6955 - val_accuracy: 0.5653\n",
      "Epoch 98/1000\n",
      "224/224 [==============================] - 11s 48ms/step - loss: 0.6940 - accuracy: 0.5732 - val_loss: 0.6971 - val_accuracy: 0.5664\n",
      "Epoch 99/1000\n",
      "224/224 [==============================] - 11s 48ms/step - loss: 0.6945 - accuracy: 0.5733 - val_loss: 0.6948 - val_accuracy: 0.5664\n",
      "Epoch 100/1000\n",
      "224/224 [==============================] - 11s 47ms/step - loss: 0.6952 - accuracy: 0.5723 - val_loss: 0.7048 - val_accuracy: 0.5651\n",
      "Epoch 101/1000\n",
      "224/224 [==============================] - 11s 48ms/step - loss: 0.7001 - accuracy: 0.5731 - val_loss: 0.6951 - val_accuracy: 0.5651\n",
      "Epoch 102/1000\n",
      "224/224 [==============================] - 11s 47ms/step - loss: 0.6931 - accuracy: 0.5732 - val_loss: 0.6977 - val_accuracy: 0.5651\n",
      "Epoch 103/1000\n",
      "224/224 [==============================] - 11s 48ms/step - loss: 0.6976 - accuracy: 0.5708 - val_loss: 0.6970 - val_accuracy: 0.5655\n",
      "Epoch 104/1000\n",
      "224/224 [==============================] - 11s 49ms/step - loss: 0.7076 - accuracy: 0.5582 - val_loss: 0.7345 - val_accuracy: 0.5000\n",
      "Epoch 105/1000\n",
      "224/224 [==============================] - 11s 48ms/step - loss: 0.7709 - accuracy: 0.5671 - val_loss: 0.7095 - val_accuracy: 0.5641\n",
      "Epoch 106/1000\n",
      "224/224 [==============================] - 11s 47ms/step - loss: 0.7040 - accuracy: 0.5725 - val_loss: 0.6985 - val_accuracy: 0.5657\n",
      "Epoch 107/1000\n",
      "224/224 [==============================] - 11s 48ms/step - loss: 0.6950 - accuracy: 0.5726 - val_loss: 0.6969 - val_accuracy: 0.5653\n",
      "Epoch 108/1000\n",
      "224/224 [==============================] - 11s 48ms/step - loss: 0.6936 - accuracy: 0.5733 - val_loss: 0.6953 - val_accuracy: 0.5664\n",
      "Epoch 109/1000\n",
      "224/224 [==============================] - 10s 47ms/step - loss: 0.6941 - accuracy: 0.5726 - val_loss: 0.6955 - val_accuracy: 0.5653\n",
      "Epoch 110/1000\n",
      "224/224 [==============================] - 11s 48ms/step - loss: 0.7053 - accuracy: 0.5661 - val_loss: 0.7279 - val_accuracy: 0.5501\n",
      "Epoch 111/1000\n",
      "224/224 [==============================] - 11s 47ms/step - loss: 0.6980 - accuracy: 0.5730 - val_loss: 0.6949 - val_accuracy: 0.5672\n",
      "Epoch 112/1000\n",
      "224/224 [==============================] - 11s 47ms/step - loss: 0.6932 - accuracy: 0.5723 - val_loss: 0.6954 - val_accuracy: 0.5653\n",
      "Epoch 113/1000\n",
      "224/224 [==============================] - 11s 48ms/step - loss: 0.6949 - accuracy: 0.5708 - val_loss: 0.6971 - val_accuracy: 0.5681\n",
      "Epoch 114/1000\n",
      "224/224 [==============================] - 11s 47ms/step - loss: 0.6938 - accuracy: 0.5732 - val_loss: 0.6974 - val_accuracy: 0.5672\n",
      "Epoch 115/1000\n",
      "224/224 [==============================] - 11s 47ms/step - loss: 0.6961 - accuracy: 0.5714 - val_loss: 0.6965 - val_accuracy: 0.5672\n",
      "Epoch 116/1000\n",
      "224/224 [==============================] - 11s 48ms/step - loss: 0.6934 - accuracy: 0.5733 - val_loss: 0.6953 - val_accuracy: 0.5664\n",
      "Epoch 116: early stopping\n"
     ]
    }
   ],
   "source": [
    "# to train the model and validate :\n",
    "trained_model2 = model1.fit(x_train1, y_train1, epochs = 1000, \n",
    "                           validation_data = (x_test1, y_test1), \n",
    "                           batch_size = 50,\n",
    "                           callbacks = callback)"
   ]
  },
  {
   "cell_type": "code",
   "execution_count": null,
   "metadata": {
    "colab": {
     "background_save": true
    },
    "id": "3qvQPs5Fk578",
    "outputId": "f3e25fbc-5a71-420c-ed69-d2db811e1f2c"
   },
   "outputs": [
    {
     "name": "stdout",
     "output_type": "stream",
     "text": [
      "350/350 [==============================] - 4s 10ms/step - loss: 0.6929 - accuracy: 0.5729\n",
      "Training Error and Training Accuracy =  [0.6928662657737732, 0.5728980302810669]\n",
      "149/149 [==============================] - 2s 10ms/step - loss: 0.6953 - accuracy: 0.5664\n",
      "Testing Error and Testing Accuracy   =  [0.6952773332595825, 0.5663716793060303]\n"
     ]
    }
   ],
   "source": [
    "# to evaluate the model :\n",
    "# to print :\n",
    "print(\"Training Error and Training Accuracy = \", model1.evaluate(x_train1, y_train1))\n",
    "print(\"Testing Error and Testing Accuracy   = \", model1.evaluate(x_test1, y_test1)) "
   ]
  },
  {
   "cell_type": "code",
   "execution_count": null,
   "metadata": {
    "colab": {
     "background_save": true
    },
    "id": "-3ilTc7ruWRd",
    "outputId": "a1c6817c-2988-46c1-ee8c-c41af347117a"
   },
   "outputs": [
    {
     "data": {
      "image/png": "[encoded data removed]",
      "text/plain": [
       "<Figure size 432x288 with 1 Axes>"
      ]
     },
     "metadata": {},
     "output_type": "display_data"
    }
   ],
   "source": [
    "# to visualize :\n",
    "plt.plot(trained_model2.history[\"loss\"], label = \"Training\")  # training loss = loss (error)\n",
    "plt.plot(trained_model2.history[\"val_loss\"], label = \"Testing\") # testing loss = val_loss (error)\n",
    "plt.title(\"Training loss & Testing loss\")\n",
    "plt.ylabel(\"Loss\")\n",
    "plt.xlabel(\"Epochs\")\n",
    "plt.legend()\n",
    "plt.show()"
   ]
  },
  {
   "cell_type": "code",
   "execution_count": null,
   "metadata": {
    "colab": {
     "background_save": true
    },
    "id": "JkH5KdyPuWVm",
    "outputId": "c8077340-bba8-4134-e0c3-0c9ddc9a4ae6"
   },
   "outputs": [
    {
     "data": {
      "image/png": "[encoded data removed]",
      "text/plain": [
       "<Figure size 432x288 with 1 Axes>"
      ]
     },
     "metadata": {},
     "output_type": "display_data"
    }
   ],
   "source": [
    "# to visualize :\n",
    "plt.plot(trained_model2.history[\"accuracy\"], label = \"Training\")  # training loss = loss (error)\n",
    "plt.plot(trained_model2.history[\"val_accuracy\"], label = \"Testing\") # testing loss = val_loss (error)\n",
    "plt.title(\"Training & Testing accuracy\")\n",
    "plt.ylabel(\"accuracy\")\n",
    "plt.xlabel(\"Epochs\")\n",
    "plt.legend()\n",
    "plt.show()"
   ]
  },
  {
   "cell_type": "code",
   "execution_count": null,
   "metadata": {
    "colab": {
     "background_save": true
    },
    "id": "IUneBnVQuWYF",
    "outputId": "7b4c8452-1453-49cb-8b5d-07904c9b91b1"
   },
   "outputs": [
    {
     "data": {
      "text/plain": [
       "array([[0],\n",
       "       [1],\n",
       "       [0],\n",
       "       ...,\n",
       "       [0],\n",
       "       [1],\n",
       "       [1]])"
      ]
     },
     "execution_count": null,
     "metadata": {},
     "output_type": "execute_result"
    }
   ],
   "source": [
    "# To predict the output :\n",
    "y_predict2 = model1.predict(x_test1)\n",
    "y_predict2 = np.where(y_predict2 >= 0.5, 1,0)\n",
    "y_predict2"
   ]
  },
  {
   "cell_type": "code",
   "execution_count": null,
   "metadata": {
    "colab": {
     "background_save": true
    },
    "id": "CQVL_jHhuWad",
    "outputId": "17a2184f-7c12-4f09-883d-13b0351508d2"
   },
   "outputs": [
    {
     "name": "stdout",
     "output_type": "stream",
     "text": [
      "classification_report\n",
      "              precision    recall  f1-score   support\n",
      "\n",
      "           0       0.60      0.39      0.47      2373\n",
      "           1       0.55      0.74      0.63      2373\n",
      "\n",
      "    accuracy                           0.57      4746\n",
      "   macro avg       0.58      0.57      0.55      4746\n",
      "weighted avg       0.58      0.57      0.55      4746\n",
      "\n",
      "Confusion_matrix\n",
      "[[ 928 1445]\n",
      " [ 613 1760]]\n"
     ]
    }
   ],
   "source": [
    "# to print classification_report and confusion_matrix :\n",
    "print(\"classification_report\")\n",
    "print(classification_report(y_test1, y_predict2))\n",
    "print(\"Confusion_matrix\")\n",
    "print(confusion_matrix(y_test1, y_predict2))"
   ]
  },
  {
   "cell_type": "markdown",
   "metadata": {
    "id": "It2y6JI6vnIh"
   },
   "source": [
    "Observation : from the above model performing with the regularization of L2, the model ends to perform not that accurate and the accuracy is 57%. ANN selects the features automatically, but the model usually tends to be overfit. Thus after applying the regularization, along with EarlyStopping we have gained the accuracy of 57% only."
   ]
  },
  {
   "cell_type": "markdown",
   "metadata": {
    "id": "QZ0CWnTt-et5"
   },
   "source": [
    "# **Conclusion :**\n",
    "\n",
    "1. After performing ANN we have reached to the conclusion that the data is highly unbalanced. \n",
    "\n",
    "2. Though after overcoming the unbalacning sitaution and performing the model, we have gained the accuracy of 57%. \n",
    "\n",
    "3. The data accuracy of the model is 57% and validaity of the data is required. "
   ]
  },
  {
   "cell_type": "code",
   "execution_count": null,
   "metadata": {
    "colab": {
     "background_save": true
    },
    "id": "W48UnOw_0E4n"
   },
   "outputs": [],
   "source": [
    "# to see the weights and bias of hidden layer 1 :\n",
    "#model.layers[0].get_weights()"
   ]
  },
  {
   "cell_type": "code",
   "execution_count": null,
   "metadata": {
    "colab": {
     "background_save": true
    },
    "id": "fqoMsYZ74B9K"
   },
   "outputs": [],
   "source": [
    "# to show hidden layer 2 :\n",
    "#model.layers[1].get_weights()"
   ]
  },
  {
   "cell_type": "code",
   "execution_count": null,
   "metadata": {
    "colab": {
     "background_save": true
    },
    "id": "zyAeXwF34Y8t"
   },
   "outputs": [],
   "source": [
    "# to show Hidden layer 3 :\n",
    "#model.layers[2].get_weights()"
   ]
  }
 ],
 "metadata": {
  "colab": {
   "provenance": []
  },
  "kernelspec": {
   "display_name": "Python 3 (ipykernel)",
   "language": "python",
   "name": "python3"
  },
  "language_info": {
   "codemirror_mode": {
    "name": "ipython",
    "version": 3
   },
   "file_extension": ".py",
   "mimetype": "text/x-python",
   "name": "python",
   "nbconvert_exporter": "python",
   "pygments_lexer": "ipython3",
   "version": "3.9.12"
  }
 },
 "nbformat": 4,
 "nbformat_minor": 1
}
